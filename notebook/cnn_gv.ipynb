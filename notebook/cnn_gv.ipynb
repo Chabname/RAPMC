{
  "nbformat": 4,
  "nbformat_minor": 0,
  "metadata": {
    "colab": {
      "name": "cnn_gv.ipynb",
      "provenance": []
    },
    "kernelspec": {
      "name": "python3",
      "display_name": "Python 3"
    },
    "language_info": {
      "name": "python"
    }
  },
  "cells": [
    {
      "cell_type": "markdown",
      "metadata": {
        "id": "xa-14sfQFaX4"
      },
      "source": [
        "# Import packages"
      ]
    },
    {
      "cell_type": "code",
      "metadata": {
        "id": "0mkxqY2cFFa3"
      },
      "source": [
        "import numpy as np\n",
        "import pandas as pd\n",
        "import seaborn as sns\n",
        "import matplotlib.pyplot as plt\n",
        "import nltk\n",
        "import tensorflow as tf\n",
        "from tensorflow import keras\n",
        "from nltk.corpus import stopwords\n",
        "from keras.preprocessing.text import Tokenizer\n",
        "from keras.preprocessing.sequence import pad_sequences\n",
        "from sklearn.ensemble import RandomForestClassifier\n",
        "from sklearn import model_selection, naive_bayes, svm\n",
        "from sklearn import metrics\n",
        "from sklearn.metrics import accuracy_score\n",
        "from sklearn.decomposition import TruncatedSVD\n",
        "from keras.models import Sequential\n",
        "from keras.layers import Dense, Embedding, LSTM, GlobalMaxPooling1D, Conv1D, Flatten, Bidirectional, TimeDistributed, Dropout, BatchNormalization, GRU, Input\n",
        "from keras.callbacks import ModelCheckpoint, EarlyStopping, ReduceLROnPlateau\n",
        "from sklearn.metrics import log_loss\n",
        "from keras.models import load_model\n",
        "from tensorflow.keras.optimizers import Adam\n",
        "from sklearn.model_selection import train_test_split\n",
        "from sklearn.metrics import confusion_matrix"
      ],
      "execution_count": null,
      "outputs": []
    },
    {
      "cell_type": "code",
      "metadata": {
        "colab": {
          "base_uri": "https://localhost:8080/"
        },
        "id": "7e35LTlkFUOz",
        "outputId": "1dd933aa-5067-4d23-f24c-d44e5f43d5b1"
      },
      "source": [
        "# colab \n",
        "from google.colab import drive \n",
        "\n",
        "drive.mount('/content/gdrive')"
      ],
      "execution_count": null,
      "outputs": [
        {
          "output_type": "stream",
          "name": "stdout",
          "text": [
            "Mounted at /content/gdrive\n"
          ]
        }
      ]
    },
    {
      "cell_type": "markdown",
      "metadata": {
        "id": "2uq3zWW_F0R_"
      },
      "source": [
        "# Load Data "
      ]
    },
    {
      "cell_type": "code",
      "metadata": {
        "id": "g8x83RX9Fz6j"
      },
      "source": [
        "# jupyter \n",
        "df_merge = pd.read_csv(\"/home/fshokor/Desktop/Uni/coursprog/RAPMC/datas/all_data_clean.txt\",sep=\"\\|\\|\", engine=\"python\")\n",
        "df_merge.head()"
      ],
      "execution_count": null,
      "outputs": []
    },
    {
      "cell_type": "code",
      "metadata": {
        "id": "A_rpeOWPlRSZ",
        "colab": {
          "base_uri": "https://localhost:8080/",
          "height": 206
        },
        "outputId": "cf7f88a0-7bea-454c-ba99-28e4f943c41c"
      },
      "source": [
        "# colab\n",
        "df_merge = pd.read_csv(\"/content/gdrive/MyDrive/Kaggle/datas/all_data_clean.txt\",sep=\"\\|\\|\", engine=\"python\")\n",
        "df_merge.head()"
      ],
      "execution_count": null,
      "outputs": [
        {
          "output_type": "execute_result",
          "data": {
            "text/html": [
              "<div>\n",
              "<style scoped>\n",
              "    .dataframe tbody tr th:only-of-type {\n",
              "        vertical-align: middle;\n",
              "    }\n",
              "\n",
              "    .dataframe tbody tr th {\n",
              "        vertical-align: top;\n",
              "    }\n",
              "\n",
              "    .dataframe thead th {\n",
              "        text-align: right;\n",
              "    }\n",
              "</style>\n",
              "<table border=\"1\" class=\"dataframe\">\n",
              "  <thead>\n",
              "    <tr style=\"text-align: right;\">\n",
              "      <th></th>\n",
              "      <th>ID</th>\n",
              "      <th>Gene</th>\n",
              "      <th>Variation</th>\n",
              "      <th>Class</th>\n",
              "      <th>Text</th>\n",
              "      <th>Score</th>\n",
              "    </tr>\n",
              "  </thead>\n",
              "  <tbody>\n",
              "    <tr>\n",
              "      <th>0</th>\n",
              "      <td>0</td>\n",
              "      <td>FAM58A</td>\n",
              "      <td>truncating mutations</td>\n",
              "      <td>1</td>\n",
              "      <td>here, we deorphanize cdk10 by identifying cyc...</td>\n",
              "      <td>2</td>\n",
              "    </tr>\n",
              "    <tr>\n",
              "      <th>1</th>\n",
              "      <td>1</td>\n",
              "      <td>CBL</td>\n",
              "      <td>w802*</td>\n",
              "      <td>2</td>\n",
              "      <td>the c-cbl loh also positively correlated wit...</td>\n",
              "      <td>1</td>\n",
              "    </tr>\n",
              "    <tr>\n",
              "      <th>2</th>\n",
              "      <td>2</td>\n",
              "      <td>CBL</td>\n",
              "      <td>q249e</td>\n",
              "      <td>2</td>\n",
              "      <td>the c-cbl loh also positively correlated wit...</td>\n",
              "      <td>1</td>\n",
              "    </tr>\n",
              "    <tr>\n",
              "      <th>3</th>\n",
              "      <td>3</td>\n",
              "      <td>CBL</td>\n",
              "      <td>n454d</td>\n",
              "      <td>3</td>\n",
              "      <td>most of the changes were novel, although 4 c...</td>\n",
              "      <td>1</td>\n",
              "    </tr>\n",
              "    <tr>\n",
              "      <th>4</th>\n",
              "      <td>4</td>\n",
              "      <td>CBL</td>\n",
              "      <td>l399v</td>\n",
              "      <td>4</td>\n",
              "      <td>all mutations from the second group were pre...</td>\n",
              "      <td>1</td>\n",
              "    </tr>\n",
              "  </tbody>\n",
              "</table>\n",
              "</div>"
            ],
            "text/plain": [
              "   ID      Gene  ...                                               Text  Score\n",
              "0   0   FAM58A   ...   here, we deorphanize cdk10 by identifying cyc...      2\n",
              "1   1      CBL   ...    the c-cbl loh also positively correlated wit...      1\n",
              "2   2      CBL   ...    the c-cbl loh also positively correlated wit...      1\n",
              "3   3      CBL   ...    most of the changes were novel, although 4 c...      1\n",
              "4   4      CBL   ...    all mutations from the second group were pre...      1\n",
              "\n",
              "[5 rows x 6 columns]"
            ]
          },
          "metadata": {},
          "execution_count": 3
        }
      ]
    },
    {
      "cell_type": "code",
      "metadata": {
        "colab": {
          "base_uri": "https://localhost:8080/"
        },
        "id": "A_lHIReIzOxT",
        "outputId": "42bbb4ef-a015-499e-d7dd-0495ab883be3"
      },
      "source": [
        "df_merge.shape"
      ],
      "execution_count": null,
      "outputs": [
        {
          "output_type": "execute_result",
          "data": {
            "text/plain": [
              "(3316, 6)"
            ]
          },
          "metadata": {},
          "execution_count": 4
        }
      ]
    },
    {
      "cell_type": "code",
      "metadata": {
        "colab": {
          "base_uri": "https://localhost:8080/"
        },
        "id": "tI0UoJ5ql2yh",
        "outputId": "01c0d9a6-8559-49a1-d834-cf1466fb914f"
      },
      "source": [
        "# remove stopwords: the,a,an etc.\n",
        "nltk.download(\"stopwords\")\n",
        "from nltk.corpus import stopwords\n",
        "sw = stopwords.words(\"english\")\n",
        "\n",
        "def pre_processing(data):\n",
        "  # lowercase text\n",
        "  data = data.apply(lambda x: \" \".join(i.lower() for i in  str(x).split()))\n",
        "  # remove numeric values\n",
        "  data = data.str.replace(\"\\d\",\"\")\n",
        "  # remove punctuations\n",
        "  data = data.str.replace(\"[^\\w\\s]\",\"\")\n",
        "  # remove stopwords: the,a,an etc.\n",
        "  data = data.apply(lambda x: \" \".join(i for i in x.split() if i not in sw))\n",
        "  return data"
      ],
      "execution_count": null,
      "outputs": [
        {
          "output_type": "stream",
          "name": "stdout",
          "text": [
            "[nltk_data] Downloading package stopwords to /root/nltk_data...\n",
            "[nltk_data]   Unzipping corpora/stopwords.zip.\n"
          ]
        }
      ]
    },
    {
      "cell_type": "code",
      "metadata": {
        "id": "vxOwj3hHmEwf"
      },
      "source": [
        "df_merge['Text']= pre_processing(df_merge['Text'])"
      ],
      "execution_count": null,
      "outputs": []
    },
    {
      "cell_type": "markdown",
      "metadata": {
        "id": "uKNMFLqfv5-c"
      },
      "source": [
        "# Text tokenizer"
      ]
    },
    {
      "cell_type": "code",
      "metadata": {
        "id": "OtmZQ5fF77TY"
      },
      "source": [
        "# Use the Keras tokenizer, vectorize a text corpus, by turning each text into either a sequence of integers (each integer being the index of a token in a dictionary)\n",
        "# the maximum number of words to keep, based on word frequency.\n",
        "num_words = 700 \n",
        "tokenizer = Tokenizer(num_words=num_words)\n",
        "tokenizer.fit_on_texts(df_merge['Text'].values) # Updates internal vocabulary based on a list of texts."
      ],
      "execution_count": null,
      "outputs": []
    },
    {
      "cell_type": "code",
      "metadata": {
        "id": "ceCFbQcZ77Tb"
      },
      "source": [
        "# Pad the data \n",
        "X = tokenizer.texts_to_sequences(df_merge['Text'].values) # Transforms each text in texts to a sequence of integers, Only top num_words most frequent words will be taken into account.\n",
        "X = pad_sequences(X, maxlen=700) # transforms a lists of integers into a 2D Numpy array of shape (num_samples, num_timesteps)\n"
      ],
      "execution_count": null,
      "outputs": []
    },
    {
      "cell_type": "code",
      "metadata": {
        "colab": {
          "base_uri": "https://localhost:8080/"
        },
        "id": "pMX316DLzV2c",
        "outputId": "e99553b5-ec99-49b5-a22d-e69a50a3cdc1"
      },
      "source": [
        "X.shape"
      ],
      "execution_count": null,
      "outputs": [
        {
          "output_type": "execute_result",
          "data": {
            "text/plain": [
              "(3316, 700)"
            ]
          },
          "metadata": {},
          "execution_count": 8
        }
      ]
    },
    {
      "cell_type": "code",
      "metadata": {
        "colab": {
          "base_uri": "https://localhost:8080/"
        },
        "id": "lmqOM6dXCfNy",
        "outputId": "abbe5b58-95d1-453b-a112-3fac32113f6c"
      },
      "source": [
        "Y_D = pd.get_dummies(df_merge['Class']).values\n",
        "XD_train, XD_test, YD_train, YD_test = train_test_split(X, Y_D, test_size = 0.2, stratify=Y_D)\n",
        "# split the train data into train and cross validation\n",
        "train_df, cv_df, y_train, y_cv = train_test_split(XD_train, YD_train, stratify=YD_train, test_size=0.2)\n",
        "print(train_df.shape, y_train.shape)\n",
        "print(cv_df.shape, y_cv.shape)\n",
        "print(XD_test.shape, YD_test.shape)"
      ],
      "execution_count": null,
      "outputs": [
        {
          "output_type": "stream",
          "name": "stdout",
          "text": [
            "(2121, 700) (2121, 9)\n",
            "(531, 700) (531, 9)\n",
            "(664, 700) (664, 9)\n"
          ]
        }
      ]
    },
    {
      "cell_type": "markdown",
      "metadata": {
        "id": "CCqdlRqGJLl_"
      },
      "source": [
        "## gene "
      ]
    },
    {
      "cell_type": "code",
      "metadata": {
        "colab": {
          "base_uri": "https://localhost:8080/"
        },
        "id": "sAx6jFEEJDxk",
        "outputId": "e5fb4af6-fd8e-4344-fd2e-6c223a7544b3"
      },
      "source": [
        "genes_df = df_merge['Gene']\n",
        "gene_encoded  = pd.get_dummies(genes_df).values\n",
        "gene_encoded.shape"
      ],
      "execution_count": null,
      "outputs": [
        {
          "output_type": "execute_result",
          "data": {
            "text/plain": [
              "(3316, 262)"
            ]
          },
          "metadata": {},
          "execution_count": 9
        }
      ]
    },
    {
      "cell_type": "code",
      "metadata": {
        "colab": {
          "base_uri": "https://localhost:8080/"
        },
        "id": "oujh1ForJDTP",
        "outputId": "eaa11183-4221-4c11-faf7-b6541ebd9dda"
      },
      "source": [
        "g_train, gene_test = train_test_split(gene_encoded , test_size = 0.2, stratify=Y_D)\n",
        "# split the train data into train and cross validation\n",
        "gene_train, gene_val = train_test_split(g_train, stratify=YD_train, test_size=0.2)\n",
        "print(gene_train.shape,gene_test.shape, gene_val.shape)"
      ],
      "execution_count": null,
      "outputs": [
        {
          "output_type": "stream",
          "name": "stdout",
          "text": [
            "(2121, 262) (664, 262) (531, 262)\n"
          ]
        }
      ]
    },
    {
      "cell_type": "markdown",
      "metadata": {
        "id": "Ba_M94PIJPAp"
      },
      "source": [
        "## variation "
      ]
    },
    {
      "cell_type": "code",
      "metadata": {
        "colab": {
          "base_uri": "https://localhost:8080/"
        },
        "id": "iq5gPn5oJO2s",
        "outputId": "257bc901-4287-4f47-cbfa-a236df922290"
      },
      "source": [
        "variation_df = df_merge['Variation']\n",
        "vari_encoded  = pd.get_dummies(variation_df).values\n",
        "vari_encoded.shape"
      ],
      "execution_count": null,
      "outputs": [
        {
          "output_type": "execute_result",
          "data": {
            "text/plain": [
              "(3316, 2993)"
            ]
          },
          "metadata": {},
          "execution_count": 13
        }
      ]
    },
    {
      "cell_type": "code",
      "metadata": {
        "colab": {
          "base_uri": "https://localhost:8080/"
        },
        "id": "wbil32htJK4v",
        "outputId": "5b2d0ae8-d6b7-430d-b564-0319f9c5b93a"
      },
      "source": [
        "v_train, vari_test = train_test_split(vari_encoded, test_size = 0.2, stratify=Y_D)\n",
        "# split the train data into train and cross validation\n",
        "vari_train, vari_val = train_test_split(v_train, stratify=YD_train, test_size=0.2)\n",
        "print(vari_train.shape,vari_test.shape, vari_val.shape)"
      ],
      "execution_count": null,
      "outputs": [
        {
          "output_type": "stream",
          "name": "stdout",
          "text": [
            "(2121, 2993) (664, 2993) (531, 2993)\n"
          ]
        }
      ]
    },
    {
      "cell_type": "markdown",
      "metadata": {
        "id": "Nm1H2gbJ3YUB"
      },
      "source": [
        "# Split the data "
      ]
    },
    {
      "cell_type": "code",
      "metadata": {
        "id": "tnV9v2kG7_Gh",
        "colab": {
          "base_uri": "https://localhost:8080/"
        },
        "outputId": "9e39f115-8061-43f8-96aa-4e9bd6b04daf"
      },
      "source": [
        "from imblearn.over_sampling import RandomOverSampler\n",
        "# define oversampling strategy\n",
        "oversample = RandomOverSampler(sampling_strategy='minority')\n"
      ],
      "execution_count": null,
      "outputs": [
        {
          "output_type": "stream",
          "name": "stderr",
          "text": [
            "/usr/local/lib/python3.7/dist-packages/sklearn/externals/six.py:31: FutureWarning: The module is deprecated in version 0.21 and will be removed in version 0.23 since we've dropped support for Python 2.7. Please rely on the official version of six (https://pypi.org/project/six/).\n",
            "  \"(https://pypi.org/project/six/).\", FutureWarning)\n",
            "/usr/local/lib/python3.7/dist-packages/sklearn/utils/deprecation.py:144: FutureWarning: The sklearn.neighbors.base module is  deprecated in version 0.22 and will be removed in version 0.24. The corresponding classes / functions should instead be imported from sklearn.neighbors. Anything that cannot be imported from sklearn.neighbors is now part of the private API.\n",
            "  warnings.warn(message, FutureWarning)\n"
          ]
        }
      ]
    },
    {
      "cell_type": "code",
      "metadata": {
        "colab": {
          "base_uri": "https://localhost:8080/"
        },
        "id": "AhZjj4Js9b4n",
        "outputId": "e3d1b1e0-3da3-40df-9700-e56302697a4a"
      },
      "source": [
        "# fit and apply the transform\n",
        "train_df, y_train = oversample.fit_resample(train_df, y_train)\n",
        "train_df, y_train = oversample.fit_resample(train_df, y_train)"
      ],
      "execution_count": null,
      "outputs": [
        {
          "output_type": "stream",
          "name": "stderr",
          "text": [
            "/usr/local/lib/python3.7/dist-packages/sklearn/utils/deprecation.py:87: FutureWarning: Function safe_indexing is deprecated; safe_indexing is deprecated in version 0.22 and will be removed in version 0.24.\n",
            "  warnings.warn(msg, category=FutureWarning)\n",
            "/usr/local/lib/python3.7/dist-packages/sklearn/utils/deprecation.py:87: FutureWarning: Function safe_indexing is deprecated; safe_indexing is deprecated in version 0.22 and will be removed in version 0.24.\n",
            "  warnings.warn(msg, category=FutureWarning)\n"
          ]
        }
      ]
    },
    {
      "cell_type": "code",
      "metadata": {
        "colab": {
          "base_uri": "https://localhost:8080/"
        },
        "id": "cGymoj9J9txr",
        "outputId": "ccafae87-8004-42f7-b453-39149f8eaf27"
      },
      "source": [
        "print(train_df.shape, y_train.shape)"
      ],
      "execution_count": null,
      "outputs": [
        {
          "output_type": "stream",
          "name": "stdout",
          "text": [
            "(3303, 700) (3303, 9)\n"
          ]
        }
      ]
    },
    {
      "cell_type": "markdown",
      "metadata": {
        "id": "MNktdzqKGVQo"
      },
      "source": [
        "# Model"
      ]
    },
    {
      "cell_type": "markdown",
      "metadata": {
        "id": "Ay2abL-k9slT"
      },
      "source": [
        "## Random model"
      ]
    },
    {
      "cell_type": "code",
      "metadata": {
        "id": "x47vGe05FFzK",
        "colab": {
          "base_uri": "https://localhost:8080/"
        },
        "outputId": "4f897549-6833-4c84-8d1f-50044ddfd075"
      },
      "source": [
        "test_data_len =  XD_test.shape[0]\n",
        "cv_data_len = cv_df.shape[0]\n",
        "\n",
        "# we create a output array that has exactly same size as the CV data\n",
        "cv_predicted_y = np.zeros((cv_data_len,9))\n",
        "for i in range(cv_data_len):\n",
        "    rand_probs = np.random.rand(1,9)\n",
        "    cv_predicted_y[i] = ((rand_probs/rand_probs.sum())[0])\n",
        "\n",
        "cv_log_loss = round(log_loss(y_cv,cv_predicted_y, eps=1e-15),2)\n",
        "\n",
        "print(\"Log loss on Cross Validation Data using Random Model\",cv_log_loss)\n",
        "\n",
        "# Test-Set error.\n",
        "#we create a output array that has exactly same as the test data\n",
        "test_predicted_y = np.zeros((test_data_len,9))\n",
        "for i in range(test_data_len):\n",
        "    rand_probs = np.random.rand(1,9)\n",
        "    test_predicted_y[i] = ((rand_probs/rand_probs.sum())[0])\n",
        "test_log_loss = round(log_loss(YD_test,test_predicted_y, eps=1e-15),2)\n",
        "\n",
        "print(\"Log loss on Test Data using Random Model\",test_log_loss)\n"
      ],
      "execution_count": null,
      "outputs": [
        {
          "output_type": "stream",
          "name": "stdout",
          "text": [
            "Log loss on Cross Validation Data using Random Model 2.52\n",
            "Log loss on Test Data using Random Model 2.52\n"
          ]
        }
      ]
    },
    {
      "cell_type": "code",
      "metadata": {
        "id": "aYvK46-n26X9"
      },
      "source": [
        "\n",
        "def plot_matrices(model, x_test, y_test): \n",
        "\n",
        "  probas = model.predict(x_test)\n",
        "  pred_indices = np.argmax(probas, axis=1)\n",
        "  classes = np.array(range(1, 10))\n",
        "  preds = classes[pred_indices]\n",
        "  print('Log loss: {}'.format(log_loss(classes[np.argmax(y_test, axis=1)], probas)))\n",
        "  print('Accuracy: {}'.format(accuracy_score(classes[np.argmax(y_test, axis=1)], preds)))\n",
        "\n",
        "  confusion  = confusion_matrix(classes[np.argmax(y_test, axis=1)], preds)\n",
        "  precision =(confusion/confusion.sum(axis=0))\n",
        "  recall =(((confusion.T)/(confusion.sum(axis=1))).T)\n",
        "  f,(ax1,ax2,ax3, axcb) = plt.subplots(1,4, gridspec_kw={'width_ratios':[1,1,1,0.08]},figsize=(22,6))\n",
        "      \n",
        "  labels = [1,2,3,4,5,6,7,8,9]\n",
        "  g1 = sns.heatmap(confusion,cbar=False,ax=ax1,annot=True, cmap=\"Blues\", fmt=\".3f\", xticklabels=labels, yticklabels=labels,)\n",
        "  g1.set_ylabel('Original Class')\n",
        "  g1.set_xlabel('Predicted Class')\n",
        "  g1.set_title('Confusion')\n",
        "  g2 = sns.heatmap(precision,cmap=\"Blues\",cbar=False,ax=ax2, annot=True,fmt=\".3f\", xticklabels=labels, yticklabels=labels)\n",
        "  g2.set_ylabel('Original Class')\n",
        "  g2.set_xlabel('Predicted Class')\n",
        "  g2.set_yticks(labels)\n",
        "  g2.set_title('Precision')\n",
        "  g3 = sns.heatmap(recall,cmap=\"Blues\",ax=ax3, cbar_ax=axcb, annot=True, fmt=\".3f\", xticklabels=labels, yticklabels=labels)\n",
        "  g3.set_ylabel('Original Class')\n",
        "  g3.set_xlabel('Predicted Class')\n",
        "  g3.set_title('Recall')\n",
        "  g3.set_yticks(labels)\n",
        "      \n",
        "  for ax in [g1,g2,g3]:\n",
        "    tl = ax.get_xticklabels()\n",
        "    ax.set_xticklabels(tl, rotation=0)\n",
        "    tly = ax.get_yticklabels()\n",
        "    ax.set_yticklabels(tly, rotation=0)\n",
        "      \n",
        "  plt.show()\n"
      ],
      "execution_count": null,
      "outputs": []
    },
    {
      "cell_type": "code",
      "metadata": {
        "id": "1iH6PIICqrs4"
      },
      "source": [
        "callback = tf.keras.callbacks.EarlyStopping(monitor='val_accuracy', patience=3)"
      ],
      "execution_count": null,
      "outputs": []
    },
    {
      "cell_type": "code",
      "metadata": {
        "id": "x-Au942DqCxr"
      },
      "source": [
        "num_words = 700\n",
        "embed_dim = 128\n",
        "lstm_out = 64"
      ],
      "execution_count": null,
      "outputs": []
    },
    {
      "cell_type": "markdown",
      "metadata": {
        "id": "W4m88048GsJl"
      },
      "source": [
        "## CNN"
      ]
    },
    {
      "cell_type": "markdown",
      "metadata": {
        "id": "pdK-FheIzpaU"
      },
      "source": [
        "#### Model building "
      ]
    },
    {
      "cell_type": "markdown",
      "metadata": {
        "id": "zdKSc1adJ6CN"
      },
      "source": [
        "### gene, variation, and text \n",
        " "
      ]
    },
    {
      "cell_type": "code",
      "metadata": {
        "id": "KJltq6EpKzGM"
      },
      "source": [
        "from sklearn.model_selection import train_test_split\n",
        "from keras.layers.merge import Concatenate\n",
        "from tensorflow.keras import layers"
      ],
      "execution_count": null,
      "outputs": []
    },
    {
      "cell_type": "code",
      "metadata": {
        "id": "KMoZC9mxJuDZ"
      },
      "source": [
        "\n",
        "input_sequence = layers.Input(shape=(train_df.shape[1],))\n",
        "input_gene = Input(shape=(gene_train.shape[1],))\n",
        "input_variant = Input(shape=(vari_train.shape[1],))\n",
        "\n",
        "embedding_layer = layers.Embedding(num_words, embed_dim, input_length = X.shape[1])(input_sequence)\n",
        "conv_1 = layers.Conv1D(64, 10, activation='relu')(embedding_layer)\n",
        "max_pool_1 = layers.GlobalMaxPooling1D()(conv_1) \n",
        "drop_out_1 = layers.Dropout(0.2)(max_pool_1) \n",
        "flatten_1 = layers.Flatten()(drop_out_1)\n",
        "\n",
        "dense_gene = layers.Dense(64, activation='relu')(input_gene)\n",
        "dense_var = layers.Dense(64, activation='relu')(input_variant)\n",
        "\n",
        "\n",
        "input_2 = Concatenate(axis = 1)([flatten_1, dense_gene, dense_var])\n",
        "\n",
        "dense_1 = layers.Dense(16, activation='relu')(input_2)\n",
        "output = layers.Dense(9, activation='softmax')(dense_1)\n",
        "\n",
        "model = keras.Model(inputs = [input_sequence, input_gene, input_variant], outputs = output)"
      ],
      "execution_count": null,
      "outputs": []
    },
    {
      "cell_type": "code",
      "metadata": {
        "colab": {
          "base_uri": "https://localhost:8080/"
        },
        "id": "Bu4kxO6eJxEy",
        "outputId": "3fe2a58c-9645-4728-c4b2-df603ab8dce0"
      },
      "source": [
        "model.compile(optimizer='adam', loss='categorical_crossentropy', metrics=['accuracy'])\n",
        "print(model.summary())"
      ],
      "execution_count": null,
      "outputs": [
        {
          "output_type": "stream",
          "name": "stdout",
          "text": [
            "Model: \"model_3\"\n",
            "__________________________________________________________________________________________________\n",
            "Layer (type)                    Output Shape         Param #     Connected to                     \n",
            "==================================================================================================\n",
            "input_14 (InputLayer)           [(None, 700)]        0                                            \n",
            "__________________________________________________________________________________________________\n",
            "embedding_3 (Embedding)         (None, 700, 128)     89600       input_14[0][0]                   \n",
            "__________________________________________________________________________________________________\n",
            "conv1d_3 (Conv1D)               (None, 691, 64)      81984       embedding_3[0][0]                \n",
            "__________________________________________________________________________________________________\n",
            "global_max_pooling1d_3 (GlobalM (None, 64)           0           conv1d_3[0][0]                   \n",
            "__________________________________________________________________________________________________\n",
            "dropout_3 (Dropout)             (None, 64)           0           global_max_pooling1d_3[0][0]     \n",
            "__________________________________________________________________________________________________\n",
            "input_15 (InputLayer)           [(None, 262)]        0                                            \n",
            "__________________________________________________________________________________________________\n",
            "input_16 (InputLayer)           [(None, 2993)]       0                                            \n",
            "__________________________________________________________________________________________________\n",
            "flatten_3 (Flatten)             (None, 64)           0           dropout_3[0][0]                  \n",
            "__________________________________________________________________________________________________\n",
            "dense_12 (Dense)                (None, 64)           16832       input_15[0][0]                   \n",
            "__________________________________________________________________________________________________\n",
            "dense_13 (Dense)                (None, 64)           191616      input_16[0][0]                   \n",
            "__________________________________________________________________________________________________\n",
            "concatenate_3 (Concatenate)     (None, 192)          0           flatten_3[0][0]                  \n",
            "                                                                 dense_12[0][0]                   \n",
            "                                                                 dense_13[0][0]                   \n",
            "__________________________________________________________________________________________________\n",
            "dense_14 (Dense)                (None, 16)           3088        concatenate_3[0][0]              \n",
            "__________________________________________________________________________________________________\n",
            "dense_15 (Dense)                (None, 9)            153         dense_14[0][0]                   \n",
            "==================================================================================================\n",
            "Total params: 383,273\n",
            "Trainable params: 383,273\n",
            "Non-trainable params: 0\n",
            "__________________________________________________________________________________________________\n",
            "None\n"
          ]
        }
      ]
    },
    {
      "cell_type": "code",
      "metadata": {
        "id": "xclgQ3a0JxzJ"
      },
      "source": [
        "history = model.fit([train_df, gene_train, vari_train], y_train,\n",
        "                     epochs=50,\n",
        "                     verbose=False,\n",
        "                     validation_data =([cv_df, gene_val, vari_val], y_cv),\n",
        "                     batch_size= 32, callbacks=callback)"
      ],
      "execution_count": null,
      "outputs": []
    },
    {
      "cell_type": "code",
      "metadata": {
        "colab": {
          "base_uri": "https://localhost:8080/"
        },
        "id": "lRu5Kp8LJ2HG",
        "outputId": "c3ba0871-eec7-4edf-97ec-18e87917bd63"
      },
      "source": [
        "loss, accuracy = model.evaluate([train_df, gene_train, vari_train], y_train, verbose=False)\n",
        "print(\"Training Accuracy: >%.3f\"  % (accuracy * 100.0))"
      ],
      "execution_count": null,
      "outputs": [
        {
          "output_type": "stream",
          "name": "stdout",
          "text": [
            "Training Accuracy: >100.000\n"
          ]
        }
      ]
    },
    {
      "cell_type": "code",
      "metadata": {
        "colab": {
          "base_uri": "https://localhost:8080/"
        },
        "id": "dk9bDckmMJtE",
        "outputId": "3ef56eec-67da-4335-bdd6-60b6ca1b1906"
      },
      "source": [
        "loss, accuracy = model.evaluate([XD_test, gene_test, vari_test], YD_test, verbose=False)\n",
        "\n",
        "print(\"Testing Accuracy:  >%.3f\"  % (accuracy * 100.0))"
      ],
      "execution_count": null,
      "outputs": [
        {
          "output_type": "stream",
          "name": "stdout",
          "text": [
            "Testing Accuracy:  >59.789\n"
          ]
        }
      ]
    },
    {
      "cell_type": "markdown",
      "metadata": {
        "id": "iKquYmJvJ3AG"
      },
      "source": [
        "### text only "
      ]
    },
    {
      "cell_type": "code",
      "metadata": {
        "id": "kXWd8FHIdp2N"
      },
      "source": [
        "from sklearn.utils import class_weight\n",
        "class_weights = list(class_weight.compute_class_weight('balanced',\n",
        "                                             np.unique(df_merge['Class']),\n",
        "                                             df_merge['Class']))\n",
        "\n",
        "\n",
        "weights={}\n",
        "for index, weight in enumerate(class_weights) :\n",
        "  weights[index]=weight"
      ],
      "execution_count": null,
      "outputs": []
    },
    {
      "cell_type": "code",
      "metadata": {
        "colab": {
          "base_uri": "https://localhost:8080/"
        },
        "id": "dYTTKF4tqtRv",
        "outputId": "d200d0fd-6d44-4edf-eff4-2cf181408290"
      },
      "source": [
        "cnnmodel = Sequential(\n",
        "    [\n",
        "     Embedding(num_words, embed_dim, input_length = X.shape[1]),\n",
        "     Conv1D(264, 4, activation='relu'),\n",
        "     Conv1D(128, 4, activation='relu'),\n",
        "     GlobalMaxPooling1D(),\n",
        "     Dropout(0.2),\n",
        "     Flatten(),\n",
        "     #Dense(32, activation='relu'),\n",
        "     Dense(16, activation='relu'),\n",
        "     Dense(9, activation='softmax')\n",
        "    ]\n",
        ")\n",
        "\n",
        "cnnmodel.compile(optimizer='adam',\n",
        "               loss='categorical_crossentropy',\n",
        "               metrics=['accuracy'])\n",
        "cnnmodel.summary() "
      ],
      "execution_count": null,
      "outputs": [
        {
          "output_type": "stream",
          "name": "stdout",
          "text": [
            "Model: \"sequential_14\"\n",
            "_________________________________________________________________\n",
            "Layer (type)                 Output Shape              Param #   \n",
            "=================================================================\n",
            "embedding_16 (Embedding)     (None, 700, 128)          89600     \n",
            "_________________________________________________________________\n",
            "conv1d_24 (Conv1D)           (None, 697, 264)          135432    \n",
            "_________________________________________________________________\n",
            "conv1d_25 (Conv1D)           (None, 694, 128)          135296    \n",
            "_________________________________________________________________\n",
            "global_max_pooling1d_21 (Glo (None, 128)               0         \n",
            "_________________________________________________________________\n",
            "dropout_20 (Dropout)         (None, 128)               0         \n",
            "_________________________________________________________________\n",
            "flatten_14 (Flatten)         (None, 128)               0         \n",
            "_________________________________________________________________\n",
            "dense_31 (Dense)             (None, 16)                2064      \n",
            "_________________________________________________________________\n",
            "dense_32 (Dense)             (None, 9)                 153       \n",
            "=================================================================\n",
            "Total params: 362,545\n",
            "Trainable params: 362,545\n",
            "Non-trainable params: 0\n",
            "_________________________________________________________________\n"
          ]
        }
      ]
    },
    {
      "cell_type": "markdown",
      "metadata": {
        "id": "pLj6rCJE26Cr"
      },
      "source": [
        "#### Plot the model "
      ]
    },
    {
      "cell_type": "code",
      "metadata": {
        "id": "MZR23v7t26Cu"
      },
      "source": [
        "keras.utils.plot_model(cnnmodel, \"my_first_model_shapes.png\", show_shapes= True)"
      ],
      "execution_count": null,
      "outputs": []
    },
    {
      "cell_type": "markdown",
      "metadata": {
        "id": "o-k-8sgpzuHF"
      },
      "source": [
        "#### Model Training "
      ]
    },
    {
      "cell_type": "code",
      "metadata": {
        "id": "4BpxpZxluvvs"
      },
      "source": [
        "hiscnn = cnnmodel.fit(train_df, y_train,\n",
        "                      #class_weight=weights,\n",
        "                      epochs=50,\n",
        "                      verbose=False,\n",
        "                      validation_data =(cv_df, y_cv),\n",
        "                      batch_size=128, \n",
        "                      callbacks= callback)"
      ],
      "execution_count": null,
      "outputs": []
    },
    {
      "cell_type": "code",
      "metadata": {
        "colab": {
          "base_uri": "https://localhost:8080/"
        },
        "id": "3CEtWPoFuaYg",
        "outputId": "daed8c86-ea4f-45d3-f525-9ee4567fe65b"
      },
      "source": [
        "loss, accuracy = cnnmodel.evaluate(train_df, y_train, verbose=False)\n",
        "print(\"Training Accuracy: >%.3f\"  % (accuracy * 100.0))"
      ],
      "execution_count": null,
      "outputs": [
        {
          "output_type": "stream",
          "name": "stdout",
          "text": [
            "Training Accuracy: >97.972\n"
          ]
        }
      ]
    },
    {
      "cell_type": "markdown",
      "metadata": {
        "id": "x7moSwp1z0fQ"
      },
      "source": [
        "#### Model Testing "
      ]
    },
    {
      "cell_type": "code",
      "metadata": {
        "colab": {
          "base_uri": "https://localhost:8080/"
        },
        "id": "1-TFwbwAzyZH",
        "outputId": "c17a842a-4f6f-4a07-8848-2a3614d4ca58"
      },
      "source": [
        "loss, accuracy = cnnmodel.evaluate(XD_test, YD_test, verbose=False)\n",
        "print(\"Testing Accuracy:  >%.3f\"  % (accuracy * 100.0))"
      ],
      "execution_count": null,
      "outputs": [
        {
          "output_type": "stream",
          "name": "stdout",
          "text": [
            "Testing Accuracy:  >64.307\n"
          ]
        }
      ]
    },
    {
      "cell_type": "markdown",
      "metadata": {
        "id": "FZ_vmjW2m43C"
      },
      "source": [
        "#### confusion matrix"
      ]
    },
    {
      "cell_type": "code",
      "metadata": {
        "colab": {
          "base_uri": "https://localhost:8080/",
          "height": 473
        },
        "id": "ugH5AXmlG9mP",
        "outputId": "2250de9b-5c6f-4158-ae62-dc2d43e90eb9"
      },
      "source": [
        "plot_matrices(cnnmodel,XD_test, YD_test )"
      ],
      "execution_count": null,
      "outputs": [
        {
          "output_type": "stream",
          "name": "stdout",
          "text": [
            "Log loss: 1.384337515290899\n",
            "Accuracy: 0.588855421686747\n"
          ]
        },
        {
          "output_type": "stream",
          "name": "stderr",
          "text": [
            "/usr/local/lib/python3.7/dist-packages/ipykernel_launcher.py:12: RuntimeWarning: invalid value encountered in true_divide\n",
            "  if sys.path[0] == '':\n"
          ]
        },
        {
          "output_type": "display_data",
          "data": {
            "image/png": "[encoded data removed]",
            "text/plain": [
              "<Figure size 1584x432 with 4 Axes>"
            ]
          },
          "metadata": {
            "needs_background": "light"
          }
        }
      ]
    },
    {
      "cell_type": "markdown",
      "metadata": {
        "id": "4bARkCqB2rku"
      },
      "source": [
        "#### Plot Model loss and accuracy"
      ]
    },
    {
      "cell_type": "code",
      "metadata": {
        "colab": {
          "base_uri": "https://localhost:8080/"
        },
        "id": "wkqQbl-W2rkv",
        "outputId": "abc3f427-8e41-4703-b9fb-545feeb4e4fe"
      },
      "source": [
        "# list all data history \n",
        "print(hiscnn.history.keys())"
      ],
      "execution_count": null,
      "outputs": [
        {
          "output_type": "stream",
          "name": "stdout",
          "text": [
            "dict_keys(['loss', 'accuracy', 'val_loss', 'val_accuracy'])\n"
          ]
        }
      ]
    },
    {
      "cell_type": "code",
      "metadata": {
        "id": "rsbCqv8G2rkx"
      },
      "source": [
        "# visualize training and validation losses  \n",
        "plt.plot(hiscnn.history['loss'])\n",
        "plt.plot(hiscnn.history['val_loss'])\n",
        "plt.title('model_loss')\n",
        "plt.ylabel('loss')\n",
        "plt.xlabel('epoch')\n",
        "plt.legend(['train', 'val'], loc = 'upper left')\n",
        "plt.show "
      ],
      "execution_count": null,
      "outputs": []
    },
    {
      "cell_type": "code",
      "metadata": {
        "id": "xGamFzRw2rkx"
      },
      "source": [
        "# visualize training and validation accuracies\n",
        "plt.plot(hiscnn.history['accuracy'])\n",
        "plt.plot(hiscnn.history['val_accuracy'])\n",
        "plt.title('Model accuracy')\n",
        "plt.ylabel('Accuracy')\n",
        "plt.xlabel('Epoch')\n",
        "plt.legend(['Train', 'Test'], loc='upper left')\n",
        "plt.show()"
      ],
      "execution_count": null,
      "outputs": []
    }
  ]
}