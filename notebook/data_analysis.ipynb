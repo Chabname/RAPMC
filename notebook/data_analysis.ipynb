{
  "nbformat": 4,
  "nbformat_minor": 0,
  "metadata": {
    "colab": {
      "name": "data_analysis.ipynb",
      "provenance": []
    },
    "kernelspec": {
      "name": "python3",
      "display_name": "Python 3"
    },
    "language_info": {
      "name": "python"
    }
  },
  "cells": [
    {
      "cell_type": "markdown",
      "metadata": {
        "id": "BnbAZIS9G7ti"
      },
      "source": [
        "# Import Packages "
      ]
    },
    {
      "cell_type": "code",
      "metadata": {
        "id": "2Oye_95yGTWP"
      },
      "source": [
        "import pandas as pd\n",
        "import seaborn as sns\n",
        "import matplotlib.pyplot as plt"
      ],
      "execution_count": 1,
      "outputs": []
    },
    {
      "cell_type": "code",
      "metadata": {
        "colab": {
          "base_uri": "https://localhost:8080/"
        },
        "id": "Up1ymQSW7EHY",
        "outputId": "ebd4de4d-b2a6-4cbd-c096-5b355e163aef"
      },
      "source": [
        "# colab \n",
        "from google.colab import drive \n",
        "\n",
        "drive.mount('/content/gdrive')"
      ],
      "execution_count": 2,
      "outputs": [
        {
          "output_type": "stream",
          "name": "stdout",
          "text": [
            "Drive already mounted at /content/gdrive; to attempt to forcibly remount, call drive.mount(\"/content/gdrive\", force_remount=True).\n"
          ]
        }
      ]
    },
    {
      "cell_type": "markdown",
      "metadata": {
        "id": "lcepwj8S7pJW"
      },
      "source": [
        "#Training data \n",
        "\n"
      ]
    },
    {
      "cell_type": "markdown",
      "metadata": {
        "id": "K4G_II-JuWXn"
      },
      "source": [
        "## Train variants "
      ]
    },
    {
      "cell_type": "code",
      "metadata": {
        "colab": {
          "base_uri": "https://localhost:8080/",
          "height": 258
        },
        "id": "30CXBcGT7sdr",
        "outputId": "b884031e-6172-480e-b155-35dc9ba00f2e"
      },
      "source": [
        "train_variants = pd.read_csv(\"/content/gdrive/MyDrive/Kaggle/msk-redefining-cancer-treatment/training_variants\")\n",
        "print('Number of data points : ', train_variants.shape[0])\n",
        "print('Number of features : ', train_variants.shape[1])\n",
        "print('Features : ', train_variants.columns.values)\n",
        "train_variants.head()\n"
      ],
      "execution_count": 3,
      "outputs": [
        {
          "output_type": "stream",
          "name": "stdout",
          "text": [
            "Number of data points :  3321\n",
            "Number of features :  4\n",
            "Features :  ['ID' 'Gene' 'Variation' 'Class']\n"
          ]
        },
        {
          "output_type": "execute_result",
          "data": {
            "text/html": [
              "<div>\n",
              "<style scoped>\n",
              "    .dataframe tbody tr th:only-of-type {\n",
              "        vertical-align: middle;\n",
              "    }\n",
              "\n",
              "    .dataframe tbody tr th {\n",
              "        vertical-align: top;\n",
              "    }\n",
              "\n",
              "    .dataframe thead th {\n",
              "        text-align: right;\n",
              "    }\n",
              "</style>\n",
              "<table border=\"1\" class=\"dataframe\">\n",
              "  <thead>\n",
              "    <tr style=\"text-align: right;\">\n",
              "      <th></th>\n",
              "      <th>ID</th>\n",
              "      <th>Gene</th>\n",
              "      <th>Variation</th>\n",
              "      <th>Class</th>\n",
              "    </tr>\n",
              "  </thead>\n",
              "  <tbody>\n",
              "    <tr>\n",
              "      <th>0</th>\n",
              "      <td>0</td>\n",
              "      <td>FAM58A</td>\n",
              "      <td>Truncating Mutations</td>\n",
              "      <td>1</td>\n",
              "    </tr>\n",
              "    <tr>\n",
              "      <th>1</th>\n",
              "      <td>1</td>\n",
              "      <td>CBL</td>\n",
              "      <td>W802*</td>\n",
              "      <td>2</td>\n",
              "    </tr>\n",
              "    <tr>\n",
              "      <th>2</th>\n",
              "      <td>2</td>\n",
              "      <td>CBL</td>\n",
              "      <td>Q249E</td>\n",
              "      <td>2</td>\n",
              "    </tr>\n",
              "    <tr>\n",
              "      <th>3</th>\n",
              "      <td>3</td>\n",
              "      <td>CBL</td>\n",
              "      <td>N454D</td>\n",
              "      <td>3</td>\n",
              "    </tr>\n",
              "    <tr>\n",
              "      <th>4</th>\n",
              "      <td>4</td>\n",
              "      <td>CBL</td>\n",
              "      <td>L399V</td>\n",
              "      <td>4</td>\n",
              "    </tr>\n",
              "  </tbody>\n",
              "</table>\n",
              "</div>"
            ],
            "text/plain": [
              "   ID    Gene             Variation  Class\n",
              "0   0  FAM58A  Truncating Mutations      1\n",
              "1   1     CBL                 W802*      2\n",
              "2   2     CBL                 Q249E      2\n",
              "3   3     CBL                 N454D      3\n",
              "4   4     CBL                 L399V      4"
            ]
          },
          "metadata": {},
          "execution_count": 3
        }
      ]
    },
    {
      "cell_type": "markdown",
      "metadata": {
        "id": "zc-jcHnj8a9G"
      },
      "source": [
        "training_variants is a comma separated file containing the description of the genetic mutations used for training.\n",
        "* ID : the id of the row used to link the mutation to the clinical evidence\n",
        "* Gene : the gene where this genetic mutation is located\n",
        "* Variation : the aminoacid change for this mutations\n",
        "* Class : 1-9 the class this genetic mutation has been classified on"
      ]
    },
    {
      "cell_type": "code",
      "metadata": {
        "colab": {
          "base_uri": "https://localhost:8080/"
        },
        "id": "T5A0bkHB8glj",
        "outputId": "144f533b-4ef7-4d74-dcf3-77882fd13ff6"
      },
      "source": [
        "# Count of Unique Values of Gene\n",
        "train_variants[\"Gene\"].value_counts()"
      ],
      "execution_count": 4,
      "outputs": [
        {
          "output_type": "execute_result",
          "data": {
            "text/plain": [
              "BRCA1     264\n",
              "TP53      163\n",
              "EGFR      141\n",
              "PTEN      126\n",
              "BRCA2     125\n",
              "         ... \n",
              "KDM5A       1\n",
              "PPM1D       1\n",
              "NCOR1       1\n",
              "ERRFI1      1\n",
              "RRAS2       1\n",
              "Name: Gene, Length: 264, dtype: int64"
            ]
          },
          "metadata": {},
          "execution_count": 4
        }
      ]
    },
    {
      "cell_type": "markdown",
      "metadata": {
        "id": "-IVqC3mG8oUp"
      },
      "source": [
        "We have 264 different genes"
      ]
    },
    {
      "cell_type": "code",
      "metadata": {
        "colab": {
          "base_uri": "https://localhost:8080/"
        },
        "id": "VoNoRuXx8l_I",
        "outputId": "7b7b966f-000f-43ed-b3af-d20e99137983"
      },
      "source": [
        "# Count of Unique Values of Variation\n",
        "train_variants[\"Variation\"].value_counts()"
      ],
      "execution_count": 5,
      "outputs": [
        {
          "output_type": "execute_result",
          "data": {
            "text/plain": [
              "Truncating Mutations    93\n",
              "Deletion                74\n",
              "Amplification           71\n",
              "Fusions                 34\n",
              "Overexpression           6\n",
              "                        ..\n",
              "G87R                     1\n",
              "G325A                    1\n",
              "D770_P772dup             1\n",
              "Q58_E62del               1\n",
              "M664I                    1\n",
              "Name: Variation, Length: 2996, dtype: int64"
            ]
          },
          "metadata": {},
          "execution_count": 5
        }
      ]
    },
    {
      "cell_type": "markdown",
      "metadata": {
        "id": "3FrIFG5j8ruc"
      },
      "source": [
        "We have 2996 variation "
      ]
    },
    {
      "cell_type": "code",
      "metadata": {
        "colab": {
          "base_uri": "https://localhost:8080/"
        },
        "id": "TPbt27Yn8y_F",
        "outputId": "d5e204d7-3a4e-4dda-9cf6-aa1750d21d79"
      },
      "source": [
        "#checking number of unique values for 'Gene+Variation' combinations\n",
        "G_V = train_variants.copy()\n",
        "G_V['gene_and_variation']=train_variants['Gene']+' '+train_variants['Variation']\n",
        "G_V.head()\n",
        "G_V['gene_and_variation'].value_counts()"
      ],
      "execution_count": 6,
      "outputs": [
        {
          "output_type": "execute_result",
          "data": {
            "text/plain": [
              "BRAF Amplification           1\n",
              "ETV6 R418G                   1\n",
              "ERBB2 S1002R                 1\n",
              "FLT3 Y599_D600insEYEYEYEY    1\n",
              "ERBB2 D277H                  1\n",
              "                            ..\n",
              "EGFR L747_P753del            1\n",
              "KIT K550_V555delinsI         1\n",
              "BRCA2 R3052Q                 1\n",
              "BRCA1 N1647K                 1\n",
              "BRCA1 Y1703S                 1\n",
              "Name: gene_and_variation, Length: 3321, dtype: int64"
            ]
          },
          "metadata": {},
          "execution_count": 6
        }
      ]
    },
    {
      "cell_type": "markdown",
      "metadata": {
        "id": "OnsWgLoc9Ao8"
      },
      "source": [
        "All combinations 'Gene + Variation' in these datasets are unique"
      ]
    },
    {
      "cell_type": "code",
      "metadata": {
        "colab": {
          "base_uri": "https://localhost:8080/"
        },
        "id": "frUdTnSX9ESe",
        "outputId": "b5a79333-ccfa-42af-ac08-d0ca10d72a74"
      },
      "source": [
        "train_variants.Class.unique()"
      ],
      "execution_count": 7,
      "outputs": [
        {
          "output_type": "execute_result",
          "data": {
            "text/plain": [
              "array([1, 2, 3, 4, 5, 6, 7, 8, 9])"
            ]
          },
          "metadata": {},
          "execution_count": 7
        }
      ]
    },
    {
      "cell_type": "markdown",
      "metadata": {
        "id": "W7xW7IMq9FZZ"
      },
      "source": [
        " It's a Multi class classification problem"
      ]
    },
    {
      "cell_type": "code",
      "metadata": {
        "colab": {
          "base_uri": "https://localhost:8080/"
        },
        "id": "Gis2UUav9MG6",
        "outputId": "efe8dc87-2aa6-4f95-aeb9-528e9351b067"
      },
      "source": [
        "# detect missing values \n",
        "train_variants.isnull().sum()"
      ],
      "execution_count": 8,
      "outputs": [
        {
          "output_type": "execute_result",
          "data": {
            "text/plain": [
              "ID           0\n",
              "Gene         0\n",
              "Variation    0\n",
              "Class        0\n",
              "dtype: int64"
            ]
          },
          "metadata": {},
          "execution_count": 8
        }
      ]
    },
    {
      "cell_type": "markdown",
      "metadata": {
        "id": "nXI8ArdyH6OD"
      },
      "source": [
        "There is no missing data  "
      ]
    },
    {
      "cell_type": "code",
      "metadata": {
        "colab": {
          "base_uri": "https://localhost:8080/",
          "height": 513
        },
        "id": "28pZ08pYPsXp",
        "outputId": "4ee4566a-10d7-4326-aeed-b402c0bd8ae4"
      },
      "source": [
        "# plot Distribution of class\n",
        "# colab \n",
        "plt.figure(figsize=(12,8))\n",
        "ax = sns.countplot(x=\"Class\", data=train_variants)\n",
        "plt.ylabel('Frequency'); plt.xlabel('Class')\n",
        "plt.title('Freq. of Classes in Training Variants')\n",
        "plt.show()"
      ],
      "execution_count": 9,
      "outputs": [
        {
          "output_type": "display_data",
          "data": {
            "image/png": "[encoded data removed]",
            "text/plain": [
              "<Figure size 864x576 with 1 Axes>"
            ]
          },
          "metadata": {
            "needs_background": "light"
          }
        }
      ]
    },
    {
      "cell_type": "code",
      "metadata": {
        "id": "dvWOfvT99OTU"
      },
      "source": [
        "# plot Distribution of class\n",
        "# jupyter \n",
        "plt.figure(figsize=(20,10))\n",
        "g = sns.countplot(x = train_variants[\"Class\"])\n",
        "plt.title(\"Class distribution\", fontsize = 25)\n",
        "g.bar_label(g.containers[0], fontsize = 25)\n",
        "\n",
        "plt.xlabel(\"Class\",fontsize = 25)\n",
        "plt.ylabel(\"Count\",fontsize = 25)\n",
        "plt.xticks(fontsize = 20)\n",
        "plt.yticks(fontsize = 20)\n",
        "\n",
        "plt.show()"
      ],
      "execution_count": null,
      "outputs": []
    },
    {
      "cell_type": "markdown",
      "metadata": {
        "id": "lhfUcWL29-Gu"
      },
      "source": [
        "Classes seem very imbalanced"
      ]
    },
    {
      "cell_type": "code",
      "metadata": {
        "id": "Tb41dK1W9iiQ",
        "colab": {
          "base_uri": "https://localhost:8080/",
          "height": 877
        },
        "outputId": "3fead013-2f71-489f-8a53-5a0cbdbaffa3"
      },
      "source": [
        "# Genes that has highest number of occurrences in each class\n",
        "fig, axs = plt.subplots(ncols=3, nrows=3, figsize=(15,15))\n",
        "\n",
        "for i in range(3):\n",
        "    for j in range(3):\n",
        "        gene_count_grp = train_variants[train_variants[\"Class\"]==((i*3+j)+1)].groupby('Gene')[\"ID\"].count().reset_index()\n",
        "        sorted_gene_group = gene_count_grp.sort_values('ID', ascending=False)\n",
        "        sorted_gene_group_top_7 = sorted_gene_group[:7]\n",
        "        sns.barplot(x=\"Gene\", y=\"ID\", data=sorted_gene_group_top_7, ax=axs[i][j])"
      ],
      "execution_count": 10,
      "outputs": [
        {
          "output_type": "display_data",
          "data": {
            "image/png": "[encoded data removed]",
            "text/plain": [
              "<Figure size 1080x1080 with 9 Axes>"
            ]
          },
          "metadata": {
            "needs_background": "light"
          }
        }
      ]
    },
    {
      "cell_type": "markdown",
      "metadata": {
        "id": "JgKq-hy4-cey"
      },
      "source": [
        "\n",
        "\n",
        "Some points we can conclude from these graphs:\n",
        "\n",
        "* BRCA1 is highly dominating Class 5\n",
        "* SF3B1 is highly dominating Class 9\n",
        "* BRCA1 and BRCA2 are dominating Class 6\n",
        "\n"
      ]
    },
    {
      "cell_type": "code",
      "metadata": {
        "colab": {
          "base_uri": "https://localhost:8080/",
          "height": 513
        },
        "id": "Afa8xS1gQarq",
        "outputId": "8f113031-2ead-4dfb-a820-a759740f9e14"
      },
      "source": [
        "# Distribution of 5 most common genes \n",
        "gene_count = train_variants[\"Gene\"].value_counts().loc[lambda x : x > 100].to_dict()\n",
        "plt.figure(figsize=(15,8))\n",
        "sns.histplot(data=train_variants[train_variants[\"Gene\"].isin(gene_count.keys())],\n",
        "             x=\"Gene\", hue=\"Class\", multiple=\"dodge\", shrink=.7)\n",
        "plt.title(\"Gene distribution and class\")\n",
        "plt.show()"
      ],
      "execution_count": 11,
      "outputs": [
        {
          "output_type": "display_data",
          "data": {
            "image/png": "[encoded data removed]",
            "text/plain": [
              "<Figure size 1080x576 with 1 Axes>"
            ]
          },
          "metadata": {
            "needs_background": "light"
          }
        }
      ]
    },
    {
      "cell_type": "markdown",
      "metadata": {
        "id": "10P5uFLgSAx1"
      },
      "source": [
        "A relation between gene and class could be present "
      ]
    },
    {
      "cell_type": "markdown",
      "metadata": {
        "id": "pNGAHhxg8RGI"
      },
      "source": [
        "## Train text"
      ]
    },
    {
      "cell_type": "code",
      "metadata": {
        "colab": {
          "base_uri": "https://localhost:8080/",
          "height": 258
        },
        "id": "wJUz5H-V7ian",
        "outputId": "d4bd9b38-88ff-4eec-85ad-21b48a994db9"
      },
      "source": [
        "train_text = pd.read_csv(\"/content/gdrive/MyDrive/Kaggle/msk-redefining-cancer-treatment/training_text\",sep=\"\\|\\|\", engine=\"python\", skiprows=1, names=[\"ID\", \"Text\"])\n",
        "print('Number of data points : ', train_text.shape[0])\n",
        "print('Number of features : ', train_text.shape[1])\n",
        "print('Features : ', train_text.columns.values)\n",
        "train_text.head()"
      ],
      "execution_count": 12,
      "outputs": [
        {
          "output_type": "stream",
          "name": "stdout",
          "text": [
            "Number of data points :  3321\n",
            "Number of features :  2\n",
            "Features :  ['ID' 'Text']\n"
          ]
        },
        {
          "output_type": "execute_result",
          "data": {
            "text/html": [
              "<div>\n",
              "<style scoped>\n",
              "    .dataframe tbody tr th:only-of-type {\n",
              "        vertical-align: middle;\n",
              "    }\n",
              "\n",
              "    .dataframe tbody tr th {\n",
              "        vertical-align: top;\n",
              "    }\n",
              "\n",
              "    .dataframe thead th {\n",
              "        text-align: right;\n",
              "    }\n",
              "</style>\n",
              "<table border=\"1\" class=\"dataframe\">\n",
              "  <thead>\n",
              "    <tr style=\"text-align: right;\">\n",
              "      <th></th>\n",
              "      <th>ID</th>\n",
              "      <th>Text</th>\n",
              "    </tr>\n",
              "  </thead>\n",
              "  <tbody>\n",
              "    <tr>\n",
              "      <th>0</th>\n",
              "      <td>0</td>\n",
              "      <td>Cyclin-dependent kinases (CDKs) regulate a var...</td>\n",
              "    </tr>\n",
              "    <tr>\n",
              "      <th>1</th>\n",
              "      <td>1</td>\n",
              "      <td>Abstract Background  Non-small cell lung canc...</td>\n",
              "    </tr>\n",
              "    <tr>\n",
              "      <th>2</th>\n",
              "      <td>2</td>\n",
              "      <td>Abstract Background  Non-small cell lung canc...</td>\n",
              "    </tr>\n",
              "    <tr>\n",
              "      <th>3</th>\n",
              "      <td>3</td>\n",
              "      <td>Recent evidence has demonstrated that acquired...</td>\n",
              "    </tr>\n",
              "    <tr>\n",
              "      <th>4</th>\n",
              "      <td>4</td>\n",
              "      <td>Oncogenic mutations in the monomeric Casitas B...</td>\n",
              "    </tr>\n",
              "  </tbody>\n",
              "</table>\n",
              "</div>"
            ],
            "text/plain": [
              "   ID                                               Text\n",
              "0   0  Cyclin-dependent kinases (CDKs) regulate a var...\n",
              "1   1   Abstract Background  Non-small cell lung canc...\n",
              "2   2   Abstract Background  Non-small cell lung canc...\n",
              "3   3  Recent evidence has demonstrated that acquired...\n",
              "4   4  Oncogenic mutations in the monomeric Casitas B..."
            ]
          },
          "metadata": {},
          "execution_count": 12
        }
      ]
    },
    {
      "cell_type": "code",
      "metadata": {
        "colab": {
          "base_uri": "https://localhost:8080/"
        },
        "id": "0qN5e7Ii72Sc",
        "outputId": "18d4e2b1-adc1-47dc-ab54-f95e9bb7a168"
      },
      "source": [
        "train_text.Text.nunique()"
      ],
      "execution_count": 13,
      "outputs": [
        {
          "output_type": "execute_result",
          "data": {
            "text/plain": [
              "1920"
            ]
          },
          "metadata": {},
          "execution_count": 13
        }
      ]
    },
    {
      "cell_type": "markdown",
      "metadata": {
        "id": "1Ohiua1f8FzH"
      },
      "source": [
        "train_text is double pipe (||) delimited file that contains the clinical evidence (text) used to classify genetic mutations. \n",
        "* ID (the id of the row used to link the clinical evidence to the genetic mutation)\n",
        "* Text (the clinical evidence used to classify the genetic mutation)\n",
        "\n",
        "We have 1920 different text for 3321 raw (ID)"
      ]
    },
    {
      "cell_type": "code",
      "metadata": {
        "colab": {
          "base_uri": "https://localhost:8080/",
          "height": 206
        },
        "id": "7xP9ANwP8FcI",
        "outputId": "04bd1f2c-11c7-418c-8de4-406855c34078"
      },
      "source": [
        "count_text = train_text.copy()\n",
        "count_text .loc[:, 'Text_count']  = count_text [\"Text\"].apply(lambda x: len( str(x).split()))\n",
        "count_text .head()\n"
      ],
      "execution_count": 14,
      "outputs": [
        {
          "output_type": "execute_result",
          "data": {
            "text/html": [
              "<div>\n",
              "<style scoped>\n",
              "    .dataframe tbody tr th:only-of-type {\n",
              "        vertical-align: middle;\n",
              "    }\n",
              "\n",
              "    .dataframe tbody tr th {\n",
              "        vertical-align: top;\n",
              "    }\n",
              "\n",
              "    .dataframe thead th {\n",
              "        text-align: right;\n",
              "    }\n",
              "</style>\n",
              "<table border=\"1\" class=\"dataframe\">\n",
              "  <thead>\n",
              "    <tr style=\"text-align: right;\">\n",
              "      <th></th>\n",
              "      <th>ID</th>\n",
              "      <th>Text</th>\n",
              "      <th>Text_count</th>\n",
              "    </tr>\n",
              "  </thead>\n",
              "  <tbody>\n",
              "    <tr>\n",
              "      <th>0</th>\n",
              "      <td>0</td>\n",
              "      <td>Cyclin-dependent kinases (CDKs) regulate a var...</td>\n",
              "      <td>6089</td>\n",
              "    </tr>\n",
              "    <tr>\n",
              "      <th>1</th>\n",
              "      <td>1</td>\n",
              "      <td>Abstract Background  Non-small cell lung canc...</td>\n",
              "      <td>5756</td>\n",
              "    </tr>\n",
              "    <tr>\n",
              "      <th>2</th>\n",
              "      <td>2</td>\n",
              "      <td>Abstract Background  Non-small cell lung canc...</td>\n",
              "      <td>5756</td>\n",
              "    </tr>\n",
              "    <tr>\n",
              "      <th>3</th>\n",
              "      <td>3</td>\n",
              "      <td>Recent evidence has demonstrated that acquired...</td>\n",
              "      <td>5572</td>\n",
              "    </tr>\n",
              "    <tr>\n",
              "      <th>4</th>\n",
              "      <td>4</td>\n",
              "      <td>Oncogenic mutations in the monomeric Casitas B...</td>\n",
              "      <td>6202</td>\n",
              "    </tr>\n",
              "  </tbody>\n",
              "</table>\n",
              "</div>"
            ],
            "text/plain": [
              "   ID                                               Text  Text_count\n",
              "0   0  Cyclin-dependent kinases (CDKs) regulate a var...        6089\n",
              "1   1   Abstract Background  Non-small cell lung canc...        5756\n",
              "2   2   Abstract Background  Non-small cell lung canc...        5756\n",
              "3   3  Recent evidence has demonstrated that acquired...        5572\n",
              "4   4  Oncogenic mutations in the monomeric Casitas B...        6202"
            ]
          },
          "metadata": {},
          "execution_count": 14
        }
      ]
    },
    {
      "cell_type": "markdown",
      "metadata": {
        "id": "z_TlS9xbcP4v"
      },
      "source": [
        "#Test data \n",
        "\n"
      ]
    },
    {
      "cell_type": "markdown",
      "metadata": {
        "id": "oTza0Jt5uSeo"
      },
      "source": [
        "## Test variants "
      ]
    },
    {
      "cell_type": "code",
      "metadata": {
        "colab": {
          "base_uri": "https://localhost:8080/",
          "height": 258
        },
        "id": "AwyntXKHcP40",
        "outputId": "b202f74c-a826-4c83-be6e-030ce09c0046"
      },
      "source": [
        "test_variants = pd.read_csv(\"/content/gdrive/MyDrive/Kaggle/msk-redefining-cancer-treatment/test_variants\")\n",
        "print('Number of data points : ', test_variants.shape[0])\n",
        "print('Number of features : ', test_variants.shape[1])\n",
        "print('Features : ', test_variants.columns.values)\n",
        "test_variants.head()\n"
      ],
      "execution_count": 23,
      "outputs": [
        {
          "output_type": "stream",
          "name": "stdout",
          "text": [
            "Number of data points :  5668\n",
            "Number of features :  3\n",
            "Features :  ['ID' 'Gene' 'Variation']\n"
          ]
        },
        {
          "output_type": "execute_result",
          "data": {
            "text/html": [
              "<div>\n",
              "<style scoped>\n",
              "    .dataframe tbody tr th:only-of-type {\n",
              "        vertical-align: middle;\n",
              "    }\n",
              "\n",
              "    .dataframe tbody tr th {\n",
              "        vertical-align: top;\n",
              "    }\n",
              "\n",
              "    .dataframe thead th {\n",
              "        text-align: right;\n",
              "    }\n",
              "</style>\n",
              "<table border=\"1\" class=\"dataframe\">\n",
              "  <thead>\n",
              "    <tr style=\"text-align: right;\">\n",
              "      <th></th>\n",
              "      <th>ID</th>\n",
              "      <th>Gene</th>\n",
              "      <th>Variation</th>\n",
              "    </tr>\n",
              "  </thead>\n",
              "  <tbody>\n",
              "    <tr>\n",
              "      <th>0</th>\n",
              "      <td>0</td>\n",
              "      <td>ACSL4</td>\n",
              "      <td>R570S</td>\n",
              "    </tr>\n",
              "    <tr>\n",
              "      <th>1</th>\n",
              "      <td>1</td>\n",
              "      <td>NAGLU</td>\n",
              "      <td>P521L</td>\n",
              "    </tr>\n",
              "    <tr>\n",
              "      <th>2</th>\n",
              "      <td>2</td>\n",
              "      <td>PAH</td>\n",
              "      <td>L333F</td>\n",
              "    </tr>\n",
              "    <tr>\n",
              "      <th>3</th>\n",
              "      <td>3</td>\n",
              "      <td>ING1</td>\n",
              "      <td>A148D</td>\n",
              "    </tr>\n",
              "    <tr>\n",
              "      <th>4</th>\n",
              "      <td>4</td>\n",
              "      <td>TMEM216</td>\n",
              "      <td>G77A</td>\n",
              "    </tr>\n",
              "  </tbody>\n",
              "</table>\n",
              "</div>"
            ],
            "text/plain": [
              "   ID     Gene Variation\n",
              "0   0    ACSL4     R570S\n",
              "1   1    NAGLU     P521L\n",
              "2   2      PAH     L333F\n",
              "3   3     ING1     A148D\n",
              "4   4  TMEM216      G77A"
            ]
          },
          "metadata": {},
          "execution_count": 23
        }
      ]
    },
    {
      "cell_type": "markdown",
      "metadata": {
        "id": "mkBj-ON8cP42"
      },
      "source": [
        "test_variants is a comma separated file containing the description of the genetic mutations used for training.\n",
        "* ID : the id of the row used to link the mutation to the clinical evidence\n",
        "* Gene : the gene where this genetic mutation is located\n",
        "* Variation : the aminoacid change for this mutations\n"
      ]
    },
    {
      "cell_type": "code",
      "metadata": {
        "colab": {
          "base_uri": "https://localhost:8080/"
        },
        "id": "c8pYwp1pcP43",
        "outputId": "802d9b95-aad7-43d2-a99e-6024b1ad8680"
      },
      "source": [
        "# Count of Unique Values of Gene\n",
        "test_variants[\"Gene\"].value_counts()"
      ],
      "execution_count": 16,
      "outputs": [
        {
          "output_type": "execute_result",
          "data": {
            "text/plain": [
              "F8       134\n",
              "CFTR      57\n",
              "F9        54\n",
              "G6PD      46\n",
              "GBA       39\n",
              "        ... \n",
              "MYC        1\n",
              "NODAL      1\n",
              "TUBB1      1\n",
              "REEP1      1\n",
              "ELF3       1\n",
              "Name: Gene, Length: 1397, dtype: int64"
            ]
          },
          "metadata": {},
          "execution_count": 16
        }
      ]
    },
    {
      "cell_type": "markdown",
      "metadata": {
        "id": "4UWG3_9NcP44"
      },
      "source": [
        "We have 1397 different genes"
      ]
    },
    {
      "cell_type": "code",
      "metadata": {
        "colab": {
          "base_uri": "https://localhost:8080/"
        },
        "id": "EOVC4d_VcP45",
        "outputId": "e1305924-94ab-497d-af12-6c73717c601d"
      },
      "source": [
        "# Count of Unique Values of Variation\n",
        "test_variants[\"Variation\"].value_counts()"
      ],
      "execution_count": 17,
      "outputs": [
        {
          "output_type": "execute_result",
          "data": {
            "text/plain": [
              "Truncating Mutations    18\n",
              "Deletion                14\n",
              "Amplification            8\n",
              "Fusions                  3\n",
              "G44D                     2\n",
              "                        ..\n",
              "T196I                    1\n",
              "R182L                    1\n",
              "R674H                    1\n",
              "H23Y                     1\n",
              "T185M                    1\n",
              "Name: Variation, Length: 5628, dtype: int64"
            ]
          },
          "metadata": {},
          "execution_count": 17
        }
      ]
    },
    {
      "cell_type": "markdown",
      "metadata": {
        "id": "geYFZ4rdcP46"
      },
      "source": [
        "We have 5628 variation "
      ]
    },
    {
      "cell_type": "code",
      "metadata": {
        "colab": {
          "base_uri": "https://localhost:8080/"
        },
        "id": "HJQbIY_rcP46",
        "outputId": "9f335945-f39d-477c-d80c-61cc47d38204"
      },
      "source": [
        "#checking number of unique values for 'Gene+Variation' combinations\n",
        "G_V_test = test_variants.copy()\n",
        "G_V_test['gene_and_variation']=test_variants['Gene']+' '+test_variants['Variation']\n",
        "G_V_test.head()\n",
        "G_V_test['gene_and_variation'].value_counts()"
      ],
      "execution_count": 18,
      "outputs": [
        {
          "output_type": "execute_result",
          "data": {
            "text/plain": [
              "MLC1 N141K        1\n",
              "PLA2G7 I198T      1\n",
              "MYO7A R244P       1\n",
              "G6PD C415R        1\n",
              "HMBS G216D        1\n",
              "                 ..\n",
              "NOTCH3 R182C      1\n",
              "ATP6V0A4 M580T    1\n",
              "SCN4A I141V       1\n",
              "PAH R408W         1\n",
              "KRT9 L160V        1\n",
              "Name: gene_and_variation, Length: 5668, dtype: int64"
            ]
          },
          "metadata": {},
          "execution_count": 18
        }
      ]
    },
    {
      "cell_type": "markdown",
      "metadata": {
        "id": "dZsANAPYcP47"
      },
      "source": [
        "All combinations 'Gene + Variation' in these datasets are unique"
      ]
    },
    {
      "cell_type": "code",
      "metadata": {
        "colab": {
          "base_uri": "https://localhost:8080/"
        },
        "id": "6wU-yEgMcP49",
        "outputId": "31e742f7-4917-4415-ee07-44ad49e6802c"
      },
      "source": [
        "# detect missing values \n",
        "test_variants.isnull().sum()"
      ],
      "execution_count": 19,
      "outputs": [
        {
          "output_type": "execute_result",
          "data": {
            "text/plain": [
              "ID           0\n",
              "Gene         0\n",
              "Variation    0\n",
              "dtype: int64"
            ]
          },
          "metadata": {},
          "execution_count": 19
        }
      ]
    },
    {
      "cell_type": "markdown",
      "metadata": {
        "id": "XR9aRlGRcP4-"
      },
      "source": [
        "There is no missing data  "
      ]
    },
    {
      "cell_type": "markdown",
      "metadata": {
        "id": "hZl-kUmicP5B"
      },
      "source": [
        "## Test text"
      ]
    },
    {
      "cell_type": "code",
      "metadata": {
        "colab": {
          "base_uri": "https://localhost:8080/",
          "height": 258
        },
        "id": "igWYSmzYcP5C",
        "outputId": "ef6393de-2902-4993-b382-16f5bd1b673b"
      },
      "source": [
        "test_text = pd.read_csv(\"/content/gdrive/MyDrive/Kaggle/msk-redefining-cancer-treatment/test_text\",sep=\"\\|\\|\", engine=\"python\", skiprows=1, names=[\"ID\", \"Text\"])\n",
        "print('Number of data points : ', test_text.shape[0])\n",
        "print('Number of features : ', test_text.shape[1])\n",
        "print('Features : ', test_text.columns.values)\n",
        "test_text.head()"
      ],
      "execution_count": 20,
      "outputs": [
        {
          "output_type": "stream",
          "name": "stdout",
          "text": [
            "Number of data points :  5668\n",
            "Number of features :  2\n",
            "Features :  ['ID' 'Text']\n"
          ]
        },
        {
          "output_type": "execute_result",
          "data": {
            "text/html": [
              "<div>\n",
              "<style scoped>\n",
              "    .dataframe tbody tr th:only-of-type {\n",
              "        vertical-align: middle;\n",
              "    }\n",
              "\n",
              "    .dataframe tbody tr th {\n",
              "        vertical-align: top;\n",
              "    }\n",
              "\n",
              "    .dataframe thead th {\n",
              "        text-align: right;\n",
              "    }\n",
              "</style>\n",
              "<table border=\"1\" class=\"dataframe\">\n",
              "  <thead>\n",
              "    <tr style=\"text-align: right;\">\n",
              "      <th></th>\n",
              "      <th>ID</th>\n",
              "      <th>Text</th>\n",
              "    </tr>\n",
              "  </thead>\n",
              "  <tbody>\n",
              "    <tr>\n",
              "      <th>0</th>\n",
              "      <td>0</td>\n",
              "      <td>2. This mutation resulted in a myeloproliferat...</td>\n",
              "    </tr>\n",
              "    <tr>\n",
              "      <th>1</th>\n",
              "      <td>1</td>\n",
              "      <td>Abstract The Large Tumor Suppressor 1 (LATS1)...</td>\n",
              "    </tr>\n",
              "    <tr>\n",
              "      <th>2</th>\n",
              "      <td>2</td>\n",
              "      <td>Vascular endothelial growth factor receptor (V...</td>\n",
              "    </tr>\n",
              "    <tr>\n",
              "      <th>3</th>\n",
              "      <td>3</td>\n",
              "      <td>Inflammatory myofibroblastic tumor (IMT) is a ...</td>\n",
              "    </tr>\n",
              "    <tr>\n",
              "      <th>4</th>\n",
              "      <td>4</td>\n",
              "      <td>Abstract Retinoblastoma is a pediatric retina...</td>\n",
              "    </tr>\n",
              "  </tbody>\n",
              "</table>\n",
              "</div>"
            ],
            "text/plain": [
              "   ID                                               Text\n",
              "0   0  2. This mutation resulted in a myeloproliferat...\n",
              "1   1   Abstract The Large Tumor Suppressor 1 (LATS1)...\n",
              "2   2  Vascular endothelial growth factor receptor (V...\n",
              "3   3  Inflammatory myofibroblastic tumor (IMT) is a ...\n",
              "4   4   Abstract Retinoblastoma is a pediatric retina..."
            ]
          },
          "metadata": {},
          "execution_count": 20
        }
      ]
    },
    {
      "cell_type": "code",
      "metadata": {
        "colab": {
          "base_uri": "https://localhost:8080/"
        },
        "id": "2DC_v5nhcP5C",
        "outputId": "4992e5ed-0d30-4f5a-c31b-3a7e537a78b1"
      },
      "source": [
        "test_text.Text.nunique()"
      ],
      "execution_count": 21,
      "outputs": [
        {
          "output_type": "execute_result",
          "data": {
            "text/plain": [
              "5610"
            ]
          },
          "metadata": {},
          "execution_count": 21
        }
      ]
    },
    {
      "cell_type": "markdown",
      "metadata": {
        "id": "yJ575-jtcP5D"
      },
      "source": [
        "test_text is double pipe (||) delimited file that contains the clinical evidence (text) used to classify genetic mutations. \n",
        "* ID (the id of the row used to link the clinical evidence to the genetic mutation)\n",
        "* Text (the clinical evidence used to classify the genetic mutation)\n",
        "\n",
        "We have 5610 different text for 5668 raw (ID)"
      ]
    },
    {
      "cell_type": "code",
      "metadata": {
        "colab": {
          "base_uri": "https://localhost:8080/",
          "height": 206
        },
        "id": "63tm_D_ScP5D",
        "outputId": "d3adc6e9-dfe5-4518-9dcc-2a029ceef713"
      },
      "source": [
        "count_text_test = test_text.copy()\n",
        "count_text_test.loc[:, 'Text_count']  = count_text_test [\"Text\"].apply(lambda x: len( str(x).split()))\n",
        "count_text_test.head()\n"
      ],
      "execution_count": 22,
      "outputs": [
        {
          "output_type": "execute_result",
          "data": {
            "text/html": [
              "<div>\n",
              "<style scoped>\n",
              "    .dataframe tbody tr th:only-of-type {\n",
              "        vertical-align: middle;\n",
              "    }\n",
              "\n",
              "    .dataframe tbody tr th {\n",
              "        vertical-align: top;\n",
              "    }\n",
              "\n",
              "    .dataframe thead th {\n",
              "        text-align: right;\n",
              "    }\n",
              "</style>\n",
              "<table border=\"1\" class=\"dataframe\">\n",
              "  <thead>\n",
              "    <tr style=\"text-align: right;\">\n",
              "      <th></th>\n",
              "      <th>ID</th>\n",
              "      <th>Text</th>\n",
              "      <th>Text_count</th>\n",
              "    </tr>\n",
              "  </thead>\n",
              "  <tbody>\n",
              "    <tr>\n",
              "      <th>0</th>\n",
              "      <td>0</td>\n",
              "      <td>2. This mutation resulted in a myeloproliferat...</td>\n",
              "      <td>7417</td>\n",
              "    </tr>\n",
              "    <tr>\n",
              "      <th>1</th>\n",
              "      <td>1</td>\n",
              "      <td>Abstract The Large Tumor Suppressor 1 (LATS1)...</td>\n",
              "      <td>4710</td>\n",
              "    </tr>\n",
              "    <tr>\n",
              "      <th>2</th>\n",
              "      <td>2</td>\n",
              "      <td>Vascular endothelial growth factor receptor (V...</td>\n",
              "      <td>11080</td>\n",
              "    </tr>\n",
              "    <tr>\n",
              "      <th>3</th>\n",
              "      <td>3</td>\n",
              "      <td>Inflammatory myofibroblastic tumor (IMT) is a ...</td>\n",
              "      <td>8380</td>\n",
              "    </tr>\n",
              "    <tr>\n",
              "      <th>4</th>\n",
              "      <td>4</td>\n",
              "      <td>Abstract Retinoblastoma is a pediatric retina...</td>\n",
              "      <td>11159</td>\n",
              "    </tr>\n",
              "  </tbody>\n",
              "</table>\n",
              "</div>"
            ],
            "text/plain": [
              "   ID                                               Text  Text_count\n",
              "0   0  2. This mutation resulted in a myeloproliferat...        7417\n",
              "1   1   Abstract The Large Tumor Suppressor 1 (LATS1)...        4710\n",
              "2   2  Vascular endothelial growth factor receptor (V...       11080\n",
              "3   3  Inflammatory myofibroblastic tumor (IMT) is a ...        8380\n",
              "4   4   Abstract Retinoblastoma is a pediatric retina...       11159"
            ]
          },
          "metadata": {},
          "execution_count": 22
        }
      ]
    }
  ]
}