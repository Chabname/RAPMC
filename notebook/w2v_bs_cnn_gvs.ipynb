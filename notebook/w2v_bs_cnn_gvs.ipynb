{
 "cells": [
  {
   "cell_type": "code",
   "execution_count": 1,
   "metadata": {},
   "outputs": [],
   "source": [
    "import sys\n",
    "import os\n",
    "import pandas as pd\n",
    "import numpy as np\n",
    "import tensorflow as tf\n",
    "from tensorflow import keras\n",
    "from tensorflow.keras import layers, Sequential\n",
    "\n",
    "from tensorflow.keras.optimizers import Adam\n",
    "from sklearn.model_selection import train_test_split"
   ]
  },
  {
   "cell_type": "code",
   "execution_count": 2,
   "metadata": {},
   "outputs": [],
   "source": [
    "sys.path.append(os.path.abspath(\"../src/\"))"
   ]
  },
  {
   "cell_type": "code",
   "execution_count": 3,
   "metadata": {},
   "outputs": [],
   "source": [
    "from EmbVector import Vector"
   ]
  },
  {
   "cell_type": "markdown",
   "metadata": {},
   "source": [
    "## **CNN Model**\n",
    "## Getting datas\n",
    "**best_sim mode** : The \"Sum\" colum of datas is the sum of vector Variation and all `top_number` vectors most similar to Variation without the vector of other existing variation for the gene\n",
    "\n",
    "> **Formula**\n",
    ">\n",
    "> Sum = vect_Variation + sum(most_similar(`top_number`)) - sum(vect_other_variation_for_gene) "
   ]
  },
  {
   "cell_type": "code",
   "execution_count": null,
   "metadata": {},
   "outputs": [
    {
     "name": "stdout",
     "output_type": "stream",
     "text": [
      "________________________Getting datas vectors_______________________\n",
      "____________________________________________________________________\n",
      "Number of genes/variations not foud : 688\n",
      "____________________________________________________________________\n",
      "Getting vectors finished in 87.24612657100005 seconds\n"
     ]
    }
   ],
   "source": [
    "datas = Vector(data_file = \"../datas/training_clean\", \n",
    "        model_path = \"../datas/cbow_A3316_WS20_E20_B10000_R2000_CTrue.model\", \n",
    "        is_training = True)\n",
    "# type_sum values : gene_var, best_sim, clean_art, sim_gene_var\n",
    "# top_number only use with best_sim or sim_gene_var, defautl = 50\n",
    "datas.get_vector_datas(is_notebook = True, type_sum =  \"best_sim\")"
   ]
  },
  {
   "cell_type": "code",
   "execution_count": 5,
   "metadata": {},
   "outputs": [],
   "source": [
    "X = datas.vectors[['Gene','Variation','Sum']]\n",
    "\n",
    "Y = pd.get_dummies(datas.vectors[\"Class\"]).values"
   ]
  },
  {
   "cell_type": "code",
   "execution_count": 6,
   "metadata": {},
   "outputs": [
    {
     "name": "stdout",
     "output_type": "stream",
     "text": [
      "(3314,)\n",
      "(3314,)\n",
      "(3314,)\n"
     ]
    }
   ],
   "source": [
    "print(X['Gene'].shape)\n",
    "print(X['Variation'].shape)\n",
    "print(X['Sum'].shape)"
   ]
  },
  {
   "cell_type": "markdown",
   "metadata": {},
   "source": [
    "## CNN all datas in one input\n",
    "First we need to split datas to reshape  and clean the shape"
   ]
  },
  {
   "cell_type": "code",
   "execution_count": 7,
   "metadata": {},
   "outputs": [],
   "source": [
    "X_gene = X[\"Gene\"]\n",
    "X_var = X[\"Variation\"]\n",
    "X_sum = X[\"Sum\"]"
   ]
  },
  {
   "cell_type": "code",
   "execution_count": 8,
   "metadata": {},
   "outputs": [],
   "source": [
    "X_gene = X_gene.values.reshape(X_gene.shape[0], 1)\n",
    "X_var = X_var.values.reshape(X_var.shape[0], 1)\n",
    "X_sum = X_sum.values.reshape(X_sum.shape[0], 1)"
   ]
  },
  {
   "cell_type": "code",
   "execution_count": 9,
   "metadata": {},
   "outputs": [],
   "source": [
    "def convert_to_np_gene(Object):\n",
    "    np_list = []\n",
    "    for obj in Object:\n",
    "        cop = obj[0].copy()\n",
    "        np_list.append(np.array(cop))\n",
    "    return np.array(np_list)\n",
    "\n",
    "def convert_to_np_var_sum(Object):\n",
    "    np_list = []\n",
    "    for obj in Object:\n",
    "        for o in obj:\n",
    "            cop = o[0].copy()\n",
    "            np_list.append(np.array(cop))\n",
    "    return np.array(np_list)"
   ]
  },
  {
   "cell_type": "code",
   "execution_count": 10,
   "metadata": {},
   "outputs": [],
   "source": [
    "X_gene = convert_to_np_gene(X_gene)\n",
    "X_var = convert_to_np_var_sum(X_var)\n",
    "X_sum = convert_to_np_var_sum(X_sum)"
   ]
  },
  {
   "cell_type": "code",
   "execution_count": 11,
   "metadata": {},
   "outputs": [
    {
     "name": "stdout",
     "output_type": "stream",
     "text": [
      "X_gene : (3314, 100)\n",
      "X_var : (3314, 100)\n",
      "X_sum : (3314, 100)\n",
      "Y : (3314, 9)\n"
     ]
    }
   ],
   "source": [
    "print(\"X_gene : \" + str(X_gene.shape))\n",
    "print(\"X_var : \" + str(X_var.shape))\n",
    "print(\"X_sum : \" + str(X_sum.shape))\n",
    "\n",
    "print(\"Y : \" + str(Y.shape))"
   ]
  },
  {
   "cell_type": "code",
   "execution_count": 12,
   "metadata": {},
   "outputs": [],
   "source": [
    "X_gene = X_gene.reshape(X_gene.shape[0],X_gene.shape[1], 1)\n",
    "X_var = X_var.reshape(X_var.shape[0], X_var.shape[1], 1)\n",
    "X_sum = X_sum.reshape(X_sum.shape[0], X_sum.shape[1], 1)"
   ]
  },
  {
   "cell_type": "code",
   "execution_count": 13,
   "metadata": {},
   "outputs": [
    {
     "name": "stdout",
     "output_type": "stream",
     "text": [
      "X_gene : (3314, 100, 1)\n",
      "X_var : (3314, 100, 1)\n",
      "X_sum : (3314, 100, 1)\n",
      "Y : (3314, 9)\n"
     ]
    }
   ],
   "source": [
    "print(\"X_gene : \" + str(X_gene.shape))\n",
    "print(\"X_var : \" + str(X_var.shape))\n",
    "print(\"X_sum : \" + str(X_sum.shape))\n",
    "\n",
    "print(\"Y : \" + str(Y.shape))"
   ]
  },
  {
   "cell_type": "markdown",
   "metadata": {},
   "source": [
    "## Reform the X_train with cleaned shape"
   ]
  },
  {
   "cell_type": "code",
   "execution_count": 14,
   "metadata": {},
   "outputs": [],
   "source": [
    "X_concat = np.concatenate((X_gene, X_var, X_sum), axis = 1) "
   ]
  },
  {
   "cell_type": "code",
   "execution_count": 15,
   "metadata": {},
   "outputs": [
    {
     "data": {
      "text/plain": [
       "(3314, 300, 1)"
      ]
     },
     "execution_count": 15,
     "metadata": {},
     "output_type": "execute_result"
    }
   ],
   "source": [
    "X_concat.shape"
   ]
  },
  {
   "cell_type": "code",
   "execution_count": 16,
   "metadata": {},
   "outputs": [
    {
     "name": "stdout",
     "output_type": "stream",
     "text": [
      "X_train : (2651, 300, 1)\n",
      "Y_train : (2651, 9)\n",
      "X_test : (663, 300, 1)\n",
      "Y_test : (663, 9)\n"
     ]
    }
   ],
   "source": [
    "X_train, X_test, Y_train, Y_test = train_test_split(X_concat, Y, test_size = 0.2, random_state = 42, stratify=Y)\n",
    "print(\"X_train : \" + str(X_train.shape))\n",
    "print(\"Y_train : \" + str(Y_train.shape))\n",
    "print(\"X_test : \" + str(X_test.shape))\n",
    "print(\"Y_test : \" + str(Y_test.shape))"
   ]
  },
  {
   "cell_type": "markdown",
   "metadata": {},
   "source": [
    "## Building the model"
   ]
  },
  {
   "cell_type": "code",
   "execution_count": 17,
   "metadata": {},
   "outputs": [
    {
     "name": "stderr",
     "output_type": "stream",
     "text": [
      "2021-10-23 16:18:09.939835: I tensorflow/compiler/jit/xla_cpu_device.cc:41] Not creating XLA devices, tf_xla_enable_xla_devices not set\n",
      "2021-10-23 16:18:09.939994: I tensorflow/core/platform/cpu_feature_guard.cc:142] This TensorFlow binary is optimized with oneAPI Deep Neural Network Library (oneDNN) to use the following CPU instructions in performance-critical operations:  SSE4.1 SSE4.2 AVX AVX2\n",
      "To enable them in other operations, rebuild TensorFlow with the appropriate compiler flags.\n",
      "2021-10-23 16:18:09.940676: I tensorflow/core/common_runtime/process_util.cc:146] Creating new thread pool with default inter op setting: 2. Tune using inter_op_parallelism_threads for best performance.\n"
     ]
    },
    {
     "name": "stdout",
     "output_type": "stream",
     "text": [
      "Model: \"sequential\"\n",
      "_________________________________________________________________\n",
      "Layer (type)                 Output Shape              Param #   \n",
      "=================================================================\n",
      "conv1d (Conv1D)              (None, 298, 32)           128       \n",
      "_________________________________________________________________\n",
      "conv1d_1 (Conv1D)            (None, 296, 64)           6208      \n",
      "_________________________________________________________________\n",
      "global_max_pooling1d (Global (None, 64)                0         \n",
      "_________________________________________________________________\n",
      "dense (Dense)                (None, 10)                650       \n",
      "_________________________________________________________________\n",
      "flatten (Flatten)            (None, 10)                0         \n",
      "_________________________________________________________________\n",
      "dense_1 (Dense)              (None, 9)                 99        \n",
      "=================================================================\n",
      "Total params: 7,085\n",
      "Trainable params: 7,085\n",
      "Non-trainable params: 0\n",
      "_________________________________________________________________\n"
     ]
    }
   ],
   "source": [
    "cnn_model = Sequential()\n",
    "cnn_model.add(layers.Input(shape=(X_train.shape[1], X_train.shape[2])))\n",
    "cnn_model.add(layers.Conv1D(32, kernel_size=(3), activation='relu'))\n",
    "cnn_model.add(layers.Conv1D(64, kernel_size=(3), activation='relu'))\n",
    "cnn_model.add(layers.GlobalMaxPooling1D())\n",
    "cnn_model.add(layers.Dense(10, activation='relu'))\n",
    "cnn_model.add(layers.Flatten())\n",
    "cnn_model.add(layers.Dense(9, activation='softmax'))\n",
    "cnn_model.compile(optimizer='adam',\n",
    "               loss='categorical_crossentropy',\n",
    "               metrics=['accuracy'])\n",
    "cnn_model.summary() "
   ]
  },
  {
   "cell_type": "code",
   "execution_count": 18,
   "metadata": {},
   "outputs": [
    {
     "data": {
      "image/png": "[encoded data removed]",
      "text/plain": [
       "<IPython.core.display.Image object>"
      ]
     },
     "execution_count": 18,
     "metadata": {},
     "output_type": "execute_result"
    }
   ],
   "source": [
    "keras.utils.plot_model(cnn_model, \"CNN_W2V_bs.png\", show_shapes= True)"
   ]
  },
  {
   "cell_type": "code",
   "execution_count": 19,
   "metadata": {},
   "outputs": [],
   "source": [
    "cnn_model.compile(optimizer='adam', loss='categorical_crossentropy', metrics=['accuracy'])"
   ]
  },
  {
   "cell_type": "code",
   "execution_count": 20,
   "metadata": {},
   "outputs": [
    {
     "name": "stderr",
     "output_type": "stream",
     "text": [
      "2021-10-23 16:18:23.070524: I tensorflow/compiler/mlir/mlir_graph_optimization_pass.cc:116] None of the MLIR optimization passes are enabled (registered 2)\n",
      "2021-10-23 16:18:23.073584: I tensorflow/core/platform/profile_utils/cpu_utils.cc:112] CPU Frequency: 2803195000 Hz\n"
     ]
    }
   ],
   "source": [
    "history = cnn_model.fit(X_train, Y_train,\n",
    "                     epochs=50,\n",
    "                     verbose=False,\n",
    "                     validation_split = 0.2,\n",
    "                     batch_size= 32, \n",
    "                     callbacks = tf.keras.callbacks.EarlyStopping(monitor='val_accuracy', patience=3)\n",
    ")"
   ]
  },
  {
   "cell_type": "code",
   "execution_count": 21,
   "metadata": {},
   "outputs": [
    {
     "name": "stdout",
     "output_type": "stream",
     "text": [
      "Training Accuracy: >54.017\n"
     ]
    }
   ],
   "source": [
    "loss, accuracy = cnn_model.evaluate(X_train, Y_train, verbose=False)\n",
    "print(\"Training Accuracy: %.3f %%\"  % (accuracy * 100.0))"
   ]
  },
  {
   "cell_type": "code",
   "execution_count": 24,
   "metadata": {
    "colab": {
     "base_uri": "https://localhost:8080/"
    },
    "id": "dk9bDckmMJtE",
    "outputId": "3ef56eec-67da-4335-bdd6-60b6ca1b1906"
   },
   "outputs": [
    {
     "name": "stdout",
     "output_type": "stream",
     "text": [
      "Testing Accuracy:  >52.338\n"
     ]
    }
   ],
   "source": [
    "loss, accuracy = cnn_model.evaluate(X_test, Y_test, verbose=False)\n",
    "\n",
    "print(\"Testing Accuracy:  %.3f %%\"  % (accuracy * 100.0))"
   ]
  },
  {
   "cell_type": "code",
   "execution_count": null,
   "metadata": {},
   "outputs": [
    {
     "name": "stderr",
     "output_type": "stream",
     "text": [
      "2021-10-23 14:23:01.847534: W tensorflow/python/util/util.cc:348] Sets are not currently considered sequences, but this may change in the future, so consider avoiding using them.\n"
     ]
    },
    {
     "name": "stdout",
     "output_type": "stream",
     "text": [
      "INFO:tensorflow:Assets written to: ../results/CNN_W2V_Separate_datas_gv_68_8.model/assets\n"
     ]
    }
   ],
   "source": [
    "cnn_model.save(\"../results/CNN_W2V_bs.model\") "
   ]
  }
 ],
 "metadata": {
  "interpreter": {
   "hash": "f2d9a70bbdc9f4b8a74eb04eacab7009feb0e79c185bd148a31a4cbc8ca120b3"
  },
  "kernelspec": {
   "display_name": "Python 3.8.11 64-bit ('RAPMC': conda)",
   "name": "python3"
  },
  "language_info": {
   "codemirror_mode": {
    "name": "ipython",
    "version": 3
   },
   "file_extension": ".py",
   "mimetype": "text/x-python",
   "name": "python",
   "nbconvert_exporter": "python",
   "pygments_lexer": "ipython3",
   "version": "3.8.11"
  },
  "orig_nbformat": 4
 },
 "nbformat": 4,
 "nbformat_minor": 2
}
