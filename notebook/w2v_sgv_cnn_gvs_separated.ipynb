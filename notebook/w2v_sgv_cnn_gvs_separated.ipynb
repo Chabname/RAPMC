{
 "cells": [
  {
   "cell_type": "code",
   "execution_count": 1,
   "metadata": {},
   "outputs": [],
   "source": [
    "import sys\n",
    "import os\n",
    "import pandas as pd\n",
    "import numpy as np\n",
    "import tensorflow as tf\n",
    "from tensorflow import keras\n",
    "from tensorflow.keras import layers, Sequential\n",
    "\n",
    "from tensorflow.keras.optimizers import Adam\n",
    "from sklearn.model_selection import train_test_split"
   ]
  },
  {
   "cell_type": "code",
   "execution_count": 2,
   "metadata": {},
   "outputs": [],
   "source": [
    "sys.path.append(os.path.abspath(\"../src/\"))"
   ]
  },
  {
   "cell_type": "code",
   "execution_count": 3,
   "metadata": {},
   "outputs": [],
   "source": [
    "from EmbVector import Vector"
   ]
  },
  {
   "cell_type": "markdown",
   "metadata": {},
   "source": [
    "## **CNN Model**\n",
    "## Getting datas\n",
    "**sim_gene_var mode** : The \"Sum\" colum of datas is the sum of vector Variation and vector Gene and all `top_number` vectors most similar to Variation without the vector of other existing variation for the gene\n",
    "\n",
    "> **Formula**\n",
    ">\n",
    "> Sum = vect_Variation + vect_Gene + sum(most_similar(`top_number`)) - sum(vect_other_variation_for_gene) "
   ]
  },
  {
   "cell_type": "code",
   "execution_count": 4,
   "metadata": {},
   "outputs": [
    {
     "name": "stdout",
     "output_type": "stream",
     "text": [
      "________________________Getting datas vectors_______________________\n",
      "____________________________________________________________________\n",
      "Number of genes/variations not foud : 688\n",
      "____________________________________________________________________\n",
      "Getting vectors finished in 97.06371115900004 seconds\n"
     ]
    }
   ],
   "source": [
    "datas = Vector(data_file = \"../datas/training_clean\", \n",
    "        model_path = \"../datas/cbow_A3316_WS20_E20_B10000_R2000_CTrue.model\", \n",
    "        is_training = True)\n",
    "# type_sum values : gene_var, best_sim, clean_art, sim_gene_var\n",
    "# top_number only use with best_sim or sim_gene_var, defautl = 50\n",
    "datas.get_vector_datas(is_notebook = True, type_sum =  \"sim_gene_var\")"
   ]
  },
  {
   "cell_type": "markdown",
   "metadata": {},
   "source": [
    "## Split the datas\n",
    "Spliting the datas from the first model (without new articles) by 80% for training, and 20% fort test"
   ]
  },
  {
   "cell_type": "code",
   "execution_count": 5,
   "metadata": {},
   "outputs": [],
   "source": [
    "X = datas.vectors[['Gene','Variation','Sum']]\n",
    "\n",
    "Y = pd.get_dummies(datas.vectors[\"Class\"]).values"
   ]
  },
  {
   "cell_type": "code",
   "execution_count": 6,
   "metadata": {},
   "outputs": [
    {
     "name": "stdout",
     "output_type": "stream",
     "text": [
      "X_train : (2651, 3)\n",
      "Y_train : (2651, 9)\n",
      "X_test : (663, 3)\n",
      "Y_test : (663, 9)\n"
     ]
    }
   ],
   "source": [
    "X_train, X_test, Y_train, Y_test = train_test_split(X, Y, test_size = 0.2, random_state = 42, stratify=Y)\n",
    "print(\"X_train : \" + str(X_train.shape))\n",
    "print(\"Y_train : \" + str(Y_train.shape))\n",
    "print(\"X_test : \" + str(X_test.shape))\n",
    "print(\"Y_test : \" + str(Y_test.shape))"
   ]
  },
  {
   "cell_type": "markdown",
   "metadata": {},
   "source": [
    "## CNN Model with all datas separated\n",
    "Using all Gene, Variation, Sum datas but separated into different variable"
   ]
  },
  {
   "cell_type": "code",
   "execution_count": 7,
   "metadata": {},
   "outputs": [],
   "source": [
    "X_train_gene = X_train[\"Gene\"]\n",
    "X_train_var = X_train[\"Variation\"]\n",
    "X_train_sum = X_train[\"Sum\"]\n",
    "X_test_gene = X_test[\"Gene\"]\n",
    "X_test_var = X_test[\"Variation\"]\n",
    "X_test_sum = X_test[\"Sum\"]"
   ]
  },
  {
   "cell_type": "code",
   "execution_count": 8,
   "metadata": {},
   "outputs": [],
   "source": [
    "X_train_gene = X_train_gene.values.reshape(X_train_gene.shape[0], 1)\n",
    "X_train_var = X_train_var.values.reshape(X_train_var.shape[0], 1)\n",
    "X_train_sum = X_train_sum.values.reshape(X_train_sum.shape[0], 1)\n",
    "\n",
    "X_test_gene = X_test_gene.values.reshape(X_test_gene.shape[0], 1)\n",
    "X_test_var = X_test_var.values.reshape(X_test_var.shape[0], 1)\n",
    "X_test_sum = X_test_sum.values.reshape(X_test_sum.shape[0], 1)"
   ]
  },
  {
   "cell_type": "markdown",
   "metadata": {},
   "source": [
    "## Preparing the datas for the input of the model\n",
    "It is needed to convert the datas to have a clean numpy array and not a mix of object dataframe and array"
   ]
  },
  {
   "cell_type": "code",
   "execution_count": 9,
   "metadata": {},
   "outputs": [],
   "source": [
    "def convert_to_np_gene(Object):\n",
    "    np_list = []\n",
    "    for obj in Object:\n",
    "        cop = obj[0].copy()\n",
    "        np_list.append(np.array(cop))\n",
    "    return np.array(np_list)\n",
    "\n",
    "def convert_to_np_var_sum(Object):\n",
    "    np_list = []\n",
    "    for obj in Object:\n",
    "        for o in obj:\n",
    "            cop = o[0].copy()\n",
    "            np_list.append(np.array(cop))\n",
    "    return np.array(np_list)"
   ]
  },
  {
   "cell_type": "code",
   "execution_count": 10,
   "metadata": {},
   "outputs": [],
   "source": [
    "X_train_gene = convert_to_np_gene(X_train_gene)\n",
    "X_train_var = convert_to_np_var_sum(X_train_var)\n",
    "X_train_sum = convert_to_np_var_sum(X_train_sum)\n",
    "\n",
    "X_test_gene = convert_to_np_gene(X_test_gene)\n",
    "X_test_var = convert_to_np_var_sum(X_test_var)\n",
    "X_test_sum = convert_to_np_var_sum(X_test_sum)"
   ]
  },
  {
   "cell_type": "code",
   "execution_count": 11,
   "metadata": {},
   "outputs": [
    {
     "name": "stdout",
     "output_type": "stream",
     "text": [
      "X_train_gene : (2651, 100)\n",
      "X_train_var : (2651, 100)\n",
      "X_train_sum : (2651, 100)\n",
      "X_test_gene : (663, 100)\n",
      "X_test_var : (663, 100)\n",
      "X_test_sum : (663, 100)\n",
      "Y_train : (2651, 9)\n",
      "Y_test : (663, 9)\n"
     ]
    }
   ],
   "source": [
    "print(\"X_train_gene : \" + str(X_train_gene.shape))\n",
    "print(\"X_train_var : \" + str(X_train_var.shape))\n",
    "print(\"X_train_sum : \" + str(X_train_sum.shape))\n",
    "\n",
    "print(\"X_test_gene : \" + str(X_test_gene.shape))\n",
    "print(\"X_test_var : \" + str(X_test_var.shape))\n",
    "print(\"X_test_sum : \" + str(X_test_sum.shape))\n",
    "\n",
    "print(\"Y_train : \" + str(Y_train.shape))\n",
    "print(\"Y_test : \" + str(Y_test.shape))"
   ]
  },
  {
   "cell_type": "code",
   "execution_count": 12,
   "metadata": {},
   "outputs": [],
   "source": [
    "X_train_gene = X_train_gene.reshape(X_train_gene.shape[0],X_train_gene.shape[1], 1)\n",
    "X_train_var = X_train_var.reshape(X_train_var.shape[0], X_train_var.shape[1], 1)\n",
    "X_train_sum = X_train_sum.reshape(X_train_sum.shape[0], X_train_sum.shape[1], 1)\n",
    "\n",
    "X_test_gene = X_test_gene.reshape(X_test_gene.shape[0], X_test_gene.shape[1], 1)\n",
    "X_test_var = X_test_var.reshape(X_test_var.shape[0], X_test_var.shape[1], 1)\n",
    "X_test_sum = X_test_sum.reshape(X_test_sum.shape[0], X_test_sum.shape[1], 1)"
   ]
  },
  {
   "cell_type": "code",
   "execution_count": 13,
   "metadata": {},
   "outputs": [
    {
     "name": "stdout",
     "output_type": "stream",
     "text": [
      "X_train_gene : (2651, 100, 1)\n",
      "X_train_var : (2651, 100, 1)\n",
      "X_train_sum : (2651, 100, 1)\n",
      "X_test_gene : (663, 100, 1)\n",
      "X_test_var : (663, 100, 1)\n",
      "X_test_sum : (663, 100, 1)\n",
      "Y_train : (2651, 9)\n",
      "Y_test : (663, 9)\n"
     ]
    }
   ],
   "source": [
    "print(\"X_train_gene : \" + str(X_train_gene.shape))\n",
    "print(\"X_train_var : \" + str(X_train_var.shape))\n",
    "print(\"X_train_sum : \" + str(X_train_sum.shape))\n",
    "\n",
    "print(\"X_test_gene : \" + str(X_test_gene.shape))\n",
    "print(\"X_test_var : \" + str(X_test_var.shape))\n",
    "print(\"X_test_sum : \" + str(X_test_sum.shape))\n",
    "\n",
    "print(\"Y_train : \" + str(Y_train.shape))\n",
    "print(\"Y_test : \" + str(Y_test.shape))"
   ]
  },
  {
   "cell_type": "markdown",
   "metadata": {},
   "source": [
    "## Building the model with Gene, Variation and Sum datas"
   ]
  },
  {
   "cell_type": "code",
   "execution_count": 14,
   "metadata": {
    "id": "KMoZC9mxJuDZ"
   },
   "outputs": [
    {
     "name": "stderr",
     "output_type": "stream",
     "text": [
      "2021-10-23 14:33:31.294752: I tensorflow/compiler/jit/xla_cpu_device.cc:41] Not creating XLA devices, tf_xla_enable_xla_devices not set\n",
      "2021-10-23 14:33:31.297504: I tensorflow/core/platform/cpu_feature_guard.cc:142] This TensorFlow binary is optimized with oneAPI Deep Neural Network Library (oneDNN) to use the following CPU instructions in performance-critical operations:  SSE4.1 SSE4.2 AVX AVX2\n",
      "To enable them in other operations, rebuild TensorFlow with the appropriate compiler flags.\n",
      "2021-10-23 14:33:31.300493: I tensorflow/core/common_runtime/process_util.cc:146] Creating new thread pool with default inter op setting: 2. Tune using inter_op_parallelism_threads for best performance.\n"
     ]
    }
   ],
   "source": [
    "input_gene = layers.Input(shape=X_train_gene.shape[1])\n",
    "input_variant = layers.Input(shape=X_train_var.shape[1])\n",
    "input_sum = layers.Input(shape=X_train_sum.shape[1])\n",
    "\n",
    "\n",
    "dense_gene = layers.Dense(64, activation='relu')(input_gene)\n",
    "dense_var = layers.Dense(64, activation='relu')(input_variant)\n",
    "dense_sum = layers.Dense(64, activation='relu')(input_sum)\n",
    "\n",
    "\n",
    "input_2 = layers.Concatenate(axis = 1)([dense_gene, dense_var, dense_sum])\n",
    "\n",
    "dense_1 = layers.Dense(16, activation='relu')(input_2)\n",
    "output = layers.Dense(9, activation='softmax')(dense_1)\n",
    "\n",
    "model = keras.Model(inputs = [input_gene, input_variant, input_sum], outputs = output)"
   ]
  },
  {
   "cell_type": "code",
   "execution_count": 15,
   "metadata": {},
   "outputs": [
    {
     "name": "stdout",
     "output_type": "stream",
     "text": [
      "Model: \"model\"\n",
      "__________________________________________________________________________________________________\n",
      "Layer (type)                    Output Shape         Param #     Connected to                     \n",
      "==================================================================================================\n",
      "input_1 (InputLayer)            [(None, 100)]        0                                            \n",
      "__________________________________________________________________________________________________\n",
      "input_2 (InputLayer)            [(None, 100)]        0                                            \n",
      "__________________________________________________________________________________________________\n",
      "input_3 (InputLayer)            [(None, 100)]        0                                            \n",
      "__________________________________________________________________________________________________\n",
      "dense (Dense)                   (None, 64)           6464        input_1[0][0]                    \n",
      "__________________________________________________________________________________________________\n",
      "dense_1 (Dense)                 (None, 64)           6464        input_2[0][0]                    \n",
      "__________________________________________________________________________________________________\n",
      "dense_2 (Dense)                 (None, 64)           6464        input_3[0][0]                    \n",
      "__________________________________________________________________________________________________\n",
      "concatenate (Concatenate)       (None, 192)          0           dense[0][0]                      \n",
      "                                                                 dense_1[0][0]                    \n",
      "                                                                 dense_2[0][0]                    \n",
      "__________________________________________________________________________________________________\n",
      "dense_3 (Dense)                 (None, 16)           3088        concatenate[0][0]                \n",
      "__________________________________________________________________________________________________\n",
      "dense_4 (Dense)                 (None, 9)            153         dense_3[0][0]                    \n",
      "==================================================================================================\n",
      "Total params: 22,633\n",
      "Trainable params: 22,633\n",
      "Non-trainable params: 0\n",
      "__________________________________________________________________________________________________\n",
      "None\n"
     ]
    }
   ],
   "source": [
    "model.compile(optimizer='adam', loss='categorical_crossentropy', metrics=['accuracy'])\n",
    "print(model.summary())"
   ]
  },
  {
   "cell_type": "code",
   "execution_count": 1,
   "metadata": {},
   "outputs": [
    {
     "ename": "NameError",
     "evalue": "name 'keras' is not defined",
     "output_type": "error",
     "traceback": [
      "\u001b[0;31m---------------------------------------------------------------------------\u001b[0m",
      "\u001b[0;31mNameError\u001b[0m                                 Traceback (most recent call last)",
      "\u001b[0;32m/tmp/ipykernel_34694/2687848951.py\u001b[0m in \u001b[0;36m<module>\u001b[0;34m\u001b[0m\n\u001b[0;32m----> 1\u001b[0;31m \u001b[0mkeras\u001b[0m\u001b[0;34m.\u001b[0m\u001b[0mutils\u001b[0m\u001b[0;34m.\u001b[0m\u001b[0mplot_model\u001b[0m\u001b[0;34m(\u001b[0m\u001b[0mmodel\u001b[0m\u001b[0;34m,\u001b[0m \u001b[0;34m\"CNN_W2V_Separate_datas_sgv.png\"\u001b[0m\u001b[0;34m,\u001b[0m \u001b[0mshow_shapes\u001b[0m\u001b[0;34m=\u001b[0m \u001b[0;32mTrue\u001b[0m\u001b[0;34m)\u001b[0m\u001b[0;34m\u001b[0m\u001b[0;34m\u001b[0m\u001b[0m\n\u001b[0m",
      "\u001b[0;31mNameError\u001b[0m: name 'keras' is not defined"
     ]
    }
   ],
   "source": [
    "keras.utils.plot_model(model, \"CNN_W2V_Separate_datas_sgv.png\", show_shapes= True)"
   ]
  },
  {
   "cell_type": "code",
   "execution_count": 16,
   "metadata": {},
   "outputs": [
    {
     "name": "stderr",
     "output_type": "stream",
     "text": [
      "2021-10-23 14:33:41.660988: I tensorflow/compiler/mlir/mlir_graph_optimization_pass.cc:116] None of the MLIR optimization passes are enabled (registered 2)\n",
      "2021-10-23 14:33:41.670944: I tensorflow/core/platform/profile_utils/cpu_utils.cc:112] CPU Frequency: 2803195000 Hz\n"
     ]
    }
   ],
   "source": [
    "history = model.fit([X_train_gene, X_train_var, X_train_sum], Y_train,\n",
    "                     epochs=50,\n",
    "                     verbose=False,\n",
    "                     validation_split = 0.2,\n",
    "                     batch_size= 32, \n",
    "                     callbacks = tf.keras.callbacks.EarlyStopping(monitor='val_accuracy', patience=3)\n",
    ")"
   ]
  },
  {
   "cell_type": "code",
   "execution_count": 17,
   "metadata": {},
   "outputs": [
    {
     "name": "stdout",
     "output_type": "stream",
     "text": [
      "Training Accuracy: >62.241\n"
     ]
    }
   ],
   "source": [
    "loss, accuracy = model.evaluate([X_train_gene, X_train_var, X_train_sum], Y_train, verbose=False)\n",
    "print(\"Training Accuracy: %.3f %%\"  % (accuracy * 100.0))"
   ]
  },
  {
   "cell_type": "code",
   "execution_count": 18,
   "metadata": {
    "colab": {
     "base_uri": "https://localhost:8080/"
    },
    "id": "dk9bDckmMJtE",
    "outputId": "3ef56eec-67da-4335-bdd6-60b6ca1b1906"
   },
   "outputs": [
    {
     "name": "stdout",
     "output_type": "stream",
     "text": [
      "Testing Accuracy:  >55.807\n"
     ]
    }
   ],
   "source": [
    "loss, accuracy = model.evaluate([X_test_gene, X_test_var, X_test_sum], Y_test, verbose=False)\n",
    "\n",
    "print(\"Testing Accuracy:  %.3f %%\"  % (accuracy * 100.0))"
   ]
  },
  {
   "cell_type": "code",
   "execution_count": 19,
   "metadata": {},
   "outputs": [
    {
     "name": "stderr",
     "output_type": "stream",
     "text": [
      "2021-10-23 14:34:11.027250: W tensorflow/python/util/util.cc:348] Sets are not currently considered sequences, but this may change in the future, so consider avoiding using them.\n"
     ]
    },
    {
     "name": "stdout",
     "output_type": "stream",
     "text": [
      "INFO:tensorflow:Assets written to: ../results/CNN_W2V_Separate_datas_sgv_68_8.model/assets\n"
     ]
    }
   ],
   "source": [
    "model.save(\"../results/CNN_W2V_Separate_datas_sgv.model\") "
   ]
  }
 ],
 "metadata": {
  "interpreter": {
   "hash": "f2d9a70bbdc9f4b8a74eb04eacab7009feb0e79c185bd148a31a4cbc8ca120b3"
  },
  "kernelspec": {
   "display_name": "Python 3.8.11 64-bit ('RAPMC': conda)",
   "name": "python3"
  },
  "language_info": {
   "codemirror_mode": {
    "name": "ipython",
    "version": 3
   },
   "file_extension": ".py",
   "mimetype": "text/x-python",
   "name": "python",
   "nbconvert_exporter": "python",
   "pygments_lexer": "ipython3",
   "version": "3.8.11"
  },
  "orig_nbformat": 4
 },
 "nbformat": 4,
 "nbformat_minor": 2
}
