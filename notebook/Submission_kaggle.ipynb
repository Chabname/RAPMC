{
 "cells": [
  {
   "cell_type": "code",
   "execution_count": 13,
   "metadata": {},
   "outputs": [
    {
     "name": "stdout",
     "output_type": "stream",
     "text": [
      "Requirement already satisfied: tensorflow_hub in /home/ragou/.local/lib/python3.8/site-packages (0.12.0)\r\n",
      "Requirement already satisfied: numpy>=1.12.0 in /home/ragou/.local/lib/python3.8/site-packages (from tensorflow_hub) (1.19.5)\r\n",
      "Requirement already satisfied: protobuf>=3.8.0 in /home/ragou/.local/lib/python3.8/site-packages (from tensorflow_hub) (3.18.1)\r\n"
     ]
    }
   ],
   "source": [
    "import numpy as np\n",
    "import pandas as pd\n",
    "import seaborn as sns\n",
    "import matplotlib.pyplot as plt\n",
    "import nltk\n",
    "import tensorflow as tf\n",
    "from tensorflow import keras\n",
    "from nltk.corpus import stopwords\n",
    "from keras.preprocessing.text import Tokenizer\n",
    "from keras.preprocessing.sequence import pad_sequences\n",
    "from sklearn.ensemble import RandomForestClassifier\n",
    "from sklearn import model_selection, naive_bayes, svm\n",
    "from sklearn import metrics\n",
    "from sklearn.metrics import accuracy_score\n",
    "from sklearn.decomposition import TruncatedSVD\n",
    "from keras.models import Sequential\n",
    "from keras.layers import Dense, Embedding, LSTM, GlobalMaxPooling1D, Conv1D, Flatten\n",
    "from keras.callbacks import ModelCheckpoint\n",
    "from keras.models import load_model\n",
    "from tensorflow.keras.optimizers import Adam\n",
    "from sklearn.model_selection import train_test_split\n",
    "\n",
    "!pip3 install tensorflow_hub\n",
    "import tensorflow_hub as hub\n",
    "\n",
    "import numpy as np\n",
    "import pandas as pd\n",
    "import seaborn as sns\n",
    "import matplotlib.pyplot as plt\n",
    "from keras import layers\n",
    "import sys\n",
    "import os"
   ]
  },
  {
   "cell_type": "code",
   "execution_count": 14,
   "metadata": {},
   "outputs": [],
   "source": [
    "scriptpath = \"../scripts/\"\n",
    "\n",
    "# Add the directory containing your module to the Python path (wants absolute paths)\n",
    "sys.path.append(os.path.abspath(scriptpath))"
   ]
  },
  {
   "cell_type": "code",
   "execution_count": 17,
   "metadata": {},
   "outputs": [
    {
     "data": {
      "text/plain": [
       "['/home/ragou/repo/github/RAPMC/notebook',\n",
       " '',\n",
       " '/home/ragou/.local/lib/python3.8/site-packages',\n",
       " '/usr/lib/python38.zip',\n",
       " '/usr/lib/python3.8',\n",
       " '/usr/lib/python3.8/lib-dynload',\n",
       " '/usr/local/lib/python3.8/dist-packages',\n",
       " '/usr/lib/python3/dist-packages',\n",
       " '/usr/lib/python3.8/dist-packages',\n",
       " '/home/ragou/.local/lib/python3.8/site-packages/IPython/extensions',\n",
       " '/home/ragou/.ipython',\n",
       " '/home/ragou/repo/github/RAPMC/scripts']"
      ]
     },
     "execution_count": 17,
     "metadata": {},
     "output_type": "execute_result"
    }
   ],
   "source": [
    "sys.path"
   ]
  },
  {
   "cell_type": "code",
   "execution_count": 22,
   "metadata": {},
   "outputs": [],
   "source": [
    "!chmod 775 ../scripts/article_cleaner.py\n",
    "import article_cleaner"
   ]
  },
  {
   "cell_type": "markdown",
   "metadata": {},
   "source": [
    "# Load test data"
   ]
  },
  {
   "cell_type": "code",
   "execution_count": 24,
   "metadata": {},
   "outputs": [],
   "source": [
    "test_variant = \"../../data/test_variants/test_variants\"\n",
    "test_text = \"../../data/test_text/test_text\""
   ]
  },
  {
   "cell_type": "code",
   "execution_count": 31,
   "metadata": {},
   "outputs": [],
   "source": [
    "dtf_text = pd.read_csv(test_text, sep = \"\\|\\|\")"
   ]
  },
  {
   "cell_type": "code",
   "execution_count": 33,
   "metadata": {},
   "outputs": [],
   "source": [
    "dtf_text.columns = [\"Text\"]\n",
    "dtf_text.index.name = \"ID\""
   ]
  },
  {
   "cell_type": "code",
   "execution_count": 34,
   "metadata": {},
   "outputs": [
    {
     "data": {
      "text/html": [
       "<div>\n",
       "<style scoped>\n",
       "    .dataframe tbody tr th:only-of-type {\n",
       "        vertical-align: middle;\n",
       "    }\n",
       "\n",
       "    .dataframe tbody tr th {\n",
       "        vertical-align: top;\n",
       "    }\n",
       "\n",
       "    .dataframe thead th {\n",
       "        text-align: right;\n",
       "    }\n",
       "</style>\n",
       "<table border=\"1\" class=\"dataframe\">\n",
       "  <thead>\n",
       "    <tr style=\"text-align: right;\">\n",
       "      <th></th>\n",
       "      <th>Text</th>\n",
       "    </tr>\n",
       "    <tr>\n",
       "      <th>ID</th>\n",
       "      <th></th>\n",
       "    </tr>\n",
       "  </thead>\n",
       "  <tbody>\n",
       "    <tr>\n",
       "      <th>0</th>\n",
       "      <td>2. This mutation resulted in a myeloproliferat...</td>\n",
       "    </tr>\n",
       "    <tr>\n",
       "      <th>1</th>\n",
       "      <td>Abstract The Large Tumor Suppressor 1 (LATS1)...</td>\n",
       "    </tr>\n",
       "    <tr>\n",
       "      <th>2</th>\n",
       "      <td>Vascular endothelial growth factor receptor (V...</td>\n",
       "    </tr>\n",
       "    <tr>\n",
       "      <th>3</th>\n",
       "      <td>Inflammatory myofibroblastic tumor (IMT) is a ...</td>\n",
       "    </tr>\n",
       "    <tr>\n",
       "      <th>4</th>\n",
       "      <td>Abstract Retinoblastoma is a pediatric retina...</td>\n",
       "    </tr>\n",
       "    <tr>\n",
       "      <th>...</th>\n",
       "      <td>...</td>\n",
       "    </tr>\n",
       "    <tr>\n",
       "      <th>5663</th>\n",
       "      <td>The realization in the late 1970s that RAS har...</td>\n",
       "    </tr>\n",
       "    <tr>\n",
       "      <th>5664</th>\n",
       "      <td>Hemizygous deletions are common molecular abno...</td>\n",
       "    </tr>\n",
       "    <tr>\n",
       "      <th>5665</th>\n",
       "      <td>All most R267W of has with to SMARTpool invest...</td>\n",
       "    </tr>\n",
       "    <tr>\n",
       "      <th>5666</th>\n",
       "      <td>Abstract Blood samples from 125 unrelated fami...</td>\n",
       "    </tr>\n",
       "    <tr>\n",
       "      <th>5667</th>\n",
       "      <td>Loss of DNA mismatch repair (MMR) in humans, m...</td>\n",
       "    </tr>\n",
       "  </tbody>\n",
       "</table>\n",
       "<p>5668 rows × 1 columns</p>\n",
       "</div>"
      ],
      "text/plain": [
       "                                                   Text\n",
       "ID                                                     \n",
       "0     2. This mutation resulted in a myeloproliferat...\n",
       "1      Abstract The Large Tumor Suppressor 1 (LATS1)...\n",
       "2     Vascular endothelial growth factor receptor (V...\n",
       "3     Inflammatory myofibroblastic tumor (IMT) is a ...\n",
       "4      Abstract Retinoblastoma is a pediatric retina...\n",
       "...                                                 ...\n",
       "5663  The realization in the late 1970s that RAS har...\n",
       "5664  Hemizygous deletions are common molecular abno...\n",
       "5665  All most R267W of has with to SMARTpool invest...\n",
       "5666  Abstract Blood samples from 125 unrelated fami...\n",
       "5667  Loss of DNA mismatch repair (MMR) in humans, m...\n",
       "\n",
       "[5668 rows x 1 columns]"
      ]
     },
     "execution_count": 34,
     "metadata": {},
     "output_type": "execute_result"
    }
   ],
   "source": [
    "dtf_text"
   ]
  },
  {
   "cell_type": "code",
   "execution_count": 37,
   "metadata": {},
   "outputs": [],
   "source": [
    "dtf_var = pd.read_csv(test_variant)"
   ]
  },
  {
   "cell_type": "code",
   "execution_count": 38,
   "metadata": {},
   "outputs": [
    {
     "data": {
      "text/html": [
       "<div>\n",
       "<style scoped>\n",
       "    .dataframe tbody tr th:only-of-type {\n",
       "        vertical-align: middle;\n",
       "    }\n",
       "\n",
       "    .dataframe tbody tr th {\n",
       "        vertical-align: top;\n",
       "    }\n",
       "\n",
       "    .dataframe thead th {\n",
       "        text-align: right;\n",
       "    }\n",
       "</style>\n",
       "<table border=\"1\" class=\"dataframe\">\n",
       "  <thead>\n",
       "    <tr style=\"text-align: right;\">\n",
       "      <th></th>\n",
       "      <th>ID</th>\n",
       "      <th>Gene</th>\n",
       "      <th>Variation</th>\n",
       "    </tr>\n",
       "  </thead>\n",
       "  <tbody>\n",
       "    <tr>\n",
       "      <th>0</th>\n",
       "      <td>0</td>\n",
       "      <td>ACSL4</td>\n",
       "      <td>R570S</td>\n",
       "    </tr>\n",
       "    <tr>\n",
       "      <th>1</th>\n",
       "      <td>1</td>\n",
       "      <td>NAGLU</td>\n",
       "      <td>P521L</td>\n",
       "    </tr>\n",
       "    <tr>\n",
       "      <th>2</th>\n",
       "      <td>2</td>\n",
       "      <td>PAH</td>\n",
       "      <td>L333F</td>\n",
       "    </tr>\n",
       "    <tr>\n",
       "      <th>3</th>\n",
       "      <td>3</td>\n",
       "      <td>ING1</td>\n",
       "      <td>A148D</td>\n",
       "    </tr>\n",
       "    <tr>\n",
       "      <th>4</th>\n",
       "      <td>4</td>\n",
       "      <td>TMEM216</td>\n",
       "      <td>G77A</td>\n",
       "    </tr>\n",
       "    <tr>\n",
       "      <th>...</th>\n",
       "      <td>...</td>\n",
       "      <td>...</td>\n",
       "      <td>...</td>\n",
       "    </tr>\n",
       "    <tr>\n",
       "      <th>5663</th>\n",
       "      <td>5663</td>\n",
       "      <td>SLC46A1</td>\n",
       "      <td>R113S</td>\n",
       "    </tr>\n",
       "    <tr>\n",
       "      <th>5664</th>\n",
       "      <td>5664</td>\n",
       "      <td>FOXC1</td>\n",
       "      <td>L130F</td>\n",
       "    </tr>\n",
       "    <tr>\n",
       "      <th>5665</th>\n",
       "      <td>5665</td>\n",
       "      <td>GSS</td>\n",
       "      <td>R267W</td>\n",
       "    </tr>\n",
       "    <tr>\n",
       "      <th>5666</th>\n",
       "      <td>5666</td>\n",
       "      <td>CTSK</td>\n",
       "      <td>G79E</td>\n",
       "    </tr>\n",
       "    <tr>\n",
       "      <th>5667</th>\n",
       "      <td>5667</td>\n",
       "      <td>DFNB59</td>\n",
       "      <td>T54I</td>\n",
       "    </tr>\n",
       "  </tbody>\n",
       "</table>\n",
       "<p>5668 rows × 3 columns</p>\n",
       "</div>"
      ],
      "text/plain": [
       "        ID     Gene Variation\n",
       "0        0    ACSL4     R570S\n",
       "1        1    NAGLU     P521L\n",
       "2        2      PAH     L333F\n",
       "3        3     ING1     A148D\n",
       "4        4  TMEM216      G77A\n",
       "...    ...      ...       ...\n",
       "5663  5663  SLC46A1     R113S\n",
       "5664  5664    FOXC1     L130F\n",
       "5665  5665      GSS     R267W\n",
       "5666  5666     CTSK      G79E\n",
       "5667  5667   DFNB59      T54I\n",
       "\n",
       "[5668 rows x 3 columns]"
      ]
     },
     "execution_count": 38,
     "metadata": {},
     "output_type": "execute_result"
    }
   ],
   "source": [
    "dtf_var"
   ]
  },
  {
   "cell_type": "code",
   "execution_count": 40,
   "metadata": {},
   "outputs": [],
   "source": [
    "dtf_concat = pd.merge(dtf_var, dtf_text, on = \"ID\")"
   ]
  },
  {
   "cell_type": "code",
   "execution_count": 49,
   "metadata": {},
   "outputs": [
    {
     "data": {
      "text/plain": [
       "0         ACSL4\n",
       "1         NAGLU\n",
       "2           PAH\n",
       "3          ING1\n",
       "4       TMEM216\n",
       "         ...   \n",
       "5663    SLC46A1\n",
       "5664      FOXC1\n",
       "5665        GSS\n",
       "5666       CTSK\n",
       "5667     DFNB59\n",
       "Name: Gene, Length: 5668, dtype: object"
      ]
     },
     "execution_count": 49,
     "metadata": {},
     "output_type": "execute_result"
    }
   ],
   "source": [
    "dtf_concat[\"Gene\"]"
   ]
  },
  {
   "cell_type": "code",
   "execution_count": null,
   "metadata": {},
   "outputs": [],
   "source": [
    "clean_test = dtf_concat.apply(lambda line : article_cleaner.extract_match(line), axis = 1)"
   ]
  },
  {
   "cell_type": "code",
   "execution_count": null,
   "metadata": {},
   "outputs": [],
   "source": []
  },
  {
   "cell_type": "markdown",
   "metadata": {},
   "source": [
    "# Load model CNN"
   ]
  },
  {
   "cell_type": "code",
   "execution_count": 2,
   "metadata": {},
   "outputs": [],
   "source": [
    "model = keras.models.load_model('model_cnn.h5')"
   ]
  },
  {
   "cell_type": "code",
   "execution_count": 6,
   "metadata": {},
   "outputs": [
    {
     "data": {
      "text/plain": [
       "[<tf.Variable 'embedding_28/embeddings:0' shape=(2000, 128) dtype=float32, numpy=\n",
       " array([[-0.01194105, -0.00893595, -0.09128901, ..., -0.01825847,\n",
       "          0.00260322, -0.0536463 ],\n",
       "        [ 0.14629889,  0.0564375 , -0.11996924, ...,  0.0667411 ,\n",
       "          0.11231963, -0.11683479],\n",
       "        [ 0.04504862,  0.1216522 ,  0.08654026, ...,  0.07509339,\n",
       "          0.0276182 , -0.08756479],\n",
       "        ...,\n",
       "        [ 0.07698343, -0.00126461, -0.03485166, ..., -0.09692236,\n",
       "         -0.01976166, -0.05523314],\n",
       "        [-0.03065643,  0.04007576,  0.00551316, ..., -0.02421315,\n",
       "         -0.09088104,  0.05043201],\n",
       "        [ 0.04888308, -0.00193551, -0.00225104, ...,  0.00101527,\n",
       "          0.01284167,  0.03524701]], dtype=float32)>,\n",
       " <tf.Variable 'conv1d_48/kernel:0' shape=(5, 128, 124) dtype=float32, numpy=\n",
       " array([[[ 0.11764958,  0.05362569, -0.04365219, ..., -0.07531936,\n",
       "          -0.05758185, -0.01075119],\n",
       "         [ 0.06658083, -0.06791958,  0.08262946, ..., -0.14793019,\n",
       "          -0.04753087, -0.03460668],\n",
       "         [-0.24766606, -0.10802988,  0.12870458, ...,  0.06410675,\n",
       "          -0.03984247, -0.00085702],\n",
       "         ...,\n",
       "         [-0.06773912,  0.02406337,  0.14756526, ...,  0.1776081 ,\n",
       "           0.05910662,  0.11513365],\n",
       "         [ 0.03768401, -0.09344408, -0.02613532, ..., -0.10181916,\n",
       "          -0.06430132,  0.08090124],\n",
       "         [-0.13578379,  0.00197392, -0.01632647, ..., -0.08255305,\n",
       "          -0.04078181,  0.07939463]],\n",
       " \n",
       "        [[-0.0308067 ,  0.12332518, -0.04439221, ..., -0.05120596,\n",
       "           0.04024049,  0.02091002],\n",
       "         [-0.03449266, -0.08530407,  0.06658575, ...,  0.0579097 ,\n",
       "           0.09442551, -0.00621473],\n",
       "         [-0.09542459, -0.01874067, -0.01100062, ..., -0.05268487,\n",
       "           0.11047876,  0.13614543],\n",
       "         ...,\n",
       "         [-0.07350111,  0.08851837,  0.0923291 , ..., -0.00811658,\n",
       "          -0.00212411,  0.13124597],\n",
       "         [-0.05389918, -0.01766375,  0.03125229, ...,  0.0776806 ,\n",
       "           0.12239552,  0.03667324],\n",
       "         [-0.0188939 ,  0.10140544, -0.08703945, ..., -0.05481689,\n",
       "          -0.03423824,  0.17825988]],\n",
       " \n",
       "        [[-0.00114726, -0.01019987, -0.03303483, ..., -0.09994113,\n",
       "          -0.05269816,  0.01282664],\n",
       "         [ 0.0590631 , -0.15760508,  0.10469836, ...,  0.13906822,\n",
       "          -0.13998815,  0.02955852],\n",
       "         [-0.08860266, -0.10238574, -0.04126724, ..., -0.02628683,\n",
       "          -0.11786568,  0.07357865],\n",
       "         ...,\n",
       "         [ 0.07224847,  0.02191421, -0.07205083, ..., -0.0366316 ,\n",
       "          -0.12285613,  0.20135373],\n",
       "         [-0.02869495, -0.04583949, -0.06295382, ...,  0.04094144,\n",
       "          -0.04595893,  0.06581482],\n",
       "         [ 0.04155728, -0.01675334, -0.06103227, ...,  0.01437874,\n",
       "          -0.01016446, -0.05768102]],\n",
       " \n",
       "        [[ 0.06958714,  0.0099154 ,  0.06665587, ...,  0.08331954,\n",
       "           0.10567497,  0.00606901],\n",
       "         [ 0.10368992, -0.00044745, -0.12881275, ...,  0.00979512,\n",
       "          -0.06339379,  0.14803858],\n",
       "         [-0.12024059, -0.03158968,  0.07185199, ...,  0.12797303,\n",
       "           0.08123518, -0.17007244],\n",
       "         ...,\n",
       "         [ 0.06654903,  0.03275044,  0.07072732, ...,  0.18970056,\n",
       "          -0.11167831,  0.0795946 ],\n",
       "         [ 0.08257397,  0.10751917, -0.00264215, ...,  0.07895562,\n",
       "          -0.04377621,  0.09208132],\n",
       "         [-0.06338696,  0.01948878, -0.03328753, ...,  0.21155764,\n",
       "           0.03093242, -0.0406891 ]],\n",
       " \n",
       "        [[ 0.07415846, -0.07733115,  0.02118732, ..., -0.00389032,\n",
       "           0.03391984,  0.05757012],\n",
       "         [ 0.14878821,  0.03060836,  0.09033903, ...,  0.01561123,\n",
       "           0.04285858,  0.08469348],\n",
       "         [ 0.01512083, -0.00221304,  0.05068104, ..., -0.05872467,\n",
       "          -0.07849184,  0.09046629],\n",
       "         ...,\n",
       "         [-0.16080104,  0.0842594 , -0.02777753, ...,  0.01848926,\n",
       "          -0.06339578,  0.12051219],\n",
       "         [ 0.05375348,  0.04656576, -0.05081727, ..., -0.00534637,\n",
       "           0.02853969, -0.0363543 ],\n",
       "         [-0.09210414, -0.05260992,  0.0256589 , ...,  0.10032766,\n",
       "          -0.02807468, -0.0568777 ]]], dtype=float32)>,\n",
       " <tf.Variable 'conv1d_48/bias:0' shape=(124,) dtype=float32, numpy=\n",
       " array([ 0.00332266, -0.02279295, -0.02026433,  0.0156566 ,  0.02682859,\n",
       "        -0.06206938, -0.01209941,  0.00722294,  0.01286844, -0.0228082 ,\n",
       "        -0.00101376,  0.03703186,  0.00191378,  0.02231981,  0.03911907,\n",
       "        -0.00571631,  0.00151417,  0.08991726,  0.00369696,  0.0206177 ,\n",
       "         0.00589433, -0.00206309,  0.00700176, -0.00255124,  0.02081466,\n",
       "        -0.01701581, -0.01244533,  0.04982632,  0.04702822,  0.00378144,\n",
       "         0.02346867, -0.00908935, -0.04082968,  0.03046583,  0.02789616,\n",
       "         0.04561996,  0.00664296, -0.01542454, -0.00107269,  0.03059559,\n",
       "         0.019542  ,  0.02079077, -0.0165563 , -0.01948185, -0.02463645,\n",
       "        -0.04589384, -0.00333191, -0.02580319, -0.0042459 , -0.00326847,\n",
       "         0.00806998, -0.02306507, -0.00213371,  0.04717942,  0.00723541,\n",
       "         0.02686629, -0.0303769 ,  0.0298674 ,  0.01080543,  0.01592412,\n",
       "         0.03330727,  0.04108791, -0.02178691, -0.02241793, -0.0465123 ,\n",
       "         0.00763249, -0.01391785,  0.00492879,  0.03651311, -0.0384924 ,\n",
       "         0.02158231,  0.02447886,  0.05426583, -0.0356873 ,  0.04669213,\n",
       "         0.05800485,  0.00698821, -0.01821071, -0.01358367,  0.05037345,\n",
       "         0.01838283,  0.01309244,  0.04155366, -0.01324251,  0.0455997 ,\n",
       "         0.00926912, -0.01300218,  0.03372695,  0.0116902 ,  0.03713231,\n",
       "        -0.01362375, -0.01262165, -0.02785392,  0.01530486, -0.02906372,\n",
       "         0.01657318,  0.01348882,  0.01145886,  0.02354875,  0.05633918,\n",
       "         0.03357016,  0.01891958, -0.00837208,  0.03689358,  0.01498209,\n",
       "        -0.02473655,  0.01146487, -0.06088655,  0.03911576,  0.02954764,\n",
       "         0.02135025, -0.0290858 ,  0.00894359,  0.0516087 ,  0.04856151,\n",
       "         0.04883793,  0.02358892, -0.00791908,  0.0415534 , -0.04196282,\n",
       "        -0.06827923, -0.00246205,  0.01359136,  0.03702895], dtype=float32)>,\n",
       " <tf.Variable 'dense_38/kernel:0' shape=(124, 20) dtype=float32, numpy=\n",
       " array([[ 0.02398115,  0.04608074, -0.11478925, ...,  0.13154083,\n",
       "          0.2315696 ,  0.16612914],\n",
       "        [ 0.1684746 , -0.03942791, -0.3067967 , ...,  0.14958477,\n",
       "         -0.00052321, -0.13691776],\n",
       "        [-0.03840252,  0.26251903, -0.14560582, ..., -0.04934205,\n",
       "          0.2468472 , -0.1820836 ],\n",
       "        ...,\n",
       "        [-0.15831669,  0.11389368, -0.3489426 , ..., -0.17436473,\n",
       "          0.21304251, -0.01731302],\n",
       "        [ 0.1572375 , -0.02639417,  0.22590227, ...,  0.07700115,\n",
       "         -0.04894155, -0.0609794 ],\n",
       "        [ 0.06304972,  0.14834565,  0.03833017, ..., -0.00109018,\n",
       "         -0.15897067,  0.09217008]], dtype=float32)>,\n",
       " <tf.Variable 'dense_38/bias:0' shape=(20,) dtype=float32, numpy=\n",
       " array([ 0.02996337,  0.06066997,  0.03356178,  0.02720146, -0.00319259,\n",
       "         0.02245588,  0.07489032,  0.0212784 ,  0.00729763,  0.05927121,\n",
       "         0.03052066, -0.01690348,  0.02016754,  0.03689498,  0.01284446,\n",
       "         0.        ,  0.02462016,  0.        ,  0.00787162, -0.00496192],\n",
       "       dtype=float32)>,\n",
       " <tf.Variable 'dense_39/kernel:0' shape=(20, 9) dtype=float32, numpy=\n",
       " array([[ 0.44168934,  0.2931651 ,  0.4503177 , -0.43372956,  0.24990949,\n",
       "          0.31538388, -0.5921552 , -0.05078368,  0.00536905],\n",
       "        [-0.19542572,  0.353007  , -0.34644318, -0.7405761 , -0.29070333,\n",
       "         -0.44901198,  0.16757204,  0.00308291,  0.2870384 ],\n",
       "        [ 0.47914803, -0.81775194, -0.07772047,  0.40926775, -0.15378818,\n",
       "          0.23202142, -0.6433533 ,  0.00336327,  0.01678271],\n",
       "        [-0.02478398, -0.25447142,  0.47536513, -0.12904026, -0.12853684,\n",
       "         -0.19888748, -0.23720028,  0.12641038, -0.20688808],\n",
       "        [-0.67836595,  0.65479326,  0.2583892 ,  0.72180796, -0.78189   ,\n",
       "          0.08583534, -0.42807382, -0.34689996, -0.07967758],\n",
       "        [ 0.45705643,  0.01750804,  0.5248778 ,  0.31625083,  0.49279845,\n",
       "         -0.20664078, -0.23550393, -0.46177787, -0.23183373],\n",
       "        [-0.05573452, -0.5587894 , -0.48712528, -0.20048954, -0.07352428,\n",
       "          0.24955535, -0.06881363, -0.37848306,  0.5166549 ],\n",
       "        [ 0.44611838,  0.3396822 , -0.4325782 ,  0.37919655, -0.31490567,\n",
       "         -0.29549125,  0.2676828 , -0.43906382,  0.11315677],\n",
       "        [-0.11564507, -0.49922416, -0.33146435,  0.3900847 , -0.23817852,\n",
       "          0.17022885, -0.2501194 , -0.5303033 , -0.2930206 ],\n",
       "        [-0.15017349, -0.09309103,  0.19693838, -0.38249332,  0.3653627 ,\n",
       "          0.26748395,  0.19421718, -0.13404496, -0.2834604 ],\n",
       "        [ 0.1587176 , -0.5747783 , -0.48299602, -0.0347732 ,  0.33318627,\n",
       "          0.60500103, -0.79174155,  0.41932806,  0.19693485],\n",
       "        [-0.30643135, -0.20162348, -0.1600779 , -0.16382608, -0.09361114,\n",
       "          0.25335518, -0.18834235, -0.44604874,  0.02529595],\n",
       "        [ 0.01825782, -0.03718074,  0.1882257 ,  0.61831504,  0.15230078,\n",
       "          0.3736868 , -0.70444363, -0.07986373, -0.6186556 ],\n",
       "        [-0.02207004,  0.2547904 ,  0.19952065, -0.2096055 ,  0.26119208,\n",
       "         -0.54241616, -0.09932755,  0.0208703 , -0.5708147 ],\n",
       "        [-0.14525016, -0.47260427, -0.17823087,  0.3761464 , -0.6166171 ,\n",
       "          0.35682768,  0.5027321 ,  0.3246474 ,  0.28101096],\n",
       "        [ 0.02804327, -0.00127468,  0.45452452, -0.22927822, -0.03860804,\n",
       "         -0.20793393, -0.01156184, -0.04051724, -0.3720377 ],\n",
       "        [-0.37271935,  0.22096029,  0.01118154, -0.27303442, -0.2774503 ,\n",
       "          0.24276184, -0.33358064,  0.149097  , -0.13296519],\n",
       "        [ 0.2687611 ,  0.44952834, -0.36379075, -0.06676853, -0.24577352,\n",
       "          0.14624041, -0.12671554, -0.01977223,  0.1526444 ],\n",
       "        [-0.34401187, -0.08338512,  0.26510346,  0.32149094,  0.39178208,\n",
       "          0.13167389,  0.6047296 ,  0.34217197, -0.00409736],\n",
       "        [ 0.36113295, -0.20838109, -0.06706379, -0.32189003, -0.36527014,\n",
       "         -0.17809173,  0.39709234,  0.17234041, -0.21739581]],\n",
       "       dtype=float32)>,\n",
       " <tf.Variable 'dense_39/bias:0' shape=(9,) dtype=float32, numpy=\n",
       " array([ 0.0601391 , -0.01465575,  0.01284799, -0.04676875, -0.0386809 ,\n",
       "        -0.05930189,  0.091401  , -0.01764572, -0.07317425], dtype=float32)>]"
      ]
     },
     "execution_count": 6,
     "metadata": {},
     "output_type": "execute_result"
    }
   ],
   "source": [
    "model.weights"
   ]
  },
  {
   "cell_type": "code",
   "execution_count": null,
   "metadata": {},
   "outputs": [],
   "source": []
  },
  {
   "cell_type": "code",
   "execution_count": null,
   "metadata": {},
   "outputs": [],
   "source": []
  },
  {
   "cell_type": "code",
   "execution_count": null,
   "metadata": {},
   "outputs": [],
   "source": []
  },
  {
   "cell_type": "code",
   "execution_count": null,
   "metadata": {},
   "outputs": [],
   "source": []
  },
  {
   "cell_type": "code",
   "execution_count": null,
   "metadata": {},
   "outputs": [],
   "source": []
  },
  {
   "cell_type": "code",
   "execution_count": null,
   "metadata": {},
   "outputs": [],
   "source": []
  },
  {
   "cell_type": "code",
   "execution_count": null,
   "metadata": {},
   "outputs": [],
   "source": []
  }
 ],
 "metadata": {
  "kernelspec": {
   "display_name": "Python 3",
   "language": "python",
   "name": "python3"
  },
  "language_info": {
   "codemirror_mode": {
    "name": "ipython",
    "version": 3
   },
   "file_extension": ".py",
   "mimetype": "text/x-python",
   "name": "python",
   "nbconvert_exporter": "python",
   "pygments_lexer": "ipython3",
   "version": "3.8.5"
  }
 },
 "nbformat": 4,
 "nbformat_minor": 4
}
