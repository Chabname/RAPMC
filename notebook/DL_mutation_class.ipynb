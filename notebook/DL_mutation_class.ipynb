{
  "nbformat": 4,
  "nbformat_minor": 0,
  "metadata": {
    "colab": {
      "name": "DL_mutation_class.ipynb",
      "provenance": []
    },
    "kernelspec": {
      "name": "python3",
      "display_name": "Python 3"
    },
    "language_info": {
      "name": "python"
    }
  },
  "cells": [
    {
      "cell_type": "code",
      "metadata": {
        "id": "VBFTH98iVs9O"
      },
      "source": [
        "import numpy as np\n",
        "import pandas as pd\n",
        "import seaborn as sns\n",
        "import matplotlib.pyplot as plt\n",
        "import nltk\n",
        "import tensorflow as tf\n",
        "from tensorflow import keras\n",
        "from nltk.corpus import stopwords\n",
        "from sklearn.feature_extraction.text import CountVectorizer\n",
        "from sklearn.decomposition import TruncatedSVD\n",
        "from keras.preprocessing.text import Tokenizer\n",
        "from keras.preprocessing.sequence import pad_sequences\n",
        "from keras.models import Sequential\n",
        "from keras.layers import Dense, Embedding, LSTM\n",
        "from keras.callbacks import ModelCheckpoint\n",
        "from keras.models import load_model\n",
        "from tensorflow.keras.optimizers import Adam\n",
        "from sklearn.model_selection import train_test_split\n",
        "#import re\n",
        "#from collections import Counter"
      ],
      "execution_count": 38,
      "outputs": []
    },
    {
      "cell_type": "code",
      "metadata": {
        "colab": {
          "base_uri": "https://localhost:8080/"
        },
        "id": "Up1ymQSW7EHY",
        "outputId": "832f5ad6-7547-4061-9ecb-aed83e1c9d39"
      },
      "source": [
        "from google.colab import drive \n",
        "\n",
        "drive.mount('/content/gdrive')"
      ],
      "execution_count": 2,
      "outputs": [
        {
          "output_type": "stream",
          "name": "stdout",
          "text": [
            "Mounted at /content/gdrive\n"
          ]
        }
      ]
    },
    {
      "cell_type": "markdown",
      "metadata": {
        "id": "lcepwj8S7pJW"
      },
      "source": [
        "# Training data \n"
      ]
    },
    {
      "cell_type": "markdown",
      "metadata": {
        "id": "tn6r9pzvFRUa"
      },
      "source": [
        "## Train variants "
      ]
    },
    {
      "cell_type": "code",
      "metadata": {
        "colab": {
          "base_uri": "https://localhost:8080/",
          "height": 258
        },
        "id": "30CXBcGT7sdr",
        "outputId": "a5d0f20c-f284-4427-9b0b-a491675dacf1"
      },
      "source": [
        "train_variants = pd.read_csv(\"/content/gdrive/MyDrive/Kaggle/msk-redefining-cancer-treatment/training_variants\")\n",
        "print('Number of data points : ', train_variants.shape[0])\n",
        "print('Number of features : ', train_variants.shape[1])\n",
        "print('Features : ', train_variants.columns.values)\n",
        "train_variants.head()\n"
      ],
      "execution_count": 3,
      "outputs": [
        {
          "output_type": "stream",
          "name": "stdout",
          "text": [
            "Number of data points :  3321\n",
            "Number of features :  4\n",
            "Features :  ['ID' 'Gene' 'Variation' 'Class']\n"
          ]
        },
        {
          "output_type": "execute_result",
          "data": {
            "text/html": [
              "<div>\n",
              "<style scoped>\n",
              "    .dataframe tbody tr th:only-of-type {\n",
              "        vertical-align: middle;\n",
              "    }\n",
              "\n",
              "    .dataframe tbody tr th {\n",
              "        vertical-align: top;\n",
              "    }\n",
              "\n",
              "    .dataframe thead th {\n",
              "        text-align: right;\n",
              "    }\n",
              "</style>\n",
              "<table border=\"1\" class=\"dataframe\">\n",
              "  <thead>\n",
              "    <tr style=\"text-align: right;\">\n",
              "      <th></th>\n",
              "      <th>ID</th>\n",
              "      <th>Gene</th>\n",
              "      <th>Variation</th>\n",
              "      <th>Class</th>\n",
              "    </tr>\n",
              "  </thead>\n",
              "  <tbody>\n",
              "    <tr>\n",
              "      <th>0</th>\n",
              "      <td>0</td>\n",
              "      <td>FAM58A</td>\n",
              "      <td>Truncating Mutations</td>\n",
              "      <td>1</td>\n",
              "    </tr>\n",
              "    <tr>\n",
              "      <th>1</th>\n",
              "      <td>1</td>\n",
              "      <td>CBL</td>\n",
              "      <td>W802*</td>\n",
              "      <td>2</td>\n",
              "    </tr>\n",
              "    <tr>\n",
              "      <th>2</th>\n",
              "      <td>2</td>\n",
              "      <td>CBL</td>\n",
              "      <td>Q249E</td>\n",
              "      <td>2</td>\n",
              "    </tr>\n",
              "    <tr>\n",
              "      <th>3</th>\n",
              "      <td>3</td>\n",
              "      <td>CBL</td>\n",
              "      <td>N454D</td>\n",
              "      <td>3</td>\n",
              "    </tr>\n",
              "    <tr>\n",
              "      <th>4</th>\n",
              "      <td>4</td>\n",
              "      <td>CBL</td>\n",
              "      <td>L399V</td>\n",
              "      <td>4</td>\n",
              "    </tr>\n",
              "  </tbody>\n",
              "</table>\n",
              "</div>"
            ],
            "text/plain": [
              "   ID    Gene             Variation  Class\n",
              "0   0  FAM58A  Truncating Mutations      1\n",
              "1   1     CBL                 W802*      2\n",
              "2   2     CBL                 Q249E      2\n",
              "3   3     CBL                 N454D      3\n",
              "4   4     CBL                 L399V      4"
            ]
          },
          "metadata": {},
          "execution_count": 3
        }
      ]
    },
    {
      "cell_type": "markdown",
      "metadata": {
        "id": "zc-jcHnj8a9G"
      },
      "source": [
        "training_variants is a comma separated file containing the description of the genetic mutations used for training.\n",
        "* ID : the id of the row used to link the mutation to the clinical evidence\n",
        "* Gene : the gene where this genetic mutation is located\n",
        "* Variation : the aminoacid change for this mutations\n",
        "* Class : 1-9 the class this genetic mutation has been classified on"
      ]
    },
    {
      "cell_type": "code",
      "metadata": {
        "colab": {
          "base_uri": "https://localhost:8080/"
        },
        "id": "T5A0bkHB8glj",
        "outputId": "31535889-ddb9-49b8-aaba-7e4114d31b8e"
      },
      "source": [
        "# Count of Unique Values of Gene\n",
        "train_variants[\"Gene\"].value_counts()"
      ],
      "execution_count": 4,
      "outputs": [
        {
          "output_type": "execute_result",
          "data": {
            "text/plain": [
              "BRCA1     264\n",
              "TP53      163\n",
              "EGFR      141\n",
              "PTEN      126\n",
              "BRCA2     125\n",
              "         ... \n",
              "SHOC2       1\n",
              "MDM4        1\n",
              "EPCAM       1\n",
              "FUBP1       1\n",
              "ARID5B      1\n",
              "Name: Gene, Length: 264, dtype: int64"
            ]
          },
          "metadata": {},
          "execution_count": 4
        }
      ]
    },
    {
      "cell_type": "markdown",
      "metadata": {
        "id": "-IVqC3mG8oUp"
      },
      "source": [
        "We have 264 different genes"
      ]
    },
    {
      "cell_type": "code",
      "metadata": {
        "colab": {
          "base_uri": "https://localhost:8080/"
        },
        "id": "VoNoRuXx8l_I",
        "outputId": "4451bb62-327e-452c-f488-8cad41ffd745"
      },
      "source": [
        "# Count of Unique Values of Variation\n",
        "train_variants[\"Variation\"].value_counts()"
      ],
      "execution_count": 5,
      "outputs": [
        {
          "output_type": "execute_result",
          "data": {
            "text/plain": [
              "Truncating Mutations    93\n",
              "Deletion                74\n",
              "Amplification           71\n",
              "Fusions                 34\n",
              "Overexpression           6\n",
              "                        ..\n",
              "R1699L                   1\n",
              "H123Y                    1\n",
              "L755P                    1\n",
              "K375A                    1\n",
              "E565G                    1\n",
              "Name: Variation, Length: 2996, dtype: int64"
            ]
          },
          "metadata": {},
          "execution_count": 5
        }
      ]
    },
    {
      "cell_type": "markdown",
      "metadata": {
        "id": "3FrIFG5j8ruc"
      },
      "source": [
        "We have 2996 variation "
      ]
    },
    {
      "cell_type": "code",
      "metadata": {
        "colab": {
          "base_uri": "https://localhost:8080/"
        },
        "id": "TPbt27Yn8y_F",
        "outputId": "d9742f97-f9c8-437c-9cd2-6f50d32efed5"
      },
      "source": [
        "#checking number of unique values for 'Gene+Variation' combinations\n",
        "G_V = train_variants.copy()\n",
        "G_V['gene_and_variation']=train_variants['Gene']+' '+train_variants['Variation']\n",
        "G_V.head()\n",
        "G_V['gene_and_variation'].value_counts().head()"
      ],
      "execution_count": 6,
      "outputs": [
        {
          "output_type": "execute_result",
          "data": {
            "text/plain": [
              "TP53 P219S     1\n",
              "VHL E70K       1\n",
              "FGFR2 N549T    1\n",
              "NF1 R1204G     1\n",
              "TP53 P47S      1\n",
              "Name: gene_and_variation, dtype: int64"
            ]
          },
          "metadata": {},
          "execution_count": 6
        }
      ]
    },
    {
      "cell_type": "markdown",
      "metadata": {
        "id": "OnsWgLoc9Ao8"
      },
      "source": [
        "All combinations 'Gene + Variation' in these datasets are unique"
      ]
    },
    {
      "cell_type": "code",
      "metadata": {
        "colab": {
          "base_uri": "https://localhost:8080/"
        },
        "id": "frUdTnSX9ESe",
        "outputId": "91c1834b-a443-40be-9c3d-21b51adb2c6c"
      },
      "source": [
        "train_variants.Class.unique()"
      ],
      "execution_count": 7,
      "outputs": [
        {
          "output_type": "execute_result",
          "data": {
            "text/plain": [
              "array([1, 2, 3, 4, 5, 6, 7, 8, 9])"
            ]
          },
          "metadata": {},
          "execution_count": 7
        }
      ]
    },
    {
      "cell_type": "markdown",
      "metadata": {
        "id": "W7xW7IMq9FZZ"
      },
      "source": [
        "This is descrete data so it is classification problem and since there are multiple descrete output possible so we can call it Multi class classification problem"
      ]
    },
    {
      "cell_type": "code",
      "metadata": {
        "colab": {
          "base_uri": "https://localhost:8080/"
        },
        "id": "Gis2UUav9MG6",
        "outputId": "01534a95-8b14-4ad1-f168-0e8153c18193"
      },
      "source": [
        "# detect missing values \n",
        "train_variants.isnull().sum()"
      ],
      "execution_count": 8,
      "outputs": [
        {
          "output_type": "execute_result",
          "data": {
            "text/plain": [
              "ID           0\n",
              "Gene         0\n",
              "Variation    0\n",
              "Class        0\n",
              "dtype: int64"
            ]
          },
          "metadata": {},
          "execution_count": 8
        }
      ]
    },
    {
      "cell_type": "code",
      "metadata": {
        "id": "dvWOfvT99OTU",
        "colab": {
          "base_uri": "https://localhost:8080/",
          "height": 513
        },
        "outputId": "d82d6019-7e14-42e2-e88a-5d16005dee9e"
      },
      "source": [
        "# plot Distribution of class\n",
        "plt.figure(figsize=(12,8))\n",
        "ax = sns.countplot(x=\"Class\", data=train_variants)\n",
        "plt.ylabel('Frequency'); plt.xlabel('Class')\n",
        "plt.title('Freq. of Classes in Training Variants')\n",
        "plt.show()"
      ],
      "execution_count": 9,
      "outputs": [
        {
          "output_type": "display_data",
          "data": {
            "image/png": "[encoded data removed]",
            "text/plain": [
              "<Figure size 864x576 with 1 Axes>"
            ]
          },
          "metadata": {
            "needs_background": "light"
          }
        }
      ]
    },
    {
      "cell_type": "markdown",
      "metadata": {
        "id": "lhfUcWL29-Gu"
      },
      "source": [
        "Classes seem very imbalanced"
      ]
    },
    {
      "cell_type": "markdown",
      "metadata": {
        "id": "yNpPYZtS-P8l"
      },
      "source": [
        "Genes that has highest number of occurrences in each class"
      ]
    },
    {
      "cell_type": "code",
      "metadata": {
        "id": "Tb41dK1W9iiQ",
        "colab": {
          "base_uri": "https://localhost:8080/",
          "height": 877
        },
        "outputId": "8915ef25-de20-4e60-e324-54a288a3ed30"
      },
      "source": [
        "fig, axs = plt.subplots(ncols=3, nrows=3, figsize=(15,15))\n",
        "\n",
        "for i in range(3):\n",
        "    for j in range(3):\n",
        "        gene_count_grp = train_variants[train_variants[\"Class\"]==((i*3+j)+1)].groupby('Gene')[\"ID\"].count().reset_index()\n",
        "        sorted_gene_group = gene_count_grp.sort_values('ID', ascending=False)\n",
        "        sorted_gene_group_top_7 = sorted_gene_group[:7]\n",
        "        sns.barplot(x=\"Gene\", y=\"ID\", data=sorted_gene_group_top_7, ax=axs[i][j])"
      ],
      "execution_count": 10,
      "outputs": [
        {
          "output_type": "display_data",
          "data": {
            "image/png": "[encoded data removed]",
            "text/plain": [
              "<Figure size 1080x1080 with 9 Axes>"
            ]
          },
          "metadata": {
            "needs_background": "light"
          }
        }
      ]
    },
    {
      "cell_type": "markdown",
      "metadata": {
        "id": "JgKq-hy4-cey"
      },
      "source": [
        "\n",
        "\n",
        "Some points we can conclude from these graphs:\n",
        "\n",
        "* BRCA1 is highly dominating Class 5\n",
        "* SF3B1 is highly dominating Class 9\n",
        "* BRCA1 and BRCA2 are dominating Class 6\n",
        "\n"
      ]
    },
    {
      "cell_type": "markdown",
      "metadata": {
        "id": "pNGAHhxg8RGI"
      },
      "source": [
        "## Train text"
      ]
    },
    {
      "cell_type": "code",
      "metadata": {
        "colab": {
          "base_uri": "https://localhost:8080/",
          "height": 258
        },
        "id": "wJUz5H-V7ian",
        "outputId": "d314405d-32d5-496a-c5d6-53b737f58787"
      },
      "source": [
        "#train_text = pd.read_csv(\"/content/gdrive/MyDrive/Kaggle/msk-redefining-cancer-treatment/training_text\",sep=\"\\|\\|\", engine=\"python\", skiprows=1, names=[\"ID\", \"Text\"])\n",
        "# Ragou's data\n",
        "train_text = pd.read_csv(\"/content/gdrive/MyDrive/Kaggle/msk-redefining-cancer-treatment/new_data_clean.txt\",sep=\"\\|\\|\", engine=\"python\", skiprows=1, names=[\"ID\", \"Text\"])\n",
        "print('Number of data points : ', train_text.shape[0])\n",
        "print('Number of features : ', train_text.shape[1])\n",
        "print('Features : ', train_text.columns.values)\n",
        "train_text.head()"
      ],
      "execution_count": 11,
      "outputs": [
        {
          "output_type": "stream",
          "name": "stdout",
          "text": [
            "Number of data points :  2426\n",
            "Number of features :  2\n",
            "Features :  ['ID' 'Text']\n"
          ]
        },
        {
          "output_type": "execute_result",
          "data": {
            "text/html": [
              "<div>\n",
              "<style scoped>\n",
              "    .dataframe tbody tr th:only-of-type {\n",
              "        vertical-align: middle;\n",
              "    }\n",
              "\n",
              "    .dataframe tbody tr th {\n",
              "        vertical-align: top;\n",
              "    }\n",
              "\n",
              "    .dataframe thead th {\n",
              "        text-align: right;\n",
              "    }\n",
              "</style>\n",
              "<table border=\"1\" class=\"dataframe\">\n",
              "  <thead>\n",
              "    <tr style=\"text-align: right;\">\n",
              "      <th></th>\n",
              "      <th>ID</th>\n",
              "      <th>Text</th>\n",
              "    </tr>\n",
              "  </thead>\n",
              "  <tbody>\n",
              "    <tr>\n",
              "      <th>0</th>\n",
              "      <td>1</td>\n",
              "      <td>the c-cbl loh also positively correlated wit...</td>\n",
              "    </tr>\n",
              "    <tr>\n",
              "      <th>1</th>\n",
              "      <td>2</td>\n",
              "      <td>the c-cbl loh also positively correlated wit...</td>\n",
              "    </tr>\n",
              "    <tr>\n",
              "      <th>2</th>\n",
              "      <td>3</td>\n",
              "      <td>most of the changes were novel, although 4 c...</td>\n",
              "    </tr>\n",
              "    <tr>\n",
              "      <th>3</th>\n",
              "      <td>4</td>\n",
              "      <td>all mutations from the second group were pre...</td>\n",
              "    </tr>\n",
              "    <tr>\n",
              "      <th>4</th>\n",
              "      <td>5</td>\n",
              "      <td>all mutations from the second group were pre...</td>\n",
              "    </tr>\n",
              "  </tbody>\n",
              "</table>\n",
              "</div>"
            ],
            "text/plain": [
              "   ID                                               Text\n",
              "0   1    the c-cbl loh also positively correlated wit...\n",
              "1   2    the c-cbl loh also positively correlated wit...\n",
              "2   3    most of the changes were novel, although 4 c...\n",
              "3   4    all mutations from the second group were pre...\n",
              "4   5    all mutations from the second group were pre..."
            ]
          },
          "metadata": {},
          "execution_count": 11
        }
      ]
    },
    {
      "cell_type": "markdown",
      "metadata": {
        "id": "1Ohiua1f8FzH"
      },
      "source": [
        "train_text is double pipe (||) delimited file that contains the clinical evidence (text) used to classify genetic mutations. \n",
        "* ID (the id of the row used to link the clinical evidence to the genetic mutation)\n",
        "* Text (the clinical evidence used to classify the genetic mutation)"
      ]
    },
    {
      "cell_type": "code",
      "metadata": {
        "colab": {
          "base_uri": "https://localhost:8080/"
        },
        "id": "0qN5e7Ii72Sc",
        "outputId": "8928debb-0d75-4657-e4df-e6558824a3f8"
      },
      "source": [
        "train_text.Text.nunique()"
      ],
      "execution_count": 12,
      "outputs": [
        {
          "output_type": "execute_result",
          "data": {
            "text/plain": [
              "2104"
            ]
          },
          "metadata": {},
          "execution_count": 12
        }
      ]
    },
    {
      "cell_type": "code",
      "metadata": {
        "colab": {
          "base_uri": "https://localhost:8080/",
          "height": 206
        },
        "id": "7xP9ANwP8FcI",
        "outputId": "4520f4f3-06c7-483a-d497-59a5625838b5"
      },
      "source": [
        "#count_text = train_text.copy()\n",
        "train_text.loc[:, 'Text_count']  = train_text[\"Text\"].apply(lambda x: len( str(x).split()))\n",
        "train_text.head()\n"
      ],
      "execution_count": 13,
      "outputs": [
        {
          "output_type": "execute_result",
          "data": {
            "text/html": [
              "<div>\n",
              "<style scoped>\n",
              "    .dataframe tbody tr th:only-of-type {\n",
              "        vertical-align: middle;\n",
              "    }\n",
              "\n",
              "    .dataframe tbody tr th {\n",
              "        vertical-align: top;\n",
              "    }\n",
              "\n",
              "    .dataframe thead th {\n",
              "        text-align: right;\n",
              "    }\n",
              "</style>\n",
              "<table border=\"1\" class=\"dataframe\">\n",
              "  <thead>\n",
              "    <tr style=\"text-align: right;\">\n",
              "      <th></th>\n",
              "      <th>ID</th>\n",
              "      <th>Text</th>\n",
              "      <th>Text_count</th>\n",
              "    </tr>\n",
              "  </thead>\n",
              "  <tbody>\n",
              "    <tr>\n",
              "      <th>0</th>\n",
              "      <td>1</td>\n",
              "      <td>the c-cbl loh also positively correlated wit...</td>\n",
              "      <td>893</td>\n",
              "    </tr>\n",
              "    <tr>\n",
              "      <th>1</th>\n",
              "      <td>2</td>\n",
              "      <td>the c-cbl loh also positively correlated wit...</td>\n",
              "      <td>893</td>\n",
              "    </tr>\n",
              "    <tr>\n",
              "      <th>2</th>\n",
              "      <td>3</td>\n",
              "      <td>most of the changes were novel, although 4 c...</td>\n",
              "      <td>388</td>\n",
              "    </tr>\n",
              "    <tr>\n",
              "      <th>3</th>\n",
              "      <td>4</td>\n",
              "      <td>all mutations from the second group were pre...</td>\n",
              "      <td>123</td>\n",
              "    </tr>\n",
              "    <tr>\n",
              "      <th>4</th>\n",
              "      <td>5</td>\n",
              "      <td>all mutations from the second group were pre...</td>\n",
              "      <td>123</td>\n",
              "    </tr>\n",
              "  </tbody>\n",
              "</table>\n",
              "</div>"
            ],
            "text/plain": [
              "   ID                                               Text  Text_count\n",
              "0   1    the c-cbl loh also positively correlated wit...         893\n",
              "1   2    the c-cbl loh also positively correlated wit...         893\n",
              "2   3    most of the changes were novel, although 4 c...         388\n",
              "3   4    all mutations from the second group were pre...         123\n",
              "4   5    all mutations from the second group were pre...         123"
            ]
          },
          "metadata": {},
          "execution_count": 13
        }
      ]
    },
    {
      "cell_type": "markdown",
      "metadata": {
        "id": "Bkcwj0cjFf5m"
      },
      "source": [
        "# Preprocessing "
      ]
    },
    {
      "cell_type": "code",
      "metadata": {
        "colab": {
          "base_uri": "https://localhost:8080/"
        },
        "id": "NV05AVSEK2-H",
        "outputId": "6ea54bdf-e356-41db-b005-87ec81c4dae7"
      },
      "source": [
        "# remove stopwords: the,a,an etc.\n",
        "nltk.download(\"stopwords\")\n",
        "from nltk.corpus import stopwords\n",
        "sw = stopwords.words(\"english\")\n",
        "\n",
        "def pre_processing(data):\n",
        "  # lowercase text\n",
        "  data = data.apply(lambda x: \" \".join(i.lower() for i in  str(x).split()))\n",
        "  # remove numeric values\n",
        "  data = data.str.replace(\"\\d\",\"\")\n",
        "  # remove punctuations\n",
        "  data = data.str.replace(\"[^\\w\\s]\",\"\")\n",
        "  # remove stopwords: the,a,an etc.\n",
        "  data = data.apply(lambda x: \" \".join(i for i in x.split() if i not in sw))\n",
        "  return data\n",
        "\n"
      ],
      "execution_count": 14,
      "outputs": [
        {
          "output_type": "stream",
          "name": "stdout",
          "text": [
            "[nltk_data] Downloading package stopwords to /root/nltk_data...\n",
            "[nltk_data]   Unzipping corpora/stopwords.zip.\n"
          ]
        }
      ]
    },
    {
      "cell_type": "code",
      "metadata": {
        "id": "uL3wofRnM8ao"
      },
      "source": [
        "train_text['Text']= pre_processing(train_text['Text'])\n"
      ],
      "execution_count": 15,
      "outputs": []
    },
    {
      "cell_type": "code",
      "metadata": {
        "colab": {
          "base_uri": "https://localhost:8080/",
          "height": 206
        },
        "id": "ikzL1GQf3Zfe",
        "outputId": "df9223bf-0bb2-405e-892d-b4124dac956c"
      },
      "source": [
        "train_text.loc[:, 'Text_count']  = train_text['Text'].apply(lambda x: len( str(x).split()))\n",
        "train_text.head()"
      ],
      "execution_count": 16,
      "outputs": [
        {
          "output_type": "execute_result",
          "data": {
            "text/html": [
              "<div>\n",
              "<style scoped>\n",
              "    .dataframe tbody tr th:only-of-type {\n",
              "        vertical-align: middle;\n",
              "    }\n",
              "\n",
              "    .dataframe tbody tr th {\n",
              "        vertical-align: top;\n",
              "    }\n",
              "\n",
              "    .dataframe thead th {\n",
              "        text-align: right;\n",
              "    }\n",
              "</style>\n",
              "<table border=\"1\" class=\"dataframe\">\n",
              "  <thead>\n",
              "    <tr style=\"text-align: right;\">\n",
              "      <th></th>\n",
              "      <th>ID</th>\n",
              "      <th>Text</th>\n",
              "      <th>Text_count</th>\n",
              "    </tr>\n",
              "  </thead>\n",
              "  <tbody>\n",
              "    <tr>\n",
              "      <th>0</th>\n",
              "      <td>1</td>\n",
              "      <td>ccbl loh also positively correlated egfr met m...</td>\n",
              "      <td>553</td>\n",
              "    </tr>\n",
              "    <tr>\n",
              "      <th>1</th>\n",
              "      <td>2</td>\n",
              "      <td>ccbl loh also positively correlated egfr met m...</td>\n",
              "      <td>553</td>\n",
              "    </tr>\n",
              "    <tr>\n",
              "      <th>2</th>\n",
              "      <td>3</td>\n",
              "      <td>changes novel although cases rq previously ide...</td>\n",
              "      <td>231</td>\n",
              "    </tr>\n",
              "    <tr>\n",
              "      <th>3</th>\n",
              "      <td>4</td>\n",
              "      <td>mutations second group predicted benign accord...</td>\n",
              "      <td>71</td>\n",
              "    </tr>\n",
              "    <tr>\n",
              "      <th>4</th>\n",
              "      <td>5</td>\n",
              "      <td>mutations second group predicted benign accord...</td>\n",
              "      <td>71</td>\n",
              "    </tr>\n",
              "  </tbody>\n",
              "</table>\n",
              "</div>"
            ],
            "text/plain": [
              "   ID                                               Text  Text_count\n",
              "0   1  ccbl loh also positively correlated egfr met m...         553\n",
              "1   2  ccbl loh also positively correlated egfr met m...         553\n",
              "2   3  changes novel although cases rq previously ide...         231\n",
              "3   4  mutations second group predicted benign accord...          71\n",
              "4   5  mutations second group predicted benign accord...          71"
            ]
          },
          "metadata": {},
          "execution_count": 16
        }
      ]
    },
    {
      "cell_type": "markdown",
      "metadata": {
        "id": "VItu7VOvAQsG"
      },
      "source": [
        "# Merge Datasets"
      ]
    },
    {
      "cell_type": "code",
      "metadata": {
        "colab": {
          "base_uri": "https://localhost:8080/",
          "height": 206
        },
        "id": "O6Pk68gBASFH",
        "outputId": "ee0a55b6-96e8-4e1c-bd0f-7cc6c13f4896"
      },
      "source": [
        "df_merge = pd.merge(train_variants,train_text, on=\"ID\",how=\"left\")\n",
        "df_merge.head()"
      ],
      "execution_count": 17,
      "outputs": [
        {
          "output_type": "execute_result",
          "data": {
            "text/html": [
              "<div>\n",
              "<style scoped>\n",
              "    .dataframe tbody tr th:only-of-type {\n",
              "        vertical-align: middle;\n",
              "    }\n",
              "\n",
              "    .dataframe tbody tr th {\n",
              "        vertical-align: top;\n",
              "    }\n",
              "\n",
              "    .dataframe thead th {\n",
              "        text-align: right;\n",
              "    }\n",
              "</style>\n",
              "<table border=\"1\" class=\"dataframe\">\n",
              "  <thead>\n",
              "    <tr style=\"text-align: right;\">\n",
              "      <th></th>\n",
              "      <th>ID</th>\n",
              "      <th>Gene</th>\n",
              "      <th>Variation</th>\n",
              "      <th>Class</th>\n",
              "      <th>Text</th>\n",
              "      <th>Text_count</th>\n",
              "    </tr>\n",
              "  </thead>\n",
              "  <tbody>\n",
              "    <tr>\n",
              "      <th>0</th>\n",
              "      <td>0</td>\n",
              "      <td>FAM58A</td>\n",
              "      <td>Truncating Mutations</td>\n",
              "      <td>1</td>\n",
              "      <td>NaN</td>\n",
              "      <td>NaN</td>\n",
              "    </tr>\n",
              "    <tr>\n",
              "      <th>1</th>\n",
              "      <td>1</td>\n",
              "      <td>CBL</td>\n",
              "      <td>W802*</td>\n",
              "      <td>2</td>\n",
              "      <td>ccbl loh also positively correlated egfr met m...</td>\n",
              "      <td>553.0</td>\n",
              "    </tr>\n",
              "    <tr>\n",
              "      <th>2</th>\n",
              "      <td>2</td>\n",
              "      <td>CBL</td>\n",
              "      <td>Q249E</td>\n",
              "      <td>2</td>\n",
              "      <td>ccbl loh also positively correlated egfr met m...</td>\n",
              "      <td>553.0</td>\n",
              "    </tr>\n",
              "    <tr>\n",
              "      <th>3</th>\n",
              "      <td>3</td>\n",
              "      <td>CBL</td>\n",
              "      <td>N454D</td>\n",
              "      <td>3</td>\n",
              "      <td>changes novel although cases rq previously ide...</td>\n",
              "      <td>231.0</td>\n",
              "    </tr>\n",
              "    <tr>\n",
              "      <th>4</th>\n",
              "      <td>4</td>\n",
              "      <td>CBL</td>\n",
              "      <td>L399V</td>\n",
              "      <td>4</td>\n",
              "      <td>mutations second group predicted benign accord...</td>\n",
              "      <td>71.0</td>\n",
              "    </tr>\n",
              "  </tbody>\n",
              "</table>\n",
              "</div>"
            ],
            "text/plain": [
              "   ID    Gene  ...                                               Text  Text_count\n",
              "0   0  FAM58A  ...                                                NaN         NaN\n",
              "1   1     CBL  ...  ccbl loh also positively correlated egfr met m...       553.0\n",
              "2   2     CBL  ...  ccbl loh also positively correlated egfr met m...       553.0\n",
              "3   3     CBL  ...  changes novel although cases rq previously ide...       231.0\n",
              "4   4     CBL  ...  mutations second group predicted benign accord...        71.0\n",
              "\n",
              "[5 rows x 6 columns]"
            ]
          },
          "metadata": {},
          "execution_count": 17
        }
      ]
    },
    {
      "cell_type": "markdown",
      "metadata": {
        "id": "ps4bSpaaCVeo"
      },
      "source": [
        "\n",
        "\n",
        "There are multiple rows with similar texts let us check how many of them are unique and whether all similar texts belongs to same class"
      ]
    },
    {
      "cell_type": "code",
      "metadata": {
        "id": "76UGW3D5AosD"
      },
      "source": [
        "df_merge['Text'] = df_merge['Text'].astype(str)"
      ],
      "execution_count": 26,
      "outputs": []
    },
    {
      "cell_type": "code",
      "metadata": {
        "colab": {
          "base_uri": "https://localhost:8080/",
          "height": 363
        },
        "id": "XbhjHPdUCYQa",
        "outputId": "b1da0a43-ca1e-4c15-926a-388493617236"
      },
      "source": [
        "count_grp = df_merge.groupby('Class')[\"Text_count\"]\n",
        "count_grp.describe()"
      ],
      "execution_count": 28,
      "outputs": [
        {
          "output_type": "execute_result",
          "data": {
            "text/html": [
              "<div>\n",
              "<style scoped>\n",
              "    .dataframe tbody tr th:only-of-type {\n",
              "        vertical-align: middle;\n",
              "    }\n",
              "\n",
              "    .dataframe tbody tr th {\n",
              "        vertical-align: top;\n",
              "    }\n",
              "\n",
              "    .dataframe thead th {\n",
              "        text-align: right;\n",
              "    }\n",
              "</style>\n",
              "<table border=\"1\" class=\"dataframe\">\n",
              "  <thead>\n",
              "    <tr style=\"text-align: right;\">\n",
              "      <th></th>\n",
              "      <th>count</th>\n",
              "      <th>mean</th>\n",
              "      <th>std</th>\n",
              "      <th>min</th>\n",
              "      <th>25%</th>\n",
              "      <th>50%</th>\n",
              "      <th>75%</th>\n",
              "      <th>max</th>\n",
              "    </tr>\n",
              "    <tr>\n",
              "      <th>Class</th>\n",
              "      <th></th>\n",
              "      <th></th>\n",
              "      <th></th>\n",
              "      <th></th>\n",
              "      <th></th>\n",
              "      <th></th>\n",
              "      <th></th>\n",
              "      <th></th>\n",
              "    </tr>\n",
              "  </thead>\n",
              "  <tbody>\n",
              "    <tr>\n",
              "      <th>1</th>\n",
              "      <td>384.0</td>\n",
              "      <td>548.088542</td>\n",
              "      <td>857.622092</td>\n",
              "      <td>5.0</td>\n",
              "      <td>111.0</td>\n",
              "      <td>241.0</td>\n",
              "      <td>555.00</td>\n",
              "      <td>6135.0</td>\n",
              "    </tr>\n",
              "    <tr>\n",
              "      <th>2</th>\n",
              "      <td>298.0</td>\n",
              "      <td>598.989933</td>\n",
              "      <td>1091.844054</td>\n",
              "      <td>19.0</td>\n",
              "      <td>106.0</td>\n",
              "      <td>243.5</td>\n",
              "      <td>650.25</td>\n",
              "      <td>11378.0</td>\n",
              "    </tr>\n",
              "    <tr>\n",
              "      <th>3</th>\n",
              "      <td>64.0</td>\n",
              "      <td>274.828125</td>\n",
              "      <td>331.729597</td>\n",
              "      <td>23.0</td>\n",
              "      <td>67.0</td>\n",
              "      <td>221.0</td>\n",
              "      <td>369.25</td>\n",
              "      <td>2286.0</td>\n",
              "    </tr>\n",
              "    <tr>\n",
              "      <th>4</th>\n",
              "      <td>560.0</td>\n",
              "      <td>509.132143</td>\n",
              "      <td>670.027314</td>\n",
              "      <td>13.0</td>\n",
              "      <td>124.0</td>\n",
              "      <td>303.0</td>\n",
              "      <td>633.25</td>\n",
              "      <td>5711.0</td>\n",
              "    </tr>\n",
              "    <tr>\n",
              "      <th>5</th>\n",
              "      <td>181.0</td>\n",
              "      <td>312.419890</td>\n",
              "      <td>365.076842</td>\n",
              "      <td>4.0</td>\n",
              "      <td>119.0</td>\n",
              "      <td>203.0</td>\n",
              "      <td>366.00</td>\n",
              "      <td>2482.0</td>\n",
              "    </tr>\n",
              "    <tr>\n",
              "      <th>6</th>\n",
              "      <td>206.0</td>\n",
              "      <td>344.271845</td>\n",
              "      <td>686.328595</td>\n",
              "      <td>1.0</td>\n",
              "      <td>36.5</td>\n",
              "      <td>106.0</td>\n",
              "      <td>314.75</td>\n",
              "      <td>6193.0</td>\n",
              "    </tr>\n",
              "    <tr>\n",
              "      <th>7</th>\n",
              "      <td>691.0</td>\n",
              "      <td>930.810420</td>\n",
              "      <td>1368.795450</td>\n",
              "      <td>24.0</td>\n",
              "      <td>180.0</td>\n",
              "      <td>465.0</td>\n",
              "      <td>1090.50</td>\n",
              "      <td>11513.0</td>\n",
              "    </tr>\n",
              "    <tr>\n",
              "      <th>8</th>\n",
              "      <td>14.0</td>\n",
              "      <td>1058.500000</td>\n",
              "      <td>1776.260755</td>\n",
              "      <td>51.0</td>\n",
              "      <td>265.0</td>\n",
              "      <td>471.0</td>\n",
              "      <td>778.25</td>\n",
              "      <td>6813.0</td>\n",
              "    </tr>\n",
              "    <tr>\n",
              "      <th>9</th>\n",
              "      <td>28.0</td>\n",
              "      <td>1140.035714</td>\n",
              "      <td>2050.111568</td>\n",
              "      <td>54.0</td>\n",
              "      <td>132.5</td>\n",
              "      <td>221.0</td>\n",
              "      <td>813.50</td>\n",
              "      <td>7054.0</td>\n",
              "    </tr>\n",
              "  </tbody>\n",
              "</table>\n",
              "</div>"
            ],
            "text/plain": [
              "       count         mean          std   min    25%    50%      75%      max\n",
              "Class                                                                       \n",
              "1      384.0   548.088542   857.622092   5.0  111.0  241.0   555.00   6135.0\n",
              "2      298.0   598.989933  1091.844054  19.0  106.0  243.5   650.25  11378.0\n",
              "3       64.0   274.828125   331.729597  23.0   67.0  221.0   369.25   2286.0\n",
              "4      560.0   509.132143   670.027314  13.0  124.0  303.0   633.25   5711.0\n",
              "5      181.0   312.419890   365.076842   4.0  119.0  203.0   366.00   2482.0\n",
              "6      206.0   344.271845   686.328595   1.0   36.5  106.0   314.75   6193.0\n",
              "7      691.0   930.810420  1368.795450  24.0  180.0  465.0  1090.50  11513.0\n",
              "8       14.0  1058.500000  1776.260755  51.0  265.0  471.0   778.25   6813.0\n",
              "9       28.0  1140.035714  2050.111568  54.0  132.5  221.0   813.50   7054.0"
            ]
          },
          "metadata": {},
          "execution_count": 28
        }
      ]
    },
    {
      "cell_type": "code",
      "metadata": {
        "colab": {
          "base_uri": "https://localhost:8080/",
          "height": 269
        },
        "id": "SDmvIpS6XRN-",
        "outputId": "5c4403e2-1dea-4290-ddf5-b50cb063a80c"
      },
      "source": [
        "df_merge[df_merge[\"Text_count\"]==1.0]"
      ],
      "execution_count": 18,
      "outputs": [
        {
          "output_type": "execute_result",
          "data": {
            "text/html": [
              "<div>\n",
              "<style scoped>\n",
              "    .dataframe tbody tr th:only-of-type {\n",
              "        vertical-align: middle;\n",
              "    }\n",
              "\n",
              "    .dataframe tbody tr th {\n",
              "        vertical-align: top;\n",
              "    }\n",
              "\n",
              "    .dataframe thead th {\n",
              "        text-align: right;\n",
              "    }\n",
              "</style>\n",
              "<table border=\"1\" class=\"dataframe\">\n",
              "  <thead>\n",
              "    <tr style=\"text-align: right;\">\n",
              "      <th></th>\n",
              "      <th>ID</th>\n",
              "      <th>Gene</th>\n",
              "      <th>Variation</th>\n",
              "      <th>Class</th>\n",
              "      <th>Text</th>\n",
              "      <th>Text_count</th>\n",
              "    </tr>\n",
              "  </thead>\n",
              "  <tbody>\n",
              "    <tr>\n",
              "      <th>2780</th>\n",
              "      <td>2780</td>\n",
              "      <td>BRCA2</td>\n",
              "      <td>V894I</td>\n",
              "      <td>6</td>\n",
              "      <td>vi</td>\n",
              "      <td>1.0</td>\n",
              "    </tr>\n",
              "    <tr>\n",
              "      <th>2782</th>\n",
              "      <td>2782</td>\n",
              "      <td>BRCA2</td>\n",
              "      <td>R2502C</td>\n",
              "      <td>6</td>\n",
              "      <td>rc</td>\n",
              "      <td>1.0</td>\n",
              "    </tr>\n",
              "    <tr>\n",
              "      <th>2802</th>\n",
              "      <td>2802</td>\n",
              "      <td>BRCA2</td>\n",
              "      <td>N2436I</td>\n",
              "      <td>6</td>\n",
              "      <td>ni</td>\n",
              "      <td>1.0</td>\n",
              "    </tr>\n",
              "    <tr>\n",
              "      <th>2821</th>\n",
              "      <td>2821</td>\n",
              "      <td>BRCA2</td>\n",
              "      <td>C1365Y</td>\n",
              "      <td>6</td>\n",
              "      <td>cy</td>\n",
              "      <td>1.0</td>\n",
              "    </tr>\n",
              "    <tr>\n",
              "      <th>2870</th>\n",
              "      <td>2870</td>\n",
              "      <td>BRCA2</td>\n",
              "      <td>V2969M</td>\n",
              "      <td>6</td>\n",
              "      <td>vm</td>\n",
              "      <td>1.0</td>\n",
              "    </tr>\n",
              "    <tr>\n",
              "      <th>2879</th>\n",
              "      <td>2879</td>\n",
              "      <td>BRCA2</td>\n",
              "      <td>W2626C</td>\n",
              "      <td>6</td>\n",
              "      <td>wc</td>\n",
              "      <td>1.0</td>\n",
              "    </tr>\n",
              "    <tr>\n",
              "      <th>2883</th>\n",
              "      <td>2883</td>\n",
              "      <td>BRCA2</td>\n",
              "      <td>T2722R</td>\n",
              "      <td>6</td>\n",
              "      <td>tr</td>\n",
              "      <td>1.0</td>\n",
              "    </tr>\n",
              "  </tbody>\n",
              "</table>\n",
              "</div>"
            ],
            "text/plain": [
              "        ID   Gene Variation  Class Text  Text_count\n",
              "2780  2780  BRCA2     V894I      6   vi         1.0\n",
              "2782  2782  BRCA2    R2502C      6   rc         1.0\n",
              "2802  2802  BRCA2    N2436I      6   ni         1.0\n",
              "2821  2821  BRCA2    C1365Y      6   cy         1.0\n",
              "2870  2870  BRCA2    V2969M      6   vm         1.0\n",
              "2879  2879  BRCA2    W2626C      6   wc         1.0\n",
              "2883  2883  BRCA2    T2722R      6   tr         1.0"
            ]
          },
          "metadata": {},
          "execution_count": 18
        }
      ]
    },
    {
      "cell_type": "markdown",
      "metadata": {
        "id": "IH9UFWd-D5LF"
      },
      "source": [
        "we can see there are some entries without any text data"
      ]
    },
    {
      "cell_type": "code",
      "metadata": {
        "id": "7PbMFBjhCmeG"
      },
      "source": [
        "# Fill NaN values with Gene & Variation \n",
        "df_merge.loc[df_merge[\"Text_count\"]==1.0,\"Text\"] = df_merge[\"Gene\"] + \" \" + df_merge[\"Variation\"]"
      ],
      "execution_count": null,
      "outputs": []
    },
    {
      "cell_type": "markdown",
      "metadata": {
        "id": "Pm1pyC5ZEYBd"
      },
      "source": [
        "Get distribution of text count for each class"
      ]
    },
    {
      "cell_type": "code",
      "metadata": {
        "id": "hZhqsf8UEAw5",
        "colab": {
          "base_uri": "https://localhost:8080/",
          "height": 799
        },
        "outputId": "257b83f1-1436-4ae3-fc84-5fb051134b99"
      },
      "source": [
        "plt.figure(figsize=(12,8))\n",
        "gene_count_grp = df_merge.groupby('Gene')[\"Text_count\"].sum().reset_index()\n",
        "sns.violinplot(x=\"Class\", y=\"Text_count\", data=df_merge, inner=None)\n",
        "sns.swarmplot(x=\"Class\", y=\"Text_count\", data=df_merge, color=\"w\", alpha=.5);\n",
        "plt.ylabel('Text Count', fontsize=14)\n",
        "plt.xlabel('Class', fontsize=14)\n",
        "plt.title(\"Text length distribution\", fontsize=18)\n",
        "plt.show()\n"
      ],
      "execution_count": 19,
      "outputs": [
        {
          "output_type": "stream",
          "name": "stderr",
          "text": [
            "/usr/local/lib/python3.7/dist-packages/seaborn/categorical.py:1296: UserWarning: 47.0% of the points cannot be placed; you may want to decrease the size of the markers or use stripplot.\n",
            "  warnings.warn(msg, UserWarning)\n",
            "/usr/local/lib/python3.7/dist-packages/seaborn/categorical.py:1296: UserWarning: 41.8% of the points cannot be placed; you may want to decrease the size of the markers or use stripplot.\n",
            "  warnings.warn(msg, UserWarning)\n",
            "/usr/local/lib/python3.7/dist-packages/seaborn/categorical.py:1296: UserWarning: 28.1% of the points cannot be placed; you may want to decrease the size of the markers or use stripplot.\n",
            "  warnings.warn(msg, UserWarning)\n",
            "/usr/local/lib/python3.7/dist-packages/seaborn/categorical.py:1296: UserWarning: 62.5% of the points cannot be placed; you may want to decrease the size of the markers or use stripplot.\n",
            "  warnings.warn(msg, UserWarning)\n",
            "/usr/local/lib/python3.7/dist-packages/seaborn/categorical.py:1296: UserWarning: 49.2% of the points cannot be placed; you may want to decrease the size of the markers or use stripplot.\n",
            "  warnings.warn(msg, UserWarning)\n",
            "/usr/local/lib/python3.7/dist-packages/seaborn/categorical.py:1296: UserWarning: 48.7% of the points cannot be placed; you may want to decrease the size of the markers or use stripplot.\n",
            "  warnings.warn(msg, UserWarning)\n",
            "/usr/local/lib/python3.7/dist-packages/seaborn/categorical.py:1296: UserWarning: 50.7% of the points cannot be placed; you may want to decrease the size of the markers or use stripplot.\n",
            "  warnings.warn(msg, UserWarning)\n",
            "/usr/local/lib/python3.7/dist-packages/seaborn/categorical.py:1296: UserWarning: 8.1% of the points cannot be placed; you may want to decrease the size of the markers or use stripplot.\n",
            "  warnings.warn(msg, UserWarning)\n"
          ]
        },
        {
          "output_type": "display_data",
          "data": {
            "image/png": "[encoded data removed]",
            "text/plain": [
              "<Figure size 864x576 with 1 Axes>"
            ]
          },
          "metadata": {
            "needs_background": "light"
          }
        }
      ]
    },
    {
      "cell_type": "markdown",
      "metadata": {
        "id": "L1M-09tAE1Yt"
      },
      "source": [
        " All classes have most counts in between 0 to 20000. Just as expected"
      ]
    },
    {
      "cell_type": "code",
      "metadata": {
        "id": "iz8iZtQPE2iU",
        "colab": {
          "base_uri": "https://localhost:8080/",
          "height": 879
        },
        "outputId": "d7f095b4-19d5-4fb6-c6fa-bffb3046a8b3"
      },
      "source": [
        "# how many times the gene is cited in the articles in each class\n",
        "fig, axs = plt.subplots(ncols=3, nrows=3, figsize=(15,15))\n",
        "\n",
        "for i in range(3):\n",
        "    for j in range(3):\n",
        "        gene_count_grp = df_merge[df_merge[\"Class\"]==((i*3+j)+1)].groupby('Gene')[\"Text_count\"].mean().reset_index()\n",
        "        sorted_gene_group = gene_count_grp.sort_values('Text_count', ascending=False)\n",
        "        sorted_gene_group_top_7 = sorted_gene_group[:7]\n",
        "        sns.barplot(x=\"Gene\", y=\"Text_count\", data=sorted_gene_group_top_7, ax=axs[i][j])"
      ],
      "execution_count": 20,
      "outputs": [
        {
          "output_type": "display_data",
          "data": {
            "image/png": "[encoded data removed]",
            "text/plain": [
              "<Figure size 1080x1080 with 9 Axes>"
            ]
          },
          "metadata": {
            "needs_background": "light"
          }
        }
      ]
    },
    {
      "cell_type": "markdown",
      "metadata": {
        "id": "UwNwwCnh0YO9"
      },
      "source": [
        "# LSTM"
      ]
    },
    {
      "cell_type": "code",
      "metadata": {
        "id": "CiXE_W1iFB91"
      },
      "source": [
        "# Use the Keras tokenizer, vectorize a text corpus, by turning each text into either a sequence of integers (each integer being the index of a token in a dictionary)\n",
        "# the maximum number of words to keep, based on word frequency / load the dataset but only keep the top n words, zero the rest\n",
        "num_words = 100\n",
        "tokenizer = Tokenizer(num_words=num_words)\n",
        "tokenizer.fit_on_texts(df_merge['Text'].values) # Updates internal vocabulary based on a list of texts."
      ],
      "execution_count": 29,
      "outputs": []
    },
    {
      "cell_type": "code",
      "metadata": {
        "id": "F9nlj2sdB_hU"
      },
      "source": [
        "tokenizer.word_index # get the index of each word"
      ],
      "execution_count": null,
      "outputs": []
    },
    {
      "cell_type": "markdown",
      "metadata": {
        "id": "r2SrsNloCNWT"
      },
      "source": [
        "words contain al et => no significant word \n",
        "\n",
        "must take the gene, mutation, variation ... \n",
        "\n"
      ]
    },
    {
      "cell_type": "code",
      "metadata": {
        "id": "28pqjujJFB99"
      },
      "source": [
        "# Pad the data \n",
        "X = tokenizer.texts_to_sequences(df_merge['Text'].values) # Transforms each text in texts to a sequence of integers, Only top num_words most frequent words will be taken into account.\n",
        "X = pad_sequences(X, maxlen=100) # transforms a lists of integers into a 2D Numpy array of shape (num_samples, num_timesteps)\n"
      ],
      "execution_count": 34,
      "outputs": []
    },
    {
      "cell_type": "code",
      "metadata": {
        "id": "GEN19_Rbvuc9",
        "colab": {
          "base_uri": "https://localhost:8080/"
        },
        "outputId": "887db7da-a658-4dca-c6b0-58dee56cd593"
      },
      "source": [
        "num_words = 100\n",
        "embed_dim = 64\n",
        "lstm_out = 32\n",
        "\n",
        "model = Sequential(\n",
        "    [\n",
        "        Embedding(num_words, embed_dim, input_length = X.shape[1]),\n",
        "        LSTM(lstm_out, recurrent_dropout=0.2, dropout=0.2),\n",
        "        Dense(9, activation = \"relu\"),\n",
        "        Dense(9,activation='softmax')\n",
        "    ]\n",
        ")\n",
        "\n",
        "model.compile(loss = 'categorical_crossentropy', optimizer='adam', metrics = ['accuracy'])\n",
        "print(model.summary())"
      ],
      "execution_count": 45,
      "outputs": [
        {
          "output_type": "stream",
          "name": "stdout",
          "text": [
            "Model: \"sequential_4\"\n",
            "_________________________________________________________________\n",
            "Layer (type)                 Output Shape              Param #   \n",
            "=================================================================\n",
            "embedding_4 (Embedding)      (None, 100, 64)           6400      \n",
            "_________________________________________________________________\n",
            "lstm_4 (LSTM)                (None, 32)                12416     \n",
            "_________________________________________________________________\n",
            "dense_8 (Dense)              (None, 9)                 297       \n",
            "_________________________________________________________________\n",
            "dense_9 (Dense)              (None, 9)                 90        \n",
            "=================================================================\n",
            "Total params: 19,203\n",
            "Trainable params: 19,203\n",
            "Non-trainable params: 0\n",
            "_________________________________________________________________\n",
            "None\n"
          ]
        }
      ]
    },
    {
      "cell_type": "markdown",
      "metadata": {
        "id": "_u0YXs1Z3czZ"
      },
      "source": [
        "### Plot the model "
      ]
    },
    {
      "cell_type": "code",
      "metadata": {
        "colab": {
          "base_uri": "https://localhost:8080/",
          "height": 533
        },
        "id": "qT2hjnYL0zjO",
        "outputId": "6fab407f-01f4-48d0-f4b9-bdc9fd3fe3cf"
      },
      "source": [
        "keras.utils.plot_model(model, \"my_first_model_shapes.png\", show_shapes= True)"
      ],
      "execution_count": 39,
      "outputs": [
        {
          "output_type": "execute_result",
          "data": {
            "image/png": "[encoded data removed]",
            "text/plain": [
              "<IPython.core.display.Image object>"
            ]
          },
          "metadata": {},
          "execution_count": 39
        }
      ]
    },
    {
      "cell_type": "markdown",
      "metadata": {
        "id": "Nm1H2gbJ3YUB"
      },
      "source": [
        "### Split the data "
      ]
    },
    {
      "cell_type": "code",
      "metadata": {
        "colab": {
          "base_uri": "https://localhost:8080/"
        },
        "id": "Xnj9omYQ0jYY",
        "outputId": "95e3fed9-aca3-4d41-fa72-efbc0bc8c845"
      },
      "source": [
        "Y = pd.get_dummies(df_merge['Class']).values\n",
        "X_train, X_test, Y_train, Y_test = train_test_split(X, Y, test_size = 0.2, random_state = 42, stratify=Y)\n",
        "print(X_train.shape, Y_train.shape)\n",
        "print(X_test.shape, Y_test.shape)"
      ],
      "execution_count": 40,
      "outputs": [
        {
          "output_type": "stream",
          "name": "stdout",
          "text": [
            "(2656, 100) (2656, 9)\n",
            "(665, 100) (665, 9)\n"
          ]
        }
      ]
    },
    {
      "cell_type": "markdown",
      "metadata": {
        "id": "xp3aVsZu3i-J"
      },
      "source": [
        "### Model Training "
      ]
    },
    {
      "cell_type": "code",
      "metadata": {
        "colab": {
          "base_uri": "https://localhost:8080/"
        },
        "id": "gDQfpdji0osS",
        "outputId": "7d460cf2-8596-4a86-b924-f2cbb7bf45b0"
      },
      "source": [
        "batch_size = 32\n",
        "# Model saving callback\n",
        "ckpt_callback = ModelCheckpoint('keras_model', \n",
        "                                 monitor='val_loss', \n",
        "                                 verbose=1, \n",
        "                                 save_best_only=True, \n",
        "                                 mode='auto')\n",
        "history = model.fit(X_train, Y_train, epochs=20, batch_size=batch_size, validation_split=0.2, callbacks=[ckpt_callback])"
      ],
      "execution_count": 46,
      "outputs": [
        {
          "output_type": "stream",
          "name": "stdout",
          "text": [
            "Epoch 1/20\n",
            "67/67 [==============================] - 10s 108ms/step - loss: 2.1118 - accuracy: 0.1634 - val_loss: 2.0418 - val_accuracy: 0.1936\n",
            "\n",
            "Epoch 00001: val_loss improved from inf to 2.04178, saving model to keras_model\n",
            "INFO:tensorflow:Assets written to: keras_model/assets\n",
            "Epoch 2/20\n",
            "67/67 [==============================] - 7s 104ms/step - loss: 1.9691 - accuracy: 0.2062 - val_loss: 1.9193 - val_accuracy: 0.3102\n",
            "\n",
            "Epoch 00002: val_loss improved from 2.04178 to 1.91927, saving model to keras_model\n",
            "INFO:tensorflow:Assets written to: keras_model/assets\n",
            "Epoch 3/20\n",
            "67/67 [==============================] - 7s 104ms/step - loss: 1.7904 - accuracy: 0.3686 - val_loss: 1.7600 - val_accuracy: 0.3703\n",
            "\n",
            "Epoch 00003: val_loss improved from 1.91927 to 1.75997, saving model to keras_model\n",
            "INFO:tensorflow:Assets written to: keras_model/assets\n",
            "Epoch 4/20\n",
            "67/67 [==============================] - 7s 103ms/step - loss: 1.6570 - accuracy: 0.4200 - val_loss: 1.7002 - val_accuracy: 0.3703\n",
            "\n",
            "Epoch 00004: val_loss improved from 1.75997 to 1.70016, saving model to keras_model\n",
            "INFO:tensorflow:Assets written to: keras_model/assets\n",
            "Epoch 5/20\n",
            "67/67 [==============================] - 7s 103ms/step - loss: 1.6012 - accuracy: 0.4289 - val_loss: 1.6624 - val_accuracy: 0.3891\n",
            "\n",
            "Epoch 00005: val_loss improved from 1.70016 to 1.66239, saving model to keras_model\n",
            "INFO:tensorflow:Assets written to: keras_model/assets\n",
            "Epoch 6/20\n",
            "67/67 [==============================] - 7s 103ms/step - loss: 1.5447 - accuracy: 0.4416 - val_loss: 1.6482 - val_accuracy: 0.3929\n",
            "\n",
            "Epoch 00006: val_loss improved from 1.66239 to 1.64818, saving model to keras_model\n",
            "INFO:tensorflow:Assets written to: keras_model/assets\n",
            "Epoch 7/20\n",
            "67/67 [==============================] - 7s 103ms/step - loss: 1.5271 - accuracy: 0.4482 - val_loss: 1.6227 - val_accuracy: 0.4023\n",
            "\n",
            "Epoch 00007: val_loss improved from 1.64818 to 1.62273, saving model to keras_model\n",
            "INFO:tensorflow:Assets written to: keras_model/assets\n",
            "Epoch 8/20\n",
            "67/67 [==============================] - 7s 103ms/step - loss: 1.5026 - accuracy: 0.4666 - val_loss: 1.6627 - val_accuracy: 0.3985\n",
            "\n",
            "Epoch 00008: val_loss did not improve from 1.62273\n",
            "Epoch 9/20\n",
            "67/67 [==============================] - 7s 104ms/step - loss: 1.4909 - accuracy: 0.4670 - val_loss: 1.6225 - val_accuracy: 0.4023\n",
            "\n",
            "Epoch 00009: val_loss improved from 1.62273 to 1.62253, saving model to keras_model\n",
            "INFO:tensorflow:Assets written to: keras_model/assets\n",
            "Epoch 10/20\n",
            "67/67 [==============================] - 7s 103ms/step - loss: 1.4657 - accuracy: 0.4845 - val_loss: 1.5905 - val_accuracy: 0.4211\n",
            "\n",
            "Epoch 00010: val_loss improved from 1.62253 to 1.59050, saving model to keras_model\n",
            "INFO:tensorflow:Assets written to: keras_model/assets\n",
            "Epoch 11/20\n",
            "67/67 [==============================] - 7s 105ms/step - loss: 1.4770 - accuracy: 0.4694 - val_loss: 1.6020 - val_accuracy: 0.4117\n",
            "\n",
            "Epoch 00011: val_loss did not improve from 1.59050\n",
            "Epoch 12/20\n",
            "67/67 [==============================] - 7s 103ms/step - loss: 1.4564 - accuracy: 0.4793 - val_loss: 1.5824 - val_accuracy: 0.4211\n",
            "\n",
            "Epoch 00012: val_loss improved from 1.59050 to 1.58239, saving model to keras_model\n",
            "INFO:tensorflow:Assets written to: keras_model/assets\n",
            "Epoch 13/20\n",
            "67/67 [==============================] - 7s 104ms/step - loss: 1.4452 - accuracy: 0.4826 - val_loss: 1.6121 - val_accuracy: 0.4154\n",
            "\n",
            "Epoch 00013: val_loss did not improve from 1.58239\n",
            "Epoch 14/20\n",
            "67/67 [==============================] - 7s 104ms/step - loss: 1.4180 - accuracy: 0.4962 - val_loss: 1.6037 - val_accuracy: 0.4117\n",
            "\n",
            "Epoch 00014: val_loss did not improve from 1.58239\n",
            "Epoch 15/20\n",
            "67/67 [==============================] - 7s 103ms/step - loss: 1.4161 - accuracy: 0.5014 - val_loss: 1.5979 - val_accuracy: 0.4060\n",
            "\n",
            "Epoch 00015: val_loss did not improve from 1.58239\n",
            "Epoch 16/20\n",
            "67/67 [==============================] - 7s 103ms/step - loss: 1.3968 - accuracy: 0.5000 - val_loss: 1.5944 - val_accuracy: 0.4267\n",
            "\n",
            "Epoch 00016: val_loss did not improve from 1.58239\n",
            "Epoch 17/20\n",
            "67/67 [==============================] - 7s 105ms/step - loss: 1.3971 - accuracy: 0.5118 - val_loss: 1.5799 - val_accuracy: 0.4323\n",
            "\n",
            "Epoch 00017: val_loss improved from 1.58239 to 1.57991, saving model to keras_model\n",
            "INFO:tensorflow:Assets written to: keras_model/assets\n",
            "Epoch 18/20\n",
            "67/67 [==============================] - 7s 104ms/step - loss: 1.3831 - accuracy: 0.5132 - val_loss: 1.5852 - val_accuracy: 0.4248\n",
            "\n",
            "Epoch 00018: val_loss did not improve from 1.57991\n",
            "Epoch 19/20\n",
            "67/67 [==============================] - 7s 105ms/step - loss: 1.3893 - accuracy: 0.5108 - val_loss: 1.6570 - val_accuracy: 0.3741\n",
            "\n",
            "Epoch 00019: val_loss did not improve from 1.57991\n",
            "Epoch 20/20\n",
            "67/67 [==============================] - 7s 105ms/step - loss: 1.4008 - accuracy: 0.5071 - val_loss: 1.5754 - val_accuracy: 0.4342\n",
            "\n",
            "Epoch 00020: val_loss improved from 1.57991 to 1.57539, saving model to keras_model\n",
            "INFO:tensorflow:Assets written to: keras_model/assets\n"
          ]
        }
      ]
    },
    {
      "cell_type": "markdown",
      "metadata": {
        "id": "v1J7o9DP3oUO"
      },
      "source": [
        "### Testing "
      ]
    },
    {
      "cell_type": "code",
      "metadata": {
        "colab": {
          "base_uri": "https://localhost:8080/"
        },
        "id": "Ze4prwfM1RoM",
        "outputId": "7d595596-424c-4908-ad96-4d4b3af9eb83"
      },
      "source": [
        "_, acc = model.evaluate(X_test, Y_test, verbose= 1)\n",
        "print('>%.3f' % (acc * 100.0))\n"
      ],
      "execution_count": 47,
      "outputs": [
        {
          "output_type": "stream",
          "name": "stdout",
          "text": [
            "21/21 [==============================] - 0s 13ms/step - loss: 1.5911 - accuracy: 0.4451\n",
            ">44.511\n"
          ]
        }
      ]
    },
    {
      "cell_type": "markdown",
      "metadata": {
        "id": "GSSDvqGQkbY6"
      },
      "source": [
        "### Plot Model loss and accuracy"
      ]
    },
    {
      "cell_type": "code",
      "metadata": {
        "colab": {
          "base_uri": "https://localhost:8080/"
        },
        "id": "aNkWuW8Balpx",
        "outputId": "5b2a8f1d-0d32-41e3-91da-4cc67a2d78ef"
      },
      "source": [
        "# list all data history \n",
        "print(history.history.keys())"
      ],
      "execution_count": 48,
      "outputs": [
        {
          "output_type": "stream",
          "name": "stdout",
          "text": [
            "dict_keys(['loss', 'accuracy', 'val_loss', 'val_accuracy'])\n"
          ]
        }
      ]
    },
    {
      "cell_type": "code",
      "metadata": {
        "colab": {
          "base_uri": "https://localhost:8080/",
          "height": 312
        },
        "id": "4OzLOUqQayJe",
        "outputId": "6ab9fb49-03c1-4341-d92b-51c2813dfad9"
      },
      "source": [
        "# visualize training and validation losses  \n",
        "plt.plot(history.history['loss'])\n",
        "plt.plot(history.history['val_loss'])\n",
        "plt.title('model_loss')\n",
        "plt.ylabel('loss')\n",
        "plt.xlabel('epoch')\n",
        "plt.legend(['train', 'val'], loc = 'upper left')\n",
        "plt.show "
      ],
      "execution_count": 49,
      "outputs": [
        {
          "output_type": "execute_result",
          "data": {
            "text/plain": [
              "<function matplotlib.pyplot.show>"
            ]
          },
          "metadata": {},
          "execution_count": 49
        },
        {
          "output_type": "display_data",
          "data": {
            "image/png": "[encoded data removed]",
            "text/plain": [
              "<Figure size 432x288 with 1 Axes>"
            ]
          },
          "metadata": {
            "needs_background": "light"
          }
        }
      ]
    },
    {
      "cell_type": "code",
      "metadata": {
        "colab": {
          "base_uri": "https://localhost:8080/",
          "height": 295
        },
        "id": "a-7ffPkkkBd_",
        "outputId": "68420ab8-4fb2-4272-b281-ee40a8b8e546"
      },
      "source": [
        "# visualize training and validation accuracies\n",
        "plt.plot(history.history['accuracy'])\n",
        "plt.plot(history.history['val_accuracy'])\n",
        "plt.title('Model accuracy')\n",
        "plt.ylabel('Accuracy')\n",
        "plt.xlabel('Epoch')\n",
        "plt.legend(['Train', 'Test'], loc='upper left')\n",
        "plt.show()"
      ],
      "execution_count": 50,
      "outputs": [
        {
          "output_type": "display_data",
          "data": {
            "image/png": "[encoded data removed]",
            "text/plain": [
              "<Figure size 432x288 with 1 Axes>"
            ]
          },
          "metadata": {
            "needs_background": "light"
          }
        }
      ]
    }
  ]
}