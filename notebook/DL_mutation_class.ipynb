{
 "cells": [
  {
   "cell_type": "markdown",
   "metadata": {
    "id": "7tirDCw3zKEF"
   },
   "source": [
    "# Import packages"
   ]
  },
  {
   "cell_type": "code",
   "execution_count": 1,
   "metadata": {
    "id": "VBFTH98iVs9O"
   },
   "outputs": [],
   "source": [
    "import numpy as np\n",
    "import pandas as pd\n",
    "import seaborn as sns\n",
    "import matplotlib.pyplot as plt\n",
    "import nltk\n",
    "import tensorflow as tf\n",
    "from tensorflow import keras\n",
    "from nltk.corpus import stopwords\n",
    "from keras.preprocessing.text import Tokenizer\n",
    "from keras.preprocessing.sequence import pad_sequences\n",
    "from sklearn.ensemble import RandomForestClassifier\n",
    "from sklearn import model_selection, naive_bayes, svm\n",
    "from sklearn import metrics\n",
    "from sklearn.metrics import accuracy_score\n",
    "from sklearn.decomposition import TruncatedSVD\n",
    "from keras.models import Sequential\n",
    "from keras.layers import Dense, Embedding, LSTM, GlobalMaxPooling1D, Conv1D, Flatten\n",
    "from keras.callbacks import ModelCheckpoint\n",
    "from keras.models import load_model\n",
    "from tensorflow.keras.optimizers import Adam\n",
    "from sklearn.model_selection import train_test_split"
   ]
  },
  {
   "cell_type": "code",
   "execution_count": 2,
   "metadata": {
    "colab": {
     "base_uri": "https://localhost:8080/"
    },
    "id": "Up1ymQSW7EHY",
    "outputId": "426cd946-afe4-44a5-b2c8-bf7e4589d045"
   },
   "outputs": [
    {
     "name": "stdout",
     "output_type": "stream",
     "text": [
      "Mounted at /content/gdrive\n"
     ]
    }
   ],
   "source": [
    "from google.colab import drive \n",
    "\n",
    "drive.mount('/content/gdrive')"
   ]
  },
  {
   "cell_type": "markdown",
   "metadata": {
    "id": "lcepwj8S7pJW"
   },
   "source": [
    "# Training data \n"
   ]
  },
  {
   "cell_type": "markdown",
   "metadata": {
    "id": "tn6r9pzvFRUa"
   },
   "source": [
    "## Train variants "
   ]
  },
  {
   "cell_type": "code",
   "execution_count": 3,
   "metadata": {
    "colab": {
     "base_uri": "https://localhost:8080/",
     "height": 0
    },
    "id": "30CXBcGT7sdr",
    "outputId": "ee445b6f-9e4e-4992-d302-d4f347ccc529"
   },
   "outputs": [
    {
     "name": "stdout",
     "output_type": "stream",
     "text": [
      "Number of data points :  3321\n",
      "Number of features :  4\n",
      "Features :  ['ID' 'Gene' 'Variation' 'Class']\n"
     ]
    },
    {
     "data": {
      "text/html": [
       "<div>\n",
       "<style scoped>\n",
       "    .dataframe tbody tr th:only-of-type {\n",
       "        vertical-align: middle;\n",
       "    }\n",
       "\n",
       "    .dataframe tbody tr th {\n",
       "        vertical-align: top;\n",
       "    }\n",
       "\n",
       "    .dataframe thead th {\n",
       "        text-align: right;\n",
       "    }\n",
       "</style>\n",
       "<table border=\"1\" class=\"dataframe\">\n",
       "  <thead>\n",
       "    <tr style=\"text-align: right;\">\n",
       "      <th></th>\n",
       "      <th>ID</th>\n",
       "      <th>Gene</th>\n",
       "      <th>Variation</th>\n",
       "      <th>Class</th>\n",
       "    </tr>\n",
       "  </thead>\n",
       "  <tbody>\n",
       "    <tr>\n",
       "      <th>0</th>\n",
       "      <td>0</td>\n",
       "      <td>FAM58A</td>\n",
       "      <td>Truncating Mutations</td>\n",
       "      <td>1</td>\n",
       "    </tr>\n",
       "    <tr>\n",
       "      <th>1</th>\n",
       "      <td>1</td>\n",
       "      <td>CBL</td>\n",
       "      <td>W802*</td>\n",
       "      <td>2</td>\n",
       "    </tr>\n",
       "    <tr>\n",
       "      <th>2</th>\n",
       "      <td>2</td>\n",
       "      <td>CBL</td>\n",
       "      <td>Q249E</td>\n",
       "      <td>2</td>\n",
       "    </tr>\n",
       "    <tr>\n",
       "      <th>3</th>\n",
       "      <td>3</td>\n",
       "      <td>CBL</td>\n",
       "      <td>N454D</td>\n",
       "      <td>3</td>\n",
       "    </tr>\n",
       "    <tr>\n",
       "      <th>4</th>\n",
       "      <td>4</td>\n",
       "      <td>CBL</td>\n",
       "      <td>L399V</td>\n",
       "      <td>4</td>\n",
       "    </tr>\n",
       "  </tbody>\n",
       "</table>\n",
       "</div>"
      ],
      "text/plain": [
       "   ID    Gene             Variation  Class\n",
       "0   0  FAM58A  Truncating Mutations      1\n",
       "1   1     CBL                 W802*      2\n",
       "2   2     CBL                 Q249E      2\n",
       "3   3     CBL                 N454D      3\n",
       "4   4     CBL                 L399V      4"
      ]
     },
     "execution_count": 3,
     "metadata": {},
     "output_type": "execute_result"
    }
   ],
   "source": [
    "train_variants = pd.read_csv(\"/content/gdrive/MyDrive/Kaggle/msk-redefining-cancer-treatment/training_variants\")\n",
    "print('Number of data points : ', train_variants.shape[0])\n",
    "print('Number of features : ', train_variants.shape[1])\n",
    "print('Features : ', train_variants.columns.values)\n",
    "train_variants.head()\n"
   ]
  },
  {
   "cell_type": "markdown",
   "metadata": {
    "id": "zc-jcHnj8a9G"
   },
   "source": [
    "training_variants is a comma separated file containing the description of the genetic mutations used for training.\n",
    "* ID : the id of the row used to link the mutation to the clinical evidence\n",
    "* Gene : the gene where this genetic mutation is located\n",
    "* Variation : the aminoacid change for this mutations\n",
    "* Class : 1-9 the class this genetic mutation has been classified on"
   ]
  },
  {
   "cell_type": "code",
   "execution_count": 4,
   "metadata": {
    "colab": {
     "base_uri": "https://localhost:8080/"
    },
    "id": "T5A0bkHB8glj",
    "outputId": "bb4ca854-8a0e-476f-e447-6656cbfb9e90"
   },
   "outputs": [
    {
     "data": {
      "text/plain": [
       "BRCA1    264\n",
       "TP53     163\n",
       "EGFR     141\n",
       "PTEN     126\n",
       "BRCA2    125\n",
       "        ... \n",
       "ASXL1      1\n",
       "SDHC       1\n",
       "RNF43      1\n",
       "MYOD1      1\n",
       "FANCC      1\n",
       "Name: Gene, Length: 264, dtype: int64"
      ]
     },
     "execution_count": 4,
     "metadata": {},
     "output_type": "execute_result"
    }
   ],
   "source": [
    "# Count of Unique Values of Gene\n",
    "train_variants[\"Gene\"].value_counts()"
   ]
  },
  {
   "cell_type": "markdown",
   "metadata": {
    "id": "-IVqC3mG8oUp"
   },
   "source": [
    "We have 264 different genes"
   ]
  },
  {
   "cell_type": "code",
   "execution_count": 5,
   "metadata": {
    "colab": {
     "base_uri": "https://localhost:8080/"
    },
    "id": "VoNoRuXx8l_I",
    "outputId": "535b9a7a-89ef-476a-d228-36d9adc4662b"
   },
   "outputs": [
    {
     "data": {
      "text/plain": [
       "Truncating Mutations    93\n",
       "Deletion                74\n",
       "Amplification           71\n",
       "Fusions                 34\n",
       "Overexpression           6\n",
       "                        ..\n",
       "E525K                    1\n",
       "R99P                     1\n",
       "R11K                     1\n",
       "D820E                    1\n",
       "S1715N                   1\n",
       "Name: Variation, Length: 2996, dtype: int64"
      ]
     },
     "execution_count": 5,
     "metadata": {},
     "output_type": "execute_result"
    }
   ],
   "source": [
    "# Count of Unique Values of Variation\n",
    "train_variants[\"Variation\"].value_counts()"
   ]
  },
  {
   "cell_type": "markdown",
   "metadata": {
    "id": "3FrIFG5j8ruc"
   },
   "source": [
    "We have 2996 variation "
   ]
  },
  {
   "cell_type": "code",
   "execution_count": 6,
   "metadata": {
    "colab": {
     "base_uri": "https://localhost:8080/"
    },
    "id": "TPbt27Yn8y_F",
    "outputId": "504c451a-1872-4ae5-f639-a283c0fcdf96"
   },
   "outputs": [
    {
     "data": {
      "text/plain": [
       "FGFR2 FGFR2-FAM76A Fusion    1\n",
       "BRCA1 L1780P                 1\n",
       "SMAD4 Y513A                  1\n",
       "PDGFRB V665A                 1\n",
       "KRAS P34L                    1\n",
       "Name: gene_and_variation, dtype: int64"
      ]
     },
     "execution_count": 6,
     "metadata": {},
     "output_type": "execute_result"
    }
   ],
   "source": [
    "#checking number of unique values for 'Gene+Variation' combinations\n",
    "G_V = train_variants.copy()\n",
    "G_V['gene_and_variation']=train_variants['Gene']+' '+train_variants['Variation']\n",
    "G_V.head()\n",
    "G_V['gene_and_variation'].value_counts().head()"
   ]
  },
  {
   "cell_type": "markdown",
   "metadata": {
    "id": "OnsWgLoc9Ao8"
   },
   "source": [
    "All combinations 'Gene + Variation' in these datasets are unique"
   ]
  },
  {
   "cell_type": "code",
   "execution_count": 7,
   "metadata": {
    "colab": {
     "base_uri": "https://localhost:8080/"
    },
    "id": "frUdTnSX9ESe",
    "outputId": "47a0aef1-f84d-48e3-c57d-bf3ef852f4be"
   },
   "outputs": [
    {
     "data": {
      "text/plain": [
       "array([1, 2, 3, 4, 5, 6, 7, 8, 9])"
      ]
     },
     "execution_count": 7,
     "metadata": {},
     "output_type": "execute_result"
    }
   ],
   "source": [
    "train_variants.Class.unique()"
   ]
  },
  {
   "cell_type": "markdown",
   "metadata": {
    "id": "W7xW7IMq9FZZ"
   },
   "source": [
    "This is descrete data so it is classification problem and since there are multiple descrete output possible so we can call it Multi class classification problem"
   ]
  },
  {
   "cell_type": "code",
   "execution_count": 8,
   "metadata": {
    "colab": {
     "base_uri": "https://localhost:8080/"
    },
    "id": "Gis2UUav9MG6",
    "outputId": "879c539d-e1e6-48d3-e2b5-dec84a78338f"
   },
   "outputs": [
    {
     "data": {
      "text/plain": [
       "ID           0\n",
       "Gene         0\n",
       "Variation    0\n",
       "Class        0\n",
       "dtype: int64"
      ]
     },
     "execution_count": 8,
     "metadata": {},
     "output_type": "execute_result"
    }
   ],
   "source": [
    "# detect missing values \n",
    "train_variants.isnull().sum()"
   ]
  },
  {
   "cell_type": "code",
   "execution_count": 9,
   "metadata": {
    "colab": {
     "base_uri": "https://localhost:8080/",
     "height": 0
    },
    "id": "dvWOfvT99OTU",
    "outputId": "1def65c6-925c-4424-e060-580977b95ebc"
   },
   "outputs": [
    {
     "data": {
      "image/png": "[encoded data removed]",
      "text/plain": [
       "<Figure size 864x576 with 1 Axes>"
      ]
     },
     "metadata": {
      "needs_background": "light"
     },
     "output_type": "display_data"
    }
   ],
   "source": [
    "# plot Distribution of class\n",
    "plt.figure(figsize=(12,8))\n",
    "ax = sns.countplot(x=\"Class\", data=train_variants)\n",
    "plt.ylabel('Frequency'); plt.xlabel('Class')\n",
    "plt.title('Freq. of Classes in Training Variants')\n",
    "plt.show()"
   ]
  },
  {
   "cell_type": "markdown",
   "metadata": {
    "id": "lhfUcWL29-Gu"
   },
   "source": [
    "Classes seem very imbalanced"
   ]
  },
  {
   "cell_type": "markdown",
   "metadata": {
    "id": "yNpPYZtS-P8l"
   },
   "source": [
    "Genes that has highest number of occurrences in each class"
   ]
  },
  {
   "cell_type": "code",
   "execution_count": 10,
   "metadata": {
    "colab": {
     "base_uri": "https://localhost:8080/",
     "height": 0
    },
    "id": "Tb41dK1W9iiQ",
    "outputId": "9f2276b2-7fcf-4c7e-cfc3-e33e097f658e"
   },
   "outputs": [
    {
     "data": {
      "image/png": "[encoded data removed]",
      "text/plain": [
       "<Figure size 1080x1080 with 9 Axes>"
      ]
     },
     "metadata": {
      "needs_background": "light"
     },
     "output_type": "display_data"
    }
   ],
   "source": [
    "fig, axs = plt.subplots(ncols=3, nrows=3, figsize=(15,15))\n",
    "\n",
    "for i in range(3):\n",
    "    for j in range(3):\n",
    "        gene_count_grp = train_variants[train_variants[\"Class\"]==((i*3+j)+1)].groupby('Gene')[\"ID\"].count().reset_index()\n",
    "        sorted_gene_group = gene_count_grp.sort_values('ID', ascending=False)\n",
    "        sorted_gene_group_top_7 = sorted_gene_group[:7]\n",
    "        sns.barplot(x=\"Gene\", y=\"ID\", data=sorted_gene_group_top_7, ax=axs[i][j])"
   ]
  },
  {
   "cell_type": "markdown",
   "metadata": {
    "id": "JgKq-hy4-cey"
   },
   "source": [
    "\n",
    "\n",
    "Some points we can conclude from these graphs:\n",
    "\n",
    "* BRCA1 is highly dominating Class 5\n",
    "* SF3B1 is highly dominating Class 9\n",
    "* BRCA1 and BRCA2 are dominating Class 6\n",
    "\n"
   ]
  },
  {
   "cell_type": "markdown",
   "metadata": {
    "id": "pNGAHhxg8RGI"
   },
   "source": [
    "## Train text"
   ]
  },
  {
   "cell_type": "code",
   "execution_count": 11,
   "metadata": {
    "colab": {
     "base_uri": "https://localhost:8080/",
     "height": 0
    },
    "id": "wJUz5H-V7ian",
    "outputId": "adef0378-a9a3-4cc9-d8f4-efbbb20da003"
   },
   "outputs": [
    {
     "name": "stdout",
     "output_type": "stream",
     "text": [
      "Number of data points :  3321\n",
      "Number of features :  2\n",
      "Features :  ['ID' 'Text']\n"
     ]
    },
    {
     "data": {
      "text/html": [
       "<div>\n",
       "<style scoped>\n",
       "    .dataframe tbody tr th:only-of-type {\n",
       "        vertical-align: middle;\n",
       "    }\n",
       "\n",
       "    .dataframe tbody tr th {\n",
       "        vertical-align: top;\n",
       "    }\n",
       "\n",
       "    .dataframe thead th {\n",
       "        text-align: right;\n",
       "    }\n",
       "</style>\n",
       "<table border=\"1\" class=\"dataframe\">\n",
       "  <thead>\n",
       "    <tr style=\"text-align: right;\">\n",
       "      <th></th>\n",
       "      <th>ID</th>\n",
       "      <th>Text</th>\n",
       "    </tr>\n",
       "  </thead>\n",
       "  <tbody>\n",
       "    <tr>\n",
       "      <th>0</th>\n",
       "      <td>0</td>\n",
       "      <td>Cyclin-dependent kinases (CDKs) regulate a var...</td>\n",
       "    </tr>\n",
       "    <tr>\n",
       "      <th>1</th>\n",
       "      <td>1</td>\n",
       "      <td>Abstract Background  Non-small cell lung canc...</td>\n",
       "    </tr>\n",
       "    <tr>\n",
       "      <th>2</th>\n",
       "      <td>2</td>\n",
       "      <td>Abstract Background  Non-small cell lung canc...</td>\n",
       "    </tr>\n",
       "    <tr>\n",
       "      <th>3</th>\n",
       "      <td>3</td>\n",
       "      <td>Recent evidence has demonstrated that acquired...</td>\n",
       "    </tr>\n",
       "    <tr>\n",
       "      <th>4</th>\n",
       "      <td>4</td>\n",
       "      <td>Oncogenic mutations in the monomeric Casitas B...</td>\n",
       "    </tr>\n",
       "  </tbody>\n",
       "</table>\n",
       "</div>"
      ],
      "text/plain": [
       "   ID                                               Text\n",
       "0   0  Cyclin-dependent kinases (CDKs) regulate a var...\n",
       "1   1   Abstract Background  Non-small cell lung canc...\n",
       "2   2   Abstract Background  Non-small cell lung canc...\n",
       "3   3  Recent evidence has demonstrated that acquired...\n",
       "4   4  Oncogenic mutations in the monomeric Casitas B..."
      ]
     },
     "execution_count": 11,
     "metadata": {},
     "output_type": "execute_result"
    }
   ],
   "source": [
    "train_text = pd.read_csv(\"/content/gdrive/MyDrive/Kaggle/msk-redefining-cancer-treatment/training_text\",sep=\"\\|\\|\", engine=\"python\", skiprows=1, names=[\"ID\", \"Text\"])\n",
    "# Ragou's data\n",
    "#train_text = pd.read_csv(\"/content/gdrive/MyDrive/Kaggle/msk-redefining-cancer-treatment/new_data_clean.txt\",sep=\"\\|\\|\", engine=\"python\", skiprows=1, names=[\"ID\", \"Text\"])\n",
    "print('Number of data points : ', train_text.shape[0])\n",
    "print('Number of features : ', train_text.shape[1])\n",
    "print('Features : ', train_text.columns.values)\n",
    "train_text.head()"
   ]
  },
  {
   "cell_type": "markdown",
   "metadata": {
    "id": "1Ohiua1f8FzH"
   },
   "source": [
    "train_text is double pipe (||) delimited file that contains the clinical evidence (text) used to classify genetic mutations. \n",
    "* ID (the id of the row used to link the clinical evidence to the genetic mutation)\n",
    "* Text (the clinical evidence used to classify the genetic mutation)"
   ]
  },
  {
   "cell_type": "code",
   "execution_count": 12,
   "metadata": {
    "colab": {
     "base_uri": "https://localhost:8080/"
    },
    "id": "0qN5e7Ii72Sc",
    "outputId": "9a3b9810-cb9d-42eb-e9ea-3f2b2ea75fc6"
   },
   "outputs": [
    {
     "data": {
      "text/plain": [
       "1920"
      ]
     },
     "execution_count": 12,
     "metadata": {},
     "output_type": "execute_result"
    }
   ],
   "source": [
    "train_text.Text.nunique()"
   ]
  },
  {
   "cell_type": "code",
   "execution_count": 13,
   "metadata": {
    "colab": {
     "base_uri": "https://localhost:8080/",
     "height": 0
    },
    "id": "7xP9ANwP8FcI",
    "outputId": "dbd863b9-792c-4f41-df35-55ced35be269"
   },
   "outputs": [
    {
     "data": {
      "text/html": [
       "<div>\n",
       "<style scoped>\n",
       "    .dataframe tbody tr th:only-of-type {\n",
       "        vertical-align: middle;\n",
       "    }\n",
       "\n",
       "    .dataframe tbody tr th {\n",
       "        vertical-align: top;\n",
       "    }\n",
       "\n",
       "    .dataframe thead th {\n",
       "        text-align: right;\n",
       "    }\n",
       "</style>\n",
       "<table border=\"1\" class=\"dataframe\">\n",
       "  <thead>\n",
       "    <tr style=\"text-align: right;\">\n",
       "      <th></th>\n",
       "      <th>ID</th>\n",
       "      <th>Text</th>\n",
       "      <th>Text_count</th>\n",
       "    </tr>\n",
       "  </thead>\n",
       "  <tbody>\n",
       "    <tr>\n",
       "      <th>0</th>\n",
       "      <td>0</td>\n",
       "      <td>Cyclin-dependent kinases (CDKs) regulate a var...</td>\n",
       "      <td>6089</td>\n",
       "    </tr>\n",
       "    <tr>\n",
       "      <th>1</th>\n",
       "      <td>1</td>\n",
       "      <td>Abstract Background  Non-small cell lung canc...</td>\n",
       "      <td>5756</td>\n",
       "    </tr>\n",
       "    <tr>\n",
       "      <th>2</th>\n",
       "      <td>2</td>\n",
       "      <td>Abstract Background  Non-small cell lung canc...</td>\n",
       "      <td>5756</td>\n",
       "    </tr>\n",
       "    <tr>\n",
       "      <th>3</th>\n",
       "      <td>3</td>\n",
       "      <td>Recent evidence has demonstrated that acquired...</td>\n",
       "      <td>5572</td>\n",
       "    </tr>\n",
       "    <tr>\n",
       "      <th>4</th>\n",
       "      <td>4</td>\n",
       "      <td>Oncogenic mutations in the monomeric Casitas B...</td>\n",
       "      <td>6202</td>\n",
       "    </tr>\n",
       "  </tbody>\n",
       "</table>\n",
       "</div>"
      ],
      "text/plain": [
       "   ID                                               Text  Text_count\n",
       "0   0  Cyclin-dependent kinases (CDKs) regulate a var...        6089\n",
       "1   1   Abstract Background  Non-small cell lung canc...        5756\n",
       "2   2   Abstract Background  Non-small cell lung canc...        5756\n",
       "3   3  Recent evidence has demonstrated that acquired...        5572\n",
       "4   4  Oncogenic mutations in the monomeric Casitas B...        6202"
      ]
     },
     "execution_count": 13,
     "metadata": {},
     "output_type": "execute_result"
    }
   ],
   "source": [
    "#count_text = train_text.copy()\n",
    "train_text.loc[:, 'Text_count']  = train_text[\"Text\"].apply(lambda x: len( str(x).split()))\n",
    "train_text.head()\n"
   ]
  },
  {
   "cell_type": "markdown",
   "metadata": {
    "id": "Bkcwj0cjFf5m"
   },
   "source": [
    "# Preprocessing "
   ]
  },
  {
   "cell_type": "code",
   "execution_count": 14,
   "metadata": {
    "colab": {
     "base_uri": "https://localhost:8080/"
    },
    "id": "NV05AVSEK2-H",
    "outputId": "db565107-0155-47fa-cebc-fd0f4b7dc80d"
   },
   "outputs": [
    {
     "name": "stdout",
     "output_type": "stream",
     "text": [
      "[nltk_data] Downloading package stopwords to /root/nltk_data...\n",
      "[nltk_data]   Unzipping corpora/stopwords.zip.\n"
     ]
    }
   ],
   "source": [
    "# remove stopwords: the,a,an etc.\n",
    "nltk.download(\"stopwords\")\n",
    "from nltk.corpus import stopwords\n",
    "sw = stopwords.words(\"english\")\n",
    "\n",
    "def pre_processing(data):\n",
    "  # lowercase text\n",
    "  data = data.apply(lambda x: \" \".join(i.lower() for i in  str(x).split()))\n",
    "  # remove numeric values\n",
    "  data = data.str.replace(\"\\d\",\"\")\n",
    "  # remove punctuations\n",
    "  data = data.str.replace(\"[^\\w\\s]\",\"\")\n",
    "  # remove stopwords: the,a,an etc.\n",
    "  data = data.apply(lambda x: \" \".join(i for i in x.split() if i not in sw))\n",
    "  return data\n",
    "\n"
   ]
  },
  {
   "cell_type": "code",
   "execution_count": 15,
   "metadata": {
    "id": "uL3wofRnM8ao"
   },
   "outputs": [],
   "source": [
    "train_text['Text']= pre_processing(train_text['Text'])\n"
   ]
  },
  {
   "cell_type": "code",
   "execution_count": 16,
   "metadata": {
    "colab": {
     "base_uri": "https://localhost:8080/",
     "height": 0
    },
    "id": "ikzL1GQf3Zfe",
    "outputId": "53faa561-fb75-4b74-effc-cb64efe0cff8"
   },
   "outputs": [
    {
     "data": {
      "text/html": [
       "<div>\n",
       "<style scoped>\n",
       "    .dataframe tbody tr th:only-of-type {\n",
       "        vertical-align: middle;\n",
       "    }\n",
       "\n",
       "    .dataframe tbody tr th {\n",
       "        vertical-align: top;\n",
       "    }\n",
       "\n",
       "    .dataframe thead th {\n",
       "        text-align: right;\n",
       "    }\n",
       "</style>\n",
       "<table border=\"1\" class=\"dataframe\">\n",
       "  <thead>\n",
       "    <tr style=\"text-align: right;\">\n",
       "      <th></th>\n",
       "      <th>ID</th>\n",
       "      <th>Text</th>\n",
       "      <th>Text_count</th>\n",
       "    </tr>\n",
       "  </thead>\n",
       "  <tbody>\n",
       "    <tr>\n",
       "      <th>0</th>\n",
       "      <td>0</td>\n",
       "      <td>cyclindependent kinases cdks regulate variety ...</td>\n",
       "      <td>3703</td>\n",
       "    </tr>\n",
       "    <tr>\n",
       "      <th>1</th>\n",
       "      <td>1</td>\n",
       "      <td>abstract background nonsmall cell lung cancer ...</td>\n",
       "      <td>3407</td>\n",
       "    </tr>\n",
       "    <tr>\n",
       "      <th>2</th>\n",
       "      <td>2</td>\n",
       "      <td>abstract background nonsmall cell lung cancer ...</td>\n",
       "      <td>3407</td>\n",
       "    </tr>\n",
       "    <tr>\n",
       "      <th>3</th>\n",
       "      <td>3</td>\n",
       "      <td>recent evidence demonstrated acquired uniparen...</td>\n",
       "      <td>3382</td>\n",
       "    </tr>\n",
       "    <tr>\n",
       "      <th>4</th>\n",
       "      <td>4</td>\n",
       "      <td>oncogenic mutations monomeric casitas blineage...</td>\n",
       "      <td>3762</td>\n",
       "    </tr>\n",
       "  </tbody>\n",
       "</table>\n",
       "</div>"
      ],
      "text/plain": [
       "   ID                                               Text  Text_count\n",
       "0   0  cyclindependent kinases cdks regulate variety ...        3703\n",
       "1   1  abstract background nonsmall cell lung cancer ...        3407\n",
       "2   2  abstract background nonsmall cell lung cancer ...        3407\n",
       "3   3  recent evidence demonstrated acquired uniparen...        3382\n",
       "4   4  oncogenic mutations monomeric casitas blineage...        3762"
      ]
     },
     "execution_count": 16,
     "metadata": {},
     "output_type": "execute_result"
    }
   ],
   "source": [
    "train_text.loc[:, 'Text_count']  = train_text['Text'].apply(lambda x: len( str(x).split()))\n",
    "train_text.head()"
   ]
  },
  {
   "cell_type": "markdown",
   "metadata": {
    "id": "VItu7VOvAQsG"
   },
   "source": [
    "# Merge Datasets"
   ]
  },
  {
   "cell_type": "code",
   "execution_count": 17,
   "metadata": {
    "colab": {
     "base_uri": "https://localhost:8080/",
     "height": 206
    },
    "id": "O6Pk68gBASFH",
    "outputId": "2480daf4-cd86-49fe-be69-45799d565b11"
   },
   "outputs": [
    {
     "data": {
      "text/html": [
       "<div>\n",
       "<style scoped>\n",
       "    .dataframe tbody tr th:only-of-type {\n",
       "        vertical-align: middle;\n",
       "    }\n",
       "\n",
       "    .dataframe tbody tr th {\n",
       "        vertical-align: top;\n",
       "    }\n",
       "\n",
       "    .dataframe thead th {\n",
       "        text-align: right;\n",
       "    }\n",
       "</style>\n",
       "<table border=\"1\" class=\"dataframe\">\n",
       "  <thead>\n",
       "    <tr style=\"text-align: right;\">\n",
       "      <th></th>\n",
       "      <th>ID</th>\n",
       "      <th>Gene</th>\n",
       "      <th>Variation</th>\n",
       "      <th>Class</th>\n",
       "      <th>Text</th>\n",
       "      <th>Text_count</th>\n",
       "    </tr>\n",
       "  </thead>\n",
       "  <tbody>\n",
       "    <tr>\n",
       "      <th>0</th>\n",
       "      <td>0</td>\n",
       "      <td>FAM58A</td>\n",
       "      <td>Truncating Mutations</td>\n",
       "      <td>1</td>\n",
       "      <td>cyclindependent kinases cdks regulate variety ...</td>\n",
       "      <td>3703</td>\n",
       "    </tr>\n",
       "    <tr>\n",
       "      <th>1</th>\n",
       "      <td>1</td>\n",
       "      <td>CBL</td>\n",
       "      <td>W802*</td>\n",
       "      <td>2</td>\n",
       "      <td>abstract background nonsmall cell lung cancer ...</td>\n",
       "      <td>3407</td>\n",
       "    </tr>\n",
       "    <tr>\n",
       "      <th>2</th>\n",
       "      <td>2</td>\n",
       "      <td>CBL</td>\n",
       "      <td>Q249E</td>\n",
       "      <td>2</td>\n",
       "      <td>abstract background nonsmall cell lung cancer ...</td>\n",
       "      <td>3407</td>\n",
       "    </tr>\n",
       "    <tr>\n",
       "      <th>3</th>\n",
       "      <td>3</td>\n",
       "      <td>CBL</td>\n",
       "      <td>N454D</td>\n",
       "      <td>3</td>\n",
       "      <td>recent evidence demonstrated acquired uniparen...</td>\n",
       "      <td>3382</td>\n",
       "    </tr>\n",
       "    <tr>\n",
       "      <th>4</th>\n",
       "      <td>4</td>\n",
       "      <td>CBL</td>\n",
       "      <td>L399V</td>\n",
       "      <td>4</td>\n",
       "      <td>oncogenic mutations monomeric casitas blineage...</td>\n",
       "      <td>3762</td>\n",
       "    </tr>\n",
       "  </tbody>\n",
       "</table>\n",
       "</div>"
      ],
      "text/plain": [
       "   ID    Gene  ...                                               Text  Text_count\n",
       "0   0  FAM58A  ...  cyclindependent kinases cdks regulate variety ...        3703\n",
       "1   1     CBL  ...  abstract background nonsmall cell lung cancer ...        3407\n",
       "2   2     CBL  ...  abstract background nonsmall cell lung cancer ...        3407\n",
       "3   3     CBL  ...  recent evidence demonstrated acquired uniparen...        3382\n",
       "4   4     CBL  ...  oncogenic mutations monomeric casitas blineage...        3762\n",
       "\n",
       "[5 rows x 6 columns]"
      ]
     },
     "execution_count": 17,
     "metadata": {},
     "output_type": "execute_result"
    }
   ],
   "source": [
    "df_merge = pd.merge(train_variants,train_text, on=\"ID\",how=\"left\")\n",
    "df_merge.head()"
   ]
  },
  {
   "cell_type": "markdown",
   "metadata": {
    "id": "ps4bSpaaCVeo"
   },
   "source": [
    "\n",
    "\n",
    "There are multiple rows with similar texts let us check how many of them are unique and whether all similar texts belongs to same class"
   ]
  },
  {
   "cell_type": "code",
   "execution_count": 18,
   "metadata": {
    "id": "76UGW3D5AosD"
   },
   "outputs": [],
   "source": [
    "df_merge['Text'] = df_merge['Text'].astype(str)"
   ]
  },
  {
   "cell_type": "code",
   "execution_count": 19,
   "metadata": {
    "colab": {
     "base_uri": "https://localhost:8080/",
     "height": 363
    },
    "id": "XbhjHPdUCYQa",
    "outputId": "a642d464-3dfa-4638-c282-0c11b33aa3af"
   },
   "outputs": [
    {
     "data": {
      "text/html": [
       "<div>\n",
       "<style scoped>\n",
       "    .dataframe tbody tr th:only-of-type {\n",
       "        vertical-align: middle;\n",
       "    }\n",
       "\n",
       "    .dataframe tbody tr th {\n",
       "        vertical-align: top;\n",
       "    }\n",
       "\n",
       "    .dataframe thead th {\n",
       "        text-align: right;\n",
       "    }\n",
       "</style>\n",
       "<table border=\"1\" class=\"dataframe\">\n",
       "  <thead>\n",
       "    <tr style=\"text-align: right;\">\n",
       "      <th></th>\n",
       "      <th>count</th>\n",
       "      <th>mean</th>\n",
       "      <th>std</th>\n",
       "      <th>min</th>\n",
       "      <th>25%</th>\n",
       "      <th>50%</th>\n",
       "      <th>75%</th>\n",
       "      <th>max</th>\n",
       "    </tr>\n",
       "    <tr>\n",
       "      <th>Class</th>\n",
       "      <th></th>\n",
       "      <th></th>\n",
       "      <th></th>\n",
       "      <th></th>\n",
       "      <th></th>\n",
       "      <th></th>\n",
       "      <th></th>\n",
       "      <th></th>\n",
       "    </tr>\n",
       "  </thead>\n",
       "  <tbody>\n",
       "    <tr>\n",
       "      <th>1</th>\n",
       "      <td>568.0</td>\n",
       "      <td>5743.426056</td>\n",
       "      <td>3965.451812</td>\n",
       "      <td>1.0</td>\n",
       "      <td>3057.00</td>\n",
       "      <td>4557.5</td>\n",
       "      <td>7514.50</td>\n",
       "      <td>31380.0</td>\n",
       "    </tr>\n",
       "    <tr>\n",
       "      <th>2</th>\n",
       "      <td>452.0</td>\n",
       "      <td>5697.924779</td>\n",
       "      <td>4690.364156</td>\n",
       "      <td>71.0</td>\n",
       "      <td>2570.25</td>\n",
       "      <td>4224.0</td>\n",
       "      <td>7502.25</td>\n",
       "      <td>38422.0</td>\n",
       "    </tr>\n",
       "    <tr>\n",
       "      <th>3</th>\n",
       "      <td>89.0</td>\n",
       "      <td>4109.505618</td>\n",
       "      <td>2217.860605</td>\n",
       "      <td>1123.0</td>\n",
       "      <td>2659.00</td>\n",
       "      <td>3382.0</td>\n",
       "      <td>4607.00</td>\n",
       "      <td>16559.0</td>\n",
       "    </tr>\n",
       "    <tr>\n",
       "      <th>4</th>\n",
       "      <td>686.0</td>\n",
       "      <td>5487.255102</td>\n",
       "      <td>4416.365220</td>\n",
       "      <td>28.0</td>\n",
       "      <td>2799.25</td>\n",
       "      <td>3908.0</td>\n",
       "      <td>7050.25</td>\n",
       "      <td>26508.0</td>\n",
       "    </tr>\n",
       "    <tr>\n",
       "      <th>5</th>\n",
       "      <td>242.0</td>\n",
       "      <td>4499.347107</td>\n",
       "      <td>2257.312406</td>\n",
       "      <td>113.0</td>\n",
       "      <td>3076.00</td>\n",
       "      <td>4126.0</td>\n",
       "      <td>5720.00</td>\n",
       "      <td>14670.0</td>\n",
       "    </tr>\n",
       "    <tr>\n",
       "      <th>6</th>\n",
       "      <td>275.0</td>\n",
       "      <td>4195.363636</td>\n",
       "      <td>2381.260474</td>\n",
       "      <td>1.0</td>\n",
       "      <td>2655.00</td>\n",
       "      <td>3720.0</td>\n",
       "      <td>4862.00</td>\n",
       "      <td>14856.0</td>\n",
       "    </tr>\n",
       "    <tr>\n",
       "      <th>7</th>\n",
       "      <td>953.0</td>\n",
       "      <td>6988.057712</td>\n",
       "      <td>6105.308862</td>\n",
       "      <td>1.0</td>\n",
       "      <td>3025.00</td>\n",
       "      <td>5052.0</td>\n",
       "      <td>8843.00</td>\n",
       "      <td>48090.0</td>\n",
       "    </tr>\n",
       "    <tr>\n",
       "      <th>8</th>\n",
       "      <td>19.0</td>\n",
       "      <td>6741.052632</td>\n",
       "      <td>3527.127577</td>\n",
       "      <td>1297.0</td>\n",
       "      <td>3466.00</td>\n",
       "      <td>6882.0</td>\n",
       "      <td>9835.00</td>\n",
       "      <td>12808.0</td>\n",
       "    </tr>\n",
       "    <tr>\n",
       "      <th>9</th>\n",
       "      <td>37.0</td>\n",
       "      <td>8058.189189</td>\n",
       "      <td>6427.903580</td>\n",
       "      <td>728.0</td>\n",
       "      <td>2960.00</td>\n",
       "      <td>7010.0</td>\n",
       "      <td>10078.00</td>\n",
       "      <td>27837.0</td>\n",
       "    </tr>\n",
       "  </tbody>\n",
       "</table>\n",
       "</div>"
      ],
      "text/plain": [
       "       count         mean          std  ...     50%       75%      max\n",
       "Class                                   ...                           \n",
       "1      568.0  5743.426056  3965.451812  ...  4557.5   7514.50  31380.0\n",
       "2      452.0  5697.924779  4690.364156  ...  4224.0   7502.25  38422.0\n",
       "3       89.0  4109.505618  2217.860605  ...  3382.0   4607.00  16559.0\n",
       "4      686.0  5487.255102  4416.365220  ...  3908.0   7050.25  26508.0\n",
       "5      242.0  4499.347107  2257.312406  ...  4126.0   5720.00  14670.0\n",
       "6      275.0  4195.363636  2381.260474  ...  3720.0   4862.00  14856.0\n",
       "7      953.0  6988.057712  6105.308862  ...  5052.0   8843.00  48090.0\n",
       "8       19.0  6741.052632  3527.127577  ...  6882.0   9835.00  12808.0\n",
       "9       37.0  8058.189189  6427.903580  ...  7010.0  10078.00  27837.0\n",
       "\n",
       "[9 rows x 8 columns]"
      ]
     },
     "execution_count": 19,
     "metadata": {},
     "output_type": "execute_result"
    }
   ],
   "source": [
    "count_grp = df_merge.groupby('Class')[\"Text_count\"]\n",
    "count_grp.describe()"
   ]
  },
  {
   "cell_type": "code",
   "execution_count": 20,
   "metadata": {
    "colab": {
     "base_uri": "https://localhost:8080/",
     "height": 206
    },
    "id": "SDmvIpS6XRN-",
    "outputId": "dc490d98-3055-4870-c129-330d7384413c"
   },
   "outputs": [
    {
     "data": {
      "text/html": [
       "<div>\n",
       "<style scoped>\n",
       "    .dataframe tbody tr th:only-of-type {\n",
       "        vertical-align: middle;\n",
       "    }\n",
       "\n",
       "    .dataframe tbody tr th {\n",
       "        vertical-align: top;\n",
       "    }\n",
       "\n",
       "    .dataframe thead th {\n",
       "        text-align: right;\n",
       "    }\n",
       "</style>\n",
       "<table border=\"1\" class=\"dataframe\">\n",
       "  <thead>\n",
       "    <tr style=\"text-align: right;\">\n",
       "      <th></th>\n",
       "      <th>ID</th>\n",
       "      <th>Gene</th>\n",
       "      <th>Variation</th>\n",
       "      <th>Class</th>\n",
       "      <th>Text</th>\n",
       "      <th>Text_count</th>\n",
       "    </tr>\n",
       "  </thead>\n",
       "  <tbody>\n",
       "    <tr>\n",
       "      <th>1109</th>\n",
       "      <td>1109</td>\n",
       "      <td>FANCA</td>\n",
       "      <td>S1088F</td>\n",
       "      <td>1</td>\n",
       "      <td>nan</td>\n",
       "      <td>1</td>\n",
       "    </tr>\n",
       "    <tr>\n",
       "      <th>1277</th>\n",
       "      <td>1277</td>\n",
       "      <td>ARID5B</td>\n",
       "      <td>Truncating Mutations</td>\n",
       "      <td>1</td>\n",
       "      <td>nan</td>\n",
       "      <td>1</td>\n",
       "    </tr>\n",
       "    <tr>\n",
       "      <th>1407</th>\n",
       "      <td>1407</td>\n",
       "      <td>FGFR3</td>\n",
       "      <td>K508M</td>\n",
       "      <td>6</td>\n",
       "      <td>nan</td>\n",
       "      <td>1</td>\n",
       "    </tr>\n",
       "    <tr>\n",
       "      <th>1639</th>\n",
       "      <td>1639</td>\n",
       "      <td>FLT1</td>\n",
       "      <td>Amplification</td>\n",
       "      <td>6</td>\n",
       "      <td>nan</td>\n",
       "      <td>1</td>\n",
       "    </tr>\n",
       "    <tr>\n",
       "      <th>2755</th>\n",
       "      <td>2755</td>\n",
       "      <td>BRAF</td>\n",
       "      <td>G596C</td>\n",
       "      <td>7</td>\n",
       "      <td>nan</td>\n",
       "      <td>1</td>\n",
       "    </tr>\n",
       "  </tbody>\n",
       "</table>\n",
       "</div>"
      ],
      "text/plain": [
       "        ID    Gene             Variation  Class Text  Text_count\n",
       "1109  1109   FANCA                S1088F      1  nan           1\n",
       "1277  1277  ARID5B  Truncating Mutations      1  nan           1\n",
       "1407  1407   FGFR3                 K508M      6  nan           1\n",
       "1639  1639    FLT1         Amplification      6  nan           1\n",
       "2755  2755    BRAF                 G596C      7  nan           1"
      ]
     },
     "execution_count": 20,
     "metadata": {},
     "output_type": "execute_result"
    }
   ],
   "source": [
    "df_merge[df_merge[\"Text_count\"]==1.0]"
   ]
  },
  {
   "cell_type": "markdown",
   "metadata": {
    "id": "IH9UFWd-D5LF"
   },
   "source": [
    "we can see there are some entries without any text data"
   ]
  },
  {
   "cell_type": "code",
   "execution_count": 21,
   "metadata": {
    "id": "7PbMFBjhCmeG"
   },
   "outputs": [],
   "source": [
    "# Fill NaN values with Gene & Variation \n",
    "df_merge.loc[df_merge[\"Text_count\"]==1.0,\"Text\"] = df_merge[\"Gene\"] + \" \" + df_merge[\"Variation\"]"
   ]
  },
  {
   "cell_type": "markdown",
   "metadata": {
    "id": "Pm1pyC5ZEYBd"
   },
   "source": [
    "Get distribution of text count for each class"
   ]
  },
  {
   "cell_type": "code",
   "execution_count": 22,
   "metadata": {
    "colab": {
     "base_uri": "https://localhost:8080/",
     "height": 764
    },
    "id": "hZhqsf8UEAw5",
    "outputId": "b84a1dce-4845-42dd-8f3b-925da35a1eac"
   },
   "outputs": [
    {
     "name": "stderr",
     "output_type": "stream",
     "text": [
      "/usr/local/lib/python3.7/dist-packages/seaborn/categorical.py:1296: UserWarning: 61.6% of the points cannot be placed; you may want to decrease the size of the markers or use stripplot.\n",
      "  warnings.warn(msg, UserWarning)\n",
      "/usr/local/lib/python3.7/dist-packages/seaborn/categorical.py:1296: UserWarning: 54.9% of the points cannot be placed; you may want to decrease the size of the markers or use stripplot.\n",
      "  warnings.warn(msg, UserWarning)\n",
      "/usr/local/lib/python3.7/dist-packages/seaborn/categorical.py:1296: UserWarning: 37.1% of the points cannot be placed; you may want to decrease the size of the markers or use stripplot.\n",
      "  warnings.warn(msg, UserWarning)\n",
      "/usr/local/lib/python3.7/dist-packages/seaborn/categorical.py:1296: UserWarning: 65.9% of the points cannot be placed; you may want to decrease the size of the markers or use stripplot.\n",
      "  warnings.warn(msg, UserWarning)\n",
      "/usr/local/lib/python3.7/dist-packages/seaborn/categorical.py:1296: UserWarning: 52.5% of the points cannot be placed; you may want to decrease the size of the markers or use stripplot.\n",
      "  warnings.warn(msg, UserWarning)\n",
      "/usr/local/lib/python3.7/dist-packages/seaborn/categorical.py:1296: UserWarning: 59.6% of the points cannot be placed; you may want to decrease the size of the markers or use stripplot.\n",
      "  warnings.warn(msg, UserWarning)\n",
      "/usr/local/lib/python3.7/dist-packages/seaborn/categorical.py:1296: UserWarning: 68.4% of the points cannot be placed; you may want to decrease the size of the markers or use stripplot.\n",
      "  warnings.warn(msg, UserWarning)\n"
     ]
    },
    {
     "data": {
      "image/png": "[encoded data removed]",
      "text/plain": [
       "<Figure size 864x576 with 1 Axes>"
      ]
     },
     "metadata": {
      "needs_background": "light"
     },
     "output_type": "display_data"
    }
   ],
   "source": [
    "plt.figure(figsize=(12,8))\n",
    "gene_count_grp = df_merge.groupby('Gene')[\"Text_count\"].sum().reset_index()\n",
    "sns.violinplot(x=\"Class\", y=\"Text_count\", data=df_merge, inner=None)\n",
    "sns.swarmplot(x=\"Class\", y=\"Text_count\", data=df_merge, color=\"w\", alpha=.5);\n",
    "plt.ylabel('Text Count', fontsize=14)\n",
    "plt.xlabel('Class', fontsize=14)\n",
    "plt.title(\"Text length distribution\", fontsize=18)\n",
    "plt.show()\n"
   ]
  },
  {
   "cell_type": "markdown",
   "metadata": {
    "id": "L1M-09tAE1Yt"
   },
   "source": [
    " All classes have most counts in between 0 to 20000. Just as expected"
   ]
  },
  {
   "cell_type": "code",
   "execution_count": 23,
   "metadata": {
    "colab": {
     "base_uri": "https://localhost:8080/",
     "height": 877
    },
    "id": "iz8iZtQPE2iU",
    "outputId": "4a792a92-2d03-4529-bc3b-3a93ee8d10b5",
    "scrolled": true
   },
   "outputs": [
    {
     "data": {
      "image/png": "[encoded data removed]",
      "text/plain": [
       "<Figure size 1080x1080 with 9 Axes>"
      ]
     },
     "metadata": {
      "needs_background": "light"
     },
     "output_type": "display_data"
    }
   ],
   "source": [
    "# how many times the gene is cited in the articles in each class\n",
    "fig, axs = plt.subplots(ncols=3, nrows=3, figsize=(15,15))\n",
    "\n",
    "for i in range(3):\n",
    "    for j in range(3):\n",
    "        gene_count_grp = df_merge[df_merge[\"Class\"]==((i*3+j)+1)].groupby('Gene')[\"Text_count\"].mean().reset_index()\n",
    "        sorted_gene_group = gene_count_grp.sort_values('Text_count', ascending=False)\n",
    "        sorted_gene_group_top_7 = sorted_gene_group[:7]\n",
    "        sns.barplot(x=\"Gene\", y=\"Text_count\", data=sorted_gene_group_top_7, ax=axs[i][j])"
   ]
  },
  {
   "cell_type": "markdown",
   "metadata": {
    "id": "uKNMFLqfv5-c"
   },
   "source": [
    "# Text Embedding"
   ]
  },
  {
   "cell_type": "code",
   "execution_count": 24,
   "metadata": {
    "id": "OtmZQ5fF77TY"
   },
   "outputs": [],
   "source": [
    "# Use the Keras tokenizer, vectorize a text corpus, by turning each text into either a sequence of integers (each integer being the index of a token in a dictionary)\n",
    "# the maximum number of words to keep, based on word frequency.\n",
    "num_words = 2000 \n",
    "tokenizer = Tokenizer(num_words=num_words)\n",
    "tokenizer.fit_on_texts(df_merge['Text'].values) # Updates internal vocabulary based on a list of texts."
   ]
  },
  {
   "cell_type": "code",
   "execution_count": 25,
   "metadata": {
    "colab": {
     "base_uri": "https://localhost:8080/"
    },
    "id": "kbwwDSAu77TZ",
    "outputId": "44581f37-0b14-4ba2-b579-944415a71ecf"
   },
   "outputs": [
    {
     "data": {
      "text/plain": [
       "{'mutations': 1,\n",
       " 'cells': 2,\n",
       " 'cell': 3,\n",
       " 'al': 4,\n",
       " 'et': 5,\n",
       " 'mutation': 6,\n",
       " 'fig': 7,\n",
       " 'figure': 8,\n",
       " 'cancer': 9,\n",
       " 'p': 10,\n",
       " 'patients': 11,\n",
       " 'protein': 12,\n",
       " 'activity': 13,\n",
       " 'expression': 14,\n",
       " 'brca': 15,\n",
       " 'mutant': 16,\n",
       " 'also': 17,\n",
       " 'variants': 18,\n",
       " 'c': 19,\n",
       " 'domain': 20,\n",
       " 'using': 21,\n",
       " 'tumor': 22,\n",
       " 'kinase': 23,\n",
       " 'data': 24,\n",
       " 'gene': 25,\n",
       " 'analysis': 26,\n",
       " 'b': 27,\n",
       " 'mutants': 28,\n",
       " 'tumors': 29,\n",
       " 'table': 30,\n",
       " 'may': 31,\n",
       " 'activation': 32,\n",
       " 'wildtype': 33,\n",
       " 'dna': 34,\n",
       " 'two': 35,\n",
       " 'binding': 36,\n",
       " 'egfr': 37,\n",
       " 'results': 38,\n",
       " 'shown': 39,\n",
       " 'genes': 40,\n",
       " 'proteins': 41,\n",
       " 'one': 42,\n",
       " 'used': 43,\n",
       " 'exon': 44,\n",
       " 'identified': 45,\n",
       " 'human': 46,\n",
       " 'found': 47,\n",
       " 'growth': 48,\n",
       " 'study': 49,\n",
       " 'signaling': 50,\n",
       " 'clinical': 51,\n",
       " 'levels': 52,\n",
       " 'lines': 53,\n",
       " 'functional': 54,\n",
       " 'observed': 55,\n",
       " 'however': 56,\n",
       " 'studies': 57,\n",
       " 'kit': 58,\n",
       " 'assay': 59,\n",
       " 'function': 60,\n",
       " 'different': 61,\n",
       " 'three': 62,\n",
       " 'residues': 63,\n",
       " 'supplementary': 64,\n",
       " 'treatment': 65,\n",
       " 'phosphorylation': 66,\n",
       " 'cases': 67,\n",
       " 'pten': 68,\n",
       " 'previously': 69,\n",
       " 'reported': 70,\n",
       " 'associated': 71,\n",
       " 'resistance': 72,\n",
       " 'e': 73,\n",
       " 'described': 74,\n",
       " 'number': 75,\n",
       " 'control': 76,\n",
       " 'showed': 77,\n",
       " 'samples': 78,\n",
       " 'h': 79,\n",
       " 'assays': 80,\n",
       " 'response': 81,\n",
       " 'pathway': 82,\n",
       " 'compared': 83,\n",
       " 'braf': 84,\n",
       " 'amino': 85,\n",
       " 'sequence': 86,\n",
       " 'smad': 87,\n",
       " 'well': 88,\n",
       " 'ras': 89,\n",
       " 'including': 90,\n",
       " 'wt': 91,\n",
       " 'missense': 92,\n",
       " 'although': 93,\n",
       " 'performed': 94,\n",
       " 'receptor': 95,\n",
       " 'similar': 96,\n",
       " 'disease': 97,\n",
       " 'variant': 98,\n",
       " 'mice': 99,\n",
       " 'increased': 100,\n",
       " 'structure': 101,\n",
       " 'patient': 102,\n",
       " 'region': 103,\n",
       " 'n': 104,\n",
       " 'effect': 105,\n",
       " 'within': 106,\n",
       " 'breast': 107,\n",
       " 'type': 108,\n",
       " 'sequencing': 109,\n",
       " 'inhibitors': 110,\n",
       " 'loss': 111,\n",
       " 'site': 112,\n",
       " 'could': 113,\n",
       " 'cancers': 114,\n",
       " 'lung': 115,\n",
       " 'vitro': 116,\n",
       " 'role': 117,\n",
       " 'either': 118,\n",
       " 'presence': 119,\n",
       " 'interaction': 120,\n",
       " 'expressing': 121,\n",
       " 'alk': 122,\n",
       " 'complex': 123,\n",
       " 'family': 124,\n",
       " 'known': 125,\n",
       " 'thus': 126,\n",
       " 'several': 127,\n",
       " 'tyrosine': 128,\n",
       " 'inhibition': 129,\n",
       " 'domains': 130,\n",
       " 'high': 131,\n",
       " 'inhibitor': 132,\n",
       " 'mm': 133,\n",
       " 'whereas': 134,\n",
       " 'effects': 135,\n",
       " 'normal': 136,\n",
       " 'acid': 137,\n",
       " 'genetic': 138,\n",
       " 'proliferation': 139,\n",
       " 'addition': 140,\n",
       " 'survival': 141,\n",
       " 'primary': 142,\n",
       " 'likely': 143,\n",
       " 'significant': 144,\n",
       " 'fgfr': 145,\n",
       " 'g': 146,\n",
       " 'expressed': 147,\n",
       " 'detected': 148,\n",
       " 'indicated': 149,\n",
       " 'molecular': 150,\n",
       " 'notch': 151,\n",
       " 'analyzed': 152,\n",
       " 'line': 153,\n",
       " 'fusion': 154,\n",
       " 'whether': 155,\n",
       " 'akt': 156,\n",
       " 'oncogenic': 157,\n",
       " 'deleterious': 158,\n",
       " 'transfected': 159,\n",
       " 'significantly': 160,\n",
       " 'therefore': 161,\n",
       " 'first': 162,\n",
       " 'total': 163,\n",
       " 'kras': 164,\n",
       " 'tsc': 165,\n",
       " 'mutated': 166,\n",
       " 'specific': 167,\n",
       " 'model': 168,\n",
       " 'respectively': 169,\n",
       " 'imatinib': 170,\n",
       " 'transcription': 171,\n",
       " 'deletion': 172,\n",
       " 'containing': 173,\n",
       " 'ability': 174,\n",
       " 'important': 175,\n",
       " 'present': 176,\n",
       " 'transcriptional': 177,\n",
       " 'active': 178,\n",
       " 'melanoma': 179,\n",
       " 'additional': 180,\n",
       " 'somatic': 181,\n",
       " 'target': 182,\n",
       " 'group': 183,\n",
       " 'alterations': 184,\n",
       " 'erbb': 185,\n",
       " 'methods': 186,\n",
       " 'sensitivity': 187,\n",
       " 'consistent': 188,\n",
       " 'pcr': 189,\n",
       " 'based': 190,\n",
       " 'changes': 191,\n",
       " 'residue': 192,\n",
       " 'experiments': 193,\n",
       " 'tested': 194,\n",
       " 'development': 195,\n",
       " 'show': 196,\n",
       " 'common': 197,\n",
       " 'gefitinib': 198,\n",
       " 'four': 199,\n",
       " 'contrast': 200,\n",
       " 'antibody': 201,\n",
       " 'obtained': 202,\n",
       " 'mek': 203,\n",
       " 'factor': 204,\n",
       " 'suggest': 205,\n",
       " 'genomic': 206,\n",
       " 'amplification': 207,\n",
       " 'f': 208,\n",
       " 'sites': 209,\n",
       " 'available': 210,\n",
       " 'structural': 211,\n",
       " 'among': 212,\n",
       " 'vivo': 213,\n",
       " 'multiple': 214,\n",
       " 'new': 215,\n",
       " 'small': 216,\n",
       " 'activating': 217,\n",
       " 'erk': 218,\n",
       " 'vus': 219,\n",
       " 'result': 220,\n",
       " 'level': 221,\n",
       " 'vector': 222,\n",
       " 'pathways': 223,\n",
       " 'brct': 224,\n",
       " 'treated': 225,\n",
       " 'higher': 226,\n",
       " 'reduced': 227,\n",
       " 'formation': 228,\n",
       " 'potential': 229,\n",
       " 'large': 230,\n",
       " 'determined': 231,\n",
       " 'activated': 232,\n",
       " 'evidence': 233,\n",
       " 'single': 234,\n",
       " 'might': 235,\n",
       " 'cdk': 236,\n",
       " 'suggesting': 237,\n",
       " 'would': 238,\n",
       " 'required': 239,\n",
       " 'frequency': 240,\n",
       " 'low': 241,\n",
       " 'many': 242,\n",
       " 'revealed': 243,\n",
       " 'mouse': 244,\n",
       " 'without': 245,\n",
       " 'cellular': 246,\n",
       " 'therapy': 247,\n",
       " 'overall': 248,\n",
       " 'neutral': 249,\n",
       " 'allele': 250,\n",
       " 'tissue': 251,\n",
       " 'case': 252,\n",
       " 'due': 253,\n",
       " 'mechanism': 254,\n",
       " 'following': 255,\n",
       " 'fold': 256,\n",
       " 'cyclin': 257,\n",
       " 'highly': 258,\n",
       " 'increase': 259,\n",
       " 'interactions': 260,\n",
       " 'point': 261,\n",
       " 'substitution': 262,\n",
       " 'r': 263,\n",
       " 'catalytic': 264,\n",
       " 'types': 265,\n",
       " 'test': 266,\n",
       " 'form': 267,\n",
       " 'mechanisms': 268,\n",
       " 'baf': 269,\n",
       " 'exons': 270,\n",
       " 'independent': 271,\n",
       " 'progression': 272,\n",
       " 'nuclear': 273,\n",
       " 'antibodies': 274,\n",
       " 'predicted': 275,\n",
       " 'previous': 276,\n",
       " 'absence': 277,\n",
       " 'according': 278,\n",
       " 'nsclc': 279,\n",
       " 'information': 280,\n",
       " 'involved': 281,\n",
       " 'germline': 282,\n",
       " 'examined': 283,\n",
       " 'less': 284,\n",
       " 'met': 285,\n",
       " 'set': 286,\n",
       " 'downstream': 287,\n",
       " 'least': 288,\n",
       " 'association': 289,\n",
       " 'relative': 290,\n",
       " 'system': 291,\n",
       " 'conserved': 292,\n",
       " 'negative': 293,\n",
       " 'status': 294,\n",
       " 'secondary': 295,\n",
       " 'substitutions': 296,\n",
       " 'analyses': 297,\n",
       " 'confirmed': 298,\n",
       " 'western': 299,\n",
       " 'rna': 300,\n",
       " 'alleles': 301,\n",
       " 'positive': 302,\n",
       " 'demonstrated': 303,\n",
       " 'acids': 304,\n",
       " 'loop': 305,\n",
       " 'class': 306,\n",
       " 'regions': 307,\n",
       " 'raf': 308,\n",
       " 'risk': 309,\n",
       " 'position': 310,\n",
       " 'affect': 311,\n",
       " 'provide': 312,\n",
       " 'drug': 313,\n",
       " 'pathogenic': 314,\n",
       " 'kinases': 315,\n",
       " 'recently': 316,\n",
       " 'flt': 317,\n",
       " 'apoptosis': 318,\n",
       " 'induced': 319,\n",
       " 'promoter': 320,\n",
       " 'phosphorylated': 321,\n",
       " 'hr': 322,\n",
       " 'q': 323,\n",
       " 'models': 324,\n",
       " 'factors': 325,\n",
       " 'ii': 326,\n",
       " 'nm': 327,\n",
       " 'pdgfra': 328,\n",
       " 'lower': 329,\n",
       " 'months': 330,\n",
       " 'findings': 331,\n",
       " 'determine': 332,\n",
       " 'novel': 333,\n",
       " 'individuals': 334,\n",
       " 'sequences': 335,\n",
       " 'see': 336,\n",
       " 'located': 337,\n",
       " 'change': 338,\n",
       " 'classification': 339,\n",
       " 'cdna': 340,\n",
       " 'indicate': 341,\n",
       " 'time': 342,\n",
       " 'rate': 343,\n",
       " 'phenotype': 344,\n",
       " 'values': 345,\n",
       " 'possible': 346,\n",
       " 'distinct': 347,\n",
       " 'ovarian': 348,\n",
       " 'included': 349,\n",
       " 'l': 350,\n",
       " 'controls': 351,\n",
       " 'go': 352,\n",
       " 'stability': 353,\n",
       " 'per': 354,\n",
       " 'min': 355,\n",
       " 'use': 356,\n",
       " 'mapk': 357,\n",
       " 'cycle': 358,\n",
       " 'signal': 359,\n",
       " 'splicing': 360,\n",
       " 'given': 361,\n",
       " 'phosphatase': 362,\n",
       " 'transfection': 363,\n",
       " 'deletions': 364,\n",
       " 'carcinoma': 365,\n",
       " 'pikca': 366,\n",
       " 'wild': 367,\n",
       " 'jak': 368,\n",
       " 'resistant': 369,\n",
       " 'differences': 370,\n",
       " 'conformation': 371,\n",
       " 'affected': 372,\n",
       " 'mtor': 373,\n",
       " 'sensitive': 374,\n",
       " 'families': 375,\n",
       " 'repair': 376,\n",
       " 'panel': 377,\n",
       " 'pik': 378,\n",
       " 'age': 379,\n",
       " 'together': 380,\n",
       " 'suppressor': 381,\n",
       " 'yeast': 382,\n",
       " 'sample': 383,\n",
       " 'mrna': 384,\n",
       " 'tumour': 385,\n",
       " 'five': 386,\n",
       " 'second': 387,\n",
       " 'constructs': 388,\n",
       " 'generated': 389,\n",
       " 'syndrome': 390,\n",
       " 'corresponding': 391,\n",
       " 'buffer': 392,\n",
       " 'codon': 393,\n",
       " 'individual': 394,\n",
       " 'k': 395,\n",
       " 'endogenous': 396,\n",
       " 'cd': 397,\n",
       " 'transformation': 398,\n",
       " 'suggests': 399,\n",
       " 'resulting': 400,\n",
       " 'recent': 401,\n",
       " 'identify': 402,\n",
       " 'furthermore': 403,\n",
       " 'various': 404,\n",
       " 'therapeutic': 405,\n",
       " 'leukemia': 406,\n",
       " 'another': 407,\n",
       " 'ca': 408,\n",
       " 'medium': 409,\n",
       " 'overexpression': 410,\n",
       " 'research': 411,\n",
       " 'ic': 412,\n",
       " 'cterminal': 413,\n",
       " 'interestingly': 414,\n",
       " 'aml': 415,\n",
       " 'ar': 416,\n",
       " 'copy': 417,\n",
       " 'critical': 418,\n",
       " 'reporter': 419,\n",
       " 'motif': 420,\n",
       " 'direct': 421,\n",
       " 'stat': 422,\n",
       " 'membrane': 423,\n",
       " 'idh': 424,\n",
       " 'surface': 425,\n",
       " 'induce': 426,\n",
       " 'functions': 427,\n",
       " 'years': 428,\n",
       " 'example': 429,\n",
       " 'mean': 430,\n",
       " 'rare': 431,\n",
       " 'days': 432,\n",
       " 'concentrations': 433,\n",
       " 'chromosome': 434,\n",
       " 'substrate': 435,\n",
       " 'phase': 436,\n",
       " 'author': 437,\n",
       " 'regulation': 438,\n",
       " 'nrf': 439,\n",
       " 'expected': 440,\n",
       " 'tumours': 441,\n",
       " 'directly': 442,\n",
       " 'assessed': 443,\n",
       " 'even': 444,\n",
       " 'mutational': 445,\n",
       " 'incubated': 446,\n",
       " 'andor': 447,\n",
       " 'measured': 448,\n",
       " 'activate': 449,\n",
       " 'lr': 450,\n",
       " 'characterized': 451,\n",
       " 'occur': 452,\n",
       " 'staining': 453,\n",
       " 'range': 454,\n",
       " 'targeting': 455,\n",
       " 'core': 456,\n",
       " 'lysates': 457,\n",
       " 'indicating': 458,\n",
       " 'complete': 459,\n",
       " 'significance': 460,\n",
       " 'selected': 461,\n",
       " 'bind': 462,\n",
       " 'classified': 463,\n",
       " 'activities': 464,\n",
       " 'targeted': 465,\n",
       " 'defined': 466,\n",
       " 'nucleotide': 467,\n",
       " 'v': 468,\n",
       " 'constitutive': 469,\n",
       " 'crizotinib': 470,\n",
       " 'next': 471,\n",
       " 'ek': 472,\n",
       " 'resulted': 473,\n",
       " 'history': 474,\n",
       " 'strong': 475,\n",
       " 'pα': 476,\n",
       " 'ph': 477,\n",
       " 'hours': 478,\n",
       " 'features': 479,\n",
       " 'six': 480,\n",
       " 'plasmid': 481,\n",
       " 'decreased': 482,\n",
       " 'targets': 483,\n",
       " 'conditions': 484,\n",
       " 'upon': 485,\n",
       " 'tp': 486,\n",
       " 'serum': 487,\n",
       " 'frequently': 488,\n",
       " 'stable': 489,\n",
       " 'since': 490,\n",
       " 'bp': 491,\n",
       " 'developed': 492,\n",
       " 'derived': 493,\n",
       " 'il': 494,\n",
       " 'seen': 495,\n",
       " 'impact': 496,\n",
       " 'receptors': 497,\n",
       " 'download': 498,\n",
       " 'regulatory': 499,\n",
       " 'primers': 500,\n",
       " 'followed': 501,\n",
       " 'inhibited': 502,\n",
       " 'database': 503,\n",
       " 'blot': 504,\n",
       " 'majority': 505,\n",
       " 'cause': 506,\n",
       " 'colorectal': 507,\n",
       " 'basis': 508,\n",
       " 'major': 509,\n",
       " 'comparison': 510,\n",
       " 'population': 511,\n",
       " 'considered': 512,\n",
       " 'published': 513,\n",
       " 'structures': 514,\n",
       " 'forms': 515,\n",
       " 'approximately': 516,\n",
       " 'combination': 517,\n",
       " 'clones': 518,\n",
       " 'state': 519,\n",
       " 'peptide': 520,\n",
       " 'part': 521,\n",
       " 'encoding': 522,\n",
       " 'prostate': 523,\n",
       " 'harboring': 524,\n",
       " 'inactive': 525,\n",
       " 'groups': 526,\n",
       " 'suggested': 527,\n",
       " 'median': 528,\n",
       " 'discussion': 529,\n",
       " 'size': 530,\n",
       " 'via': 531,\n",
       " 'complexes': 532,\n",
       " 'myc': 533,\n",
       " 'report': 534,\n",
       " 'rq': 535,\n",
       " 'erlotinib': 536,\n",
       " 'showing': 537,\n",
       " 'ligand': 538,\n",
       " 'ratio': 539,\n",
       " 'mutagenesis': 540,\n",
       " 'inhibit': 541,\n",
       " 'gist': 542,\n",
       " 'moreover': 543,\n",
       " 'spop': 544,\n",
       " 'culture': 545,\n",
       " 'image': 546,\n",
       " 'nf': 547,\n",
       " 'tissues': 548,\n",
       " 'alternative': 549,\n",
       " 'alone': 550,\n",
       " 'μm': 551,\n",
       " 'standard': 552,\n",
       " 'represent': 553,\n",
       " 'nterminal': 554,\n",
       " 'introduction': 555,\n",
       " 'splice': 556,\n",
       " 'differentiation': 557,\n",
       " 'degradation': 558,\n",
       " 'manuscript': 559,\n",
       " 'enhanced': 560,\n",
       " 'recurrent': 561,\n",
       " 'members': 562,\n",
       " 'unknown': 563,\n",
       " 'correlation': 564,\n",
       " 'craf': 565,\n",
       " 'localization': 566,\n",
       " 'sd': 567,\n",
       " 'lead': 568,\n",
       " 'chain': 569,\n",
       " 'concentration': 570,\n",
       " 'signals': 571,\n",
       " 'subunit': 572,\n",
       " 'blood': 573,\n",
       " 'fusions': 574,\n",
       " 'reaction': 575,\n",
       " 'key': 576,\n",
       " 'shows': 577,\n",
       " 'genome': 578,\n",
       " 'early': 579,\n",
       " 'events': 580,\n",
       " 'method': 581,\n",
       " 'specimens': 582,\n",
       " 'bound': 583,\n",
       " 'contains': 584,\n",
       " 'assess': 585,\n",
       " 'stem': 586,\n",
       " 'difference': 587,\n",
       " 'side': 588,\n",
       " 'full': 589,\n",
       " 'include': 590,\n",
       " 'amplified': 591,\n",
       " 'series': 592,\n",
       " 'lack': 593,\n",
       " 'ps': 594,\n",
       " 'altered': 595,\n",
       " 'subset': 596,\n",
       " 'related': 597,\n",
       " 'indeed': 598,\n",
       " 'caused': 599,\n",
       " 'responses': 600,\n",
       " 'purified': 601,\n",
       " 'adenocarcinoma': 602,\n",
       " 'view': 603,\n",
       " 'leading': 604,\n",
       " 'figures': 605,\n",
       " 'calculated': 606,\n",
       " 'hotspots': 607,\n",
       " 'able': 608,\n",
       " 'promote': 609,\n",
       " 'identification': 610,\n",
       " 'diagnosis': 611,\n",
       " 'approach': 612,\n",
       " 'fulllength': 613,\n",
       " 'fact': 614,\n",
       " 'contribute': 615,\n",
       " 'prior': 616,\n",
       " 'carried': 617,\n",
       " 'cohort': 618,\n",
       " 'lp': 619,\n",
       " 'specificity': 620,\n",
       " 'rh': 621,\n",
       " 'essential': 622,\n",
       " 'clear': 623,\n",
       " 'transforming': 624,\n",
       " 'selection': 625,\n",
       " 'induction': 626,\n",
       " 'ref': 627,\n",
       " 'affinity': 628,\n",
       " 'sa': 629,\n",
       " 'possibility': 630,\n",
       " 'mammalian': 631,\n",
       " 'powerpoint': 632,\n",
       " 'sf': 633,\n",
       " 'criteria': 634,\n",
       " 'embryonic': 635,\n",
       " 'evaluated': 636,\n",
       " 'acquired': 637,\n",
       " 'provided': 638,\n",
       " 'hotspot': 639,\n",
       " 'ubiquitin': 640,\n",
       " 'sequenced': 641,\n",
       " 'none': 642,\n",
       " 'remaining': 643,\n",
       " 'stimulation': 644,\n",
       " 'still': 645,\n",
       " 'established': 646,\n",
       " 'x': 647,\n",
       " 'support': 648,\n",
       " 'luciferase': 649,\n",
       " 'atp': 650,\n",
       " 'applied': 651,\n",
       " 'experimental': 652,\n",
       " 'crystal': 653,\n",
       " 'coding': 654,\n",
       " 'products': 655,\n",
       " 'displayed': 656,\n",
       " 'observations': 657,\n",
       " 'versus': 658,\n",
       " 'metastatic': 659,\n",
       " 'msh': 660,\n",
       " 'materials': 661,\n",
       " 'isolated': 662,\n",
       " 'detection': 663,\n",
       " 'despite': 664,\n",
       " 'greater': 665,\n",
       " 'defects': 666,\n",
       " 'distribution': 667,\n",
       " 'indicates': 668,\n",
       " 'involving': 669,\n",
       " 'finally': 670,\n",
       " 'enzyme': 671,\n",
       " 'inactivation': 672,\n",
       " 'strongly': 673,\n",
       " 'partial': 674,\n",
       " 'tumorigenesis': 675,\n",
       " 'remains': 676,\n",
       " 'myeloid': 677,\n",
       " 'gists': 678,\n",
       " 'specifically': 679,\n",
       " 'combined': 680,\n",
       " 'relatively': 681,\n",
       " 'particular': 682,\n",
       " 'times': 683,\n",
       " 'eg': 684,\n",
       " 'exhibited': 685,\n",
       " 'nras': 686,\n",
       " 'red': 687,\n",
       " 'tkis': 688,\n",
       " 'ret': 689,\n",
       " 'seven': 690,\n",
       " 'value': 691,\n",
       " 'confer': 692,\n",
       " 'leads': 693,\n",
       " 'mg': 694,\n",
       " 'stage': 695,\n",
       " 'ns': 696,\n",
       " 'similarly': 697,\n",
       " 'melanomas': 698,\n",
       " 'assessment': 699,\n",
       " 'supplemental': 700,\n",
       " 'carcinomas': 701,\n",
       " 'effective': 702,\n",
       " 'pinka': 703,\n",
       " 'bone': 704,\n",
       " 'pr': 705,\n",
       " 'unique': 706,\n",
       " 'lesions': 707,\n",
       " 'pattern': 708,\n",
       " 'primer': 709,\n",
       " 'gel': 710,\n",
       " 'iii': 711,\n",
       " 'note': 712,\n",
       " 'investigated': 713,\n",
       " 'properties': 714,\n",
       " 'mlh': 715,\n",
       " 'hifα': 716,\n",
       " 'molecules': 717,\n",
       " 'positions': 718,\n",
       " 'malignant': 719,\n",
       " 'limited': 720,\n",
       " 'chemotherapy': 721,\n",
       " 'insertion': 722,\n",
       " 'relevant': 723,\n",
       " 'context': 724,\n",
       " 'studied': 725,\n",
       " 'asp': 726,\n",
       " 'biochemical': 727,\n",
       " 'observation': 728,\n",
       " 'heterozygous': 729,\n",
       " 'frequent': 730,\n",
       " 'pocket': 731,\n",
       " 'across': 732,\n",
       " 'demonstrate': 733,\n",
       " 'interact': 734,\n",
       " 'reduction': 735,\n",
       " 'cultured': 736,\n",
       " 'top': 737,\n",
       " 'extracellular': 738,\n",
       " 'led': 739,\n",
       " 'green': 740,\n",
       " 'characteristics': 741,\n",
       " 'sc': 742,\n",
       " 'ti': 743,\n",
       " 'repeats': 744,\n",
       " 'average': 745,\n",
       " 'trials': 746,\n",
       " 'statistical': 747,\n",
       " 'taken': 748,\n",
       " 'knockdown': 749,\n",
       " 'ml': 750,\n",
       " 'μg': 751,\n",
       " 'ga': 752,\n",
       " 'weeks': 753,\n",
       " 'ser': 754,\n",
       " 'eight': 755,\n",
       " 'manner': 756,\n",
       " 'va': 757,\n",
       " 'rates': 758,\n",
       " 'day': 759,\n",
       " 'locus': 760,\n",
       " 'sufficient': 761,\n",
       " 'vhl': 762,\n",
       " 'ligase': 763,\n",
       " 'hydrophobic': 764,\n",
       " 'biological': 765,\n",
       " 'larger': 766,\n",
       " 'carrying': 767,\n",
       " 'fl': 768,\n",
       " 'tet': 769,\n",
       " 'helix': 770,\n",
       " 'interface': 771,\n",
       " 'require': 772,\n",
       " 'binds': 773,\n",
       " 'hcc': 774,\n",
       " 'suppression': 775,\n",
       " 'lane': 776,\n",
       " 'screening': 777,\n",
       " 'intermediate': 778,\n",
       " 'constitutively': 779,\n",
       " 'construct': 780,\n",
       " 'reverse': 781,\n",
       " 'signalling': 782,\n",
       " 'added': 783,\n",
       " 'niht': 784,\n",
       " 'university': 785,\n",
       " 'elevated': 786,\n",
       " 'methylation': 787,\n",
       " 'transactivation': 788,\n",
       " 'del': 789,\n",
       " 'testing': 790,\n",
       " 'reports': 791,\n",
       " 'dependent': 792,\n",
       " 'driver': 793,\n",
       " 'yet': 794,\n",
       " 'rather': 795,\n",
       " 'sporadic': 796,\n",
       " 'impaired': 797,\n",
       " 'initial': 798,\n",
       " 'ring': 799,\n",
       " 'de': 800,\n",
       " 'tki': 801,\n",
       " 'hypothesis': 802,\n",
       " 'blue': 803,\n",
       " 'cbl': 804,\n",
       " 'mmr': 805,\n",
       " 'rtpcr': 806,\n",
       " 'representative': 807,\n",
       " 'pip': 808,\n",
       " 'end': 809,\n",
       " 'neuroblastoma': 810,\n",
       " 'invitrogen': 811,\n",
       " 'contact': 812,\n",
       " 'finding': 813,\n",
       " 'left': 814,\n",
       " 'aberrant': 815,\n",
       " 'damage': 816,\n",
       " 'efficacy': 817,\n",
       " 'subjected': 818,\n",
       " 'odds': 819,\n",
       " 'oncogene': 820,\n",
       " 'manufacturers': 821,\n",
       " 'fraction': 822,\n",
       " 'gr': 823,\n",
       " 'iv': 824,\n",
       " 'general': 825,\n",
       " 'rearrangements': 826,\n",
       " 'sirna': 827,\n",
       " 'lymphoma': 828,\n",
       " 'unable': 829,\n",
       " 'express': 830,\n",
       " 'right': 831,\n",
       " 'keap': 832,\n",
       " 'numbers': 833,\n",
       " 'ci': 834,\n",
       " 'presented': 835,\n",
       " 'death': 836,\n",
       " 'clinically': 837,\n",
       " 'often': 838,\n",
       " 'process': 839,\n",
       " 'percentage': 840,\n",
       " 'plasma': 841,\n",
       " 'plates': 842,\n",
       " 'subsequent': 843,\n",
       " 'epithelial': 844,\n",
       " 'correlated': 845,\n",
       " 'appears': 846,\n",
       " 'pvhl': 847,\n",
       " 'cannot': 848,\n",
       " 'dose': 849,\n",
       " 'normalized': 850,\n",
       " 'defective': 851,\n",
       " 'discovery': 852,\n",
       " 'proportion': 853,\n",
       " 'product': 854,\n",
       " 'colon': 855,\n",
       " 'colonies': 856,\n",
       " 'insertions': 857,\n",
       " 'stably': 858,\n",
       " 'potent': 859,\n",
       " 'play': 860,\n",
       " 'colony': 861,\n",
       " 'yc': 862,\n",
       " 'src': 863,\n",
       " 'consequences': 864,\n",
       " 'decrease': 865,\n",
       " 'kd': 866,\n",
       " 'current': 867,\n",
       " 'gain': 868,\n",
       " 'basal': 869,\n",
       " 'open': 870,\n",
       " 'functionally': 871,\n",
       " 'washed': 872,\n",
       " 'lanes': 873,\n",
       " 'made': 874,\n",
       " 'nucleus': 875,\n",
       " 'mediated': 876,\n",
       " 'therapies': 877,\n",
       " 'formed': 878,\n",
       " 'molecule': 879,\n",
       " 'confirm': 880,\n",
       " 'affecting': 881,\n",
       " 'fish': 882,\n",
       " 'substrates': 883,\n",
       " 'dimerization': 884,\n",
       " 'ke': 885,\n",
       " 'software': 886,\n",
       " 'tm': 887,\n",
       " 'volume': 888,\n",
       " 'version': 889,\n",
       " 'cluster': 890,\n",
       " 'spectrum': 891,\n",
       " 'na': 892,\n",
       " 'understanding': 893,\n",
       " 'probe': 894,\n",
       " 'recombinant': 895,\n",
       " 'βcatenin': 896,\n",
       " 'dv': 897,\n",
       " 'notably': 898,\n",
       " 'occurs': 899,\n",
       " 'proposed': 900,\n",
       " 'vs': 901,\n",
       " 'inhibitory': 902,\n",
       " 'μl': 903,\n",
       " 'predict': 904,\n",
       " 'american': 905,\n",
       " 'necessary': 906,\n",
       " 'advanced': 907,\n",
       " 'importance': 908,\n",
       " 'others': 909,\n",
       " 'screen': 910,\n",
       " 'prepared': 911,\n",
       " 'chromosomal': 912,\n",
       " 'arrest': 913,\n",
       " 'blotting': 914,\n",
       " 'brain': 915,\n",
       " 'carriers': 916,\n",
       " 'homozygous': 917,\n",
       " 'empty': 918,\n",
       " 'probably': 919,\n",
       " 'putative': 920,\n",
       " 'isoforms': 921,\n",
       " 'estimated': 922,\n",
       " 'score': 923,\n",
       " 'comparable': 924,\n",
       " 'endometrial': 925,\n",
       " 'usa': 926,\n",
       " 'recognition': 927,\n",
       " 'liver': 928,\n",
       " 'increasing': 929,\n",
       " 'insight': 930,\n",
       " 'contained': 931,\n",
       " 'pd': 932,\n",
       " 'fragment': 933,\n",
       " 'u': 934,\n",
       " 'lapatinib': 935,\n",
       " 'fully': 936,\n",
       " 'investigate': 937,\n",
       " 'currently': 938,\n",
       " 'develop': 939,\n",
       " 'provides': 940,\n",
       " 'review': 941,\n",
       " 'repeat': 942,\n",
       " 'inframe': 943,\n",
       " 'skin': 944,\n",
       " 'selective': 945,\n",
       " 'detect': 946,\n",
       " 'gs': 947,\n",
       " 'tgfβ': 948,\n",
       " 'bcrabl': 949,\n",
       " 'hydrogen': 950,\n",
       " 'center': 951,\n",
       " 'received': 952,\n",
       " 'ubiquitination': 953,\n",
       " 'smo': 954,\n",
       " 'codons': 955,\n",
       " 'loh': 956,\n",
       " 'prediction': 957,\n",
       " 'noted': 958,\n",
       " 'responsible': 959,\n",
       " 'failed': 960,\n",
       " 'drugs': 961,\n",
       " 'transformed': 962,\n",
       " 'work': 963,\n",
       " 'mr': 964,\n",
       " 'components': 965,\n",
       " 'recombination': 966,\n",
       " 'alteration': 967,\n",
       " 'agents': 968,\n",
       " 'malignancies': 969,\n",
       " 'disrupt': 970,\n",
       " 'plasmids': 971,\n",
       " 'much': 972,\n",
       " 'us': 973,\n",
       " 'α': 974,\n",
       " 'inhibits': 975,\n",
       " 'contain': 976,\n",
       " 'ge': 977,\n",
       " 'å': 978,\n",
       " 'santa': 979,\n",
       " 'page': 980,\n",
       " 'marrow': 981,\n",
       " 'translocation': 982,\n",
       " 'extracted': 983,\n",
       " 'gv': 984,\n",
       " 'importantly': 985,\n",
       " 'rw': 986,\n",
       " 'commonly': 987,\n",
       " 'immunoblotting': 988,\n",
       " 'histone': 989,\n",
       " 'occurred': 990,\n",
       " 'acute': 991,\n",
       " 'far': 992,\n",
       " 'cancerassociated': 993,\n",
       " 'metastasis': 994,\n",
       " 'collected': 995,\n",
       " 'dnabinding': 996,\n",
       " 'foci': 997,\n",
       " 'accumulation': 998,\n",
       " 'agreement': 999,\n",
       " 'kb': 1000,\n",
       " ...}"
      ]
     },
     "execution_count": 25,
     "metadata": {},
     "output_type": "execute_result"
    }
   ],
   "source": [
    "tokenizer.word_index # get the index of each word"
   ]
  },
  {
   "cell_type": "markdown",
   "metadata": {
    "id": "VTArZFHN77Ta"
   },
   "source": [
    "words contain al et => no significant word \n",
    "\n",
    "must take the gene, mutation, variation ... \n",
    "\n"
   ]
  },
  {
   "cell_type": "code",
   "execution_count": 26,
   "metadata": {
    "id": "ceCFbQcZ77Tb"
   },
   "outputs": [],
   "source": [
    "# Pad the data \n",
    "X = tokenizer.texts_to_sequences(df_merge['Text'].values) # Transforms each text in texts to a sequence of integers, Only top num_words most frequent words will be taken into account.\n",
    "X = pad_sequences(X, maxlen=2000) # transforms a lists of integers into a 2D Numpy array of shape (num_samples, num_timesteps)\n"
   ]
  },
  {
   "cell_type": "markdown",
   "metadata": {
    "id": "Nm1H2gbJ3YUB"
   },
   "source": [
    "# Split the data "
   ]
  },
  {
   "cell_type": "markdown",
   "metadata": {
    "id": "3i80TNSPCVax"
   },
   "source": [
    "## For machine learning Models "
   ]
  },
  {
   "cell_type": "code",
   "execution_count": 27,
   "metadata": {
    "colab": {
     "base_uri": "https://localhost:8080/"
    },
    "id": "Xnj9omYQ0jYY",
    "outputId": "d9253c1a-fffb-4073-e980-5cae450b38e0"
   },
   "outputs": [
    {
     "name": "stdout",
     "output_type": "stream",
     "text": [
      "(2656, 2000) (2656,)\n",
      "(665, 2000) (665,)\n"
     ]
    }
   ],
   "source": [
    "Y_M = df_merge.Class\n",
    "XM_train, XM_test, YM_train, YM_test = train_test_split(X, Y_M, test_size = 0.2, random_state = 42, stratify=Y_M)\n",
    "print(XM_train.shape, YM_train.shape)\n",
    "print(XM_test.shape, YM_test.shape)"
   ]
  },
  {
   "cell_type": "markdown",
   "metadata": {
    "id": "AVFYioDGCbeO"
   },
   "source": [
    "## For Deep Learning Model"
   ]
  },
  {
   "cell_type": "code",
   "execution_count": 28,
   "metadata": {
    "colab": {
     "base_uri": "https://localhost:8080/"
    },
    "id": "lmqOM6dXCfNy",
    "outputId": "4770dbdf-263e-43de-9d07-1830cb98459f"
   },
   "outputs": [
    {
     "name": "stdout",
     "output_type": "stream",
     "text": [
      "(2656, 2000) (2656, 9)\n",
      "(665, 2000) (665, 9)\n"
     ]
    }
   ],
   "source": [
    "Y_D = pd.get_dummies(df_merge['Class']).values\n",
    "XD_train, XD_test, YD_train, YD_test = train_test_split(X, Y_D, test_size = 0.2, random_state = 42, stratify=Y_D)\n",
    "print(XD_train.shape, YD_train.shape)\n",
    "print(XD_test.shape, YD_test.shape)"
   ]
  },
  {
   "cell_type": "markdown",
   "metadata": {
    "id": "_FPVw4EByXM6"
   },
   "source": [
    "# Machine Learning Model"
   ]
  },
  {
   "cell_type": "markdown",
   "metadata": {
    "id": "FjPNu387v5-e"
   },
   "source": [
    "## Random Forest\n",
    "\n",
    "as a Baseline"
   ]
  },
  {
   "cell_type": "code",
   "execution_count": 29,
   "metadata": {
    "id": "fCAZAZ8Gv5-e"
   },
   "outputs": [],
   "source": [
    "from sklearn.ensemble import RandomForestClassifier\n",
    "\n",
    "def predict(x_train, y_train, x_test):\n",
    "    clf = RandomForestClassifier(n_jobs=3, # number of jobs to run in parallel\n",
    "                                n_estimators=100, # number of trees in the forest\n",
    "                                criterion='entropy', # measure the quality of a split, 'entropy' for the information gain\n",
    "                                random_state=300) # Controls the randomness of the bootstrapping of the samples and the sampling of the features to consider when looking for the best split at each node \n",
    "\n",
    "    clf.fit(x_train, y_train)\n",
    "    return clf.predict(x_test)\n"
   ]
  },
  {
   "cell_type": "markdown",
   "metadata": {
    "id": "wEq2ojxqv5-f"
   },
   "source": [
    "### Prediction"
   ]
  },
  {
   "cell_type": "code",
   "execution_count": 30,
   "metadata": {
    "colab": {
     "base_uri": "https://localhost:8080/"
    },
    "id": "J-J7_H8Ev5-f",
    "outputId": "932b5af4-e719-43ae-d063-fd52bfd00adf"
   },
   "outputs": [
    {
     "data": {
      "text/plain": [
       "0.5684210526315789"
      ]
     },
     "execution_count": 30,
     "metadata": {},
     "output_type": "execute_result"
    }
   ],
   "source": [
    "predicted = predict(XM_train, YM_train, XM_test)\n",
    "\n",
    "accuracy_score(YM_test, predicted)\n"
   ]
  },
  {
   "cell_type": "markdown",
   "metadata": {
    "id": "S-grA9acv5-f"
   },
   "source": [
    "### Confusion matrix\n",
    "\n",
    "A confusion matrix is a way to express how many of a classifier’s predictions were correct, and when incorrect, where the classifier got confused.\n",
    "\n",
    "Rows represent the true labels and the columns represent predicted labels.\n",
    "The column tells us what the classifier predicted, and the row tells us what the right label was"
   ]
  },
  {
   "cell_type": "code",
   "execution_count": 31,
   "metadata": {
    "colab": {
     "base_uri": "https://localhost:8080/"
    },
    "id": "QUfEvlI5v5-g",
    "outputId": "35725320-7b64-48fa-9c44-f8a2da399c4e"
   },
   "outputs": [
    {
     "name": "stdout",
     "output_type": "stream",
     "text": [
      "[[ 55   0   0  14   7   5  33   0   0]\n",
      " [  2  25   0   1   5   0  58   0   0]\n",
      " [  2   0   8   2   2   0   4   0   0]\n",
      " [ 14   0   3  74   4   2  40   0   0]\n",
      " [  9   1   1   8  12   1  16   0   0]\n",
      " [  5   1   1   4   2  28  14   0   0]\n",
      " [  2   7   5   2   3   0 172   0   0]\n",
      " [  0   0   0   0   0   0   2   0   2]\n",
      " [  0   0   0   0   0   0   3   0   4]]\n"
     ]
    }
   ],
   "source": [
    "# Making the Confusion Matrix\n",
    "from sklearn.metrics import confusion_matrix\n",
    "cm = confusion_matrix(YM_test, predicted)\n",
    "print(cm)"
   ]
  },
  {
   "cell_type": "markdown",
   "metadata": {
    "id": "1EOMK01uv5-g"
   },
   "source": [
    "### Plot confusion matrix "
   ]
  },
  {
   "cell_type": "code",
   "execution_count": 32,
   "metadata": {
    "colab": {
     "base_uri": "https://localhost:8080/",
     "height": 481
    },
    "id": "5z7sR0FGv5-g",
    "outputId": "9286b4af-62c4-476f-fa0a-047e3b3c2f19"
   },
   "outputs": [
    {
     "data": {
      "image/png": "[encoded data removed]",
      "text/plain": [
       "<Figure size 1152x504 with 2 Axes>"
      ]
     },
     "metadata": {
      "needs_background": "light"
     },
     "output_type": "display_data"
    }
   ],
   "source": [
    "# Reshape confusion matrix data\n",
    "matrix = cm.astype('float') / cm.sum(axis=1)[:, np.newaxis]\n",
    "\n",
    "# Build the plot\n",
    "plt.figure(figsize=(16,7))\n",
    "sns.set(font_scale=1.4)\n",
    "sns.heatmap(matrix, annot=True, annot_kws={'size':10},\n",
    "            cmap=plt.cm.Greens, linewidths=0.2)\n",
    "\n",
    "# Add labels to the plot\n",
    "class_names = ['1', '2', '3', \n",
    "               '4', '5', '6', \n",
    "               '7', '8', '9']\n",
    "tick_marks = np.arange(len(class_names))\n",
    "tick_marks2 = tick_marks + 0.5\n",
    "plt.xticks(tick_marks, class_names, rotation=25)\n",
    "plt.yticks(tick_marks2, class_names, rotation=0)\n",
    "plt.xlabel('Predicted label')\n",
    "plt.ylabel('True label')\n",
    "plt.title('Confusion Matrix for Random Forest Model')\n",
    "plt.show()\n"
   ]
  },
  {
   "cell_type": "markdown",
   "metadata": {
    "id": "IFKtANdJv5-h"
   },
   "source": [
    "The model don't predict class 8, it gives a good prediction of class 1, 4, 6,7 "
   ]
  },
  {
   "cell_type": "markdown",
   "metadata": {
    "id": "iYdlKnj_qOXJ"
   },
   "source": [
    "## Naive Bayes"
   ]
  },
  {
   "cell_type": "code",
   "execution_count": 33,
   "metadata": {
    "colab": {
     "base_uri": "https://localhost:8080/"
    },
    "id": "7-6mvLOWqU2O",
    "outputId": "d997da22-eb49-40f0-e139-99e711e813b4"
   },
   "outputs": [
    {
     "name": "stdout",
     "output_type": "stream",
     "text": [
      "Naive Bayes Accuracy Score ->  42.857142857142854\n"
     ]
    }
   ],
   "source": [
    "# fit the training dataset on the NB classifier\n",
    "Naive = naive_bayes.MultinomialNB()\n",
    "\n",
    "Naive.fit(XM_train, YM_train)# predict the labels on validation dataset\n",
    "\n",
    "predictions_NB = Naive.predict(XM_test)# Use accuracy_score function to get the accuracy\n",
    "\n",
    "print(\"Naive Bayes Accuracy Score -> \",accuracy_score(predictions_NB, YM_test)*100)"
   ]
  },
  {
   "cell_type": "markdown",
   "metadata": {
    "id": "3SnugLNEbfcB"
   },
   "source": [
    "## SVM "
   ]
  },
  {
   "cell_type": "code",
   "execution_count": 34,
   "metadata": {
    "colab": {
     "base_uri": "https://localhost:8080/"
    },
    "id": "ka7XO5V9p_nd",
    "outputId": "7010c18a-fe20-4aff-9b57-fc5b07275d1f"
   },
   "outputs": [
    {
     "name": "stdout",
     "output_type": "stream",
     "text": [
      "SVM Accuracy Score ->  51.127819548872175\n"
     ]
    }
   ],
   "source": [
    "# Classifier - Algorithm - SVM\n",
    "# fit the training dataset on the classifier\n",
    "\n",
    "SVM = svm.SVC(C=1.0, kernel='linear', degree=3, gamma='auto')\n",
    "\n",
    "SVM.fit(XM_train, YM_train)# predict the labels on validation dataset\n",
    "\n",
    "predictions_SVM = SVM.predict(XM_test)# Use accuracy_score function to get the accuracy\n",
    "print(\"SVM Accuracy Score -> \",accuracy_score(predictions_SVM, YM_test)*100)"
   ]
  },
  {
   "cell_type": "markdown",
   "metadata": {
    "id": "qs3yYp3lyjyW"
   },
   "source": [
    "# Deep Learning Model"
   ]
  },
  {
   "cell_type": "markdown",
   "metadata": {
    "id": "UwNwwCnh0YO9"
   },
   "source": [
    "## LSTM"
   ]
  },
  {
   "cell_type": "markdown",
   "metadata": {
    "id": "jFMkgh7ZDlUp"
   },
   "source": [
    "### Build Model"
   ]
  },
  {
   "cell_type": "code",
   "execution_count": 35,
   "metadata": {
    "colab": {
     "base_uri": "https://localhost:8080/"
    },
    "id": "GEN19_Rbvuc9",
    "outputId": "298a89fc-9b8b-4c8b-9927-fdb627200345"
   },
   "outputs": [
    {
     "name": "stdout",
     "output_type": "stream",
     "text": [
      "Model: \"sequential\"\n",
      "_________________________________________________________________\n",
      "Layer (type)                 Output Shape              Param #   \n",
      "=================================================================\n",
      "embedding (Embedding)        (None, 2000, 128)         256000    \n",
      "_________________________________________________________________\n",
      "lstm (LSTM)                  (None, 64)                49408     \n",
      "_________________________________________________________________\n",
      "dense (Dense)                (None, 32)                2080      \n",
      "_________________________________________________________________\n",
      "dense_1 (Dense)              (None, 9)                 297       \n",
      "=================================================================\n",
      "Total params: 307,785\n",
      "Trainable params: 307,785\n",
      "Non-trainable params: 0\n",
      "_________________________________________________________________\n",
      "None\n"
     ]
    }
   ],
   "source": [
    "num_words = 2000\n",
    "embed_dim = 128\n",
    "lstm_out = 64\n",
    "\n",
    "model = Sequential(\n",
    "    [\n",
    "        Embedding(num_words, embed_dim, input_length = X.shape[1]),\n",
    "        LSTM(lstm_out, recurrent_dropout=0.2, dropout=0.2),\n",
    "        Dense(32, activation = \"relu\"),\n",
    "        Dense(9,activation='softmax')\n",
    "    ]\n",
    ")\n",
    "\n",
    "model.compile(loss = 'categorical_crossentropy', optimizer='adam', metrics = ['accuracy'])\n",
    "print(model.summary())"
   ]
  },
  {
   "cell_type": "markdown",
   "metadata": {
    "id": "_u0YXs1Z3czZ"
   },
   "source": [
    "### Plot the model "
   ]
  },
  {
   "cell_type": "code",
   "execution_count": 36,
   "metadata": {
    "colab": {
     "base_uri": "https://localhost:8080/",
     "height": 533
    },
    "id": "qT2hjnYL0zjO",
    "outputId": "79b80b42-6a3f-4ac0-b0a1-5ef4663eb02c"
   },
   "outputs": [
    {
     "data": {
      "image/png": "[encoded data removed]",
      "text/plain": [
       "<IPython.core.display.Image object>"
      ]
     },
     "execution_count": 36,
     "metadata": {},
     "output_type": "execute_result"
    }
   ],
   "source": [
    "keras.utils.plot_model(model, \"my_first_model_shapes.png\", show_shapes= True)"
   ]
  },
  {
   "cell_type": "markdown",
   "metadata": {
    "id": "xp3aVsZu3i-J"
   },
   "source": [
    "### Model Training "
   ]
  },
  {
   "cell_type": "code",
   "execution_count": null,
   "metadata": {
    "id": "gDQfpdji0osS"
   },
   "outputs": [],
   "source": [
    "batch_size = 32\n",
    "ckpt_callback = ModelCheckpoint('keras_model', \n",
    "                                 monitor='val_loss', \n",
    "                                 verbose=1, \n",
    "                                 save_best_only=True, \n",
    "                                 mode='auto')\n",
    "history = model.fit(XD_train, YD_train, epochs=5, batch_size=batch_size, validation_split=0.2, callbacks=[ckpt_callback])"
   ]
  },
  {
   "cell_type": "code",
   "execution_count": 38,
   "metadata": {
    "colab": {
     "base_uri": "https://localhost:8080/"
    },
    "id": "u5eYVe8H7AYX",
    "outputId": "36a9548b-591a-46aa-9db6-74acd13015bd"
   },
   "outputs": [
    {
     "name": "stdout",
     "output_type": "stream",
     "text": [
      "Training Accuracy: >74.021\n"
     ]
    }
   ],
   "source": [
    "loss, accuracy = model.evaluate(XD_train, YD_train, verbose=False)\n",
    "print(\"Training Accuracy: >%.3f\"  % (accuracy * 100.0))"
   ]
  },
  {
   "cell_type": "markdown",
   "metadata": {
    "id": "v1J7o9DP3oUO"
   },
   "source": [
    "### Testing "
   ]
  },
  {
   "cell_type": "code",
   "execution_count": 40,
   "metadata": {
    "colab": {
     "base_uri": "https://localhost:8080/"
    },
    "id": "-0HvQFLby78j",
    "outputId": "943c9ac5-02b1-4a38-910b-004a12bc319a"
   },
   "outputs": [
    {
     "name": "stdout",
     "output_type": "stream",
     "text": [
      "Testing Accuracy:  >57.143\n"
     ]
    }
   ],
   "source": [
    "loss, accuracy = model.evaluate(XD_test, YD_test, verbose=False)\n",
    "print(\"Testing Accuracy:  >%.3f\"  % (accuracy * 100.0))"
   ]
  },
  {
   "cell_type": "markdown",
   "metadata": {
    "id": "GSSDvqGQkbY6"
   },
   "source": [
    "### Plot Model loss and accuracy"
   ]
  },
  {
   "cell_type": "code",
   "execution_count": 41,
   "metadata": {
    "colab": {
     "base_uri": "https://localhost:8080/"
    },
    "id": "aNkWuW8Balpx",
    "outputId": "9f02f0d3-0dab-4c6f-c771-a2d90d603cc1"
   },
   "outputs": [
    {
     "name": "stdout",
     "output_type": "stream",
     "text": [
      "dict_keys(['loss', 'accuracy', 'val_loss', 'val_accuracy'])\n"
     ]
    }
   ],
   "source": [
    "# list all data history \n",
    "print(history.history.keys())"
   ]
  },
  {
   "cell_type": "code",
   "execution_count": 42,
   "metadata": {
    "colab": {
     "base_uri": "https://localhost:8080/",
     "height": 332
    },
    "id": "4OzLOUqQayJe",
    "outputId": "645b8116-7fcd-4d8a-dbf0-81aa13616baa"
   },
   "outputs": [
    {
     "data": {
      "text/plain": [
       "<function matplotlib.pyplot.show>"
      ]
     },
     "execution_count": 42,
     "metadata": {},
     "output_type": "execute_result"
    },
    {
     "data": {
      "image/png": "[encoded data removed]",
      "text/plain": [
       "<Figure size 432x288 with 1 Axes>"
      ]
     },
     "metadata": {},
     "output_type": "display_data"
    }
   ],
   "source": [
    "# visualize training and validation losses  \n",
    "plt.plot(history.history['loss'])\n",
    "plt.plot(history.history['val_loss'])\n",
    "plt.title('model_loss')\n",
    "plt.ylabel('loss')\n",
    "plt.xlabel('epoch')\n",
    "plt.legend(['train', 'val'], loc = 'upper left')\n",
    "plt.show "
   ]
  },
  {
   "cell_type": "code",
   "execution_count": 43,
   "metadata": {
    "colab": {
     "base_uri": "https://localhost:8080/",
     "height": 315
    },
    "id": "a-7ffPkkkBd_",
    "outputId": "0d0a4f52-8545-461d-f5cb-4e4bd0a99875"
   },
   "outputs": [
    {
     "data": {
      "image/png": "[encoded data removed]",
      "text/plain": [
       "<Figure size 432x288 with 1 Axes>"
      ]
     },
     "metadata": {},
     "output_type": "display_data"
    }
   ],
   "source": [
    "# visualize training and validation accuracies\n",
    "plt.plot(history.history['accuracy'])\n",
    "plt.plot(history.history['val_accuracy'])\n",
    "plt.title('Model accuracy')\n",
    "plt.ylabel('Accuracy')\n",
    "plt.xlabel('Epoch')\n",
    "plt.legend(['Train', 'Test'], loc='upper left')\n",
    "plt.show()"
   ]
  },
  {
   "cell_type": "markdown",
   "metadata": {
    "id": "oBhIlZppypi8"
   },
   "source": [
    "## CNN"
   ]
  },
  {
   "cell_type": "markdown",
   "metadata": {
    "id": "pdK-FheIzpaU"
   },
   "source": [
    "### Model building "
   ]
  },
  {
   "cell_type": "code",
   "execution_count": 44,
   "metadata": {
    "colab": {
     "base_uri": "https://localhost:8080/"
    },
    "id": "dYTTKF4tqtRv",
    "outputId": "0c2c4de5-992a-4472-f87c-d8c97e8dbc40"
   },
   "outputs": [
    {
     "name": "stdout",
     "output_type": "stream",
     "text": [
      "Model: \"sequential_1\"\n",
      "_________________________________________________________________\n",
      "Layer (type)                 Output Shape              Param #   \n",
      "=================================================================\n",
      "embedding_1 (Embedding)      (None, 2000, 128)         256000    \n",
      "_________________________________________________________________\n",
      "conv1d (Conv1D)              (None, 1996, 64)          41024     \n",
      "_________________________________________________________________\n",
      "global_max_pooling1d (Global (None, 64)                0         \n",
      "_________________________________________________________________\n",
      "dense_2 (Dense)              (None, 10)                650       \n",
      "_________________________________________________________________\n",
      "flatten (Flatten)            (None, 10)                0         \n",
      "_________________________________________________________________\n",
      "dense_3 (Dense)              (None, 9)                 99        \n",
      "=================================================================\n",
      "Total params: 297,773\n",
      "Trainable params: 297,773\n",
      "Non-trainable params: 0\n",
      "_________________________________________________________________\n"
     ]
    }
   ],
   "source": [
    "cnnmodel = Sequential()\n",
    "cnnmodel.add(Embedding(num_words, embed_dim, input_length = X.shape[1]))\n",
    "cnnmodel.add(Conv1D(64, 5, activation='relu'))\n",
    "cnnmodel.add(GlobalMaxPooling1D())\n",
    "cnnmodel.add(Dense(10, activation='relu'))\n",
    "cnnmodel.add(Flatten())\n",
    "cnnmodel.add(Dense(9, activation='softmax'))\n",
    "cnnmodel.compile(optimizer='adam',\n",
    "               loss='binary_crossentropy',\n",
    "               metrics=['accuracy'])\n",
    "cnnmodel.summary() "
   ]
  },
  {
   "cell_type": "markdown",
   "metadata": {
    "id": "pLj6rCJE26Cr"
   },
   "source": [
    "### Plot the model "
   ]
  },
  {
   "cell_type": "code",
   "execution_count": 45,
   "metadata": {
    "colab": {
     "base_uri": "https://localhost:8080/",
     "height": 754
    },
    "id": "MZR23v7t26Cu",
    "outputId": "46e0f621-2d1e-40ef-b5e8-d7c5b8ca2cb9"
   },
   "outputs": [
    {
     "data": {
      "image/png": "[encoded data removed]",
      "text/plain": [
       "<IPython.core.display.Image object>"
      ]
     },
     "execution_count": 45,
     "metadata": {},
     "output_type": "execute_result"
    }
   ],
   "source": [
    "keras.utils.plot_model(cnnmodel, \"my_first_model_shapes.png\", show_shapes= True)"
   ]
  },
  {
   "cell_type": "markdown",
   "metadata": {
    "id": "o-k-8sgpzuHF"
   },
   "source": [
    "### Model Training "
   ]
  },
  {
   "cell_type": "code",
   "execution_count": 46,
   "metadata": {
    "colab": {
     "base_uri": "https://localhost:8080/"
    },
    "id": "4BpxpZxluvvs",
    "outputId": "98d0be1e-1ffe-483d-d276-f2bb930e708c"
   },
   "outputs": [
    {
     "name": "stdout",
     "output_type": "stream",
     "text": [
      "Training Accuracy: >59.789\n"
     ]
    }
   ],
   "source": [
    "hiscnn = cnnmodel.fit(XD_train, YD_train,\n",
    "                     epochs=5,\n",
    "                     verbose=False,\n",
    "                     validation_split=0.2,\n",
    "                     batch_size=32)\n",
    "loss, accuracy = cnnmodel.evaluate(XD_train, YD_train, verbose=False)\n",
    "print(\"Training Accuracy: >%.3f\"  % (accuracy * 100.0))\n"
   ]
  },
  {
   "cell_type": "markdown",
   "metadata": {
    "id": "x7moSwp1z0fQ"
   },
   "source": [
    "### Model Testing "
   ]
  },
  {
   "cell_type": "code",
   "execution_count": 47,
   "metadata": {
    "colab": {
     "base_uri": "https://localhost:8080/"
    },
    "id": "1-TFwbwAzyZH",
    "outputId": "a840547f-5920-44a6-96d9-78f918a57d4b"
   },
   "outputs": [
    {
     "name": "stdout",
     "output_type": "stream",
     "text": [
      "Testing Accuracy:  >53.083\n"
     ]
    }
   ],
   "source": [
    "loss, accuracy = cnnmodel.evaluate(XD_test, YD_test, verbose=False)\n",
    "print(\"Testing Accuracy:  >%.3f\"  % (accuracy * 100.0))"
   ]
  },
  {
   "cell_type": "markdown",
   "metadata": {
    "id": "4bARkCqB2rku"
   },
   "source": [
    "## Plot Model loss and accuracy"
   ]
  },
  {
   "cell_type": "code",
   "execution_count": 48,
   "metadata": {
    "colab": {
     "base_uri": "https://localhost:8080/"
    },
    "id": "wkqQbl-W2rkv",
    "outputId": "89bf1b5d-f456-4af6-f876-022b00b12795"
   },
   "outputs": [
    {
     "name": "stdout",
     "output_type": "stream",
     "text": [
      "dict_keys(['loss', 'accuracy', 'val_loss', 'val_accuracy'])\n"
     ]
    }
   ],
   "source": [
    "# list all data history \n",
    "print(hiscnn.history.keys())"
   ]
  },
  {
   "cell_type": "code",
   "execution_count": 49,
   "metadata": {
    "colab": {
     "base_uri": "https://localhost:8080/",
     "height": 332
    },
    "id": "rsbCqv8G2rkx",
    "outputId": "71babe3e-31e4-48a1-b6b4-c2f7509eb230"
   },
   "outputs": [
    {
     "data": {
      "text/plain": [
       "<function matplotlib.pyplot.show>"
      ]
     },
     "execution_count": 49,
     "metadata": {},
     "output_type": "execute_result"
    },
    {
     "data": {
      "image/png": "[encoded data removed]",
      "text/plain": [
       "<Figure size 432x288 with 1 Axes>"
      ]
     },
     "metadata": {},
     "output_type": "display_data"
    }
   ],
   "source": [
    "# visualize training and validation losses  \n",
    "plt.plot(hiscnn.history['loss'])\n",
    "plt.plot(hiscnn.history['val_loss'])\n",
    "plt.title('model_loss')\n",
    "plt.ylabel('loss')\n",
    "plt.xlabel('epoch')\n",
    "plt.legend(['train', 'val'], loc = 'upper left')\n",
    "plt.show "
   ]
  },
  {
   "cell_type": "code",
   "execution_count": 50,
   "metadata": {
    "colab": {
     "base_uri": "https://localhost:8080/",
     "height": 315
    },
    "id": "xGamFzRw2rkx",
    "outputId": "10a6a604-87eb-4ca0-89e2-85669bf90b58"
   },
   "outputs": [
    {
     "data": {
      "image/png": "[encoded data removed]",
      "text/plain": [
       "<Figure size 432x288 with 1 Axes>"
      ]
     },
     "metadata": {},
     "output_type": "display_data"
    }
   ],
   "source": [
    "# visualize training and validation accuracies\n",
    "plt.plot(hiscnn.history['accuracy'])\n",
    "plt.plot(hiscnn.history['val_accuracy'])\n",
    "plt.title('Model accuracy')\n",
    "plt.ylabel('Accuracy')\n",
    "plt.xlabel('Epoch')\n",
    "plt.legend(['Train', 'Test'], loc='upper left')\n",
    "plt.show()"
   ]
  }
 ],
 "metadata": {
  "colab": {
   "collapsed_sections": [
    "7tirDCw3zKEF",
    "lcepwj8S7pJW",
    "Bkcwj0cjFf5m",
    "VItu7VOvAQsG",
    "uKNMFLqfv5-c",
    "Nm1H2gbJ3YUB",
    "_FPVw4EByXM6",
    "FjPNu387v5-e",
    "iYdlKnj_qOXJ",
    "3SnugLNEbfcB",
    "qs3yYp3lyjyW",
    "UwNwwCnh0YO9"
   ],
   "name": "DL_mutation_class.ipynb",
   "provenance": []
  },
  "kernelspec": {
   "display_name": "Python 3 (ipykernel)",
   "language": "python",
   "name": "python3"
  },
  "language_info": {
   "codemirror_mode": {
    "name": "ipython",
    "version": 3
   },
   "file_extension": ".py",
   "mimetype": "text/x-python",
   "name": "python",
   "nbconvert_exporter": "python",
   "pygments_lexer": "ipython3",
   "version": "3.8.10"
  }
 },
 "nbformat": 4,
 "nbformat_minor": 1
}
