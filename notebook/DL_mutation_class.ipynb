{
  "nbformat": 4,
  "nbformat_minor": 0,
  "metadata": {
    "colab": {
      "name": "DL_mutation_class.ipynb",
      "provenance": [],
      "collapsed_sections": [
        "7tirDCw3zKEF",
        "lcepwj8S7pJW",
        "Bkcwj0cjFf5m",
        "VItu7VOvAQsG",
        "Nm1H2gbJ3YUB",
        "FjPNu387v5-e",
        "iYdlKnj_qOXJ",
        "3SnugLNEbfcB"
      ]
    },
    "kernelspec": {
      "display_name": "Python 3 (ipykernel)",
      "language": "python",
      "name": "python3"
    },
    "language_info": {
      "codemirror_mode": {
        "name": "ipython",
        "version": 3
      },
      "file_extension": ".py",
      "mimetype": "text/x-python",
      "name": "python",
      "nbconvert_exporter": "python",
      "pygments_lexer": "ipython3",
      "version": "3.8.12"
    }
  },
  "cells": [
    {
      "cell_type": "markdown",
      "metadata": {
        "id": "7tirDCw3zKEF"
      },
      "source": [
        "# Import packages"
      ]
    },
    {
      "cell_type": "code",
      "metadata": {
        "id": "VBFTH98iVs9O"
      },
      "source": [
        "import numpy as np\n",
        "import pandas as pd\n",
        "import seaborn as sns\n",
        "import matplotlib.pyplot as plt\n",
        "import nltk\n",
        "import tensorflow as tf\n",
        "from tensorflow import keras\n",
        "from nltk.corpus import stopwords\n",
        "from keras.preprocessing.text import Tokenizer\n",
        "from keras.preprocessing.sequence import pad_sequences\n",
        "from sklearn.ensemble import RandomForestClassifier\n",
        "from sklearn import model_selection, naive_bayes, svm\n",
        "from sklearn import metrics\n",
        "from sklearn.metrics import accuracy_score\n",
        "from sklearn.decomposition import TruncatedSVD\n",
        "from keras.models import Sequential\n",
        "from keras.layers import Dense, Embedding, LSTM\n",
        "from keras.callbacks import ModelCheckpoint\n",
        "from keras.models import load_model\n",
        "from tensorflow.keras.optimizers import Adam\n",
        "from sklearn.model_selection import train_test_split\n",
        "#import re\n",
        "#from collections import Counter"
      ],
      "execution_count": 1,
      "outputs": []
    },
    {
      "cell_type": "code",
      "metadata": {
        "colab": {
          "base_uri": "https://localhost:8080/"
        },
        "id": "Up1ymQSW7EHY",
        "outputId": "ff19bac4-612a-4871-fa88-514a09c9d609"
      },
      "source": [
        "from google.colab import drive \n",
        "\n",
        "drive.mount('/content/gdrive')"
      ],
      "execution_count": 2,
      "outputs": [
        {
          "output_type": "stream",
          "name": "stdout",
          "text": [
            "Drive already mounted at /content/gdrive; to attempt to forcibly remount, call drive.mount(\"/content/gdrive\", force_remount=True).\n"
          ]
        }
      ]
    },
    {
      "cell_type": "markdown",
      "metadata": {
        "id": "lcepwj8S7pJW"
      },
      "source": [
        "# Training data \n"
      ]
    },
    {
      "cell_type": "markdown",
      "metadata": {
        "id": "tn6r9pzvFRUa"
      },
      "source": [
        "## Train variants "
      ]
    },
    {
      "cell_type": "code",
      "metadata": {
        "colab": {
          "base_uri": "https://localhost:8080/",
          "height": 0
        },
        "id": "30CXBcGT7sdr",
        "outputId": "da1f3ac9-acb7-46a3-e656-3fb9f687ced8"
      },
      "source": [
        "train_variants = pd.read_csv(\"/content/gdrive/MyDrive/Kaggle/msk-redefining-cancer-treatment/training_variants\")\n",
        "print('Number of data points : ', train_variants.shape[0])\n",
        "print('Number of features : ', train_variants.shape[1])\n",
        "print('Features : ', train_variants.columns.values)\n",
        "train_variants.head()\n"
      ],
      "execution_count": 3,
      "outputs": [
        {
          "output_type": "stream",
          "name": "stdout",
          "text": [
            "Number of data points :  3321\n",
            "Number of features :  4\n",
            "Features :  ['ID' 'Gene' 'Variation' 'Class']\n"
          ]
        },
        {
          "output_type": "execute_result",
          "data": {
            "text/html": [
              "<div>\n",
              "<style scoped>\n",
              "    .dataframe tbody tr th:only-of-type {\n",
              "        vertical-align: middle;\n",
              "    }\n",
              "\n",
              "    .dataframe tbody tr th {\n",
              "        vertical-align: top;\n",
              "    }\n",
              "\n",
              "    .dataframe thead th {\n",
              "        text-align: right;\n",
              "    }\n",
              "</style>\n",
              "<table border=\"1\" class=\"dataframe\">\n",
              "  <thead>\n",
              "    <tr style=\"text-align: right;\">\n",
              "      <th></th>\n",
              "      <th>ID</th>\n",
              "      <th>Gene</th>\n",
              "      <th>Variation</th>\n",
              "      <th>Class</th>\n",
              "    </tr>\n",
              "  </thead>\n",
              "  <tbody>\n",
              "    <tr>\n",
              "      <th>0</th>\n",
              "      <td>0</td>\n",
              "      <td>FAM58A</td>\n",
              "      <td>Truncating Mutations</td>\n",
              "      <td>1</td>\n",
              "    </tr>\n",
              "    <tr>\n",
              "      <th>1</th>\n",
              "      <td>1</td>\n",
              "      <td>CBL</td>\n",
              "      <td>W802*</td>\n",
              "      <td>2</td>\n",
              "    </tr>\n",
              "    <tr>\n",
              "      <th>2</th>\n",
              "      <td>2</td>\n",
              "      <td>CBL</td>\n",
              "      <td>Q249E</td>\n",
              "      <td>2</td>\n",
              "    </tr>\n",
              "    <tr>\n",
              "      <th>3</th>\n",
              "      <td>3</td>\n",
              "      <td>CBL</td>\n",
              "      <td>N454D</td>\n",
              "      <td>3</td>\n",
              "    </tr>\n",
              "    <tr>\n",
              "      <th>4</th>\n",
              "      <td>4</td>\n",
              "      <td>CBL</td>\n",
              "      <td>L399V</td>\n",
              "      <td>4</td>\n",
              "    </tr>\n",
              "  </tbody>\n",
              "</table>\n",
              "</div>"
            ],
            "text/plain": [
              "   ID    Gene             Variation  Class\n",
              "0   0  FAM58A  Truncating Mutations      1\n",
              "1   1     CBL                 W802*      2\n",
              "2   2     CBL                 Q249E      2\n",
              "3   3     CBL                 N454D      3\n",
              "4   4     CBL                 L399V      4"
            ]
          },
          "metadata": {},
          "execution_count": 3
        }
      ]
    },
    {
      "cell_type": "markdown",
      "metadata": {
        "id": "zc-jcHnj8a9G"
      },
      "source": [
        "training_variants is a comma separated file containing the description of the genetic mutations used for training.\n",
        "* ID : the id of the row used to link the mutation to the clinical evidence\n",
        "* Gene : the gene where this genetic mutation is located\n",
        "* Variation : the aminoacid change for this mutations\n",
        "* Class : 1-9 the class this genetic mutation has been classified on"
      ]
    },
    {
      "cell_type": "code",
      "metadata": {
        "colab": {
          "base_uri": "https://localhost:8080/"
        },
        "id": "T5A0bkHB8glj",
        "outputId": "85b9f4aa-7b99-480a-c47d-1229f3527aef"
      },
      "source": [
        "# Count of Unique Values of Gene\n",
        "train_variants[\"Gene\"].value_counts()"
      ],
      "execution_count": 4,
      "outputs": [
        {
          "output_type": "execute_result",
          "data": {
            "text/plain": [
              "BRCA1     264\n",
              "TP53      163\n",
              "EGFR      141\n",
              "PTEN      126\n",
              "BRCA2     125\n",
              "         ... \n",
              "AURKB       1\n",
              "KMT2B       1\n",
              "AXL         1\n",
              "RAD54L      1\n",
              "RNF43       1\n",
              "Name: Gene, Length: 264, dtype: int64"
            ]
          },
          "metadata": {},
          "execution_count": 4
        }
      ]
    },
    {
      "cell_type": "markdown",
      "metadata": {
        "id": "-IVqC3mG8oUp"
      },
      "source": [
        "We have 264 different genes"
      ]
    },
    {
      "cell_type": "code",
      "metadata": {
        "colab": {
          "base_uri": "https://localhost:8080/"
        },
        "id": "VoNoRuXx8l_I",
        "outputId": "3c43a5e8-390f-4f76-82ec-69e9dbe0ff01"
      },
      "source": [
        "# Count of Unique Values of Variation\n",
        "train_variants[\"Variation\"].value_counts()"
      ],
      "execution_count": 5,
      "outputs": [
        {
          "output_type": "execute_result",
          "data": {
            "text/plain": [
              "Truncating Mutations    93\n",
              "Deletion                74\n",
              "Amplification           71\n",
              "Fusions                 34\n",
              "Overexpression           6\n",
              "                        ..\n",
              "W731L                    1\n",
              "L582F                    1\n",
              "S904F                    1\n",
              "D717V                    1\n",
              "K467T                    1\n",
              "Name: Variation, Length: 2996, dtype: int64"
            ]
          },
          "metadata": {},
          "execution_count": 5
        }
      ]
    },
    {
      "cell_type": "markdown",
      "metadata": {
        "id": "3FrIFG5j8ruc"
      },
      "source": [
        "We have 2996 variation "
      ]
    },
    {
      "cell_type": "code",
      "metadata": {
        "colab": {
          "base_uri": "https://localhost:8080/"
        },
        "id": "TPbt27Yn8y_F",
        "outputId": "053c34f8-ff3a-4cab-99bc-849c0d0c2fca"
      },
      "source": [
        "#checking number of unique values for 'Gene+Variation' combinations\n",
        "G_V = train_variants.copy()\n",
        "G_V['gene_and_variation']=train_variants['Gene']+' '+train_variants['Variation']\n",
        "G_V.head()\n",
        "G_V['gene_and_variation'].value_counts().head()"
      ],
      "execution_count": 6,
      "outputs": [
        {
          "output_type": "execute_result",
          "data": {
            "text/plain": [
              "KIT V559D      1\n",
              "EGFR P753S     1\n",
              "ERBB4 E563K    1\n",
              "JAK2 T875N     1\n",
              "RET Fusions    1\n",
              "Name: gene_and_variation, dtype: int64"
            ]
          },
          "metadata": {},
          "execution_count": 6
        }
      ]
    },
    {
      "cell_type": "markdown",
      "metadata": {
        "id": "OnsWgLoc9Ao8"
      },
      "source": [
        "All combinations 'Gene + Variation' in these datasets are unique"
      ]
    },
    {
      "cell_type": "code",
      "metadata": {
        "colab": {
          "base_uri": "https://localhost:8080/"
        },
        "id": "frUdTnSX9ESe",
        "outputId": "2725f640-5ce6-4913-8059-341a626c0e29"
      },
      "source": [
        "train_variants.Class.unique()"
      ],
      "execution_count": 7,
      "outputs": [
        {
          "output_type": "execute_result",
          "data": {
            "text/plain": [
              "array([1, 2, 3, 4, 5, 6, 7, 8, 9])"
            ]
          },
          "metadata": {},
          "execution_count": 7
        }
      ]
    },
    {
      "cell_type": "markdown",
      "metadata": {
        "id": "W7xW7IMq9FZZ"
      },
      "source": [
        "This is descrete data so it is classification problem and since there are multiple descrete output possible so we can call it Multi class classification problem"
      ]
    },
    {
      "cell_type": "code",
      "metadata": {
        "colab": {
          "base_uri": "https://localhost:8080/"
        },
        "id": "Gis2UUav9MG6",
        "outputId": "a4453169-ce3e-4a5a-d2d0-26554a1116d0"
      },
      "source": [
        "# detect missing values \n",
        "train_variants.isnull().sum()"
      ],
      "execution_count": 8,
      "outputs": [
        {
          "output_type": "execute_result",
          "data": {
            "text/plain": [
              "ID           0\n",
              "Gene         0\n",
              "Variation    0\n",
              "Class        0\n",
              "dtype: int64"
            ]
          },
          "metadata": {},
          "execution_count": 8
        }
      ]
    },
    {
      "cell_type": "code",
      "metadata": {
        "colab": {
          "base_uri": "https://localhost:8080/",
          "height": 0
        },
        "id": "dvWOfvT99OTU",
        "outputId": "01cd2f37-c23a-4538-9e77-8aebd5740cd9"
      },
      "source": [
        "# plot Distribution of class\n",
        "plt.figure(figsize=(12,8))\n",
        "ax = sns.countplot(x=\"Class\", data=train_variants)\n",
        "plt.ylabel('Frequency'); plt.xlabel('Class')\n",
        "plt.title('Freq. of Classes in Training Variants')\n",
        "plt.show()"
      ],
      "execution_count": 9,
      "outputs": [
        {
          "output_type": "display_data",
          "data": {
            "image/png": "[encoded data removed]",
            "text/plain": [
              "<Figure size 864x576 with 1 Axes>"
            ]
          },
          "metadata": {
            "needs_background": "light"
          }
        }
      ]
    },
    {
      "cell_type": "markdown",
      "metadata": {
        "id": "lhfUcWL29-Gu"
      },
      "source": [
        "Classes seem very imbalanced"
      ]
    },
    {
      "cell_type": "markdown",
      "metadata": {
        "id": "yNpPYZtS-P8l"
      },
      "source": [
        "Genes that has highest number of occurrences in each class"
      ]
    },
    {
      "cell_type": "code",
      "metadata": {
        "colab": {
          "base_uri": "https://localhost:8080/",
          "height": 0
        },
        "id": "Tb41dK1W9iiQ",
        "outputId": "2a89badc-b769-45a7-d72c-fb9033bf6e35"
      },
      "source": [
        "fig, axs = plt.subplots(ncols=3, nrows=3, figsize=(15,15))\n",
        "\n",
        "for i in range(3):\n",
        "    for j in range(3):\n",
        "        gene_count_grp = train_variants[train_variants[\"Class\"]==((i*3+j)+1)].groupby('Gene')[\"ID\"].count().reset_index()\n",
        "        sorted_gene_group = gene_count_grp.sort_values('ID', ascending=False)\n",
        "        sorted_gene_group_top_7 = sorted_gene_group[:7]\n",
        "        sns.barplot(x=\"Gene\", y=\"ID\", data=sorted_gene_group_top_7, ax=axs[i][j])"
      ],
      "execution_count": 10,
      "outputs": [
        {
          "output_type": "display_data",
          "data": {
            "image/png": "[encoded data removed]",
            "text/plain": [
              "<Figure size 1080x1080 with 9 Axes>"
            ]
          },
          "metadata": {
            "needs_background": "light"
          }
        }
      ]
    },
    {
      "cell_type": "markdown",
      "metadata": {
        "id": "JgKq-hy4-cey"
      },
      "source": [
        "\n",
        "\n",
        "Some points we can conclude from these graphs:\n",
        "\n",
        "* BRCA1 is highly dominating Class 5\n",
        "* SF3B1 is highly dominating Class 9\n",
        "* BRCA1 and BRCA2 are dominating Class 6\n",
        "\n"
      ]
    },
    {
      "cell_type": "markdown",
      "metadata": {
        "id": "pNGAHhxg8RGI"
      },
      "source": [
        "## Train text"
      ]
    },
    {
      "cell_type": "code",
      "metadata": {
        "colab": {
          "base_uri": "https://localhost:8080/",
          "height": 0
        },
        "id": "wJUz5H-V7ian",
        "outputId": "e06171cc-4c12-4328-b50a-bf159025c723"
      },
      "source": [
        "train_text = pd.read_csv(\"/content/gdrive/MyDrive/Kaggle/msk-redefining-cancer-treatment/training_text\",sep=\"\\|\\|\", engine=\"python\", skiprows=1, names=[\"ID\", \"Text\"])\n",
        "# Ragou's data\n",
        "#train_text = pd.read_csv(\"/content/gdrive/MyDrive/Kaggle/msk-redefining-cancer-treatment/new_data_clean.txt\",sep=\"\\|\\|\", engine=\"python\", skiprows=1, names=[\"ID\", \"Text\"])\n",
        "print('Number of data points : ', train_text.shape[0])\n",
        "print('Number of features : ', train_text.shape[1])\n",
        "print('Features : ', train_text.columns.values)\n",
        "train_text.head()"
      ],
      "execution_count": 11,
      "outputs": [
        {
          "output_type": "stream",
          "name": "stdout",
          "text": [
            "Number of data points :  3321\n",
            "Number of features :  2\n",
            "Features :  ['ID' 'Text']\n"
          ]
        },
        {
          "output_type": "execute_result",
          "data": {
            "text/html": [
              "<div>\n",
              "<style scoped>\n",
              "    .dataframe tbody tr th:only-of-type {\n",
              "        vertical-align: middle;\n",
              "    }\n",
              "\n",
              "    .dataframe tbody tr th {\n",
              "        vertical-align: top;\n",
              "    }\n",
              "\n",
              "    .dataframe thead th {\n",
              "        text-align: right;\n",
              "    }\n",
              "</style>\n",
              "<table border=\"1\" class=\"dataframe\">\n",
              "  <thead>\n",
              "    <tr style=\"text-align: right;\">\n",
              "      <th></th>\n",
              "      <th>ID</th>\n",
              "      <th>Text</th>\n",
              "    </tr>\n",
              "  </thead>\n",
              "  <tbody>\n",
              "    <tr>\n",
              "      <th>0</th>\n",
              "      <td>0</td>\n",
              "      <td>Cyclin-dependent kinases (CDKs) regulate a var...</td>\n",
              "    </tr>\n",
              "    <tr>\n",
              "      <th>1</th>\n",
              "      <td>1</td>\n",
              "      <td>Abstract Background  Non-small cell lung canc...</td>\n",
              "    </tr>\n",
              "    <tr>\n",
              "      <th>2</th>\n",
              "      <td>2</td>\n",
              "      <td>Abstract Background  Non-small cell lung canc...</td>\n",
              "    </tr>\n",
              "    <tr>\n",
              "      <th>3</th>\n",
              "      <td>3</td>\n",
              "      <td>Recent evidence has demonstrated that acquired...</td>\n",
              "    </tr>\n",
              "    <tr>\n",
              "      <th>4</th>\n",
              "      <td>4</td>\n",
              "      <td>Oncogenic mutations in the monomeric Casitas B...</td>\n",
              "    </tr>\n",
              "  </tbody>\n",
              "</table>\n",
              "</div>"
            ],
            "text/plain": [
              "   ID                                               Text\n",
              "0   0  Cyclin-dependent kinases (CDKs) regulate a var...\n",
              "1   1   Abstract Background  Non-small cell lung canc...\n",
              "2   2   Abstract Background  Non-small cell lung canc...\n",
              "3   3  Recent evidence has demonstrated that acquired...\n",
              "4   4  Oncogenic mutations in the monomeric Casitas B..."
            ]
          },
          "metadata": {},
          "execution_count": 11
        }
      ]
    },
    {
      "cell_type": "markdown",
      "metadata": {
        "id": "1Ohiua1f8FzH"
      },
      "source": [
        "train_text is double pipe (||) delimited file that contains the clinical evidence (text) used to classify genetic mutations. \n",
        "* ID (the id of the row used to link the clinical evidence to the genetic mutation)\n",
        "* Text (the clinical evidence used to classify the genetic mutation)"
      ]
    },
    {
      "cell_type": "code",
      "metadata": {
        "colab": {
          "base_uri": "https://localhost:8080/"
        },
        "id": "0qN5e7Ii72Sc",
        "outputId": "4bfb66a7-24f6-4204-8246-15b5616f7cbb"
      },
      "source": [
        "train_text.Text.nunique()"
      ],
      "execution_count": 12,
      "outputs": [
        {
          "output_type": "execute_result",
          "data": {
            "text/plain": [
              "1920"
            ]
          },
          "metadata": {},
          "execution_count": 12
        }
      ]
    },
    {
      "cell_type": "code",
      "metadata": {
        "colab": {
          "base_uri": "https://localhost:8080/",
          "height": 0
        },
        "id": "7xP9ANwP8FcI",
        "outputId": "dd34285f-9283-46b1-dd22-0b4c5359817d"
      },
      "source": [
        "#count_text = train_text.copy()\n",
        "train_text.loc[:, 'Text_count']  = train_text[\"Text\"].apply(lambda x: len( str(x).split()))\n",
        "train_text.head()\n"
      ],
      "execution_count": 13,
      "outputs": [
        {
          "output_type": "execute_result",
          "data": {
            "text/html": [
              "<div>\n",
              "<style scoped>\n",
              "    .dataframe tbody tr th:only-of-type {\n",
              "        vertical-align: middle;\n",
              "    }\n",
              "\n",
              "    .dataframe tbody tr th {\n",
              "        vertical-align: top;\n",
              "    }\n",
              "\n",
              "    .dataframe thead th {\n",
              "        text-align: right;\n",
              "    }\n",
              "</style>\n",
              "<table border=\"1\" class=\"dataframe\">\n",
              "  <thead>\n",
              "    <tr style=\"text-align: right;\">\n",
              "      <th></th>\n",
              "      <th>ID</th>\n",
              "      <th>Text</th>\n",
              "      <th>Text_count</th>\n",
              "    </tr>\n",
              "  </thead>\n",
              "  <tbody>\n",
              "    <tr>\n",
              "      <th>0</th>\n",
              "      <td>0</td>\n",
              "      <td>Cyclin-dependent kinases (CDKs) regulate a var...</td>\n",
              "      <td>6089</td>\n",
              "    </tr>\n",
              "    <tr>\n",
              "      <th>1</th>\n",
              "      <td>1</td>\n",
              "      <td>Abstract Background  Non-small cell lung canc...</td>\n",
              "      <td>5756</td>\n",
              "    </tr>\n",
              "    <tr>\n",
              "      <th>2</th>\n",
              "      <td>2</td>\n",
              "      <td>Abstract Background  Non-small cell lung canc...</td>\n",
              "      <td>5756</td>\n",
              "    </tr>\n",
              "    <tr>\n",
              "      <th>3</th>\n",
              "      <td>3</td>\n",
              "      <td>Recent evidence has demonstrated that acquired...</td>\n",
              "      <td>5572</td>\n",
              "    </tr>\n",
              "    <tr>\n",
              "      <th>4</th>\n",
              "      <td>4</td>\n",
              "      <td>Oncogenic mutations in the monomeric Casitas B...</td>\n",
              "      <td>6202</td>\n",
              "    </tr>\n",
              "  </tbody>\n",
              "</table>\n",
              "</div>"
            ],
            "text/plain": [
              "   ID                                               Text  Text_count\n",
              "0   0  Cyclin-dependent kinases (CDKs) regulate a var...        6089\n",
              "1   1   Abstract Background  Non-small cell lung canc...        5756\n",
              "2   2   Abstract Background  Non-small cell lung canc...        5756\n",
              "3   3  Recent evidence has demonstrated that acquired...        5572\n",
              "4   4  Oncogenic mutations in the monomeric Casitas B...        6202"
            ]
          },
          "metadata": {},
          "execution_count": 13
        }
      ]
    },
    {
      "cell_type": "markdown",
      "metadata": {
        "id": "Bkcwj0cjFf5m"
      },
      "source": [
        "# Preprocessing "
      ]
    },
    {
      "cell_type": "code",
      "metadata": {
        "colab": {
          "base_uri": "https://localhost:8080/"
        },
        "id": "NV05AVSEK2-H",
        "outputId": "e601154b-75e4-459c-f7ae-4d5ba71669dc"
      },
      "source": [
        "# remove stopwords: the,a,an etc.\n",
        "nltk.download(\"stopwords\")\n",
        "from nltk.corpus import stopwords\n",
        "sw = stopwords.words(\"english\")\n",
        "\n",
        "def pre_processing(data):\n",
        "  # lowercase text\n",
        "  data = data.apply(lambda x: \" \".join(i.lower() for i in  str(x).split()))\n",
        "  # remove numeric values\n",
        "  data = data.str.replace(\"\\d\",\"\")\n",
        "  # remove punctuations\n",
        "  data = data.str.replace(\"[^\\w\\s]\",\"\")\n",
        "  # remove stopwords: the,a,an etc.\n",
        "  data = data.apply(lambda x: \" \".join(i for i in x.split() if i not in sw))\n",
        "  return data\n",
        "\n"
      ],
      "execution_count": 14,
      "outputs": [
        {
          "output_type": "stream",
          "name": "stdout",
          "text": [
            "[nltk_data] Downloading package stopwords to /root/nltk_data...\n",
            "[nltk_data]   Package stopwords is already up-to-date!\n"
          ]
        }
      ]
    },
    {
      "cell_type": "code",
      "metadata": {
        "id": "uL3wofRnM8ao"
      },
      "source": [
        "train_text['Text']= pre_processing(train_text['Text'])\n"
      ],
      "execution_count": 15,
      "outputs": []
    },
    {
      "cell_type": "code",
      "metadata": {
        "colab": {
          "base_uri": "https://localhost:8080/",
          "height": 0
        },
        "id": "ikzL1GQf3Zfe",
        "outputId": "6e8d444f-1ea7-4e4d-cfed-3efa72a34452"
      },
      "source": [
        "train_text.loc[:, 'Text_count']  = train_text['Text'].apply(lambda x: len( str(x).split()))\n",
        "train_text.head()"
      ],
      "execution_count": 16,
      "outputs": [
        {
          "output_type": "execute_result",
          "data": {
            "text/html": [
              "<div>\n",
              "<style scoped>\n",
              "    .dataframe tbody tr th:only-of-type {\n",
              "        vertical-align: middle;\n",
              "    }\n",
              "\n",
              "    .dataframe tbody tr th {\n",
              "        vertical-align: top;\n",
              "    }\n",
              "\n",
              "    .dataframe thead th {\n",
              "        text-align: right;\n",
              "    }\n",
              "</style>\n",
              "<table border=\"1\" class=\"dataframe\">\n",
              "  <thead>\n",
              "    <tr style=\"text-align: right;\">\n",
              "      <th></th>\n",
              "      <th>ID</th>\n",
              "      <th>Text</th>\n",
              "      <th>Text_count</th>\n",
              "    </tr>\n",
              "  </thead>\n",
              "  <tbody>\n",
              "    <tr>\n",
              "      <th>0</th>\n",
              "      <td>0</td>\n",
              "      <td>cyclindependent kinases cdks regulate variety ...</td>\n",
              "      <td>3703</td>\n",
              "    </tr>\n",
              "    <tr>\n",
              "      <th>1</th>\n",
              "      <td>1</td>\n",
              "      <td>abstract background nonsmall cell lung cancer ...</td>\n",
              "      <td>3407</td>\n",
              "    </tr>\n",
              "    <tr>\n",
              "      <th>2</th>\n",
              "      <td>2</td>\n",
              "      <td>abstract background nonsmall cell lung cancer ...</td>\n",
              "      <td>3407</td>\n",
              "    </tr>\n",
              "    <tr>\n",
              "      <th>3</th>\n",
              "      <td>3</td>\n",
              "      <td>recent evidence demonstrated acquired uniparen...</td>\n",
              "      <td>3382</td>\n",
              "    </tr>\n",
              "    <tr>\n",
              "      <th>4</th>\n",
              "      <td>4</td>\n",
              "      <td>oncogenic mutations monomeric casitas blineage...</td>\n",
              "      <td>3762</td>\n",
              "    </tr>\n",
              "  </tbody>\n",
              "</table>\n",
              "</div>"
            ],
            "text/plain": [
              "   ID                                               Text  Text_count\n",
              "0   0  cyclindependent kinases cdks regulate variety ...        3703\n",
              "1   1  abstract background nonsmall cell lung cancer ...        3407\n",
              "2   2  abstract background nonsmall cell lung cancer ...        3407\n",
              "3   3  recent evidence demonstrated acquired uniparen...        3382\n",
              "4   4  oncogenic mutations monomeric casitas blineage...        3762"
            ]
          },
          "metadata": {},
          "execution_count": 16
        }
      ]
    },
    {
      "cell_type": "markdown",
      "metadata": {
        "id": "VItu7VOvAQsG"
      },
      "source": [
        "# Merge Datasets"
      ]
    },
    {
      "cell_type": "code",
      "metadata": {
        "colab": {
          "base_uri": "https://localhost:8080/",
          "height": 0
        },
        "id": "O6Pk68gBASFH",
        "outputId": "55caf562-0bb1-4bca-dfdf-9bcc8ddb502e"
      },
      "source": [
        "df_merge = pd.merge(train_variants,train_text, on=\"ID\",how=\"left\")\n",
        "df_merge.head()"
      ],
      "execution_count": 17,
      "outputs": [
        {
          "output_type": "execute_result",
          "data": {
            "text/html": [
              "<div>\n",
              "<style scoped>\n",
              "    .dataframe tbody tr th:only-of-type {\n",
              "        vertical-align: middle;\n",
              "    }\n",
              "\n",
              "    .dataframe tbody tr th {\n",
              "        vertical-align: top;\n",
              "    }\n",
              "\n",
              "    .dataframe thead th {\n",
              "        text-align: right;\n",
              "    }\n",
              "</style>\n",
              "<table border=\"1\" class=\"dataframe\">\n",
              "  <thead>\n",
              "    <tr style=\"text-align: right;\">\n",
              "      <th></th>\n",
              "      <th>ID</th>\n",
              "      <th>Gene</th>\n",
              "      <th>Variation</th>\n",
              "      <th>Class</th>\n",
              "      <th>Text</th>\n",
              "      <th>Text_count</th>\n",
              "    </tr>\n",
              "  </thead>\n",
              "  <tbody>\n",
              "    <tr>\n",
              "      <th>0</th>\n",
              "      <td>0</td>\n",
              "      <td>FAM58A</td>\n",
              "      <td>Truncating Mutations</td>\n",
              "      <td>1</td>\n",
              "      <td>cyclindependent kinases cdks regulate variety ...</td>\n",
              "      <td>3703</td>\n",
              "    </tr>\n",
              "    <tr>\n",
              "      <th>1</th>\n",
              "      <td>1</td>\n",
              "      <td>CBL</td>\n",
              "      <td>W802*</td>\n",
              "      <td>2</td>\n",
              "      <td>abstract background nonsmall cell lung cancer ...</td>\n",
              "      <td>3407</td>\n",
              "    </tr>\n",
              "    <tr>\n",
              "      <th>2</th>\n",
              "      <td>2</td>\n",
              "      <td>CBL</td>\n",
              "      <td>Q249E</td>\n",
              "      <td>2</td>\n",
              "      <td>abstract background nonsmall cell lung cancer ...</td>\n",
              "      <td>3407</td>\n",
              "    </tr>\n",
              "    <tr>\n",
              "      <th>3</th>\n",
              "      <td>3</td>\n",
              "      <td>CBL</td>\n",
              "      <td>N454D</td>\n",
              "      <td>3</td>\n",
              "      <td>recent evidence demonstrated acquired uniparen...</td>\n",
              "      <td>3382</td>\n",
              "    </tr>\n",
              "    <tr>\n",
              "      <th>4</th>\n",
              "      <td>4</td>\n",
              "      <td>CBL</td>\n",
              "      <td>L399V</td>\n",
              "      <td>4</td>\n",
              "      <td>oncogenic mutations monomeric casitas blineage...</td>\n",
              "      <td>3762</td>\n",
              "    </tr>\n",
              "  </tbody>\n",
              "</table>\n",
              "</div>"
            ],
            "text/plain": [
              "   ID    Gene  ...                                               Text  Text_count\n",
              "0   0  FAM58A  ...  cyclindependent kinases cdks regulate variety ...        3703\n",
              "1   1     CBL  ...  abstract background nonsmall cell lung cancer ...        3407\n",
              "2   2     CBL  ...  abstract background nonsmall cell lung cancer ...        3407\n",
              "3   3     CBL  ...  recent evidence demonstrated acquired uniparen...        3382\n",
              "4   4     CBL  ...  oncogenic mutations monomeric casitas blineage...        3762\n",
              "\n",
              "[5 rows x 6 columns]"
            ]
          },
          "metadata": {},
          "execution_count": 17
        }
      ]
    },
    {
      "cell_type": "markdown",
      "metadata": {
        "id": "ps4bSpaaCVeo"
      },
      "source": [
        "\n",
        "\n",
        "There are multiple rows with similar texts let us check how many of them are unique and whether all similar texts belongs to same class"
      ]
    },
    {
      "cell_type": "code",
      "metadata": {
        "id": "76UGW3D5AosD"
      },
      "source": [
        "df_merge['Text'] = df_merge['Text'].astype(str)"
      ],
      "execution_count": 18,
      "outputs": []
    },
    {
      "cell_type": "code",
      "metadata": {
        "colab": {
          "base_uri": "https://localhost:8080/",
          "height": 0
        },
        "id": "XbhjHPdUCYQa",
        "outputId": "3b95751a-d046-41f2-8256-f55369e3d1db"
      },
      "source": [
        "count_grp = df_merge.groupby('Class')[\"Text_count\"]\n",
        "count_grp.describe()"
      ],
      "execution_count": 19,
      "outputs": [
        {
          "output_type": "execute_result",
          "data": {
            "text/html": [
              "<div>\n",
              "<style scoped>\n",
              "    .dataframe tbody tr th:only-of-type {\n",
              "        vertical-align: middle;\n",
              "    }\n",
              "\n",
              "    .dataframe tbody tr th {\n",
              "        vertical-align: top;\n",
              "    }\n",
              "\n",
              "    .dataframe thead th {\n",
              "        text-align: right;\n",
              "    }\n",
              "</style>\n",
              "<table border=\"1\" class=\"dataframe\">\n",
              "  <thead>\n",
              "    <tr style=\"text-align: right;\">\n",
              "      <th></th>\n",
              "      <th>count</th>\n",
              "      <th>mean</th>\n",
              "      <th>std</th>\n",
              "      <th>min</th>\n",
              "      <th>25%</th>\n",
              "      <th>50%</th>\n",
              "      <th>75%</th>\n",
              "      <th>max</th>\n",
              "    </tr>\n",
              "    <tr>\n",
              "      <th>Class</th>\n",
              "      <th></th>\n",
              "      <th></th>\n",
              "      <th></th>\n",
              "      <th></th>\n",
              "      <th></th>\n",
              "      <th></th>\n",
              "      <th></th>\n",
              "      <th></th>\n",
              "    </tr>\n",
              "  </thead>\n",
              "  <tbody>\n",
              "    <tr>\n",
              "      <th>1</th>\n",
              "      <td>568.0</td>\n",
              "      <td>5743.426056</td>\n",
              "      <td>3965.451812</td>\n",
              "      <td>1.0</td>\n",
              "      <td>3057.00</td>\n",
              "      <td>4557.5</td>\n",
              "      <td>7514.50</td>\n",
              "      <td>31380.0</td>\n",
              "    </tr>\n",
              "    <tr>\n",
              "      <th>2</th>\n",
              "      <td>452.0</td>\n",
              "      <td>5697.924779</td>\n",
              "      <td>4690.364156</td>\n",
              "      <td>71.0</td>\n",
              "      <td>2570.25</td>\n",
              "      <td>4224.0</td>\n",
              "      <td>7502.25</td>\n",
              "      <td>38422.0</td>\n",
              "    </tr>\n",
              "    <tr>\n",
              "      <th>3</th>\n",
              "      <td>89.0</td>\n",
              "      <td>4109.505618</td>\n",
              "      <td>2217.860605</td>\n",
              "      <td>1123.0</td>\n",
              "      <td>2659.00</td>\n",
              "      <td>3382.0</td>\n",
              "      <td>4607.00</td>\n",
              "      <td>16559.0</td>\n",
              "    </tr>\n",
              "    <tr>\n",
              "      <th>4</th>\n",
              "      <td>686.0</td>\n",
              "      <td>5487.255102</td>\n",
              "      <td>4416.365220</td>\n",
              "      <td>28.0</td>\n",
              "      <td>2799.25</td>\n",
              "      <td>3908.0</td>\n",
              "      <td>7050.25</td>\n",
              "      <td>26508.0</td>\n",
              "    </tr>\n",
              "    <tr>\n",
              "      <th>5</th>\n",
              "      <td>242.0</td>\n",
              "      <td>4499.347107</td>\n",
              "      <td>2257.312406</td>\n",
              "      <td>113.0</td>\n",
              "      <td>3076.00</td>\n",
              "      <td>4126.0</td>\n",
              "      <td>5720.00</td>\n",
              "      <td>14670.0</td>\n",
              "    </tr>\n",
              "    <tr>\n",
              "      <th>6</th>\n",
              "      <td>275.0</td>\n",
              "      <td>4195.363636</td>\n",
              "      <td>2381.260474</td>\n",
              "      <td>1.0</td>\n",
              "      <td>2655.00</td>\n",
              "      <td>3720.0</td>\n",
              "      <td>4862.00</td>\n",
              "      <td>14856.0</td>\n",
              "    </tr>\n",
              "    <tr>\n",
              "      <th>7</th>\n",
              "      <td>953.0</td>\n",
              "      <td>6988.057712</td>\n",
              "      <td>6105.308862</td>\n",
              "      <td>1.0</td>\n",
              "      <td>3025.00</td>\n",
              "      <td>5052.0</td>\n",
              "      <td>8843.00</td>\n",
              "      <td>48090.0</td>\n",
              "    </tr>\n",
              "    <tr>\n",
              "      <th>8</th>\n",
              "      <td>19.0</td>\n",
              "      <td>6741.052632</td>\n",
              "      <td>3527.127577</td>\n",
              "      <td>1297.0</td>\n",
              "      <td>3466.00</td>\n",
              "      <td>6882.0</td>\n",
              "      <td>9835.00</td>\n",
              "      <td>12808.0</td>\n",
              "    </tr>\n",
              "    <tr>\n",
              "      <th>9</th>\n",
              "      <td>37.0</td>\n",
              "      <td>8058.189189</td>\n",
              "      <td>6427.903580</td>\n",
              "      <td>728.0</td>\n",
              "      <td>2960.00</td>\n",
              "      <td>7010.0</td>\n",
              "      <td>10078.00</td>\n",
              "      <td>27837.0</td>\n",
              "    </tr>\n",
              "  </tbody>\n",
              "</table>\n",
              "</div>"
            ],
            "text/plain": [
              "       count         mean          std  ...     50%       75%      max\n",
              "Class                                   ...                           \n",
              "1      568.0  5743.426056  3965.451812  ...  4557.5   7514.50  31380.0\n",
              "2      452.0  5697.924779  4690.364156  ...  4224.0   7502.25  38422.0\n",
              "3       89.0  4109.505618  2217.860605  ...  3382.0   4607.00  16559.0\n",
              "4      686.0  5487.255102  4416.365220  ...  3908.0   7050.25  26508.0\n",
              "5      242.0  4499.347107  2257.312406  ...  4126.0   5720.00  14670.0\n",
              "6      275.0  4195.363636  2381.260474  ...  3720.0   4862.00  14856.0\n",
              "7      953.0  6988.057712  6105.308862  ...  5052.0   8843.00  48090.0\n",
              "8       19.0  6741.052632  3527.127577  ...  6882.0   9835.00  12808.0\n",
              "9       37.0  8058.189189  6427.903580  ...  7010.0  10078.00  27837.0\n",
              "\n",
              "[9 rows x 8 columns]"
            ]
          },
          "metadata": {},
          "execution_count": 19
        }
      ]
    },
    {
      "cell_type": "code",
      "metadata": {
        "colab": {
          "base_uri": "https://localhost:8080/",
          "height": 0
        },
        "id": "SDmvIpS6XRN-",
        "outputId": "c2ac8f41-7ac6-4411-bf80-eb2b91e68495"
      },
      "source": [
        "df_merge[df_merge[\"Text_count\"]==1.0]"
      ],
      "execution_count": 20,
      "outputs": [
        {
          "output_type": "execute_result",
          "data": {
            "text/html": [
              "<div>\n",
              "<style scoped>\n",
              "    .dataframe tbody tr th:only-of-type {\n",
              "        vertical-align: middle;\n",
              "    }\n",
              "\n",
              "    .dataframe tbody tr th {\n",
              "        vertical-align: top;\n",
              "    }\n",
              "\n",
              "    .dataframe thead th {\n",
              "        text-align: right;\n",
              "    }\n",
              "</style>\n",
              "<table border=\"1\" class=\"dataframe\">\n",
              "  <thead>\n",
              "    <tr style=\"text-align: right;\">\n",
              "      <th></th>\n",
              "      <th>ID</th>\n",
              "      <th>Gene</th>\n",
              "      <th>Variation</th>\n",
              "      <th>Class</th>\n",
              "      <th>Text</th>\n",
              "      <th>Text_count</th>\n",
              "    </tr>\n",
              "  </thead>\n",
              "  <tbody>\n",
              "    <tr>\n",
              "      <th>1109</th>\n",
              "      <td>1109</td>\n",
              "      <td>FANCA</td>\n",
              "      <td>S1088F</td>\n",
              "      <td>1</td>\n",
              "      <td>nan</td>\n",
              "      <td>1</td>\n",
              "    </tr>\n",
              "    <tr>\n",
              "      <th>1277</th>\n",
              "      <td>1277</td>\n",
              "      <td>ARID5B</td>\n",
              "      <td>Truncating Mutations</td>\n",
              "      <td>1</td>\n",
              "      <td>nan</td>\n",
              "      <td>1</td>\n",
              "    </tr>\n",
              "    <tr>\n",
              "      <th>1407</th>\n",
              "      <td>1407</td>\n",
              "      <td>FGFR3</td>\n",
              "      <td>K508M</td>\n",
              "      <td>6</td>\n",
              "      <td>nan</td>\n",
              "      <td>1</td>\n",
              "    </tr>\n",
              "    <tr>\n",
              "      <th>1639</th>\n",
              "      <td>1639</td>\n",
              "      <td>FLT1</td>\n",
              "      <td>Amplification</td>\n",
              "      <td>6</td>\n",
              "      <td>nan</td>\n",
              "      <td>1</td>\n",
              "    </tr>\n",
              "    <tr>\n",
              "      <th>2755</th>\n",
              "      <td>2755</td>\n",
              "      <td>BRAF</td>\n",
              "      <td>G596C</td>\n",
              "      <td>7</td>\n",
              "      <td>nan</td>\n",
              "      <td>1</td>\n",
              "    </tr>\n",
              "  </tbody>\n",
              "</table>\n",
              "</div>"
            ],
            "text/plain": [
              "        ID    Gene             Variation  Class Text  Text_count\n",
              "1109  1109   FANCA                S1088F      1  nan           1\n",
              "1277  1277  ARID5B  Truncating Mutations      1  nan           1\n",
              "1407  1407   FGFR3                 K508M      6  nan           1\n",
              "1639  1639    FLT1         Amplification      6  nan           1\n",
              "2755  2755    BRAF                 G596C      7  nan           1"
            ]
          },
          "metadata": {},
          "execution_count": 20
        }
      ]
    },
    {
      "cell_type": "markdown",
      "metadata": {
        "id": "IH9UFWd-D5LF"
      },
      "source": [
        "we can see there are some entries without any text data"
      ]
    },
    {
      "cell_type": "code",
      "metadata": {
        "id": "7PbMFBjhCmeG"
      },
      "source": [
        "# Fill NaN values with Gene & Variation \n",
        "df_merge.loc[df_merge[\"Text_count\"]==1.0,\"Text\"] = df_merge[\"Gene\"] + \" \" + df_merge[\"Variation\"]"
      ],
      "execution_count": 21,
      "outputs": []
    },
    {
      "cell_type": "markdown",
      "metadata": {
        "id": "Pm1pyC5ZEYBd"
      },
      "source": [
        "Get distribution of text count for each class"
      ]
    },
    {
      "cell_type": "code",
      "metadata": {
        "colab": {
          "base_uri": "https://localhost:8080/",
          "height": 0
        },
        "id": "hZhqsf8UEAw5",
        "outputId": "7faad7fc-f71a-4a94-bd28-649a24f7f13a"
      },
      "source": [
        "plt.figure(figsize=(12,8))\n",
        "gene_count_grp = df_merge.groupby('Gene')[\"Text_count\"].sum().reset_index()\n",
        "sns.violinplot(x=\"Class\", y=\"Text_count\", data=df_merge, inner=None)\n",
        "sns.swarmplot(x=\"Class\", y=\"Text_count\", data=df_merge, color=\"w\", alpha=.5);\n",
        "plt.ylabel('Text Count', fontsize=14)\n",
        "plt.xlabel('Class', fontsize=14)\n",
        "plt.title(\"Text length distribution\", fontsize=18)\n",
        "plt.show()\n"
      ],
      "execution_count": 22,
      "outputs": [
        {
          "output_type": "stream",
          "name": "stderr",
          "text": [
            "/usr/local/lib/python3.7/dist-packages/seaborn/categorical.py:1296: UserWarning: 61.6% of the points cannot be placed; you may want to decrease the size of the markers or use stripplot.\n",
            "  warnings.warn(msg, UserWarning)\n",
            "/usr/local/lib/python3.7/dist-packages/seaborn/categorical.py:1296: UserWarning: 54.9% of the points cannot be placed; you may want to decrease the size of the markers or use stripplot.\n",
            "  warnings.warn(msg, UserWarning)\n",
            "/usr/local/lib/python3.7/dist-packages/seaborn/categorical.py:1296: UserWarning: 37.1% of the points cannot be placed; you may want to decrease the size of the markers or use stripplot.\n",
            "  warnings.warn(msg, UserWarning)\n",
            "/usr/local/lib/python3.7/dist-packages/seaborn/categorical.py:1296: UserWarning: 65.9% of the points cannot be placed; you may want to decrease the size of the markers or use stripplot.\n",
            "  warnings.warn(msg, UserWarning)\n",
            "/usr/local/lib/python3.7/dist-packages/seaborn/categorical.py:1296: UserWarning: 52.5% of the points cannot be placed; you may want to decrease the size of the markers or use stripplot.\n",
            "  warnings.warn(msg, UserWarning)\n",
            "/usr/local/lib/python3.7/dist-packages/seaborn/categorical.py:1296: UserWarning: 59.6% of the points cannot be placed; you may want to decrease the size of the markers or use stripplot.\n",
            "  warnings.warn(msg, UserWarning)\n",
            "/usr/local/lib/python3.7/dist-packages/seaborn/categorical.py:1296: UserWarning: 68.4% of the points cannot be placed; you may want to decrease the size of the markers or use stripplot.\n",
            "  warnings.warn(msg, UserWarning)\n"
          ]
        },
        {
          "output_type": "display_data",
          "data": {
            "image/png": "[encoded data removed]",
            "text/plain": [
              "<Figure size 864x576 with 1 Axes>"
            ]
          },
          "metadata": {
            "needs_background": "light"
          }
        }
      ]
    },
    {
      "cell_type": "markdown",
      "metadata": {
        "id": "L1M-09tAE1Yt"
      },
      "source": [
        " All classes have most counts in between 0 to 20000. Just as expected"
      ]
    },
    {
      "cell_type": "code",
      "metadata": {
        "colab": {
          "base_uri": "https://localhost:8080/",
          "height": 0
        },
        "id": "iz8iZtQPE2iU",
        "scrolled": true,
        "outputId": "50c5488f-0981-45c1-d97f-1b62da64a089"
      },
      "source": [
        "# how many times the gene is cited in the articles in each class\n",
        "fig, axs = plt.subplots(ncols=3, nrows=3, figsize=(15,15))\n",
        "\n",
        "for i in range(3):\n",
        "    for j in range(3):\n",
        "        gene_count_grp = df_merge[df_merge[\"Class\"]==((i*3+j)+1)].groupby('Gene')[\"Text_count\"].mean().reset_index()\n",
        "        sorted_gene_group = gene_count_grp.sort_values('Text_count', ascending=False)\n",
        "        sorted_gene_group_top_7 = sorted_gene_group[:7]\n",
        "        sns.barplot(x=\"Gene\", y=\"Text_count\", data=sorted_gene_group_top_7, ax=axs[i][j])"
      ],
      "execution_count": 23,
      "outputs": [
        {
          "output_type": "display_data",
          "data": {
            "image/png": "[encoded data removed]",
            "text/plain": [
              "<Figure size 1080x1080 with 9 Axes>"
            ]
          },
          "metadata": {
            "needs_background": "light"
          }
        }
      ]
    },
    {
      "cell_type": "markdown",
      "metadata": {
        "id": "uKNMFLqfv5-c"
      },
      "source": [
        "# Text Embedding"
      ]
    },
    {
      "cell_type": "code",
      "metadata": {
        "id": "OtmZQ5fF77TY"
      },
      "source": [
        "# Use the Keras tokenizer, vectorize a text corpus, by turning each text into either a sequence of integers (each integer being the index of a token in a dictionary)\n",
        "# the maximum number of words to keep, based on word frequency.\n",
        "num_words = 2000 \n",
        "tokenizer = Tokenizer(num_words=num_words)\n",
        "tokenizer.fit_on_texts(df_merge['Text'].values) # Updates internal vocabulary based on a list of texts."
      ],
      "execution_count": 24,
      "outputs": []
    },
    {
      "cell_type": "code",
      "metadata": {
        "id": "kbwwDSAu77TZ"
      },
      "source": [
        "tokenizer.word_index # get the index of each word"
      ],
      "execution_count": null,
      "outputs": []
    },
    {
      "cell_type": "markdown",
      "metadata": {
        "id": "VTArZFHN77Ta"
      },
      "source": [
        "words contain al et => no significant word \n",
        "\n",
        "must take the gene, mutation, variation ... \n",
        "\n"
      ]
    },
    {
      "cell_type": "code",
      "metadata": {
        "id": "ceCFbQcZ77Tb"
      },
      "source": [
        "# Pad the data \n",
        "X = tokenizer.texts_to_sequences(df_merge['Text'].values) # Transforms each text in texts to a sequence of integers, Only top num_words most frequent words will be taken into account.\n",
        "X = pad_sequences(X, maxlen=2000) # transforms a lists of integers into a 2D Numpy array of shape (num_samples, num_timesteps)\n"
      ],
      "execution_count": 26,
      "outputs": []
    },
    {
      "cell_type": "markdown",
      "metadata": {
        "id": "Nm1H2gbJ3YUB"
      },
      "source": [
        "# Split the data "
      ]
    },
    {
      "cell_type": "markdown",
      "metadata": {
        "id": "3i80TNSPCVax"
      },
      "source": [
        "## For machine learning Models "
      ]
    },
    {
      "cell_type": "code",
      "metadata": {
        "colab": {
          "base_uri": "https://localhost:8080/"
        },
        "id": "Xnj9omYQ0jYY",
        "outputId": "e1d63545-44cd-4b55-9a8d-60e969d9f0f5"
      },
      "source": [
        "Y_M = df_merge.Class\n",
        "XM_train, XM_test, YM_train, YM_test = train_test_split(X, Y_M, test_size = 0.2, random_state = 42, stratify=Y_M)\n",
        "print(XM_train.shape, YM_train.shape)\n",
        "print(XM_test.shape, YM_test.shape)"
      ],
      "execution_count": 27,
      "outputs": [
        {
          "output_type": "stream",
          "name": "stdout",
          "text": [
            "(2656, 2000) (2656,)\n",
            "(665, 2000) (665,)\n"
          ]
        }
      ]
    },
    {
      "cell_type": "markdown",
      "metadata": {
        "id": "AVFYioDGCbeO"
      },
      "source": [
        "## For Deep Learning Model"
      ]
    },
    {
      "cell_type": "code",
      "metadata": {
        "colab": {
          "base_uri": "https://localhost:8080/"
        },
        "id": "lmqOM6dXCfNy",
        "outputId": "0ff0ec67-f3f8-4b6c-8d62-9a6325dd90b9"
      },
      "source": [
        "Y_D = pd.get_dummies(df_merge['Class']).values\n",
        "XD_train, XD_test, YD_train, YD_test = train_test_split(X, Y_D, test_size = 0.2, random_state = 42, stratify=Y_D)\n",
        "print(XD_train.shape, YD_train.shape)\n",
        "print(XD_test.shape, YD_test.shape)"
      ],
      "execution_count": 28,
      "outputs": [
        {
          "output_type": "stream",
          "name": "stdout",
          "text": [
            "(2656, 2000) (2656, 9)\n",
            "(665, 2000) (665, 9)\n"
          ]
        }
      ]
    },
    {
      "cell_type": "markdown",
      "metadata": {
        "id": "FjPNu387v5-e"
      },
      "source": [
        "# Random Forest\n",
        "\n",
        "as a Baseline"
      ]
    },
    {
      "cell_type": "code",
      "metadata": {
        "id": "fCAZAZ8Gv5-e"
      },
      "source": [
        "from sklearn.ensemble import RandomForestClassifier\n",
        "\n",
        "def predict(x_train, y_train, x_test):\n",
        "    clf = RandomForestClassifier(n_jobs=3, # number of jobs to run in parallel\n",
        "                                n_estimators=100, # number of trees in the forest\n",
        "                                criterion='entropy', # measure the quality of a split, 'entropy' for the information gain\n",
        "                                random_state=300) # Controls the randomness of the bootstrapping of the samples and the sampling of the features to consider when looking for the best split at each node \n",
        "\n",
        "    clf.fit(x_train, y_train)\n",
        "    return clf.predict(x_test)\n"
      ],
      "execution_count": 29,
      "outputs": []
    },
    {
      "cell_type": "markdown",
      "metadata": {
        "id": "wEq2ojxqv5-f"
      },
      "source": [
        "### Prediction"
      ]
    },
    {
      "cell_type": "code",
      "metadata": {
        "colab": {
          "base_uri": "https://localhost:8080/"
        },
        "id": "J-J7_H8Ev5-f",
        "outputId": "d4e7e609-c4cb-42ff-a8b4-bc1f61bb8362"
      },
      "source": [
        "predicted = predict(XM_train, YM_train, XM_test)\n",
        "\n",
        "accuracy_score(YM_test, predicted)\n"
      ],
      "execution_count": 30,
      "outputs": [
        {
          "output_type": "execute_result",
          "data": {
            "text/plain": [
              "0.5684210526315789"
            ]
          },
          "metadata": {},
          "execution_count": 30
        }
      ]
    },
    {
      "cell_type": "markdown",
      "metadata": {
        "id": "S-grA9acv5-f"
      },
      "source": [
        "### Confusion matrix\n",
        "\n",
        "A confusion matrix is a way to express how many of a classifier’s predictions were correct, and when incorrect, where the classifier got confused.\n",
        "\n",
        "Rows represent the true labels and the columns represent predicted labels.\n",
        "The column tells us what the classifier predicted, and the row tells us what the right label was"
      ]
    },
    {
      "cell_type": "code",
      "metadata": {
        "colab": {
          "base_uri": "https://localhost:8080/"
        },
        "id": "QUfEvlI5v5-g",
        "outputId": "15017ec0-d7cb-4357-d9c1-3d5f9d86b56c"
      },
      "source": [
        "# Making the Confusion Matrix\n",
        "from sklearn.metrics import confusion_matrix\n",
        "cm = confusion_matrix(YM_test, predicted)\n",
        "print(cm)"
      ],
      "execution_count": 31,
      "outputs": [
        {
          "output_type": "stream",
          "name": "stdout",
          "text": [
            "[[ 55   0   0  14   7   5  33   0   0]\n",
            " [  2  25   0   1   5   0  58   0   0]\n",
            " [  2   0   8   2   2   0   4   0   0]\n",
            " [ 14   0   3  74   4   2  40   0   0]\n",
            " [  9   1   1   8  12   1  16   0   0]\n",
            " [  5   1   1   4   2  28  14   0   0]\n",
            " [  2   7   5   2   3   0 172   0   0]\n",
            " [  0   0   0   0   0   0   2   0   2]\n",
            " [  0   0   0   0   0   0   3   0   4]]\n"
          ]
        }
      ]
    },
    {
      "cell_type": "markdown",
      "metadata": {
        "id": "1EOMK01uv5-g"
      },
      "source": [
        "### Plot confusion matrix "
      ]
    },
    {
      "cell_type": "code",
      "metadata": {
        "colab": {
          "base_uri": "https://localhost:8080/",
          "height": 0
        },
        "id": "5z7sR0FGv5-g",
        "outputId": "2ddaab3e-830f-4df8-d222-0f6dd0f0e179"
      },
      "source": [
        "# Reshape confusion matrix data\n",
        "matrix = cm.astype('float') / cm.sum(axis=1)[:, np.newaxis]\n",
        "\n",
        "# Build the plot\n",
        "plt.figure(figsize=(16,7))\n",
        "sns.set(font_scale=1.4)\n",
        "sns.heatmap(matrix, annot=True, annot_kws={'size':10},\n",
        "            cmap=plt.cm.Greens, linewidths=0.2)\n",
        "\n",
        "# Add labels to the plot\n",
        "class_names = ['1', '2', '3', \n",
        "               '4', '5', '6', \n",
        "               '7', '8', '9']\n",
        "tick_marks = np.arange(len(class_names))\n",
        "tick_marks2 = tick_marks + 0.5\n",
        "plt.xticks(tick_marks, class_names, rotation=25)\n",
        "plt.yticks(tick_marks2, class_names, rotation=0)\n",
        "plt.xlabel('Predicted label')\n",
        "plt.ylabel('True label')\n",
        "plt.title('Confusion Matrix for Random Forest Model')\n",
        "plt.show()\n"
      ],
      "execution_count": 32,
      "outputs": [
        {
          "output_type": "display_data",
          "data": {
            "image/png": "[encoded data removed]",
            "text/plain": [
              "<Figure size 1152x504 with 2 Axes>"
            ]
          },
          "metadata": {
            "needs_background": "light"
          }
        }
      ]
    },
    {
      "cell_type": "markdown",
      "metadata": {
        "id": "IFKtANdJv5-h"
      },
      "source": [
        "The model don't predict class 8, it gives a good prediction of class 1, 4, 6,7 "
      ]
    },
    {
      "cell_type": "markdown",
      "metadata": {
        "id": "iYdlKnj_qOXJ"
      },
      "source": [
        "# Naive Bayes"
      ]
    },
    {
      "cell_type": "code",
      "metadata": {
        "colab": {
          "base_uri": "https://localhost:8080/"
        },
        "id": "7-6mvLOWqU2O",
        "outputId": "b13c220d-b75f-4e7e-ae88-76ec801034e5"
      },
      "source": [
        "# fit the training dataset on the NB classifier\n",
        "Naive = naive_bayes.MultinomialNB()\n",
        "\n",
        "Naive.fit(XM_train, YM_train)# predict the labels on validation dataset\n",
        "\n",
        "predictions_NB = Naive.predict(XM_test)# Use accuracy_score function to get the accuracy\n",
        "\n",
        "print(\"Naive Bayes Accuracy Score -> \",accuracy_score(predictions_NB, YM_test)*100)"
      ],
      "execution_count": 33,
      "outputs": [
        {
          "output_type": "stream",
          "name": "stdout",
          "text": [
            "Naive Bayes Accuracy Score ->  42.857142857142854\n"
          ]
        }
      ]
    },
    {
      "cell_type": "markdown",
      "metadata": {
        "id": "3SnugLNEbfcB"
      },
      "source": [
        "# SVM "
      ]
    },
    {
      "cell_type": "code",
      "metadata": {
        "colab": {
          "base_uri": "https://localhost:8080/"
        },
        "id": "ka7XO5V9p_nd",
        "outputId": "21aa7b2e-98ca-4bbe-ed2d-165d26db2822"
      },
      "source": [
        "# Classifier - Algorithm - SVM\n",
        "# fit the training dataset on the classifier\n",
        "\n",
        "SVM = svm.SVC(C=1.0, kernel='linear', degree=3, gamma='auto')\n",
        "\n",
        "SVM.fit(XM_train, YM_train)# predict the labels on validation dataset\n",
        "\n",
        "predictions_SVM = SVM.predict(XM_test)# Use accuracy_score function to get the accuracy\n",
        "print(\"SVM Accuracy Score -> \",accuracy_score(predictions_SVM, YM_test)*100)"
      ],
      "execution_count": 34,
      "outputs": [
        {
          "output_type": "stream",
          "name": "stdout",
          "text": [
            "SVM Accuracy Score ->  51.127819548872175\n"
          ]
        }
      ]
    },
    {
      "cell_type": "markdown",
      "metadata": {
        "id": "UwNwwCnh0YO9"
      },
      "source": [
        "# LSTM"
      ]
    },
    {
      "cell_type": "markdown",
      "metadata": {
        "id": "jFMkgh7ZDlUp"
      },
      "source": [
        "## Build Model"
      ]
    },
    {
      "cell_type": "code",
      "metadata": {
        "colab": {
          "base_uri": "https://localhost:8080/"
        },
        "id": "GEN19_Rbvuc9",
        "outputId": "6732c65f-9bec-4455-c4c0-1418900edc9e"
      },
      "source": [
        "num_words = 2000\n",
        "embed_dim = 128\n",
        "lstm_out = 64\n",
        "\n",
        "model = Sequential(\n",
        "    [\n",
        "        Embedding(num_words, embed_dim, input_length = X.shape[1]),\n",
        "        LSTM(lstm_out, recurrent_dropout=0.2, dropout=0.2),\n",
        "        Dense(32, activation = \"relu\"),\n",
        "        Dense(9,activation='softmax')\n",
        "    ]\n",
        ")\n",
        "\n",
        "model.compile(loss = 'categorical_crossentropy', optimizer='adam', metrics = ['accuracy'])\n",
        "print(model.summary())"
      ],
      "execution_count": 35,
      "outputs": [
        {
          "output_type": "stream",
          "name": "stdout",
          "text": [
            "Model: \"sequential\"\n",
            "_________________________________________________________________\n",
            "Layer (type)                 Output Shape              Param #   \n",
            "=================================================================\n",
            "embedding (Embedding)        (None, 2000, 128)         256000    \n",
            "_________________________________________________________________\n",
            "lstm (LSTM)                  (None, 64)                49408     \n",
            "_________________________________________________________________\n",
            "dense (Dense)                (None, 32)                2080      \n",
            "_________________________________________________________________\n",
            "dense_1 (Dense)              (None, 9)                 297       \n",
            "=================================================================\n",
            "Total params: 307,785\n",
            "Trainable params: 307,785\n",
            "Non-trainable params: 0\n",
            "_________________________________________________________________\n",
            "None\n"
          ]
        }
      ]
    },
    {
      "cell_type": "markdown",
      "metadata": {
        "id": "_u0YXs1Z3czZ"
      },
      "source": [
        "### Plot the model "
      ]
    },
    {
      "cell_type": "code",
      "metadata": {
        "colab": {
          "base_uri": "https://localhost:8080/",
          "height": 533
        },
        "id": "qT2hjnYL0zjO",
        "outputId": "2a2d7dcd-d643-453a-b650-d6046132f086"
      },
      "source": [
        "keras.utils.plot_model(model, \"my_first_model_shapes.png\", show_shapes= True)"
      ],
      "execution_count": 36,
      "outputs": [
        {
          "output_type": "execute_result",
          "data": {
            "image/png": "[encoded data removed]",
            "text/plain": [
              "<IPython.core.display.Image object>"
            ]
          },
          "metadata": {},
          "execution_count": 36
        }
      ]
    },
    {
      "cell_type": "markdown",
      "metadata": {
        "id": "xp3aVsZu3i-J"
      },
      "source": [
        "## Model Training "
      ]
    },
    {
      "cell_type": "code",
      "metadata": {
        "colab": {
          "base_uri": "https://localhost:8080/"
        },
        "id": "gDQfpdji0osS",
        "outputId": "53097599-b927-4ffe-c8d3-29d980c7738b"
      },
      "source": [
        "batch_size = 32\n",
        "ckpt_callback = ModelCheckpoint('keras_model', \n",
        "                                 monitor='val_loss', \n",
        "                                 verbose=1, \n",
        "                                 save_best_only=True, \n",
        "                                 mode='auto')\n",
        "history = model.fit(XD_train, YD_train, epochs=5, batch_size=batch_size, validation_split=0.2, callbacks=[ckpt_callback])"
      ],
      "execution_count": 37,
      "outputs": [
        {
          "output_type": "stream",
          "name": "stdout",
          "text": [
            "Epoch 1/5\n",
            "67/67 [==============================] - 251s 4s/step - loss: 1.8846 - accuracy: 0.3041 - val_loss: 1.7380 - val_accuracy: 0.3233\n",
            "\n",
            "Epoch 00001: val_loss improved from inf to 1.73797, saving model to keras_model\n",
            "INFO:tensorflow:Assets written to: keras_model/assets\n",
            "Epoch 2/5\n",
            "67/67 [==============================] - 247s 4s/step - loss: 1.4851 - accuracy: 0.4765 - val_loss: 1.5291 - val_accuracy: 0.4530\n",
            "\n",
            "Epoch 00002: val_loss improved from 1.73797 to 1.52907, saving model to keras_model\n",
            "INFO:tensorflow:Assets written to: keras_model/assets\n",
            "Epoch 3/5\n",
            "67/67 [==============================] - 247s 4s/step - loss: 1.2307 - accuracy: 0.5598 - val_loss: 1.3442 - val_accuracy: 0.5150\n",
            "\n",
            "Epoch 00003: val_loss improved from 1.52907 to 1.34417, saving model to keras_model\n",
            "INFO:tensorflow:Assets written to: keras_model/assets\n",
            "Epoch 4/5\n",
            "67/67 [==============================] - 246s 4s/step - loss: 1.0195 - accuracy: 0.6365 - val_loss: 1.2579 - val_accuracy: 0.5620\n",
            "\n",
            "Epoch 00004: val_loss improved from 1.34417 to 1.25788, saving model to keras_model\n",
            "INFO:tensorflow:Assets written to: keras_model/assets\n",
            "Epoch 5/5\n",
            "67/67 [==============================] - 246s 4s/step - loss: 0.8650 - accuracy: 0.6987 - val_loss: 1.2517 - val_accuracy: 0.5771\n",
            "\n",
            "Epoch 00005: val_loss improved from 1.25788 to 1.25166, saving model to keras_model\n",
            "INFO:tensorflow:Assets written to: keras_model/assets\n"
          ]
        },
        {
          "output_type": "execute_result",
          "data": {
            "text/plain": [
              "<keras.callbacks.History at 0x7f0c642574d0>"
            ]
          },
          "metadata": {},
          "execution_count": 37
        }
      ]
    },
    {
      "cell_type": "markdown",
      "metadata": {
        "id": "v1J7o9DP3oUO"
      },
      "source": [
        "## Testing "
      ]
    },
    {
      "cell_type": "code",
      "metadata": {
        "colab": {
          "base_uri": "https://localhost:8080/"
        },
        "id": "Ze4prwfM1RoM",
        "outputId": "1faff703-0dd3-44fe-cbf2-054d968e5b0e"
      },
      "source": [
        "_, acc = model.evaluate(XD_test, YD_test, verbose= 1)\n",
        "print('>%.3f' % (acc * 100.0))\n"
      ],
      "execution_count": 38,
      "outputs": [
        {
          "output_type": "stream",
          "name": "stdout",
          "text": [
            "21/21 [==============================] - 7s 357ms/step - loss: 1.3481 - accuracy: 0.5504\n",
            ">55.038\n"
          ]
        }
      ]
    },
    {
      "cell_type": "markdown",
      "metadata": {
        "id": "GSSDvqGQkbY6"
      },
      "source": [
        "## Plot Model loss and accuracy"
      ]
    },
    {
      "cell_type": "code",
      "metadata": {
        "colab": {
          "base_uri": "https://localhost:8080/",
          "height": 185
        },
        "id": "aNkWuW8Balpx",
        "outputId": "ce1b4332-b50e-4f2f-b3d6-ffeb4c20c93d"
      },
      "source": [
        "# list all data history \n",
        "print(history.history.keys())"
      ],
      "execution_count": 41,
      "outputs": [
        {
          "output_type": "error",
          "ename": "AttributeError",
          "evalue": "ignored",
          "traceback": [
            "\u001b[0;31m---------------------------------------------------------------------------\u001b[0m",
            "\u001b[0;31mAttributeError\u001b[0m                            Traceback (most recent call last)",
            "\u001b[0;32m<ipython-input-41-bb6106a0e8d9>\u001b[0m in \u001b[0;36m<module>\u001b[0;34m()\u001b[0m\n\u001b[1;32m      1\u001b[0m \u001b[0;31m# list all data history\u001b[0m\u001b[0;34m\u001b[0m\u001b[0;34m\u001b[0m\u001b[0;34m\u001b[0m\u001b[0m\n\u001b[0;32m----> 2\u001b[0;31m \u001b[0mprint\u001b[0m\u001b[0;34m(\u001b[0m\u001b[0mmodel\u001b[0m\u001b[0;34m.\u001b[0m\u001b[0mkeys\u001b[0m\u001b[0;34m(\u001b[0m\u001b[0;34m)\u001b[0m\u001b[0;34m)\u001b[0m\u001b[0;34m\u001b[0m\u001b[0;34m\u001b[0m\u001b[0m\n\u001b[0m",
            "\u001b[0;31mAttributeError\u001b[0m: 'Sequential' object has no attribute 'keys'"
          ]
        }
      ]
    },
    {
      "cell_type": "code",
      "metadata": {
        "id": "4OzLOUqQayJe"
      },
      "source": [
        "# visualize training and validation losses  \n",
        "plt.plot(history.history['loss'])\n",
        "plt.plot(history.history['val_loss'])\n",
        "plt.title('model_loss')\n",
        "plt.ylabel('loss')\n",
        "plt.xlabel('epoch')\n",
        "plt.legend(['train', 'val'], loc = 'upper left')\n",
        "plt.show "
      ],
      "execution_count": null,
      "outputs": []
    },
    {
      "cell_type": "code",
      "metadata": {
        "id": "a-7ffPkkkBd_"
      },
      "source": [
        "# visualize training and validation accuracies\n",
        "plt.plot(history.history['accuracy'])\n",
        "plt.plot(history.history['val_accuracy'])\n",
        "plt.title('Model accuracy')\n",
        "plt.ylabel('Accuracy')\n",
        "plt.xlabel('Epoch')\n",
        "plt.legend(['Train', 'Test'], loc='upper left')\n",
        "plt.show()"
      ],
      "execution_count": null,
      "outputs": []
    },
    {
      "cell_type": "code",
      "metadata": {
        "id": "cJGK2k4Qv5-k"
      },
      "source": [
        ""
      ],
      "execution_count": null,
      "outputs": []
    }
  ]
}