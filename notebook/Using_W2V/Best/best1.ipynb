{
 "cells": [
  {
   "cell_type": "markdown",
   "metadata": {},
   "source": [
    "# Import and prepare Notebook Environement"
   ]
  },
  {
   "cell_type": "code",
   "execution_count": 1,
   "metadata": {},
   "outputs": [],
   "source": [
    "import sys\n",
    "import os\n",
    "import pandas as pd\n",
    "import numpy as np\n",
    "import matplotlib.pyplot as plt\n",
    "import tensorflow as tf\n",
    "import seaborn as sns\n",
    "\n",
    "from tensorflow import keras\n",
    "from tensorflow.keras import layers, Sequential\n",
    "from tensorflow.keras.optimizers import Adam\n",
    "from sklearn.model_selection import train_test_split\n",
    "from sklearn.metrics import log_loss, confusion_matrix, accuracy_score\n",
    "from imblearn.over_sampling import RandomOverSampler"
   ]
  },
  {
   "cell_type": "code",
   "execution_count": 2,
   "metadata": {},
   "outputs": [],
   "source": [
    "sys.path.append(os.path.abspath(\"../../../src/\"))\n",
    "sys.path.append(os.path.abspath(\"../../../scripts/\"))"
   ]
  },
  {
   "cell_type": "code",
   "execution_count": 4,
   "metadata": {},
   "outputs": [],
   "source": [
    "from EmbVector import Vector\n",
    "import sub_kaggle as sk"
   ]
  },
  {
   "cell_type": "markdown",
   "metadata": {},
   "source": [
    "## **Models**\n",
    "## Getting datas\n",
    "**clean_art mode** : The \"Sum\" colum of datas is the sum of all word vector from the cleaned article having preprocessing. "
   ]
  },
  {
   "cell_type": "code",
   "execution_count": 4,
   "metadata": {},
   "outputs": [],
   "source": [
    "def get_model(is_balanced):\n",
    "    if is_balanced:\n",
    "        path = \"../../../datas/skipgram_A3316_WS20_E20_B10000_R2000_CTrue.model\"\n",
    "    else:\n",
    "        path = \"../../../datas/skipgram_3284.model\"\n",
    "    return path"
   ]
  },
  {
   "cell_type": "code",
   "execution_count": 5,
   "metadata": {},
   "outputs": [
    {
     "name": "stdout",
     "output_type": "stream",
     "text": [
      "________________________Getting datas vectors_______________________\n",
      "____________________________________________________________________\n",
      "Number of genes/variations not foud : 688\n",
      "Number of article words not foud : 189\n",
      "____________________________________________________________________\n",
      "Getting vectors finished in 51.98251755000092 seconds\n"
     ]
    }
   ],
   "source": [
    "datas = Vector(data_file = \"../../../datas/training_clean\", \n",
    "        model_path = get_model(is_balanced = True), \n",
    "        is_training = True)\n",
    "# type_sum values : gene_var, best_sim, clean_art, sim_gene_var\n",
    "# top_number only use with best_sim or sim_gene_var, defautl = 50\n",
    "datas.get_vector_datas(is_notebook = True, type_sum =  \"clean_art\")"
   ]
  },
  {
   "cell_type": "markdown",
   "metadata": {},
   "source": [
    "## Split the datas\n",
    "Spliting the datas from the first model (without new articles) by 80% for training, and 20% fort test"
   ]
  },
  {
   "cell_type": "code",
   "execution_count": 7,
   "metadata": {},
   "outputs": [],
   "source": [
    "X = datas.vectors[['Gene','Variation','Sum']]\n",
    "Y = pd.get_dummies(datas.vectors[\"Class\"]).values\n",
    "\n",
    "#X = datas_unbalanced.vectors[['Gene','Variation','Sum']]\n",
    "#Y = pd.get_dummies(datas_unbalanced.vectors[\"Class\"]).values"
   ]
  },
  {
   "cell_type": "code",
   "execution_count": 8,
   "metadata": {},
   "outputs": [
    {
     "name": "stdout",
     "output_type": "stream",
     "text": [
      "(3314,)\n",
      "(3314,)\n",
      "(3314,)\n"
     ]
    }
   ],
   "source": [
    "print(X['Gene'].shape)\n",
    "print(X['Variation'].shape)\n",
    "print(X['Sum'].shape)"
   ]
  },
  {
   "cell_type": "markdown",
   "metadata": {},
   "source": [
    "## Models : datas concatenated\n",
    "First we need to split datas to reshape  and clean the shape"
   ]
  },
  {
   "cell_type": "code",
   "execution_count": 9,
   "metadata": {},
   "outputs": [],
   "source": [
    "X_gene = X[\"Gene\"]\n",
    "X_var = X[\"Variation\"]\n",
    "X_sum = X[\"Sum\"]"
   ]
  },
  {
   "cell_type": "markdown",
   "metadata": {},
   "source": [
    "## **Building the model with Gene, Variation and Sum datas**"
   ]
  },
  {
   "cell_type": "code",
   "execution_count": 10,
   "metadata": {},
   "outputs": [],
   "source": [
    "X_gene = X_gene.values.reshape(X_gene.shape[0], 1)\n",
    "X_var = X_var.values.reshape(X_var.shape[0], 1)\n",
    "X_sum = X_sum.values.reshape(X_sum.shape[0], 1)"
   ]
  },
  {
   "cell_type": "code",
   "execution_count": 11,
   "metadata": {},
   "outputs": [],
   "source": [
    "def convert_to_np_gene(Object):\n",
    "    np_list = []\n",
    "    for obj in Object:\n",
    "        cop = obj[0].copy()\n",
    "        np_list.append(np.array(cop))\n",
    "    return np.array(np_list)\n",
    "\n",
    "def convert_to_np_var_sum(Object):\n",
    "    np_list = []\n",
    "    for obj in Object:\n",
    "        for o in obj:\n",
    "            cop = o[0].copy()\n",
    "            np_list.append(np.array(cop))\n",
    "    return np.array(np_list)"
   ]
  },
  {
   "cell_type": "code",
   "execution_count": 12,
   "metadata": {},
   "outputs": [],
   "source": [
    "X_gene = convert_to_np_gene(X_gene)\n",
    "X_var = convert_to_np_var_sum(X_var)\n",
    "X_sum = convert_to_np_var_sum(X_sum)"
   ]
  },
  {
   "cell_type": "code",
   "execution_count": 13,
   "metadata": {},
   "outputs": [
    {
     "name": "stdout",
     "output_type": "stream",
     "text": [
      "X_gene : (3314, 100)\n",
      "X_var : (3314, 100)\n",
      "X_sum : (3314, 100)\n",
      "Y : (3314, 9)\n"
     ]
    }
   ],
   "source": [
    "print(\"X_gene : \" + str(X_gene.shape))\n",
    "print(\"X_var : \" + str(X_var.shape))\n",
    "print(\"X_sum : \" + str(X_sum.shape))\n",
    "\n",
    "print(\"Y : \" + str(Y.shape))"
   ]
  },
  {
   "cell_type": "markdown",
   "metadata": {},
   "source": [
    "## Reform the X_train with cleaned shape"
   ]
  },
  {
   "cell_type": "code",
   "execution_count": 14,
   "metadata": {},
   "outputs": [],
   "source": [
    "X_concat = np.concatenate((X_gene, X_var, X_sum), axis = 1) "
   ]
  },
  {
   "cell_type": "code",
   "execution_count": 15,
   "metadata": {},
   "outputs": [
    {
     "data": {
      "text/plain": [
       "(3314, 300)"
      ]
     },
     "execution_count": 15,
     "metadata": {},
     "output_type": "execute_result"
    }
   ],
   "source": [
    "X_concat.shape"
   ]
  },
  {
   "cell_type": "code",
   "execution_count": 16,
   "metadata": {},
   "outputs": [
    {
     "name": "stdout",
     "output_type": "stream",
     "text": [
      "X_train : (2651, 300)\n",
      "Y_train : (2651, 9)\n",
      "X_test : (663, 300)\n",
      "Y_test : (663, 9)\n"
     ]
    }
   ],
   "source": [
    "X_train, X_test, Y_train, Y_test = train_test_split(X_concat, Y, test_size = 0.2, random_state = 42, stratify=Y)\n",
    "print(\"X_train : \" + str(X_train.shape))\n",
    "print(\"Y_train : \" + str(Y_train.shape))\n",
    "print(\"X_test : \" + str(X_test.shape))\n",
    "print(\"Y_test : \" + str(Y_test.shape))"
   ]
  },
  {
   "cell_type": "markdown",
   "metadata": {},
   "source": [
    "## Over Sampling"
   ]
  },
  {
   "cell_type": "code",
   "execution_count": 17,
   "metadata": {},
   "outputs": [
    {
     "name": "stdout",
     "output_type": "stream",
     "text": [
      "(4128, 300)\n",
      "(4128, 9)\n"
     ]
    }
   ],
   "source": [
    "# define oversampling strategy\n",
    "oversample = RandomOverSampler(sampling_strategy='minority')\n",
    "\n",
    "# fit and apply the transform\n",
    "X_train, Y_train = oversample.fit_resample(X_train, Y_train)\n",
    "X_train, Y_train = oversample.fit_resample(X_train, Y_train)\n",
    "\n",
    "print(X_train.shape)\n",
    "print(Y_train.shape)"
   ]
  },
  {
   "cell_type": "code",
   "execution_count": 18,
   "metadata": {},
   "outputs": [
    {
     "name": "stdout",
     "output_type": "stream",
     "text": [
      "(4128, 300, 1)\n",
      "(663, 300, 1)\n"
     ]
    }
   ],
   "source": [
    "X_train = X_train.reshape(X_train.shape[0],X_train.shape[1], 1)\n",
    "X_test = X_test.reshape(X_test.shape[0],X_test.shape[1], 1)\n",
    "print(X_train.shape)\n",
    "print(X_test.shape)"
   ]
  },
  {
   "cell_type": "markdown",
   "metadata": {},
   "source": [
    "## **Building CNN model with Gene, Variation and Sum datas**"
   ]
  },
  {
   "cell_type": "markdown",
   "metadata": {},
   "source": [
    "## Model 1 : Simple"
   ]
  },
  {
   "cell_type": "code",
   "execution_count": 23,
   "metadata": {
    "id": "KMoZC9mxJuDZ"
   },
   "outputs": [],
   "source": [
    "def create_model_simple():\n",
    "    model = Sequential()\n",
    "    model.add(layers.Input(shape=(X_train.shape[1], X_train.shape[2])))\n",
    "    model.add(layers.Conv1D(32, kernel_size=(3), activation='relu'))\n",
    "    model.add(layers.Dense(16, activation='relu'))\n",
    "    model.add(layers.Flatten())\n",
    "    model.add(layers.Dense(9, activation='softmax'))\n",
    "\n",
    "    return model"
   ]
  },
  {
   "cell_type": "code",
   "execution_count": 24,
   "metadata": {},
   "outputs": [
    {
     "data": {
      "image/png": "[encoded data removed]",
      "text/plain": [
       "<IPython.core.display.Image object>"
      ]
     },
     "execution_count": 24,
     "metadata": {},
     "output_type": "execute_result"
    }
   ],
   "source": [
    "model_simple = create_model_simple()\n",
    "model_simple.compile(optimizer='adam', loss='categorical_crossentropy', metrics=['accuracy'])\n",
    "keras.utils.plot_model(model_simple, \"CNN_W2V_ca.png\", show_shapes= True)"
   ]
  },
  {
   "cell_type": "markdown",
   "metadata": {},
   "source": [
    "## **Training**"
   ]
  },
  {
   "cell_type": "markdown",
   "metadata": {},
   "source": [
    "## CNN Model 1 : Simple"
   ]
  },
  {
   "cell_type": "code",
   "execution_count": 35,
   "metadata": {},
   "outputs": [],
   "source": [
    "history_simple = model_simple.fit(X_train, Y_train,\n",
    "                     epochs=50,\n",
    "                     verbose=False,\n",
    "                     validation_split = 0.2,\n",
    "                     batch_size= 32, \n",
    "                     callbacks = tf.keras.callbacks.EarlyStopping(monitor='val_accuracy', patience=3)\n",
    ")"
   ]
  },
  {
   "cell_type": "code",
   "execution_count": 36,
   "metadata": {},
   "outputs": [
    {
     "name": "stdout",
     "output_type": "stream",
     "text": [
      "Training Accuracy: 83.454 %\n"
     ]
    }
   ],
   "source": [
    "loss, accuracy = model_simple.evaluate(X_train, Y_train, verbose=False)\n",
    "print(\"Training Accuracy: %.3f %%\"  % (accuracy * 100.0))"
   ]
  },
  {
   "cell_type": "code",
   "execution_count": 37,
   "metadata": {
    "colab": {
     "base_uri": "https://localhost:8080/"
    },
    "id": "dk9bDckmMJtE",
    "outputId": "3ef56eec-67da-4335-bdd6-60b6ca1b1906"
   },
   "outputs": [
    {
     "name": "stdout",
     "output_type": "stream",
     "text": [
      "Testing Accuracy:  67.270 %\n"
     ]
    }
   ],
   "source": [
    "loss, accuracy = model_simple.evaluate(X_test, Y_test, verbose=False)\n",
    "\n",
    "print(\"Testing Accuracy:  %.3f %%\"  % (accuracy * 100.0))"
   ]
  },
  {
   "cell_type": "code",
   "execution_count": 38,
   "metadata": {},
   "outputs": [
    {
     "data": {
      "image/png": "[encoded data removed]",
      "text/plain": [
       "<Figure size 432x288 with 1 Axes>"
      ]
     },
     "metadata": {
      "needs_background": "light"
     },
     "output_type": "display_data"
    }
   ],
   "source": [
    "# summarize history for loss\n",
    "plt.plot(history_simple.history['loss'])\n",
    "plt.plot(history_simple.history['val_loss'])\n",
    "plt.title(\"model loss\")\n",
    "plt.ylabel('loss')\n",
    "plt.xlabel('epoch')\n",
    "plt.legend(['train','val'], loc='upper left')\n",
    "plt.show()"
   ]
  },
  {
   "cell_type": "markdown",
   "metadata": {},
   "source": [
    "## **Saving models**"
   ]
  },
  {
   "cell_type": "code",
   "execution_count": 45,
   "metadata": {},
   "outputs": [
    {
     "name": "stdout",
     "output_type": "stream",
     "text": [
      "INFO:tensorflow:Assets written to: ../../../results/Models/skipgram_over_sampling/skipgram_os_cnn_simple_Concat_ca.model/assets\n"
     ]
    }
   ],
   "source": [
    "#model_simple.save(\"../../../results/Models/skipgram_over_sampling/skipgram_os_cnn_simple_Concat_ca.model\")"
   ]
  },
  {
   "cell_type": "markdown",
   "metadata": {},
   "source": [
    "__________________________________"
   ]
  },
  {
   "cell_type": "markdown",
   "metadata": {},
   "source": [
    "# Clear the Session and delete model"
   ]
  },
  {
   "cell_type": "code",
   "execution_count": 47,
   "metadata": {},
   "outputs": [],
   "source": [
    "keras.backend.clear_session()\n",
    "del model_simple"
   ]
  },
  {
   "cell_type": "markdown",
   "metadata": {},
   "source": [
    "__________________________________"
   ]
  },
  {
   "cell_type": "markdown",
   "metadata": {},
   "source": [
    "__________________________________"
   ]
  },
  {
   "cell_type": "markdown",
   "metadata": {},
   "source": [
    "# **Confusion matrix**"
   ]
  },
  {
   "cell_type": "code",
   "execution_count": 48,
   "metadata": {
    "id": "aYvK46-n26X9"
   },
   "outputs": [],
   "source": [
    "def plot_matrices(model, x_test, y_test):\n",
    "  probas = model.predict(x_test)\n",
    "  pred_indices = np.argmax(probas, axis=1)\n",
    "  classes = np.array(range(1, 10))\n",
    "  preds = classes[pred_indices]\n",
    "  print('Log loss: {}'.format(log_loss(classes[np.argmax(y_test, axis=1)], probas)))\n",
    "  print('Accuracy: {}'.format(accuracy_score(classes[np.argmax(y_test, axis=1)], preds))) \n",
    "\n",
    "  confusion  = confusion_matrix(classes[np.argmax(y_test, axis=1)], preds)\n",
    "  precision =(confusion/confusion.sum(axis=0))\n",
    "  recall =(((confusion.T)/(confusion.sum(axis=1))).T)\n",
    "  f,(ax1,ax2,ax3, axcb) = plt.subplots(1,4, gridspec_kw={'width_ratios':[1,1,1,0.08]},figsize=(22,6)) \n",
    "  labels = [1,2,3,4,5,6,7,8,9]\n",
    "\n",
    "  # Confusion matrix \n",
    "  g1 = sns.heatmap(confusion,cbar=False,ax=ax1,annot=True, cmap=\"Blues\", fmt=\".3f\", xticklabels=labels, yticklabels=labels,)\n",
    "  g1.set_ylabel('Original Class')\n",
    "  g1.set_xlabel('Predicted Class')\n",
    "  g1.set_title('Confusion') \n",
    "\n",
    "  # Precision matrix \n",
    "  g2 = sns.heatmap(precision,cmap=\"Blues\",cbar=False,ax=ax2, annot=True,fmt=\".3f\", xticklabels=labels, yticklabels=labels)\n",
    "  g2.set_ylabel('Original Class')\n",
    "  g2.set_xlabel('Predicted Class')\n",
    "  g2.set_yticks(labels)\n",
    "  g2.set_title('Precision') \n",
    "\n",
    "  # Recall matrix \n",
    "  g3 = sns.heatmap(recall,cmap=\"Blues\",ax=ax3, cbar_ax=axcb, annot=True, fmt=\".3f\", xticklabels=labels, yticklabels=labels)\n",
    "  g3.set_ylabel('Original Class')\n",
    "  g3.set_xlabel('Predicted Class')\n",
    "  g3.set_title('Recall')\n",
    "  g3.set_yticks(labels) \n",
    "\n",
    "  for ax in [g1,g2,g3]:\n",
    "    tl = ax.get_xticklabels()\n",
    "    ax.set_xticklabels(tl, rotation=0)\n",
    "    tly = ax.get_yticklabels()\n",
    "    ax.set_yticklabels(tly, rotation=0)\n",
    "  \n",
    "  plt.show()\n"
   ]
  },
  {
   "cell_type": "code",
   "execution_count": 49,
   "metadata": {},
   "outputs": [],
   "source": [
    "#model_simple = keras.models.load_model(\"../../../results/Models/skipgram_over_sampling/skipgram_os_cnn_simple_Concat_ca.model\")"
   ]
  },
  {
   "cell_type": "code",
   "execution_count": 52,
   "metadata": {},
   "outputs": [
    {
     "name": "stdout",
     "output_type": "stream",
     "text": [
      "Log loss: 1.1638031040646595\n",
      "Accuracy: 0.6726998491704375\n"
     ]
    },
    {
     "data": {
      "image/png": "[encoded data removed]",
      "text/plain": [
       "<Figure size 1584x432 with 4 Axes>"
      ]
     },
     "metadata": {
      "needs_background": "light"
     },
     "output_type": "display_data"
    }
   ],
   "source": [
    "plot_matrices(model_simple, X_test, Y_test)"
   ]
  },
  {
   "cell_type": "markdown",
   "metadata": {},
   "source": [
    "__________________________________"
   ]
  },
  {
   "cell_type": "markdown",
   "metadata": {},
   "source": [
    "__________________________________"
   ]
  },
  {
   "cell_type": "markdown",
   "metadata": {},
   "source": [
    "# Kaggle Submission"
   ]
  },
  {
   "cell_type": "code",
   "execution_count": 5,
   "metadata": {},
   "outputs": [],
   "source": [
    "def get_model_sub():\n",
    "    return \"../../../datas/skipgram_A3316_WS20_E20_B10000_R2000_CTrue.model\""
   ]
  },
  {
   "cell_type": "code",
   "execution_count": 8,
   "metadata": {},
   "outputs": [
    {
     "name": "stdout",
     "output_type": "stream",
     "text": [
      "________________________Getting datas vectors_______________________\n",
      "____________________________________________________________________\n",
      "Number of genes/variations not foud : 682\n",
      "Number of article words not foud : 15546\n",
      "____________________________________________________________________\n",
      "Getting vectors finished in 13.214093315000355 seconds\n"
     ]
    }
   ],
   "source": [
    "datas = Vector(data_file = \"../../../datas/stage2_test_clean\", \n",
    "        model_path = get_model_sub(), \n",
    "        is_training = False)\n",
    "# type_sum values : gene_var, best_sim, clean_art, sim_gene_var\n",
    "# top_number only use with best_sim or sim_gene_var, defautl = 50\n",
    "datas.get_vector_datas(is_notebook = True, type_sum =  \"clean_art\")"
   ]
  },
  {
   "cell_type": "markdown",
   "metadata": {},
   "source": [
    "## Split the datas\n",
    "Spliting the datas from the first model (without new articles) by 80% for training, and 20% fort test"
   ]
  },
  {
   "cell_type": "code",
   "execution_count": 10,
   "metadata": {},
   "outputs": [],
   "source": [
    "X = datas.vectors[['Gene','Variation','Sum']]"
   ]
  },
  {
   "cell_type": "code",
   "execution_count": 11,
   "metadata": {},
   "outputs": [
    {
     "name": "stdout",
     "output_type": "stream",
     "text": [
      "(591,)\n",
      "(591,)\n",
      "(591,)\n"
     ]
    }
   ],
   "source": [
    "print(X['Gene'].shape)\n",
    "print(X['Variation'].shape)\n",
    "print(X['Sum'].shape)"
   ]
  },
  {
   "cell_type": "markdown",
   "metadata": {},
   "source": [
    "## Models : datas concatenated\n",
    "First we need to split datas to reshape  and clean the shape"
   ]
  },
  {
   "cell_type": "code",
   "execution_count": 12,
   "metadata": {},
   "outputs": [],
   "source": [
    "X_gene = X[\"Gene\"]\n",
    "X_var = X[\"Variation\"]\n",
    "X_sum = X[\"Sum\"]"
   ]
  },
  {
   "cell_type": "markdown",
   "metadata": {},
   "source": [
    "## **Building the model with Gene, Variation and Sum datas**"
   ]
  },
  {
   "cell_type": "code",
   "execution_count": 13,
   "metadata": {},
   "outputs": [],
   "source": [
    "X_gene = X_gene.values.reshape(X_gene.shape[0], 1)\n",
    "X_var = X_var.values.reshape(X_var.shape[0], 1)\n",
    "X_sum = X_sum.values.reshape(X_sum.shape[0], 1)"
   ]
  },
  {
   "cell_type": "code",
   "execution_count": 14,
   "metadata": {},
   "outputs": [],
   "source": [
    "def convert_to_np_gene(Object):\n",
    "    np_list = []\n",
    "    for obj in Object:\n",
    "        cop = obj[0].copy()\n",
    "        np_list.append(np.array(cop))\n",
    "    return np.array(np_list)\n",
    "\n",
    "def convert_to_np_var_sum(Object):\n",
    "    np_list = []\n",
    "    for obj in Object:\n",
    "        for o in obj:\n",
    "            cop = o[0].copy()\n",
    "            np_list.append(np.array(cop))\n",
    "    return np.array(np_list)"
   ]
  },
  {
   "cell_type": "code",
   "execution_count": 15,
   "metadata": {},
   "outputs": [],
   "source": [
    "X_gene = convert_to_np_gene(X_gene)\n",
    "X_var = convert_to_np_var_sum(X_var)\n",
    "X_sum = convert_to_np_var_sum(X_sum)"
   ]
  },
  {
   "cell_type": "code",
   "execution_count": 17,
   "metadata": {},
   "outputs": [
    {
     "name": "stdout",
     "output_type": "stream",
     "text": [
      "X_gene : (591, 100)\n",
      "X_var : (591, 100)\n",
      "X_sum : (591, 100)\n"
     ]
    }
   ],
   "source": [
    "print(\"X_gene : \" + str(X_gene.shape))\n",
    "print(\"X_var : \" + str(X_var.shape))\n",
    "print(\"X_sum : \" + str(X_sum.shape))"
   ]
  },
  {
   "cell_type": "markdown",
   "metadata": {},
   "source": [
    "## Reform the X_train with cleaned shape"
   ]
  },
  {
   "cell_type": "code",
   "execution_count": 18,
   "metadata": {},
   "outputs": [],
   "source": [
    "X_concat = np.concatenate((X_gene, X_var, X_sum), axis = 1) "
   ]
  },
  {
   "cell_type": "code",
   "execution_count": 19,
   "metadata": {},
   "outputs": [
    {
     "data": {
      "text/plain": [
       "(591, 300)"
      ]
     },
     "execution_count": 19,
     "metadata": {},
     "output_type": "execute_result"
    }
   ],
   "source": [
    "X_concat.shape"
   ]
  },
  {
   "cell_type": "code",
   "execution_count": 21,
   "metadata": {},
   "outputs": [
    {
     "name": "stdout",
     "output_type": "stream",
     "text": [
      "(591, 300, 1)\n"
     ]
    }
   ],
   "source": [
    "X_concat = X_concat.reshape(X_concat.shape[0],X_concat.shape[1], 1)\n",
    "print(X_concat.shape)"
   ]
  },
  {
   "cell_type": "code",
   "execution_count": 34,
   "metadata": {},
   "outputs": [],
   "source": [
    "model_trained = keras.models.load_model(\"../../../results/Models/skipgram_over_sampling/skipgram_os_cnn_simple_Concat_ca.model\")"
   ]
  },
  {
   "cell_type": "code",
   "execution_count": 35,
   "metadata": {},
   "outputs": [],
   "source": [
    "sub_datas = sk.kaggle_dtf(model_trained, X_concat)"
   ]
  },
  {
   "cell_type": "code",
   "execution_count": 44,
   "metadata": {},
   "outputs": [
    {
     "name": "stdout",
     "output_type": "stream",
     "text": [
      "(216, ID        217\n",
      "class1      0\n",
      "class2      0\n",
      "class3      0\n",
      "class4      0\n",
      "class5      0\n",
      "class6      0\n",
      "class7      0\n",
      "class8      0\n",
      "class9      1\n",
      "Name: 216, dtype: int64)\n",
      "(305, ID        306\n",
      "class1      0\n",
      "class2      0\n",
      "class3      0\n",
      "class4      0\n",
      "class5      0\n",
      "class6      0\n",
      "class7      0\n",
      "class8      0\n",
      "class9      1\n",
      "Name: 305, dtype: int64)\n",
      "(321, ID        322\n",
      "class1      0\n",
      "class2      0\n",
      "class3      0\n",
      "class4      0\n",
      "class5      0\n",
      "class6      0\n",
      "class7      0\n",
      "class8      0\n",
      "class9      1\n",
      "Name: 321, dtype: int64)\n",
      "(331, ID        332\n",
      "class1      0\n",
      "class2      0\n",
      "class3      0\n",
      "class4      0\n",
      "class5      0\n",
      "class6      0\n",
      "class7      0\n",
      "class8      0\n",
      "class9      1\n",
      "Name: 331, dtype: int64)\n",
      "(421, ID        422\n",
      "class1      0\n",
      "class2      0\n",
      "class3      0\n",
      "class4      0\n",
      "class5      0\n",
      "class6      0\n",
      "class7      0\n",
      "class8      0\n",
      "class9      1\n",
      "Name: 421, dtype: int64)\n",
      "(542, ID        543\n",
      "class1      0\n",
      "class2      0\n",
      "class3      0\n",
      "class4      0\n",
      "class5      0\n",
      "class6      0\n",
      "class7      0\n",
      "class8      0\n",
      "class9      1\n",
      "Name: 542, dtype: int64)\n"
     ]
    }
   ],
   "source": [
    "for row in sub_datas.iterrows():\n",
    "    if row[1]['class8']==1:\n",
    "        print(row)"
   ]
  },
  {
   "cell_type": "code",
   "execution_count": null,
   "metadata": {},
   "outputs": [],
   "source": [
    "sub_datas.to_csv(\"sci_bert_kaggle.csv\",index = False)"
   ]
  }
 ],
 "metadata": {
  "interpreter": {
   "hash": "f2d9a70bbdc9f4b8a74eb04eacab7009feb0e79c185bd148a31a4cbc8ca120b3"
  },
  "kernelspec": {
   "display_name": "Python 3.8.11 64-bit ('RAPMC': conda)",
   "name": "python3"
  },
  "language_info": {
   "codemirror_mode": {
    "name": "ipython",
    "version": 3
   },
   "file_extension": ".py",
   "mimetype": "text/x-python",
   "name": "python",
   "nbconvert_exporter": "python",
   "pygments_lexer": "ipython3",
   "version": "3.8.11"
  },
  "orig_nbformat": 4
 },
 "nbformat": 4,
 "nbformat_minor": 2
}
