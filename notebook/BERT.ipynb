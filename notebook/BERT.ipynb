{
 "cells": [
  {
   "cell_type": "code",
   "execution_count": 3,
   "metadata": {
    "collapsed": true
   },
   "outputs": [
    {
     "name": "stdout",
     "output_type": "stream",
     "text": [
      "Collecting flair\n",
      "  Downloading flair-0.9-py3-none-any.whl (319 kB)\n",
      "\u001b[K     |████████████████████████████████| 319 kB 16.7 MB/s eta 0:00:01\n",
      "\u001b[?25hCollecting sentencepiece==0.1.95\n",
      "  Downloading sentencepiece-0.1.95-cp38-cp38-manylinux2014_x86_64.whl (1.2 MB)\n",
      "\u001b[K     |████████████████████████████████| 1.2 MB 24.2 MB/s eta 0:00:01\n",
      "\u001b[?25hRequirement already satisfied: matplotlib>=2.2.3 in /home/ragou/.local/lib/python3.8/site-packages (from flair) (3.4.3)\n",
      "Collecting huggingface-hub\n",
      "  Downloading huggingface_hub-0.0.19-py3-none-any.whl (56 kB)\n",
      "\u001b[K     |████████████████████████████████| 56 kB 753 kB/s  eta 0:00:01\n",
      "\u001b[?25hCollecting segtok>=1.5.7\n",
      "  Downloading segtok-1.5.10.tar.gz (25 kB)\n",
      "Collecting ftfy\n",
      "  Downloading ftfy-6.0.3.tar.gz (64 kB)\n",
      "\u001b[K     |████████████████████████████████| 64 kB 2.7 MB/s  eta 0:00:01\n",
      "\u001b[?25hCollecting gdown==3.12.2\n",
      "  Downloading gdown-3.12.2.tar.gz (8.2 kB)\n",
      "  Installing build dependencies ... \u001b[?25ldone\n",
      "\u001b[?25h  Getting requirements to build wheel ... \u001b[?25ldone\n",
      "\u001b[?25h    Preparing wheel metadata ... \u001b[?25ldone\n",
      "\u001b[?25hCollecting conllu>=4.0\n",
      "  Downloading conllu-4.4.1-py2.py3-none-any.whl (15 kB)\n",
      "Collecting hyperopt>=0.1.1\n",
      "  Downloading hyperopt-0.2.5-py2.py3-none-any.whl (965 kB)\n",
      "\u001b[K     |████████████████████████████████| 965 kB 26.9 MB/s eta 0:00:01\n",
      "\u001b[?25hCollecting transformers>=4.0.0\n",
      "  Downloading transformers-4.11.3-py3-none-any.whl (2.9 MB)\n",
      "\u001b[K     |████████████████████████████████| 2.9 MB 50.9 MB/s eta 0:00:01\n",
      "\u001b[?25hCollecting sqlitedict>=1.6.0\n",
      "  Downloading sqlitedict-1.7.0.tar.gz (28 kB)\n",
      "Requirement already satisfied: python-dateutil>=2.6.1 in /home/ragou/.local/lib/python3.8/site-packages (from flair) (2.8.1)\n",
      "Collecting konoha<5.0.0,>=4.0.0\n",
      "  Downloading konoha-4.6.5-py3-none-any.whl (20 kB)\n",
      "Collecting more-itertools~=8.8.0\n",
      "  Downloading more_itertools-8.8.0-py3-none-any.whl (48 kB)\n",
      "\u001b[K     |████████████████████████████████| 48 kB 4.9 MB/s  eta 0:00:01\n",
      "\u001b[?25hRequirement already satisfied: tqdm>=4.26.0 in /home/ragou/.local/lib/python3.8/site-packages (from flair) (4.61.0)\n",
      "Collecting gensim<=3.8.3,>=3.4.0\n",
      "  Downloading gensim-3.8.3-cp38-cp38-manylinux1_x86_64.whl (24.2 MB)\n",
      "\u001b[K     |████████████████████████████████| 24.2 MB 210 kB/s  eta 0:00:01    |██████████▌                     | 7.9 MB 22.7 MB/s eta 0:00:01\n",
      "\u001b[?25hCollecting janome\n",
      "  Downloading Janome-0.4.1-py2.py3-none-any.whl (19.7 MB)\n",
      "\u001b[K     |████████████████████████████████| 19.7 MB 24.1 MB/s eta 0:00:01\n",
      "\u001b[?25hCollecting torch!=1.8,>=1.5.0\n",
      "  Downloading torch-1.9.1-cp38-cp38-manylinux1_x86_64.whl (831.4 MB)\n",
      "\u001b[K     |████████████████████████████████| 831.4 MB 5.5 kB/s  eta 0:00:01     |███████████████████             | 491.2 MB 26.2 MB/s eta 0:00:13     |██████████████████████████████▎ | 786.7 MB 35.5 MB/s eta 0:00:02\n",
      "\u001b[?25hCollecting langdetect\n",
      "  Downloading langdetect-1.0.9.tar.gz (981 kB)\n",
      "\u001b[K     |████████████████████████████████| 981 kB 51.0 MB/s eta 0:00:01\n",
      "\u001b[?25hRequirement already satisfied: scikit-learn>=0.21.3 in /home/ragou/.local/lib/python3.8/site-packages (from flair) (1.0)\n",
      "Collecting tabulate\n",
      "  Downloading tabulate-0.8.9-py3-none-any.whl (25 kB)\n",
      "Collecting deprecated>=1.2.4\n",
      "  Downloading Deprecated-1.2.13-py2.py3-none-any.whl (9.6 kB)\n",
      "Collecting wikipedia-api\n",
      "  Downloading Wikipedia-API-0.5.4.tar.gz (18 kB)\n",
      "Collecting mpld3==0.3\n",
      "  Downloading mpld3-0.3.tar.gz (788 kB)\n",
      "\u001b[K     |████████████████████████████████| 788 kB 40.5 MB/s eta 0:00:01\n",
      "\u001b[?25hCollecting bpemb>=0.3.2\n",
      "  Downloading bpemb-0.3.3-py3-none-any.whl (19 kB)\n",
      "Requirement already satisfied: regex in /home/ragou/.local/lib/python3.8/site-packages (from flair) (2021.10.8)\n",
      "Requirement already satisfied: lxml in /home/ragou/.local/lib/python3.8/site-packages (from flair) (4.6.3)\n",
      "Requirement already satisfied: cycler>=0.10 in /home/ragou/.local/lib/python3.8/site-packages (from matplotlib>=2.2.3->flair) (0.10.0)\n",
      "Requirement already satisfied: pillow>=6.2.0 in /home/ragou/.local/lib/python3.8/site-packages (from matplotlib>=2.2.3->flair) (8.3.2)\n",
      "Requirement already satisfied: numpy>=1.16 in /usr/lib/python3/dist-packages (from matplotlib>=2.2.3->flair) (1.17.4)\n",
      "Requirement already satisfied: pyparsing>=2.2.1 in /home/ragou/.local/lib/python3.8/site-packages (from matplotlib>=2.2.3->flair) (2.4.7)\n",
      "Requirement already satisfied: kiwisolver>=1.0.1 in /home/ragou/.local/lib/python3.8/site-packages (from matplotlib>=2.2.3->flair) (1.2.0)\n",
      "Requirement already satisfied: typing-extensions in /home/ragou/.local/lib/python3.8/site-packages (from huggingface-hub->flair) (3.7.4.3)\n",
      "Collecting packaging>=20.9\n",
      "  Downloading packaging-21.0-py3-none-any.whl (40 kB)\n",
      "\u001b[K     |████████████████████████████████| 40 kB 5.0 MB/s  eta 0:00:01\n",
      "\u001b[?25hRequirement already satisfied: requests in /usr/lib/python3/dist-packages (from huggingface-hub->flair) (2.22.0)\n",
      "Requirement already satisfied: pyyaml in /usr/lib/python3/dist-packages (from huggingface-hub->flair) (5.3.1)\n",
      "Requirement already satisfied: filelock in /home/ragou/.local/lib/python3.8/site-packages (from huggingface-hub->flair) (3.0.12)\n",
      "Requirement already satisfied: wcwidth in /home/ragou/.local/lib/python3.8/site-packages (from ftfy->flair) (0.2.5)\n",
      "Requirement already satisfied: six in /home/ragou/.local/lib/python3.8/site-packages (from gdown==3.12.2->flair) (1.15.0)\n",
      "Requirement already satisfied: scipy in /home/ragou/.local/lib/python3.8/site-packages (from hyperopt>=0.1.1->flair) (1.7.1)\n",
      "Requirement already satisfied: cloudpickle in /home/ragou/.local/lib/python3.8/site-packages (from hyperopt>=0.1.1->flair) (1.6.0)\n",
      "Requirement already satisfied: future in /home/ragou/.local/lib/python3.8/site-packages (from hyperopt>=0.1.1->flair) (0.18.2)\n",
      "Requirement already satisfied: networkx>=2.2 in /home/ragou/.local/lib/python3.8/site-packages (from hyperopt>=0.1.1->flair) (2.5.1)\n",
      "Collecting sacremoses\n",
      "  Downloading sacremoses-0.0.46-py3-none-any.whl (895 kB)\n",
      "\u001b[K     |████████████████████████████████| 895 kB 41.1 MB/s eta 0:00:01\n",
      "\u001b[?25hCollecting tokenizers<0.11,>=0.10.1\n",
      "  Downloading tokenizers-0.10.3-cp38-cp38-manylinux_2_5_x86_64.manylinux1_x86_64.manylinux_2_12_x86_64.manylinux2010_x86_64.whl (3.3 MB)\n",
      "\u001b[K     |████████████████████████████████| 3.3 MB 48.5 MB/s eta 0:00:01\n",
      "\u001b[?25hCollecting overrides<4.0.0,>=3.0.0\n",
      "  Downloading overrides-3.1.0.tar.gz (11 kB)\n",
      "Collecting importlib-metadata<4.0.0,>=3.7.0\n",
      "  Downloading importlib_metadata-3.10.1-py3-none-any.whl (14 kB)\n",
      "Collecting smart-open>=1.8.1\n",
      "  Downloading smart_open-5.2.1-py3-none-any.whl (58 kB)\n",
      "\u001b[K     |████████████████████████████████| 58 kB 4.4 MB/s  eta 0:00:01\n",
      "\u001b[?25hRequirement already satisfied: joblib>=0.11 in /home/ragou/.local/lib/python3.8/site-packages (from scikit-learn>=0.21.3->flair) (0.17.0)\n",
      "Collecting threadpoolctl>=2.0.0\n",
      "  Using cached threadpoolctl-3.0.0-py3-none-any.whl (14 kB)\n",
      "Requirement already satisfied: wrapt<2,>=1.10 in /home/ragou/.local/lib/python3.8/site-packages (from deprecated>=1.2.4->flair) (1.12.1)\n",
      "Requirement already satisfied: decorator<5,>=4.3 in /usr/lib/python3/dist-packages (from networkx>=2.2->hyperopt>=0.1.1->flair) (4.4.2)\n",
      "Requirement already satisfied: click in /home/ragou/.local/lib/python3.8/site-packages (from sacremoses->transformers>=4.0.0->flair) (7.1.2)\n",
      "Requirement already satisfied: zipp>=0.5 in /home/ragou/.local/lib/python3.8/site-packages (from importlib-metadata<4.0.0,>=3.7.0->konoha<5.0.0,>=4.0.0->flair) (3.5.0)\n",
      "Building wheels for collected packages: segtok, ftfy, gdown, sqlitedict, langdetect, wikipedia-api, mpld3, overrides\n",
      "  Building wheel for segtok (setup.py) ... \u001b[?25ldone\n",
      "\u001b[?25h  Created wheel for segtok: filename=segtok-1.5.10-py3-none-any.whl size=25018 sha256=54822673ca3bd6272adfb9c9eb5c6a19f0fa468960ff01301f067f7b3d87a9e9\n",
      "  Stored in directory: /home/ragou/.cache/pip/wheels/36/6d/90/6d9b11ba404f68f340ef3f6060cfdf9c9f34653b08eceeacf6\n",
      "  Building wheel for ftfy (setup.py) ... \u001b[?25ldone\n",
      "\u001b[?25h  Created wheel for ftfy: filename=ftfy-6.0.3-py3-none-any.whl size=41914 sha256=466b40ed589e7e5612c9b04281486e0eef81c05d634d2fef1c5c81a7bb2b1c61\n",
      "  Stored in directory: /home/ragou/.cache/pip/wheels/7f/40/63/4bf603cec3ecc4a26985405834cb47eb8368bfa59e15dde046\n",
      "  Building wheel for gdown (PEP 517) ... \u001b[?25ldone\n",
      "\u001b[?25h  Created wheel for gdown: filename=gdown-3.12.2-py3-none-any.whl size=9692 sha256=445c302efb96aa42bab82f0529041961ccdeb332e1b9a37913fa5673f235480f\n",
      "  Stored in directory: /home/ragou/.cache/pip/wheels/e2/62/1e/926d1ebe7b1e733c78d627fd288d01b83feaf67efc06e0e4c3\n"
     ]
    },
    {
     "name": "stdout",
     "output_type": "stream",
     "text": [
      "  Building wheel for sqlitedict (setup.py) ... \u001b[?25ldone\n",
      "\u001b[?25h  Created wheel for sqlitedict: filename=sqlitedict-1.7.0-py3-none-any.whl size=14376 sha256=c78ca1719526a80d979bb4d2b4cf825841c4f587ff7cf16d45477674fe5cec74\n",
      "  Stored in directory: /home/ragou/.cache/pip/wheels/92/82/8c/54ef8d8770fd1a80938197e55d3ccd26eccd117f44c58f601b\n",
      "  Building wheel for langdetect (setup.py) ... \u001b[?25ldone\n",
      "\u001b[?25h  Created wheel for langdetect: filename=langdetect-1.0.9-py3-none-any.whl size=993222 sha256=086fbdb1dbf4fb0071614d50787769735f18d91b28929284085eab49b6965276\n",
      "  Stored in directory: /home/ragou/.cache/pip/wheels/13/c7/b0/79f66658626032e78fc1a83103690ef6797d551cb22e56e734\n",
      "  Building wheel for wikipedia-api (setup.py) ... \u001b[?25ldone\n",
      "\u001b[?25h  Created wheel for wikipedia-api: filename=Wikipedia_API-0.5.4-py3-none-any.whl size=13461 sha256=3ce90b8621a4c1f9a97c0da7ef9e45b3d0ffcef890d13cbb93706dc950c721f4\n",
      "  Stored in directory: /home/ragou/.cache/pip/wheels/ed/88/e3/da3d4d73cb91d659488cfa25913b84bbc26febec99d257bce9\n",
      "  Building wheel for mpld3 (setup.py) ... \u001b[?25ldone\n",
      "\u001b[?25h  Created wheel for mpld3: filename=mpld3-0.3-py3-none-any.whl size=116677 sha256=4479507b4a7a77eaf7b7ad68b72d00e711f22cf19709726273f721312c8b9e54\n",
      "  Stored in directory: /home/ragou/.cache/pip/wheels/3d/9f/9d/d806a20bd97bc7076d724fa3e69fa5be61836ba16b2ffa6126\n",
      "  Building wheel for overrides (setup.py) ... \u001b[?25ldone\n",
      "\u001b[?25h  Created wheel for overrides: filename=overrides-3.1.0-py3-none-any.whl size=10173 sha256=442ef2650cd8f7edb89a0b39a9cad6cd8467eb5937f23d45b556606f61bf38a3\n",
      "  Stored in directory: /home/ragou/.cache/pip/wheels/6a/4f/72/28857f75625b263e2e3f5ab2fc4416c0a85960ac6485007eaa\n",
      "Successfully built segtok ftfy gdown sqlitedict langdetect wikipedia-api mpld3 overrides\n",
      "\u001b[31mERROR: konoha 4.6.5 has requirement requests<3.0.0,>=2.25.1, but you'll have requests 2.22.0 which is incompatible.\u001b[0m\n",
      "Installing collected packages: sentencepiece, packaging, huggingface-hub, segtok, ftfy, gdown, conllu, hyperopt, sacremoses, tokenizers, transformers, sqlitedict, overrides, importlib-metadata, konoha, more-itertools, smart-open, gensim, janome, torch, langdetect, tabulate, deprecated, wikipedia-api, mpld3, bpemb, flair, threadpoolctl\n",
      "  Attempting uninstall: packaging\n",
      "    Found existing installation: packaging 20.4\n",
      "    Uninstalling packaging-20.4:\n",
      "      Successfully uninstalled packaging-20.4\n",
      "Successfully installed bpemb-0.3.3 conllu-4.4.1 deprecated-1.2.13 flair-0.9 ftfy-6.0.3 gdown-3.12.2 gensim-3.8.3 huggingface-hub-0.0.19 hyperopt-0.2.5 importlib-metadata-3.10.1 janome-0.4.1 konoha-4.6.5 langdetect-1.0.9 more-itertools-8.8.0 mpld3-0.3 overrides-3.1.0 packaging-21.0 sacremoses-0.0.46 segtok-1.5.10 sentencepiece-0.1.95 smart-open-5.2.1 sqlitedict-1.7.0 tabulate-0.8.9 threadpoolctl-3.0.0 tokenizers-0.10.3 torch-1.9.1 transformers-4.11.3 wikipedia-api-0.5.4\n"
     ]
    }
   ],
   "source": [
    "!pip3 install flair\n"
   ]
  },
  {
   "cell_type": "code",
   "execution_count": null,
   "metadata": {},
   "outputs": [],
   "source": [
    "!pip3 install tensorflow_hub"
   ]
  },
  {
   "cell_type": "code",
   "execution_count": 104,
   "metadata": {},
   "outputs": [],
   "source": []
  },
  {
   "cell_type": "code",
   "execution_count": 2,
   "metadata": {},
   "outputs": [],
   "source": [
    "!wget --quiet https://raw.githubusercontent.com/tensorflow/models/master/official/nlp/bert/tokenization.py"
   ]
  },
  {
   "cell_type": "code",
   "execution_count": 137,
   "metadata": {},
   "outputs": [],
   "source": [
    "import tokenization # tokenization.py\n",
    "import tensorflow as tf\n",
    "import tensorflow_hub as hub\n",
    "from sklearn import preprocessing\n",
    "from sklearn.model_selection import train_test_split\n",
    "import numpy as np\n",
    "import pandas as pd\n",
    "import nltk\n",
    "import transformers\n",
    "import re\n",
    "import matplotlib.pyplot as plt"
   ]
  },
  {
   "cell_type": "code",
   "execution_count": 140,
   "metadata": {},
   "outputs": [
    {
     "name": "stderr",
     "output_type": "stream",
     "text": [
      "[nltk_data] Downloading package stopwords to /home/ragou/nltk_data...\n",
      "[nltk_data]   Package stopwords is already up-to-date!\n"
     ]
    }
   ],
   "source": [
    "# remove stopwords: the,a,an etc.\n",
    "nltk.download(\"stopwords\")\n",
    "from nltk.corpus import stopwords\n",
    "sw = stopwords.words(\"english\")\n",
    "\n",
    "def pre_processing(data):\n",
    "    # lowercase text\n",
    "    data = data.apply(lambda x: \" \".join(i.lower() for i in  str(x).split()))\n",
    "#     # remove numeric values\n",
    "#     data = data.str.replace(\"\\d\",\"\")\n",
    "#     # remove punctuations\n",
    "#     data = data.str.replace(\"[^\\w\\s]\",\"\")\n",
    "    # remove stopwords: the,a,an etc.\n",
    "    data = data.apply(lambda x: \" \".join(i for i in x.split() if i not in sw))\n",
    "    data = data.apply(lambda x: re.sub(\"⇓\",\"\",x))\n",
    "    \n",
    "    return data"
   ]
  },
  {
   "cell_type": "code",
   "execution_count": 145,
   "metadata": {},
   "outputs": [],
   "source": [
    "data_file = \"../datas/all_data_clean.txt\"\n",
    "dtf = pd.read_csv(data_file, sep = \"\\|\\|\", engine = \"python\")"
   ]
  },
  {
   "cell_type": "code",
   "execution_count": 146,
   "metadata": {},
   "outputs": [
    {
     "data": {
      "text/html": [
       "<div>\n",
       "<style scoped>\n",
       "    .dataframe tbody tr th:only-of-type {\n",
       "        vertical-align: middle;\n",
       "    }\n",
       "\n",
       "    .dataframe tbody tr th {\n",
       "        vertical-align: top;\n",
       "    }\n",
       "\n",
       "    .dataframe thead th {\n",
       "        text-align: right;\n",
       "    }\n",
       "</style>\n",
       "<table border=\"1\" class=\"dataframe\">\n",
       "  <thead>\n",
       "    <tr style=\"text-align: right;\">\n",
       "      <th></th>\n",
       "      <th>ID</th>\n",
       "      <th>Gene</th>\n",
       "      <th>Variation</th>\n",
       "      <th>Class</th>\n",
       "      <th>Text</th>\n",
       "      <th>Score</th>\n",
       "    </tr>\n",
       "  </thead>\n",
       "  <tbody>\n",
       "    <tr>\n",
       "      <th>0</th>\n",
       "      <td>0</td>\n",
       "      <td>FAM58A</td>\n",
       "      <td>truncating mutations</td>\n",
       "      <td>1</td>\n",
       "      <td>here, we deorphanize cdk10 by identifying cyc...</td>\n",
       "      <td>2</td>\n",
       "    </tr>\n",
       "    <tr>\n",
       "      <th>1</th>\n",
       "      <td>1</td>\n",
       "      <td>CBL</td>\n",
       "      <td>w802*</td>\n",
       "      <td>2</td>\n",
       "      <td>the c-cbl loh also positively correlated wit...</td>\n",
       "      <td>1</td>\n",
       "    </tr>\n",
       "    <tr>\n",
       "      <th>2</th>\n",
       "      <td>2</td>\n",
       "      <td>CBL</td>\n",
       "      <td>q249e</td>\n",
       "      <td>2</td>\n",
       "      <td>the c-cbl loh also positively correlated wit...</td>\n",
       "      <td>1</td>\n",
       "    </tr>\n",
       "    <tr>\n",
       "      <th>3</th>\n",
       "      <td>3</td>\n",
       "      <td>CBL</td>\n",
       "      <td>n454d</td>\n",
       "      <td>3</td>\n",
       "      <td>most of the changes were novel, although 4 c...</td>\n",
       "      <td>1</td>\n",
       "    </tr>\n",
       "    <tr>\n",
       "      <th>4</th>\n",
       "      <td>4</td>\n",
       "      <td>CBL</td>\n",
       "      <td>l399v</td>\n",
       "      <td>4</td>\n",
       "      <td>all mutations from the second group were pre...</td>\n",
       "      <td>1</td>\n",
       "    </tr>\n",
       "    <tr>\n",
       "      <th>...</th>\n",
       "      <td>...</td>\n",
       "      <td>...</td>\n",
       "      <td>...</td>\n",
       "      <td>...</td>\n",
       "      <td>...</td>\n",
       "      <td>...</td>\n",
       "    </tr>\n",
       "    <tr>\n",
       "      <th>3311</th>\n",
       "      <td>3316</td>\n",
       "      <td>RUNX1</td>\n",
       "      <td>d171n</td>\n",
       "      <td>4</td>\n",
       "      <td>21–29 the vast majority of aml1 mutations wer...</td>\n",
       "      <td>1</td>\n",
       "    </tr>\n",
       "    <tr>\n",
       "      <th>3312</th>\n",
       "      <td>3317</td>\n",
       "      <td>RUNX1</td>\n",
       "      <td>a122*</td>\n",
       "      <td>1</td>\n",
       "      <td>(a) spleen from morbid mice/d171n (left) and...</td>\n",
       "      <td>2</td>\n",
       "    </tr>\n",
       "    <tr>\n",
       "      <th>3313</th>\n",
       "      <td>3318</td>\n",
       "      <td>RUNX1</td>\n",
       "      <td>fusions</td>\n",
       "      <td>1</td>\n",
       "      <td>lpxn is preferentially expressed in hematopo...</td>\n",
       "      <td>1</td>\n",
       "    </tr>\n",
       "    <tr>\n",
       "      <th>3314</th>\n",
       "      <td>3319</td>\n",
       "      <td>RUNX1</td>\n",
       "      <td>r80c</td>\n",
       "      <td>4</td>\n",
       "      <td>) conversely, mutations mapping to the first ...</td>\n",
       "      <td>1</td>\n",
       "    </tr>\n",
       "    <tr>\n",
       "      <th>3315</th>\n",
       "      <td>3320</td>\n",
       "      <td>RUNX1</td>\n",
       "      <td>k83e</td>\n",
       "      <td>4</td>\n",
       "      <td>mutation analysis in fpd/aml pedigrees. elec...</td>\n",
       "      <td>1</td>\n",
       "    </tr>\n",
       "  </tbody>\n",
       "</table>\n",
       "<p>3316 rows × 6 columns</p>\n",
       "</div>"
      ],
      "text/plain": [
       "        ID      Gene               Variation  Class  \\\n",
       "0        0   FAM58A    truncating mutations       1   \n",
       "1        1      CBL                   w802*       2   \n",
       "2        2      CBL                   q249e       2   \n",
       "3        3      CBL                   n454d       3   \n",
       "4        4      CBL                   l399v       4   \n",
       "...    ...       ...                     ...    ...   \n",
       "3311  3316    RUNX1                   d171n       4   \n",
       "3312  3317    RUNX1                   a122*       1   \n",
       "3313  3318    RUNX1                 fusions       1   \n",
       "3314  3319    RUNX1                    r80c       4   \n",
       "3315  3320    RUNX1                    k83e       4   \n",
       "\n",
       "                                                   Text  Score  \n",
       "0      here, we deorphanize cdk10 by identifying cyc...      2  \n",
       "1       the c-cbl loh also positively correlated wit...      1  \n",
       "2       the c-cbl loh also positively correlated wit...      1  \n",
       "3       most of the changes were novel, although 4 c...      1  \n",
       "4       all mutations from the second group were pre...      1  \n",
       "...                                                 ...    ...  \n",
       "3311   21–29 the vast majority of aml1 mutations wer...      1  \n",
       "3312    (a) spleen from morbid mice/d171n (left) and...      2  \n",
       "3313    lpxn is preferentially expressed in hematopo...      1  \n",
       "3314   ) conversely, mutations mapping to the first ...      1  \n",
       "3315    mutation analysis in fpd/aml pedigrees. elec...      1  \n",
       "\n",
       "[3316 rows x 6 columns]"
      ]
     },
     "execution_count": 146,
     "metadata": {},
     "output_type": "execute_result"
    }
   ],
   "source": [
    "dtf"
   ]
  },
  {
   "cell_type": "code",
   "execution_count": 148,
   "metadata": {},
   "outputs": [
    {
     "data": {
      "text/plain": [
       "0        here, we deorphanize cdk10 by identifying cyc...\n",
       "1         the c-cbl loh also positively correlated wit...\n",
       "2         the c-cbl loh also positively correlated wit...\n",
       "3         most of the changes were novel, although 4 c...\n",
       "4         all mutations from the second group were pre...\n",
       "                              ...                        \n",
       "3311     21–29 the vast majority of aml1 mutations wer...\n",
       "3312      (a) spleen from morbid mice/d171n (left) and...\n",
       "3313      lpxn is preferentially expressed in hematopo...\n",
       "3314     ) conversely, mutations mapping to the first ...\n",
       "3315      mutation analysis in fpd/aml pedigrees. elec...\n",
       "Name: Text, Length: 3316, dtype: object"
      ]
     },
     "execution_count": 148,
     "metadata": {},
     "output_type": "execute_result"
    }
   ],
   "source": [
    "text_y = dtf[\"Text\"]\n",
    "text_y"
   ]
  },
  {
   "cell_type": "code",
   "execution_count": 149,
   "metadata": {},
   "outputs": [],
   "source": [
    "X = pre_processing(text_y)"
   ]
  },
  {
   "cell_type": "code",
   "execution_count": 150,
   "metadata": {},
   "outputs": [
    {
     "data": {
      "text/plain": [
       "0       here, deorphanize cdk10 identifying cyclin m, ...\n",
       "1       c-cbl loh also positively correlated egfr met ...\n",
       "2       c-cbl loh also positively correlated egfr met ...\n",
       "3       changes novel, although 4 cases r420q previous...\n",
       "4       mutations second group predicted benign accord...\n",
       "                              ...                        \n",
       "3311    21–29 vast majority aml1 mutations located run...\n",
       "3312    (a) spleen morbid mice/d171n (left) normal mic...\n",
       "3313    lpxn preferentially expressed hematopoietic ce...\n",
       "3314    ) conversely, mutations mapping first dna inte...\n",
       "3315    mutation analysis fpd/aml pedigrees. electroph...\n",
       "Name: Text, Length: 3316, dtype: object"
      ]
     },
     "execution_count": 150,
     "metadata": {},
     "output_type": "execute_result"
    }
   ],
   "source": [
    "X"
   ]
  },
  {
   "cell_type": "code",
   "execution_count": 151,
   "metadata": {},
   "outputs": [],
   "source": [
    "dataset = dtf.drop(columns = [\"Score\"], axis = 0)"
   ]
  },
  {
   "cell_type": "code",
   "execution_count": 11,
   "metadata": {},
   "outputs": [],
   "source": [
    "dataset.columns = [\"ID\",\"Gene\",\"Variation\",\"Class\",\"Text\"]"
   ]
  },
  {
   "cell_type": "code",
   "execution_count": 152,
   "metadata": {},
   "outputs": [
    {
     "data": {
      "text/html": [
       "<div>\n",
       "<style scoped>\n",
       "    .dataframe tbody tr th:only-of-type {\n",
       "        vertical-align: middle;\n",
       "    }\n",
       "\n",
       "    .dataframe tbody tr th {\n",
       "        vertical-align: top;\n",
       "    }\n",
       "\n",
       "    .dataframe thead th {\n",
       "        text-align: right;\n",
       "    }\n",
       "</style>\n",
       "<table border=\"1\" class=\"dataframe\">\n",
       "  <thead>\n",
       "    <tr style=\"text-align: right;\">\n",
       "      <th></th>\n",
       "      <th>ID</th>\n",
       "      <th>Gene</th>\n",
       "      <th>Variation</th>\n",
       "      <th>Class</th>\n",
       "      <th>Text</th>\n",
       "    </tr>\n",
       "  </thead>\n",
       "  <tbody>\n",
       "    <tr>\n",
       "      <th>0</th>\n",
       "      <td>0</td>\n",
       "      <td>FAM58A</td>\n",
       "      <td>truncating mutations</td>\n",
       "      <td>1</td>\n",
       "      <td>here, we deorphanize cdk10 by identifying cyc...</td>\n",
       "    </tr>\n",
       "    <tr>\n",
       "      <th>1</th>\n",
       "      <td>1</td>\n",
       "      <td>CBL</td>\n",
       "      <td>w802*</td>\n",
       "      <td>2</td>\n",
       "      <td>the c-cbl loh also positively correlated wit...</td>\n",
       "    </tr>\n",
       "    <tr>\n",
       "      <th>2</th>\n",
       "      <td>2</td>\n",
       "      <td>CBL</td>\n",
       "      <td>q249e</td>\n",
       "      <td>2</td>\n",
       "      <td>the c-cbl loh also positively correlated wit...</td>\n",
       "    </tr>\n",
       "    <tr>\n",
       "      <th>3</th>\n",
       "      <td>3</td>\n",
       "      <td>CBL</td>\n",
       "      <td>n454d</td>\n",
       "      <td>3</td>\n",
       "      <td>most of the changes were novel, although 4 c...</td>\n",
       "    </tr>\n",
       "    <tr>\n",
       "      <th>4</th>\n",
       "      <td>4</td>\n",
       "      <td>CBL</td>\n",
       "      <td>l399v</td>\n",
       "      <td>4</td>\n",
       "      <td>all mutations from the second group were pre...</td>\n",
       "    </tr>\n",
       "    <tr>\n",
       "      <th>...</th>\n",
       "      <td>...</td>\n",
       "      <td>...</td>\n",
       "      <td>...</td>\n",
       "      <td>...</td>\n",
       "      <td>...</td>\n",
       "    </tr>\n",
       "    <tr>\n",
       "      <th>3311</th>\n",
       "      <td>3316</td>\n",
       "      <td>RUNX1</td>\n",
       "      <td>d171n</td>\n",
       "      <td>4</td>\n",
       "      <td>21–29 the vast majority of aml1 mutations wer...</td>\n",
       "    </tr>\n",
       "    <tr>\n",
       "      <th>3312</th>\n",
       "      <td>3317</td>\n",
       "      <td>RUNX1</td>\n",
       "      <td>a122*</td>\n",
       "      <td>1</td>\n",
       "      <td>(a) spleen from morbid mice/d171n (left) and...</td>\n",
       "    </tr>\n",
       "    <tr>\n",
       "      <th>3313</th>\n",
       "      <td>3318</td>\n",
       "      <td>RUNX1</td>\n",
       "      <td>fusions</td>\n",
       "      <td>1</td>\n",
       "      <td>lpxn is preferentially expressed in hematopo...</td>\n",
       "    </tr>\n",
       "    <tr>\n",
       "      <th>3314</th>\n",
       "      <td>3319</td>\n",
       "      <td>RUNX1</td>\n",
       "      <td>r80c</td>\n",
       "      <td>4</td>\n",
       "      <td>) conversely, mutations mapping to the first ...</td>\n",
       "    </tr>\n",
       "    <tr>\n",
       "      <th>3315</th>\n",
       "      <td>3320</td>\n",
       "      <td>RUNX1</td>\n",
       "      <td>k83e</td>\n",
       "      <td>4</td>\n",
       "      <td>mutation analysis in fpd/aml pedigrees. elec...</td>\n",
       "    </tr>\n",
       "  </tbody>\n",
       "</table>\n",
       "<p>3316 rows × 5 columns</p>\n",
       "</div>"
      ],
      "text/plain": [
       "        ID      Gene               Variation  Class  \\\n",
       "0        0   FAM58A    truncating mutations       1   \n",
       "1        1      CBL                   w802*       2   \n",
       "2        2      CBL                   q249e       2   \n",
       "3        3      CBL                   n454d       3   \n",
       "4        4      CBL                   l399v       4   \n",
       "...    ...       ...                     ...    ...   \n",
       "3311  3316    RUNX1                   d171n       4   \n",
       "3312  3317    RUNX1                   a122*       1   \n",
       "3313  3318    RUNX1                 fusions       1   \n",
       "3314  3319    RUNX1                    r80c       4   \n",
       "3315  3320    RUNX1                    k83e       4   \n",
       "\n",
       "                                                   Text  \n",
       "0      here, we deorphanize cdk10 by identifying cyc...  \n",
       "1       the c-cbl loh also positively correlated wit...  \n",
       "2       the c-cbl loh also positively correlated wit...  \n",
       "3       most of the changes were novel, although 4 c...  \n",
       "4       all mutations from the second group were pre...  \n",
       "...                                                 ...  \n",
       "3311   21–29 the vast majority of aml1 mutations wer...  \n",
       "3312    (a) spleen from morbid mice/d171n (left) and...  \n",
       "3313    lpxn is preferentially expressed in hematopo...  \n",
       "3314   ) conversely, mutations mapping to the first ...  \n",
       "3315    mutation analysis in fpd/aml pedigrees. elec...  \n",
       "\n",
       "[3316 rows x 5 columns]"
      ]
     },
     "execution_count": 152,
     "metadata": {},
     "output_type": "execute_result"
    }
   ],
   "source": [
    "dataset"
   ]
  },
  {
   "cell_type": "code",
   "execution_count": 175,
   "metadata": {},
   "outputs": [
    {
     "name": "stdout",
     "output_type": "stream",
     "text": [
      "(2652,) (2652, 9)\n",
      "(664,) (664, 9)\n"
     ]
    }
   ],
   "source": [
    "Y_D = pd.get_dummies(dataset['Class']).values\n",
    "XD_train, XD_test, YD_train, YD_test = train_test_split(X, Y_D, test_size = 0.2, random_state = 42, stratify=Y_D)\n",
    "print(XD_train.shape, YD_train.shape)\n",
    "print(XD_test.shape, YD_test.shape)"
   ]
  },
  {
   "cell_type": "code",
   "execution_count": 176,
   "metadata": {},
   "outputs": [
    {
     "data": {
      "text/plain": [
       "893     results 80 tumors (%) pdgfra mutation: 66 exon...\n",
       "2819    addition, n319t nh2 terminus brca2 included no...\n",
       "Name: Text, dtype: object"
      ]
     },
     "execution_count": 176,
     "metadata": {},
     "output_type": "execute_result"
    }
   ],
   "source": [
    "XD_test.head(2)"
   ]
  },
  {
   "cell_type": "code",
   "execution_count": 15,
   "metadata": {},
   "outputs": [],
   "source": [
    "tokenizer = transformers.BertTokenizer.from_pretrained('bert-base-uncased')"
   ]
  },
  {
   "cell_type": "code",
   "execution_count": 16,
   "metadata": {},
   "outputs": [
    {
     "name": "stderr",
     "output_type": "stream",
     "text": [
      "INFO:absl:Using /tmp/tfhub_modules to cache modules.\n"
     ]
    }
   ],
   "source": [
    "m_url = 'https://tfhub.dev/tensorflow/bert_en_uncased_L-12_H-768_A-12/2'\n",
    "bert_layer = hub.KerasLayer(m_url, trainable=True)"
   ]
  },
  {
   "cell_type": "code",
   "execution_count": 111,
   "metadata": {},
   "outputs": [],
   "source": [
    "vocab_file = bert_layer.resolved_object.vocab_file.asset_path.numpy()\n",
    "do_lower_case = bert_layer.resolved_object.do_lower_case.numpy()\n",
    "tokenizer = tokenization.FullTokenizer(vocab_file, do_lower_case)\n",
    "\n",
    "def bert_encode(texts, tokenizer, max_len=512):\n",
    "    all_tokens = []\n",
    "    all_masks = []\n",
    "    all_segments = []\n",
    "    \n",
    "    for text in texts:\n",
    "        text = tokenizer.tokenize(text)\n",
    "        \n",
    "        text = text[:max_len-2]\n",
    "        input_sequence = [\"[CLS]\"] + text + [\"[SEP]\"]\n",
    "        pad_len = max_len-len(input_sequence)\n",
    "        \n",
    "        tokens = tokenizer.convert_tokens_to_ids(input_sequence) + [0] * pad_len\n",
    "        pad_masks = [1] * len(input_sequence) + [0] * pad_len\n",
    "        segment_ids = [0] * max_len\n",
    "        \n",
    "        all_tokens.append(tokens)\n",
    "        all_masks.append(pad_masks)\n",
    "        all_segments.append(segment_ids)\n",
    "        \n",
    "    return np.array(all_tokens), np.array(all_masks), np.array(all_segments)"
   ]
  },
  {
   "cell_type": "code",
   "execution_count": 112,
   "metadata": {},
   "outputs": [],
   "source": [
    "def build_model(bert_layer, max_len=512):\n",
    "    input_word_ids = tf.keras.Input(shape=(max_len,), dtype=tf.int32, name=\"input_word_ids\")\n",
    "    input_mask = tf.keras.Input(shape=(max_len,), dtype=tf.int32, name=\"input_mask\")\n",
    "    segment_ids = tf.keras.Input(shape=(max_len,), dtype=tf.int32, name=\"segment_ids\")\n",
    "    \n",
    "    pooled_output, sequence_output = bert_layer([input_word_ids, input_mask, segment_ids])\n",
    "    \n",
    "    #clf_output = sequence_output[:, 0, :]\n",
    "    \n",
    "    # CNN model\n",
    "    \n",
    "    net = tf.keras.layers.Conv1D(124, (5), activation='relu')(sequence_output)\n",
    "    net = tf.keras.layers.MaxPooling1D(2)(net)\n",
    "    \n",
    "#     net = tf.keras.layers.Conv1D(64, (5), activation='relu')(net)\n",
    "#     net = tf.keras.layers.GlobalMaxPooling1D()(net)\n",
    "    \n",
    "\n",
    "    net = tf.keras.layers.Dense(20, activation=\"relu\")(net)\n",
    "    net = tf.keras.layers.Flatten()(net)    \n",
    "    net = tf.keras.layers.Dropout(0.1)(net)\n",
    "    out = tf.keras.layers.Dense(9, activation=\"softmax\")(net)\n",
    "    \n",
    "    model = tf.keras.models.Model(inputs=[input_word_ids, input_mask, segment_ids], outputs=out)\n",
    "    model.compile(tf.keras.optimizers.Adam(), loss='categorical_crossentropy', metrics=['accuracy'])\n",
    "    return model"
   ]
  },
  {
   "cell_type": "code",
   "execution_count": 117,
   "metadata": {},
   "outputs": [],
   "source": [
    "train_input = bert_encode(XD_train.head(10), tokenizer, max_len=500)\n",
    "test_input = bert_encode(XD_test, tokenizer, max_len=500)"
   ]
  },
  {
   "cell_type": "code",
   "execution_count": 115,
   "metadata": {},
   "outputs": [
    {
     "name": "stdout",
     "output_type": "stream",
     "text": [
      "Model: \"model_10\"\n",
      "__________________________________________________________________________________________________\n",
      "Layer (type)                    Output Shape         Param #     Connected to                     \n",
      "==================================================================================================\n",
      "input_word_ids (InputLayer)     [(None, 500)]        0                                            \n",
      "__________________________________________________________________________________________________\n",
      "input_mask (InputLayer)         [(None, 500)]        0                                            \n",
      "__________________________________________________________________________________________________\n",
      "segment_ids (InputLayer)        [(None, 500)]        0                                            \n",
      "__________________________________________________________________________________________________\n",
      "keras_layer (KerasLayer)        multiple             109482241   input_word_ids[0][0]             \n",
      "                                                                 input_mask[0][0]                 \n",
      "                                                                 segment_ids[0][0]                \n",
      "__________________________________________________________________________________________________\n",
      "conv1d_26 (Conv1D)              (None, 496, 124)     476284      keras_layer[39][1]               \n",
      "__________________________________________________________________________________________________\n",
      "max_pooling1d_4 (MaxPooling1D)  (None, 248, 124)     0           conv1d_26[0][0]                  \n",
      "__________________________________________________________________________________________________\n",
      "dense_36 (Dense)                (None, 248, 20)      2500        max_pooling1d_4[0][0]            \n",
      "__________________________________________________________________________________________________\n",
      "flatten_11 (Flatten)            (None, 4960)         0           dense_36[0][0]                   \n",
      "__________________________________________________________________________________________________\n",
      "dropout_6 (Dropout)             (None, 4960)         0           flatten_11[0][0]                 \n",
      "__________________________________________________________________________________________________\n",
      "dense_37 (Dense)                (None, 9)            44649       dropout_6[0][0]                  \n",
      "==================================================================================================\n",
      "Total params: 110,005,674\n",
      "Trainable params: 110,005,673\n",
      "Non-trainable params: 1\n",
      "__________________________________________________________________________________________________\n"
     ]
    }
   ],
   "source": [
    "model = build_model(bert_layer, max_len=500)\n",
    "model.summary()"
   ]
  },
  {
   "cell_type": "code",
   "execution_count": 118,
   "metadata": {},
   "outputs": [
    {
     "name": "stdout",
     "output_type": "stream",
     "text": [
      "Epoch 1/3\n",
      "1/1 [==============================] - 52s 52s/step - loss: 2.5736 - accuracy: 0.0000e+00 - val_loss: 4.3942 - val_accuracy: 0.0000e+00\n",
      "\n",
      "Epoch 00001: val_accuracy improved from -inf to 0.00000, saving model to model_bert.h5\n",
      "Epoch 2/3\n",
      "1/1 [==============================] - 39s 39s/step - loss: 2.0751 - accuracy: 0.5000 - val_loss: 2.5006 - val_accuracy: 0.0000e+00\n",
      "\n",
      "Epoch 00002: val_accuracy did not improve from 0.00000\n",
      "Epoch 3/3\n",
      "1/1 [==============================] - 39s 39s/step - loss: 1.7821 - accuracy: 0.3750 - val_loss: 11.6123 - val_accuracy: 0.5000\n",
      "\n",
      "Epoch 00003: val_accuracy improved from 0.00000 to 0.50000, saving model to model_bert.h5\n"
     ]
    }
   ],
   "source": [
    "checkpoint = tf.keras.callbacks.ModelCheckpoint('model_bert.h5', monitor='val_accuracy', save_best_only=True, verbose=1)\n",
    "earlystopping = tf.keras.callbacks.EarlyStopping(monitor='val_accuracy', patience=3,verbose=1)\n",
    "\n",
    "train_sh = model.fit(\n",
    "    train_input, YD_train[:10],\n",
    "    validation_split=0.2,\n",
    "    epochs=3,\n",
    "    callbacks=[checkpoint, earlystopping],\n",
    "    batch_size=32,\n",
    "    verbose=1\n",
    ")"
   ]
  },
  {
   "cell_type": "code",
   "execution_count": 128,
   "metadata": {},
   "outputs": [
    {
     "data": {
      "image/png": "[encoded data removed]",
      "text/plain": [
       "<Figure size 432x288 with 1 Axes>"
      ]
     },
     "metadata": {
      "needs_background": "light"
     },
     "output_type": "display_data"
    },
    {
     "data": {
      "text/plain": [
       "<Figure size 432x288 with 0 Axes>"
      ]
     },
     "metadata": {},
     "output_type": "display_data"
    }
   ],
   "source": [
    "plt.plot(train_sh.history['loss'])\n",
    "plt.plot(train_sh.history['val_loss'])\n",
    "plt.title('model_loss')\n",
    "plt.ylabel('loss')\n",
    "plt.xlabel('epoch')\n",
    "plt.legend(['train', 'val'], loc = 'upper left')\n",
    "plt.show()\n",
    "plt.savefig(\"loss_plot.PNG\")"
   ]
  },
  {
   "cell_type": "code",
   "execution_count": 129,
   "metadata": {},
   "outputs": [
    {
     "name": "stdout",
     "output_type": "stream",
     "text": [
      "/home/ragou/repo/github/RAPMC/notebook\r\n"
     ]
    }
   ],
   "source": [
    "!pwd"
   ]
  },
  {
   "cell_type": "code",
   "execution_count": 131,
   "metadata": {},
   "outputs": [
    {
     "data": {
      "image/png": "[encoded data removed]",
      "text/plain": [
       "<Figure size 432x288 with 1 Axes>"
      ]
     },
     "metadata": {
      "needs_background": "light"
     },
     "output_type": "display_data"
    }
   ],
   "source": [
    "plt.plot(train_sh.history['accuracy'])\n",
    "plt.plot(train_sh.history['val_accuracy'])\n",
    "plt.title('Model accuracy')\n",
    "plt.ylabel('Accuracy')\n",
    "plt.xlabel('Epoch')\n",
    "plt.legend(['Train', 'Test'], loc='upper left')\n",
    "plt.savefig(\"acc_plot.jpg\")"
   ]
  }
 ],
 "metadata": {
  "kernelspec": {
   "display_name": "Python 3",
   "language": "python",
   "name": "python3"
  },
  "language_info": {
   "codemirror_mode": {
    "name": "ipython",
    "version": 3
   },
   "file_extension": ".py",
   "mimetype": "text/x-python",
   "name": "python",
   "nbconvert_exporter": "python",
   "pygments_lexer": "ipython3",
   "version": "3.8.5"
  }
 },
 "nbformat": 4,
 "nbformat_minor": 4
}
